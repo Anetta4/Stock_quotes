{
  "nbformat": 4,
  "nbformat_minor": 0,
  "metadata": {
    "colab": {
      "provenance": [],
      "collapsed_sections": []
    },
    "kernelspec": {
      "name": "python3",
      "display_name": "Python 3"
    },
    "language_info": {
      "name": "python"
    }
  },
  "cells": [
    {
      "cell_type": "markdown",
      "source": [
        "#**About Dataset:** \n",
        "\n",
        "Analysis of te company that reached the maximum price intraday.\n",
        "\n",
        "Thesis: Is it worth investing in a company that has reached the maximum price intraday? Are there any grounds to invest in it?\n",
        "\n",
        "The analyzed data changes every day as the company that has reached the maximum price changes.\n",
        "\n",
        "We can analyze a different company every day.\n",
        "\n",
        "Dataset is Yahoo Finance. At Yahoo Finance, we get free stock quotes, the latest news, portfolio management resources, international market data, social interaction and mortgage rates to help you manage your financial."
      ],
      "metadata": {
        "id": "K5KiyrCdfZHJ"
      }
    },
    {
      "cell_type": "markdown",
      "source": [
        "#Importing data"
      ],
      "metadata": {
        "id": "dZzmpu60mDEq"
      }
    },
    {
      "cell_type": "code",
      "source": [
        "!pip install yahoo-fin\n",
        "!pip install requests-html"
      ],
      "metadata": {
        "id": "UNXtiDhyZ9Ng"
      },
      "execution_count": null,
      "outputs": []
    },
    {
      "cell_type": "code",
      "source": [
        "!pip install yahoo_fin --upgrade"
      ],
      "metadata": {
        "id": "M6nILk0eVhV6"
      },
      "execution_count": null,
      "outputs": []
    },
    {
      "cell_type": "markdown",
      "source": [
        "#Importing dependencies"
      ],
      "metadata": {
        "id": "s19BWdFimU2B"
      }
    },
    {
      "cell_type": "code",
      "source": [
        "import yahoo_fin.stock_info as yh\n",
        "import yahoo_fin.stock_info as si\n",
        "import pandas as pd\n",
        "import matplotlib.pyplot as plt\n",
        "%matplotlib inline\n",
        "import plotly.express as px\n",
        "import time\n",
        "from datetime import date, timedelta\n",
        "import numpy as np\n",
        "import seaborn as sns\n",
        "from pandas.plotting import register_matplotlib_converters\n",
        "import io\n",
        "\n",
        "%matplotlib inline\n",
        "register_matplotlib_converters()\n",
        "\n",
        "from sklearn.model_selection import train_test_split\n",
        "from sklearn.preprocessing import StandardScaler\n",
        "from sklearn.linear_model import LinearRegression  \n",
        "from sklearn.ensemble import RandomForestRegressor \n",
        "from sklearn.model_selection import GridSearchCV"
      ],
      "metadata": {
        "id": "tO8f-EROSUlN"
      },
      "execution_count": null,
      "outputs": []
    },
    {
      "cell_type": "markdown",
      "source": [
        "#Company review\n"
      ],
      "metadata": {
        "id": "q3O0PCvz5aP4"
      }
    },
    {
      "cell_type": "code",
      "source": [
        "response = yh.get_day_gainers()"
      ],
      "metadata": {
        "id": "1SZbf_65TC99"
      },
      "execution_count": null,
      "outputs": []
    },
    {
      "cell_type": "code",
      "source": [
        "response.head()"
      ],
      "metadata": {
        "colab": {
          "base_uri": "https://localhost:8080/",
          "height": 206
        },
        "id": "pjkpZ6e0TUML",
        "outputId": "92bcf1d2-a09e-4a5d-d03b-8ffea44ff838"
      },
      "execution_count": null,
      "outputs": [
        {
          "output_type": "execute_result",
          "data": {
            "text/plain": [
              "  Symbol                              Name  Price (Intraday)  Change  \\\n",
              "0   GETY       Getty Images Holdings, Inc.             6.850  1.8000   \n",
              "1  EGRNF            China Evergrande Group             0.083  0.0125   \n",
              "2  BESVF  BE Semiconductor Industries N.V.            50.820  7.5200   \n",
              "3  AUOTY                   AUO Corporation             7.170  0.7100   \n",
              "4  AACAY    AAC Technologies Holdings Inc.             1.840  0.2100   \n",
              "\n",
              "   % Change      Volume  Avg Vol (3 month)    Market Cap  PE Ratio (TTM)  \n",
              "0     35.59  10547000.0           573885.0  2.219000e+09           57.06  \n",
              "1     17.73     75092.0            86367.0  3.268000e+09            0.49  \n",
              "2     17.37     28803.0              136.0  3.765000e+09           13.03  \n",
              "3     11.01    106042.0            68204.0  5.487000e+09            6.18  \n",
              "4     12.88    266198.0           343064.0  2.218000e+09           23.00  "
            ],
            "text/html": [
              "\n",
              "  <div id=\"df-a03308a4-5db0-4783-9685-1408b759c931\">\n",
              "    <div class=\"colab-df-container\">\n",
              "      <div>\n",
              "<style scoped>\n",
              "    .dataframe tbody tr th:only-of-type {\n",
              "        vertical-align: middle;\n",
              "    }\n",
              "\n",
              "    .dataframe tbody tr th {\n",
              "        vertical-align: top;\n",
              "    }\n",
              "\n",
              "    .dataframe thead th {\n",
              "        text-align: right;\n",
              "    }\n",
              "</style>\n",
              "<table border=\"1\" class=\"dataframe\">\n",
              "  <thead>\n",
              "    <tr style=\"text-align: right;\">\n",
              "      <th></th>\n",
              "      <th>Symbol</th>\n",
              "      <th>Name</th>\n",
              "      <th>Price (Intraday)</th>\n",
              "      <th>Change</th>\n",
              "      <th>% Change</th>\n",
              "      <th>Volume</th>\n",
              "      <th>Avg Vol (3 month)</th>\n",
              "      <th>Market Cap</th>\n",
              "      <th>PE Ratio (TTM)</th>\n",
              "    </tr>\n",
              "  </thead>\n",
              "  <tbody>\n",
              "    <tr>\n",
              "      <th>0</th>\n",
              "      <td>GETY</td>\n",
              "      <td>Getty Images Holdings, Inc.</td>\n",
              "      <td>6.850</td>\n",
              "      <td>1.8000</td>\n",
              "      <td>35.59</td>\n",
              "      <td>10547000.0</td>\n",
              "      <td>573885.0</td>\n",
              "      <td>2.219000e+09</td>\n",
              "      <td>57.06</td>\n",
              "    </tr>\n",
              "    <tr>\n",
              "      <th>1</th>\n",
              "      <td>EGRNF</td>\n",
              "      <td>China Evergrande Group</td>\n",
              "      <td>0.083</td>\n",
              "      <td>0.0125</td>\n",
              "      <td>17.73</td>\n",
              "      <td>75092.0</td>\n",
              "      <td>86367.0</td>\n",
              "      <td>3.268000e+09</td>\n",
              "      <td>0.49</td>\n",
              "    </tr>\n",
              "    <tr>\n",
              "      <th>2</th>\n",
              "      <td>BESVF</td>\n",
              "      <td>BE Semiconductor Industries N.V.</td>\n",
              "      <td>50.820</td>\n",
              "      <td>7.5200</td>\n",
              "      <td>17.37</td>\n",
              "      <td>28803.0</td>\n",
              "      <td>136.0</td>\n",
              "      <td>3.765000e+09</td>\n",
              "      <td>13.03</td>\n",
              "    </tr>\n",
              "    <tr>\n",
              "      <th>3</th>\n",
              "      <td>AUOTY</td>\n",
              "      <td>AUO Corporation</td>\n",
              "      <td>7.170</td>\n",
              "      <td>0.7100</td>\n",
              "      <td>11.01</td>\n",
              "      <td>106042.0</td>\n",
              "      <td>68204.0</td>\n",
              "      <td>5.487000e+09</td>\n",
              "      <td>6.18</td>\n",
              "    </tr>\n",
              "    <tr>\n",
              "      <th>4</th>\n",
              "      <td>AACAY</td>\n",
              "      <td>AAC Technologies Holdings Inc.</td>\n",
              "      <td>1.840</td>\n",
              "      <td>0.2100</td>\n",
              "      <td>12.88</td>\n",
              "      <td>266198.0</td>\n",
              "      <td>343064.0</td>\n",
              "      <td>2.218000e+09</td>\n",
              "      <td>23.00</td>\n",
              "    </tr>\n",
              "  </tbody>\n",
              "</table>\n",
              "</div>\n",
              "      <button class=\"colab-df-convert\" onclick=\"convertToInteractive('df-a03308a4-5db0-4783-9685-1408b759c931')\"\n",
              "              title=\"Convert this dataframe to an interactive table.\"\n",
              "              style=\"display:none;\">\n",
              "        \n",
              "  <svg xmlns=\"http://www.w3.org/2000/svg\" height=\"24px\"viewBox=\"0 0 24 24\"\n",
              "       width=\"24px\">\n",
              "    <path d=\"M0 0h24v24H0V0z\" fill=\"none\"/>\n",
              "    <path d=\"M18.56 5.44l.94 2.06.94-2.06 2.06-.94-2.06-.94-.94-2.06-.94 2.06-2.06.94zm-11 1L8.5 8.5l.94-2.06 2.06-.94-2.06-.94L8.5 2.5l-.94 2.06-2.06.94zm10 10l.94 2.06.94-2.06 2.06-.94-2.06-.94-.94-2.06-.94 2.06-2.06.94z\"/><path d=\"M17.41 7.96l-1.37-1.37c-.4-.4-.92-.59-1.43-.59-.52 0-1.04.2-1.43.59L10.3 9.45l-7.72 7.72c-.78.78-.78 2.05 0 2.83L4 21.41c.39.39.9.59 1.41.59.51 0 1.02-.2 1.41-.59l7.78-7.78 2.81-2.81c.8-.78.8-2.07 0-2.86zM5.41 20L4 18.59l7.72-7.72 1.47 1.35L5.41 20z\"/>\n",
              "  </svg>\n",
              "      </button>\n",
              "      \n",
              "  <style>\n",
              "    .colab-df-container {\n",
              "      display:flex;\n",
              "      flex-wrap:wrap;\n",
              "      gap: 12px;\n",
              "    }\n",
              "\n",
              "    .colab-df-convert {\n",
              "      background-color: #E8F0FE;\n",
              "      border: none;\n",
              "      border-radius: 50%;\n",
              "      cursor: pointer;\n",
              "      display: none;\n",
              "      fill: #1967D2;\n",
              "      height: 32px;\n",
              "      padding: 0 0 0 0;\n",
              "      width: 32px;\n",
              "    }\n",
              "\n",
              "    .colab-df-convert:hover {\n",
              "      background-color: #E2EBFA;\n",
              "      box-shadow: 0px 1px 2px rgba(60, 64, 67, 0.3), 0px 1px 3px 1px rgba(60, 64, 67, 0.15);\n",
              "      fill: #174EA6;\n",
              "    }\n",
              "\n",
              "    [theme=dark] .colab-df-convert {\n",
              "      background-color: #3B4455;\n",
              "      fill: #D2E3FC;\n",
              "    }\n",
              "\n",
              "    [theme=dark] .colab-df-convert:hover {\n",
              "      background-color: #434B5C;\n",
              "      box-shadow: 0px 1px 3px 1px rgba(0, 0, 0, 0.15);\n",
              "      filter: drop-shadow(0px 1px 2px rgba(0, 0, 0, 0.3));\n",
              "      fill: #FFFFFF;\n",
              "    }\n",
              "  </style>\n",
              "\n",
              "      <script>\n",
              "        const buttonEl =\n",
              "          document.querySelector('#df-a03308a4-5db0-4783-9685-1408b759c931 button.colab-df-convert');\n",
              "        buttonEl.style.display =\n",
              "          google.colab.kernel.accessAllowed ? 'block' : 'none';\n",
              "\n",
              "        async function convertToInteractive(key) {\n",
              "          const element = document.querySelector('#df-a03308a4-5db0-4783-9685-1408b759c931');\n",
              "          const dataTable =\n",
              "            await google.colab.kernel.invokeFunction('convertToInteractive',\n",
              "                                                     [key], {});\n",
              "          if (!dataTable) return;\n",
              "\n",
              "          const docLinkHtml = 'Like what you see? Visit the ' +\n",
              "            '<a target=\"_blank\" href=https://colab.research.google.com/notebooks/data_table.ipynb>data table notebook</a>'\n",
              "            + ' to learn more about interactive tables.';\n",
              "          element.innerHTML = '';\n",
              "          dataTable['output_type'] = 'display_data';\n",
              "          await google.colab.output.renderOutput(dataTable, element);\n",
              "          const docLink = document.createElement('div');\n",
              "          docLink.innerHTML = docLinkHtml;\n",
              "          element.appendChild(docLink);\n",
              "        }\n",
              "      </script>\n",
              "    </div>\n",
              "  </div>\n",
              "  "
            ]
          },
          "metadata": {},
          "execution_count": 109
        }
      ]
    },
    {
      "cell_type": "code",
      "source": [
        "response.info()"
      ],
      "metadata": {
        "colab": {
          "base_uri": "https://localhost:8080/"
        },
        "id": "MESJoioWT7pl",
        "outputId": "7157ab63-8e94-45dd-808d-da084fa09223"
      },
      "execution_count": null,
      "outputs": [
        {
          "output_type": "stream",
          "name": "stdout",
          "text": [
            "<class 'pandas.core.frame.DataFrame'>\n",
            "RangeIndex: 100 entries, 0 to 99\n",
            "Data columns (total 9 columns):\n",
            " #   Column             Non-Null Count  Dtype  \n",
            "---  ------             --------------  -----  \n",
            " 0   Symbol             100 non-null    object \n",
            " 1   Name               100 non-null    object \n",
            " 2   Price (Intraday)   100 non-null    float64\n",
            " 3   Change             100 non-null    float64\n",
            " 4   % Change           100 non-null    float64\n",
            " 5   Volume             100 non-null    float64\n",
            " 6   Avg Vol (3 month)  100 non-null    float64\n",
            " 7   Market Cap         100 non-null    float64\n",
            " 8   PE Ratio (TTM)     73 non-null     float64\n",
            "dtypes: float64(7), object(2)\n",
            "memory usage: 7.2+ KB\n"
          ]
        }
      ]
    },
    {
      "cell_type": "code",
      "source": [
        "response.columns"
      ],
      "metadata": {
        "colab": {
          "base_uri": "https://localhost:8080/"
        },
        "id": "Ay1B9g70sG6g",
        "outputId": "5f7522bc-ea5d-4f3c-e3e1-ce419a430da2"
      },
      "execution_count": null,
      "outputs": [
        {
          "output_type": "execute_result",
          "data": {
            "text/plain": [
              "Index(['Symbol', 'Name', 'Price (Intraday)', 'Change', '% Change', 'Volume',\n",
              "       'Avg Vol (3 month)', 'Market Cap', 'PE Ratio (TTM)'],\n",
              "      dtype='object')"
            ]
          },
          "metadata": {},
          "execution_count": 111
        }
      ]
    },
    {
      "cell_type": "code",
      "source": [
        "response['Symbol'].unique()"
      ],
      "metadata": {
        "colab": {
          "base_uri": "https://localhost:8080/"
        },
        "id": "7Ku5QTo5nzmX",
        "outputId": "f8d7440d-1f72-4717-b43e-5d6e2e68d829"
      },
      "execution_count": null,
      "outputs": [
        {
          "output_type": "execute_result",
          "data": {
            "text/plain": [
              "array(['GETY', 'EGRNF', 'BESVF', 'AUOTY', 'AACAY', 'GOL', 'RES', 'TLRY',\n",
              "       'NSP', 'FSLR', 'WYNN', 'MCARY', 'NU', 'FNMFN', 'MGYOY', 'EQT',\n",
              "       'LU', 'TAL', 'ASAI', 'NTCO', 'TCNNF', 'BIREF', 'PSNY', 'EBR-B',\n",
              "       'WEGZY', 'RNW', 'JAPAY', 'PETRY', 'EVKIF', 'GSAT', 'BSBR', 'GTBIF',\n",
              "       'SALRY', 'CIOXY', 'CSGKF', 'AMBP', 'CSIQ', 'CLBK', 'BAK', 'NOMD',\n",
              "       'TEX', 'EBR', 'LBRT', 'BBD', 'ITUB', 'CSAN', 'RUM', 'FMS', 'UBSFY',\n",
              "       'ESTE', 'SWN', 'DVDCF', 'CRK', 'INSP', 'PTON', 'NPSNY', 'UGP',\n",
              "       'ULCC', 'AVTR', 'NEX', 'NOVA', 'CS', 'RRC', 'GTLS', 'TKC', 'BTVCY',\n",
              "       'FSR', 'KOS', 'XP', 'W', 'FREGP', 'SCHYY', 'BBDO', 'OUKPF', 'CHK',\n",
              "       'DKNG', 'ASND', 'PLMR', 'HPK', 'IFS', 'AR', 'FTI', 'SHLS', 'WB',\n",
              "       'DQJCY', 'TIMB', 'MHGVY', 'ABEV', 'ELP', 'AETUF', 'SBS', 'NOV',\n",
              "       'UWMC', 'NWG', 'TBVPF', 'BRFS', 'ARRY', 'DCP-PC', 'BBSEY', 'SES'],\n",
              "      dtype=object)"
            ]
          },
          "metadata": {},
          "execution_count": 112
        }
      ]
    },
    {
      "cell_type": "code",
      "source": [
        "response.describe()"
      ],
      "metadata": {
        "colab": {
          "base_uri": "https://localhost:8080/",
          "height": 300
        },
        "id": "ZBRi4PeKoV57",
        "outputId": "54fba4fa-5c1f-4c92-9c08-d620e72e1f28"
      },
      "execution_count": null,
      "outputs": [
        {
          "output_type": "execute_result",
          "data": {
            "text/plain": [
              "       Price (Intraday)      Change    % Change        Volume  \\\n",
              "count        100.000000  100.000000  100.000000  1.000000e+02   \n",
              "mean          21.719644    1.269467    6.425500  6.022335e+06   \n",
              "std           36.806744    2.310629    3.985319  1.383200e+07   \n",
              "min            0.083000    0.012500    3.450000  1.686200e+04   \n",
              "25%            5.437500    0.307500    4.507500  1.401702e+05   \n",
              "50%           10.525000    0.565000    5.230000  1.131500e+06   \n",
              "75%           18.835000    0.922500    7.240000  4.191750e+06   \n",
              "max          223.060000   12.900000   35.590000  7.651200e+07   \n",
              "\n",
              "       Avg Vol (3 month)    Market Cap  PE Ratio (TTM)  \n",
              "count       1.000000e+02  1.000000e+02       73.000000  \n",
              "mean        3.935846e+06  9.010260e+09       33.672603  \n",
              "std         7.815353e+06  1.067193e+10       88.185530  \n",
              "min         6.000000e+01  1.715000e+09        0.490000  \n",
              "25%         9.624825e+04  2.792750e+09        8.830000  \n",
              "50%         8.255365e+05  4.968500e+09       13.030000  \n",
              "75%         3.437750e+06  1.033400e+10       24.160000  \n",
              "max         4.000100e+07  5.709000e+10      707.140000  "
            ],
            "text/html": [
              "\n",
              "  <div id=\"df-42bb705a-17fa-4d99-9b67-393b6b33aec0\">\n",
              "    <div class=\"colab-df-container\">\n",
              "      <div>\n",
              "<style scoped>\n",
              "    .dataframe tbody tr th:only-of-type {\n",
              "        vertical-align: middle;\n",
              "    }\n",
              "\n",
              "    .dataframe tbody tr th {\n",
              "        vertical-align: top;\n",
              "    }\n",
              "\n",
              "    .dataframe thead th {\n",
              "        text-align: right;\n",
              "    }\n",
              "</style>\n",
              "<table border=\"1\" class=\"dataframe\">\n",
              "  <thead>\n",
              "    <tr style=\"text-align: right;\">\n",
              "      <th></th>\n",
              "      <th>Price (Intraday)</th>\n",
              "      <th>Change</th>\n",
              "      <th>% Change</th>\n",
              "      <th>Volume</th>\n",
              "      <th>Avg Vol (3 month)</th>\n",
              "      <th>Market Cap</th>\n",
              "      <th>PE Ratio (TTM)</th>\n",
              "    </tr>\n",
              "  </thead>\n",
              "  <tbody>\n",
              "    <tr>\n",
              "      <th>count</th>\n",
              "      <td>100.000000</td>\n",
              "      <td>100.000000</td>\n",
              "      <td>100.000000</td>\n",
              "      <td>1.000000e+02</td>\n",
              "      <td>1.000000e+02</td>\n",
              "      <td>1.000000e+02</td>\n",
              "      <td>73.000000</td>\n",
              "    </tr>\n",
              "    <tr>\n",
              "      <th>mean</th>\n",
              "      <td>21.719644</td>\n",
              "      <td>1.269467</td>\n",
              "      <td>6.425500</td>\n",
              "      <td>6.022335e+06</td>\n",
              "      <td>3.935846e+06</td>\n",
              "      <td>9.010260e+09</td>\n",
              "      <td>33.672603</td>\n",
              "    </tr>\n",
              "    <tr>\n",
              "      <th>std</th>\n",
              "      <td>36.806744</td>\n",
              "      <td>2.310629</td>\n",
              "      <td>3.985319</td>\n",
              "      <td>1.383200e+07</td>\n",
              "      <td>7.815353e+06</td>\n",
              "      <td>1.067193e+10</td>\n",
              "      <td>88.185530</td>\n",
              "    </tr>\n",
              "    <tr>\n",
              "      <th>min</th>\n",
              "      <td>0.083000</td>\n",
              "      <td>0.012500</td>\n",
              "      <td>3.450000</td>\n",
              "      <td>1.686200e+04</td>\n",
              "      <td>6.000000e+01</td>\n",
              "      <td>1.715000e+09</td>\n",
              "      <td>0.490000</td>\n",
              "    </tr>\n",
              "    <tr>\n",
              "      <th>25%</th>\n",
              "      <td>5.437500</td>\n",
              "      <td>0.307500</td>\n",
              "      <td>4.507500</td>\n",
              "      <td>1.401702e+05</td>\n",
              "      <td>9.624825e+04</td>\n",
              "      <td>2.792750e+09</td>\n",
              "      <td>8.830000</td>\n",
              "    </tr>\n",
              "    <tr>\n",
              "      <th>50%</th>\n",
              "      <td>10.525000</td>\n",
              "      <td>0.565000</td>\n",
              "      <td>5.230000</td>\n",
              "      <td>1.131500e+06</td>\n",
              "      <td>8.255365e+05</td>\n",
              "      <td>4.968500e+09</td>\n",
              "      <td>13.030000</td>\n",
              "    </tr>\n",
              "    <tr>\n",
              "      <th>75%</th>\n",
              "      <td>18.835000</td>\n",
              "      <td>0.922500</td>\n",
              "      <td>7.240000</td>\n",
              "      <td>4.191750e+06</td>\n",
              "      <td>3.437750e+06</td>\n",
              "      <td>1.033400e+10</td>\n",
              "      <td>24.160000</td>\n",
              "    </tr>\n",
              "    <tr>\n",
              "      <th>max</th>\n",
              "      <td>223.060000</td>\n",
              "      <td>12.900000</td>\n",
              "      <td>35.590000</td>\n",
              "      <td>7.651200e+07</td>\n",
              "      <td>4.000100e+07</td>\n",
              "      <td>5.709000e+10</td>\n",
              "      <td>707.140000</td>\n",
              "    </tr>\n",
              "  </tbody>\n",
              "</table>\n",
              "</div>\n",
              "      <button class=\"colab-df-convert\" onclick=\"convertToInteractive('df-42bb705a-17fa-4d99-9b67-393b6b33aec0')\"\n",
              "              title=\"Convert this dataframe to an interactive table.\"\n",
              "              style=\"display:none;\">\n",
              "        \n",
              "  <svg xmlns=\"http://www.w3.org/2000/svg\" height=\"24px\"viewBox=\"0 0 24 24\"\n",
              "       width=\"24px\">\n",
              "    <path d=\"M0 0h24v24H0V0z\" fill=\"none\"/>\n",
              "    <path d=\"M18.56 5.44l.94 2.06.94-2.06 2.06-.94-2.06-.94-.94-2.06-.94 2.06-2.06.94zm-11 1L8.5 8.5l.94-2.06 2.06-.94-2.06-.94L8.5 2.5l-.94 2.06-2.06.94zm10 10l.94 2.06.94-2.06 2.06-.94-2.06-.94-.94-2.06-.94 2.06-2.06.94z\"/><path d=\"M17.41 7.96l-1.37-1.37c-.4-.4-.92-.59-1.43-.59-.52 0-1.04.2-1.43.59L10.3 9.45l-7.72 7.72c-.78.78-.78 2.05 0 2.83L4 21.41c.39.39.9.59 1.41.59.51 0 1.02-.2 1.41-.59l7.78-7.78 2.81-2.81c.8-.78.8-2.07 0-2.86zM5.41 20L4 18.59l7.72-7.72 1.47 1.35L5.41 20z\"/>\n",
              "  </svg>\n",
              "      </button>\n",
              "      \n",
              "  <style>\n",
              "    .colab-df-container {\n",
              "      display:flex;\n",
              "      flex-wrap:wrap;\n",
              "      gap: 12px;\n",
              "    }\n",
              "\n",
              "    .colab-df-convert {\n",
              "      background-color: #E8F0FE;\n",
              "      border: none;\n",
              "      border-radius: 50%;\n",
              "      cursor: pointer;\n",
              "      display: none;\n",
              "      fill: #1967D2;\n",
              "      height: 32px;\n",
              "      padding: 0 0 0 0;\n",
              "      width: 32px;\n",
              "    }\n",
              "\n",
              "    .colab-df-convert:hover {\n",
              "      background-color: #E2EBFA;\n",
              "      box-shadow: 0px 1px 2px rgba(60, 64, 67, 0.3), 0px 1px 3px 1px rgba(60, 64, 67, 0.15);\n",
              "      fill: #174EA6;\n",
              "    }\n",
              "\n",
              "    [theme=dark] .colab-df-convert {\n",
              "      background-color: #3B4455;\n",
              "      fill: #D2E3FC;\n",
              "    }\n",
              "\n",
              "    [theme=dark] .colab-df-convert:hover {\n",
              "      background-color: #434B5C;\n",
              "      box-shadow: 0px 1px 3px 1px rgba(0, 0, 0, 0.15);\n",
              "      filter: drop-shadow(0px 1px 2px rgba(0, 0, 0, 0.3));\n",
              "      fill: #FFFFFF;\n",
              "    }\n",
              "  </style>\n",
              "\n",
              "      <script>\n",
              "        const buttonEl =\n",
              "          document.querySelector('#df-42bb705a-17fa-4d99-9b67-393b6b33aec0 button.colab-df-convert');\n",
              "        buttonEl.style.display =\n",
              "          google.colab.kernel.accessAllowed ? 'block' : 'none';\n",
              "\n",
              "        async function convertToInteractive(key) {\n",
              "          const element = document.querySelector('#df-42bb705a-17fa-4d99-9b67-393b6b33aec0');\n",
              "          const dataTable =\n",
              "            await google.colab.kernel.invokeFunction('convertToInteractive',\n",
              "                                                     [key], {});\n",
              "          if (!dataTable) return;\n",
              "\n",
              "          const docLinkHtml = 'Like what you see? Visit the ' +\n",
              "            '<a target=\"_blank\" href=https://colab.research.google.com/notebooks/data_table.ipynb>data table notebook</a>'\n",
              "            + ' to learn more about interactive tables.';\n",
              "          element.innerHTML = '';\n",
              "          dataTable['output_type'] = 'display_data';\n",
              "          await google.colab.output.renderOutput(dataTable, element);\n",
              "          const docLink = document.createElement('div');\n",
              "          docLink.innerHTML = docLinkHtml;\n",
              "          element.appendChild(docLink);\n",
              "        }\n",
              "      </script>\n",
              "    </div>\n",
              "  </div>\n",
              "  "
            ]
          },
          "metadata": {},
          "execution_count": 113
        }
      ]
    },
    {
      "cell_type": "markdown",
      "source": [
        "**Which company has reached the maximum price today?**"
      ],
      "metadata": {
        "id": "7HcBj1l2Bm33"
      }
    },
    {
      "cell_type": "code",
      "source": [
        "px.bar(data_frame=response.sort_values('Symbol'), x='Symbol', y='Price (Intraday)', title='Increases of companies on a given day',\n",
        "      text_auto=True, color='Symbol', hover_data=['Name', 'Volume']) "
      ],
      "metadata": {
        "colab": {
          "base_uri": "https://localhost:8080/",
          "height": 542
        },
        "id": "LzovehYo0wL3",
        "outputId": "c3abb728-9d8f-4bc3-ec90-84984805e60f"
      },
      "execution_count": null,
      "outputs": [
        {
          "output_type": "display_data",
          "data": {
            "text/html": [
              "<html>\n",
              "<head><meta charset=\"utf-8\" /></head>\n",
              "<body>\n",
              "    <div>            <script src=\"https://cdnjs.cloudflare.com/ajax/libs/mathjax/2.7.5/MathJax.js?config=TeX-AMS-MML_SVG\"></script><script type=\"text/javascript\">if (window.MathJax) {MathJax.Hub.Config({SVG: {font: \"STIX-Web\"}});}</script>                <script type=\"text/javascript\">window.PlotlyConfig = {MathJaxConfig: 'local'};</script>\n",
              "        <script src=\"https://cdn.plot.ly/plotly-2.8.3.min.js\"></script>                <div id=\"2cdc586d-8d5e-47ca-84dc-8a9260c7dda6\" class=\"plotly-graph-div\" style=\"height:525px; width:100%;\"></div>            <script type=\"text/javascript\">                                    window.PLOTLYENV=window.PLOTLYENV || {};                                    if (document.getElementById(\"2cdc586d-8d5e-47ca-84dc-8a9260c7dda6\")) {                    Plotly.newPlot(                        \"2cdc586d-8d5e-47ca-84dc-8a9260c7dda6\",                        [{\"alignmentgroup\":\"True\",\"customdata\":[[\"AAC Technologies Holdings Inc.\",266198.0]],\"hovertemplate\":\"Symbol=%{x}<br>Price (Intraday)=%{y}<br>Name=%{customdata[0]}<br>Volume=%{customdata[1]}<extra></extra>\",\"legendgroup\":\"AACAY\",\"marker\":{\"color\":\"#636efa\",\"pattern\":{\"shape\":\"\"}},\"name\":\"AACAY\",\"offsetgroup\":\"AACAY\",\"orientation\":\"v\",\"showlegend\":true,\"textposition\":\"auto\",\"texttemplate\":\"%{y}\",\"x\":[\"AACAY\"],\"xaxis\":\"x\",\"y\":[1.84],\"yaxis\":\"y\",\"type\":\"bar\"},{\"alignmentgroup\":\"True\",\"customdata\":[[\"Ambev S.A.\",42293000.0]],\"hovertemplate\":\"Symbol=%{x}<br>Price (Intraday)=%{y}<br>Name=%{customdata[0]}<br>Volume=%{customdata[1]}<extra></extra>\",\"legendgroup\":\"ABEV\",\"marker\":{\"color\":\"#EF553B\",\"pattern\":{\"shape\":\"\"}},\"name\":\"ABEV\",\"offsetgroup\":\"ABEV\",\"orientation\":\"v\",\"showlegend\":true,\"textposition\":\"auto\",\"texttemplate\":\"%{y}\",\"x\":[\"ABEV\"],\"xaxis\":\"x\",\"y\":[3.04],\"yaxis\":\"y\",\"type\":\"bar\"},{\"alignmentgroup\":\"True\",\"customdata\":[[\"ARC Resources Ltd.\",25518.0]],\"hovertemplate\":\"Symbol=%{x}<br>Price (Intraday)=%{y}<br>Name=%{customdata[0]}<br>Volume=%{customdata[1]}<extra></extra>\",\"legendgroup\":\"AETUF\",\"marker\":{\"color\":\"#00cc96\",\"pattern\":{\"shape\":\"\"}},\"name\":\"AETUF\",\"offsetgroup\":\"AETUF\",\"orientation\":\"v\",\"showlegend\":true,\"textposition\":\"auto\",\"texttemplate\":\"%{y}\",\"x\":[\"AETUF\"],\"xaxis\":\"x\",\"y\":[14.2],\"yaxis\":\"y\",\"type\":\"bar\"},{\"alignmentgroup\":\"True\",\"customdata\":[[\"Ardagh Metal Packaging S.A.\",1584000.0]],\"hovertemplate\":\"Symbol=%{x}<br>Price (Intraday)=%{y}<br>Name=%{customdata[0]}<br>Volume=%{customdata[1]}<extra></extra>\",\"legendgroup\":\"AMBP\",\"marker\":{\"color\":\"#ab63fa\",\"pattern\":{\"shape\":\"\"}},\"name\":\"AMBP\",\"offsetgroup\":\"AMBP\",\"orientation\":\"v\",\"showlegend\":true,\"textposition\":\"auto\",\"texttemplate\":\"%{y}\",\"x\":[\"AMBP\"],\"xaxis\":\"x\",\"y\":[4.44],\"yaxis\":\"y\",\"type\":\"bar\"},{\"alignmentgroup\":\"True\",\"customdata\":[[\"Antero Resources Corporation\",7824000.0]],\"hovertemplate\":\"Symbol=%{x}<br>Price (Intraday)=%{y}<br>Name=%{customdata[0]}<br>Volume=%{customdata[1]}<extra></extra>\",\"legendgroup\":\"AR\",\"marker\":{\"color\":\"#FFA15A\",\"pattern\":{\"shape\":\"\"}},\"name\":\"AR\",\"offsetgroup\":\"AR\",\"orientation\":\"v\",\"showlegend\":true,\"textposition\":\"auto\",\"texttemplate\":\"%{y}\",\"x\":[\"AR\"],\"xaxis\":\"x\",\"y\":[36.65],\"yaxis\":\"y\",\"type\":\"bar\"},{\"alignmentgroup\":\"True\",\"customdata\":[[\"Array Technologies, Inc.\",2250000.0]],\"hovertemplate\":\"Symbol=%{x}<br>Price (Intraday)=%{y}<br>Name=%{customdata[0]}<br>Volume=%{customdata[1]}<extra></extra>\",\"legendgroup\":\"ARRY\",\"marker\":{\"color\":\"#19d3f3\",\"pattern\":{\"shape\":\"\"}},\"name\":\"ARRY\",\"offsetgroup\":\"ARRY\",\"orientation\":\"v\",\"showlegend\":true,\"textposition\":\"auto\",\"texttemplate\":\"%{y}\",\"x\":[\"ARRY\"],\"xaxis\":\"x\",\"y\":[18.1],\"yaxis\":\"y\",\"type\":\"bar\"},{\"alignmentgroup\":\"True\",\"customdata\":[[\"Sendas Distribuidora S.A.\",696883.0]],\"hovertemplate\":\"Symbol=%{x}<br>Price (Intraday)=%{y}<br>Name=%{customdata[0]}<br>Volume=%{customdata[1]}<extra></extra>\",\"legendgroup\":\"ASAI\",\"marker\":{\"color\":\"#FF6692\",\"pattern\":{\"shape\":\"\"}},\"name\":\"ASAI\",\"offsetgroup\":\"ASAI\",\"orientation\":\"v\",\"showlegend\":true,\"textposition\":\"auto\",\"texttemplate\":\"%{y}\",\"x\":[\"ASAI\"],\"xaxis\":\"x\",\"y\":[19.08],\"yaxis\":\"y\",\"type\":\"bar\"},{\"alignmentgroup\":\"True\",\"customdata\":[[\"Ascendis Pharma A/S\",450836.0]],\"hovertemplate\":\"Symbol=%{x}<br>Price (Intraday)=%{y}<br>Name=%{customdata[0]}<br>Volume=%{customdata[1]}<extra></extra>\",\"legendgroup\":\"ASND\",\"marker\":{\"color\":\"#B6E880\",\"pattern\":{\"shape\":\"\"}},\"name\":\"ASND\",\"offsetgroup\":\"ASND\",\"orientation\":\"v\",\"showlegend\":true,\"textposition\":\"auto\",\"texttemplate\":\"%{y}\",\"x\":[\"ASND\"],\"xaxis\":\"x\",\"y\":[115.0],\"yaxis\":\"y\",\"type\":\"bar\"},{\"alignmentgroup\":\"True\",\"customdata\":[[\"AUO Corporation\",106042.0]],\"hovertemplate\":\"Symbol=%{x}<br>Price (Intraday)=%{y}<br>Name=%{customdata[0]}<br>Volume=%{customdata[1]}<extra></extra>\",\"legendgroup\":\"AUOTY\",\"marker\":{\"color\":\"#FF97FF\",\"pattern\":{\"shape\":\"\"}},\"name\":\"AUOTY\",\"offsetgroup\":\"AUOTY\",\"orientation\":\"v\",\"showlegend\":true,\"textposition\":\"auto\",\"texttemplate\":\"%{y}\",\"x\":[\"AUOTY\"],\"xaxis\":\"x\",\"y\":[7.17],\"yaxis\":\"y\",\"type\":\"bar\"},{\"alignmentgroup\":\"True\",\"customdata\":[[\"Avantor, Inc.\",8474000.0]],\"hovertemplate\":\"Symbol=%{x}<br>Price (Intraday)=%{y}<br>Name=%{customdata[0]}<br>Volume=%{customdata[1]}<extra></extra>\",\"legendgroup\":\"AVTR\",\"marker\":{\"color\":\"#FECB52\",\"pattern\":{\"shape\":\"\"}},\"name\":\"AVTR\",\"offsetgroup\":\"AVTR\",\"orientation\":\"v\",\"showlegend\":true,\"textposition\":\"auto\",\"texttemplate\":\"%{y}\",\"x\":[\"AVTR\"],\"xaxis\":\"x\",\"y\":[20.18],\"yaxis\":\"y\",\"type\":\"bar\"},{\"alignmentgroup\":\"True\",\"customdata\":[[\"Braskem S.A.\",299066.0]],\"hovertemplate\":\"Symbol=%{x}<br>Price (Intraday)=%{y}<br>Name=%{customdata[0]}<br>Volume=%{customdata[1]}<extra></extra>\",\"legendgroup\":\"BAK\",\"marker\":{\"color\":\"#636efa\",\"pattern\":{\"shape\":\"\"}},\"name\":\"BAK\",\"offsetgroup\":\"BAK\",\"orientation\":\"v\",\"showlegend\":true,\"textposition\":\"auto\",\"texttemplate\":\"%{y}\",\"x\":[\"BAK\"],\"xaxis\":\"x\",\"y\":[12.92],\"yaxis\":\"y\",\"type\":\"bar\"},{\"alignmentgroup\":\"True\",\"customdata\":[[\"Banco Bradesco S.A.\",67649000.0]],\"hovertemplate\":\"Symbol=%{x}<br>Price (Intraday)=%{y}<br>Name=%{customdata[0]}<br>Volume=%{customdata[1]}<extra></extra>\",\"legendgroup\":\"BBD\",\"marker\":{\"color\":\"#EF553B\",\"pattern\":{\"shape\":\"\"}},\"name\":\"BBD\",\"offsetgroup\":\"BBD\",\"orientation\":\"v\",\"showlegend\":true,\"textposition\":\"auto\",\"texttemplate\":\"%{y}\",\"x\":[\"BBD\"],\"xaxis\":\"x\",\"y\":[3.795],\"yaxis\":\"y\",\"type\":\"bar\"},{\"alignmentgroup\":\"True\",\"customdata\":[[\"Banco Bradesco S.A.\",39910.0]],\"hovertemplate\":\"Symbol=%{x}<br>Price (Intraday)=%{y}<br>Name=%{customdata[0]}<br>Volume=%{customdata[1]}<extra></extra>\",\"legendgroup\":\"BBDO\",\"marker\":{\"color\":\"#00cc96\",\"pattern\":{\"shape\":\"\"}},\"name\":\"BBDO\",\"offsetgroup\":\"BBDO\",\"orientation\":\"v\",\"showlegend\":true,\"textposition\":\"auto\",\"texttemplate\":\"%{y}\",\"x\":[\"BBDO\"],\"xaxis\":\"x\",\"y\":[3.19],\"yaxis\":\"y\",\"type\":\"bar\"},{\"alignmentgroup\":\"True\",\"customdata\":[[\"BB Seguridade Participa\\u00e7\\u00f5es S.A.\",151788.0]],\"hovertemplate\":\"Symbol=%{x}<br>Price (Intraday)=%{y}<br>Name=%{customdata[0]}<br>Volume=%{customdata[1]}<extra></extra>\",\"legendgroup\":\"BBSEY\",\"marker\":{\"color\":\"#ab63fa\",\"pattern\":{\"shape\":\"\"}},\"name\":\"BBSEY\",\"offsetgroup\":\"BBSEY\",\"orientation\":\"v\",\"showlegend\":true,\"textposition\":\"auto\",\"texttemplate\":\"%{y}\",\"x\":[\"BBSEY\"],\"xaxis\":\"x\",\"y\":[5.71],\"yaxis\":\"y\",\"type\":\"bar\"},{\"alignmentgroup\":\"True\",\"customdata\":[[\"BE Semiconductor Industries N.V.\",28803.0]],\"hovertemplate\":\"Symbol=%{x}<br>Price (Intraday)=%{y}<br>Name=%{customdata[0]}<br>Volume=%{customdata[1]}<extra></extra>\",\"legendgroup\":\"BESVF\",\"marker\":{\"color\":\"#FFA15A\",\"pattern\":{\"shape\":\"\"}},\"name\":\"BESVF\",\"offsetgroup\":\"BESVF\",\"orientation\":\"v\",\"showlegend\":true,\"textposition\":\"auto\",\"texttemplate\":\"%{y}\",\"x\":[\"BESVF\"],\"xaxis\":\"x\",\"y\":[50.82],\"yaxis\":\"y\",\"type\":\"bar\"},{\"alignmentgroup\":\"True\",\"customdata\":[[\"Birchcliff Energy Ltd.\",50478.0]],\"hovertemplate\":\"Symbol=%{x}<br>Price (Intraday)=%{y}<br>Name=%{customdata[0]}<br>Volume=%{customdata[1]}<extra></extra>\",\"legendgroup\":\"BIREF\",\"marker\":{\"color\":\"#19d3f3\",\"pattern\":{\"shape\":\"\"}},\"name\":\"BIREF\",\"offsetgroup\":\"BIREF\",\"orientation\":\"v\",\"showlegend\":true,\"textposition\":\"auto\",\"texttemplate\":\"%{y}\",\"x\":[\"BIREF\"],\"xaxis\":\"x\",\"y\":[7.79],\"yaxis\":\"y\",\"type\":\"bar\"},{\"alignmentgroup\":\"True\",\"customdata\":[[\"BRF S.A.\",4159000.0]],\"hovertemplate\":\"Symbol=%{x}<br>Price (Intraday)=%{y}<br>Name=%{customdata[0]}<br>Volume=%{customdata[1]}<extra></extra>\",\"legendgroup\":\"BRFS\",\"marker\":{\"color\":\"#FF6692\",\"pattern\":{\"shape\":\"\"}},\"name\":\"BRFS\",\"offsetgroup\":\"BRFS\",\"orientation\":\"v\",\"showlegend\":true,\"textposition\":\"auto\",\"texttemplate\":\"%{y}\",\"x\":[\"BRFS\"],\"xaxis\":\"x\",\"y\":[2.405],\"yaxis\":\"y\",\"type\":\"bar\"},{\"alignmentgroup\":\"True\",\"customdata\":[[\"Banco Santander (Brasil) S.A.\",3472000.0]],\"hovertemplate\":\"Symbol=%{x}<br>Price (Intraday)=%{y}<br>Name=%{customdata[0]}<br>Volume=%{customdata[1]}<extra></extra>\",\"legendgroup\":\"BSBR\",\"marker\":{\"color\":\"#B6E880\",\"pattern\":{\"shape\":\"\"}},\"name\":\"BSBR\",\"offsetgroup\":\"BSBR\",\"orientation\":\"v\",\"showlegend\":true,\"textposition\":\"auto\",\"texttemplate\":\"%{y}\",\"x\":[\"BSBR\"],\"xaxis\":\"x\",\"y\":[5.69],\"yaxis\":\"y\",\"type\":\"bar\"},{\"alignmentgroup\":\"True\",\"customdata\":[[\"Britvic plc\",39886.0]],\"hovertemplate\":\"Symbol=%{x}<br>Price (Intraday)=%{y}<br>Name=%{customdata[0]}<br>Volume=%{customdata[1]}<extra></extra>\",\"legendgroup\":\"BTVCY\",\"marker\":{\"color\":\"#FF97FF\",\"pattern\":{\"shape\":\"\"}},\"name\":\"BTVCY\",\"offsetgroup\":\"BTVCY\",\"orientation\":\"v\",\"showlegend\":true,\"textposition\":\"auto\",\"texttemplate\":\"%{y}\",\"x\":[\"BTVCY\"],\"xaxis\":\"x\",\"y\":[17.73],\"yaxis\":\"y\",\"type\":\"bar\"},{\"alignmentgroup\":\"True\",\"customdata\":[[\"Chesapeake Energy Corporation\",2037999.9999999998]],\"hovertemplate\":\"Symbol=%{x}<br>Price (Intraday)=%{y}<br>Name=%{customdata[0]}<br>Volume=%{customdata[1]}<extra></extra>\",\"legendgroup\":\"CHK\",\"marker\":{\"color\":\"#FECB52\",\"pattern\":{\"shape\":\"\"}},\"name\":\"CHK\",\"offsetgroup\":\"CHK\",\"orientation\":\"v\",\"showlegend\":true,\"textposition\":\"auto\",\"texttemplate\":\"%{y}\",\"x\":[\"CHK\"],\"xaxis\":\"x\",\"y\":[102.27],\"yaxis\":\"y\",\"type\":\"bar\"},{\"alignmentgroup\":\"True\",\"customdata\":[[\"Cielo S.A.\",128528.0]],\"hovertemplate\":\"Symbol=%{x}<br>Price (Intraday)=%{y}<br>Name=%{customdata[0]}<br>Volume=%{customdata[1]}<extra></extra>\",\"legendgroup\":\"CIOXY\",\"marker\":{\"color\":\"#636efa\",\"pattern\":{\"shape\":\"\"}},\"name\":\"CIOXY\",\"offsetgroup\":\"CIOXY\",\"orientation\":\"v\",\"showlegend\":true,\"textposition\":\"auto\",\"texttemplate\":\"%{y}\",\"x\":[\"CIOXY\"],\"xaxis\":\"x\",\"y\":[1.06],\"yaxis\":\"y\",\"type\":\"bar\"},{\"alignmentgroup\":\"True\",\"customdata\":[[\"Columbia Financial, Inc.\",267973.0]],\"hovertemplate\":\"Symbol=%{x}<br>Price (Intraday)=%{y}<br>Name=%{customdata[0]}<br>Volume=%{customdata[1]}<extra></extra>\",\"legendgroup\":\"CLBK\",\"marker\":{\"color\":\"#EF553B\",\"pattern\":{\"shape\":\"\"}},\"name\":\"CLBK\",\"offsetgroup\":\"CLBK\",\"orientation\":\"v\",\"showlegend\":true,\"textposition\":\"auto\",\"texttemplate\":\"%{y}\",\"x\":[\"CLBK\"],\"xaxis\":\"x\",\"y\":[20.54],\"yaxis\":\"y\",\"type\":\"bar\"},{\"alignmentgroup\":\"True\",\"customdata\":[[\"Comstock Resources, Inc.\",4102000.0000000005]],\"hovertemplate\":\"Symbol=%{x}<br>Price (Intraday)=%{y}<br>Name=%{customdata[0]}<br>Volume=%{customdata[1]}<extra></extra>\",\"legendgroup\":\"CRK\",\"marker\":{\"color\":\"#00cc96\",\"pattern\":{\"shape\":\"\"}},\"name\":\"CRK\",\"offsetgroup\":\"CRK\",\"orientation\":\"v\",\"showlegend\":true,\"textposition\":\"auto\",\"texttemplate\":\"%{y}\",\"x\":[\"CRK\"],\"xaxis\":\"x\",\"y\":[18.79],\"yaxis\":\"y\",\"type\":\"bar\"},{\"alignmentgroup\":\"True\",\"customdata\":[[\"Credit Suisse Group AG\",25081000.0]],\"hovertemplate\":\"Symbol=%{x}<br>Price (Intraday)=%{y}<br>Name=%{customdata[0]}<br>Volume=%{customdata[1]}<extra></extra>\",\"legendgroup\":\"CS\",\"marker\":{\"color\":\"#ab63fa\",\"pattern\":{\"shape\":\"\"}},\"name\":\"CS\",\"offsetgroup\":\"CS\",\"orientation\":\"v\",\"showlegend\":true,\"textposition\":\"auto\",\"texttemplate\":\"%{y}\",\"x\":[\"CS\"],\"xaxis\":\"x\",\"y\":[4.125],\"yaxis\":\"y\",\"type\":\"bar\"},{\"alignmentgroup\":\"True\",\"customdata\":[[\"Cosan S.A.\",303602.0]],\"hovertemplate\":\"Symbol=%{x}<br>Price (Intraday)=%{y}<br>Name=%{customdata[0]}<br>Volume=%{customdata[1]}<extra></extra>\",\"legendgroup\":\"CSAN\",\"marker\":{\"color\":\"#FFA15A\",\"pattern\":{\"shape\":\"\"}},\"name\":\"CSAN\",\"offsetgroup\":\"CSAN\",\"orientation\":\"v\",\"showlegend\":true,\"textposition\":\"auto\",\"texttemplate\":\"%{y}\",\"x\":[\"CSAN\"],\"xaxis\":\"x\",\"y\":[12.93],\"yaxis\":\"y\",\"type\":\"bar\"},{\"alignmentgroup\":\"True\",\"customdata\":[[\"Credit Suisse Group AG\",17675.0]],\"hovertemplate\":\"Symbol=%{x}<br>Price (Intraday)=%{y}<br>Name=%{customdata[0]}<br>Volume=%{customdata[1]}<extra></extra>\",\"legendgroup\":\"CSGKF\",\"marker\":{\"color\":\"#19d3f3\",\"pattern\":{\"shape\":\"\"}},\"name\":\"CSGKF\",\"offsetgroup\":\"CSGKF\",\"orientation\":\"v\",\"showlegend\":true,\"textposition\":\"auto\",\"texttemplate\":\"%{y}\",\"x\":[\"CSGKF\"],\"xaxis\":\"x\",\"y\":[4.1601],\"yaxis\":\"y\",\"type\":\"bar\"},{\"alignmentgroup\":\"True\",\"customdata\":[[\"Canadian Solar Inc.\",1242000.0]],\"hovertemplate\":\"Symbol=%{x}<br>Price (Intraday)=%{y}<br>Name=%{customdata[0]}<br>Volume=%{customdata[1]}<extra></extra>\",\"legendgroup\":\"CSIQ\",\"marker\":{\"color\":\"#FF6692\",\"pattern\":{\"shape\":\"\"}},\"name\":\"CSIQ\",\"offsetgroup\":\"CSIQ\",\"orientation\":\"v\",\"showlegend\":true,\"textposition\":\"auto\",\"texttemplate\":\"%{y}\",\"x\":[\"CSIQ\"],\"xaxis\":\"x\",\"y\":[33.9],\"yaxis\":\"y\",\"type\":\"bar\"},{\"alignmentgroup\":\"True\",\"customdata\":[[\"DCP Midstream, LP\",24583.0]],\"hovertemplate\":\"Symbol=%{x}<br>Price (Intraday)=%{y}<br>Name=%{customdata[0]}<br>Volume=%{customdata[1]}<extra></extra>\",\"legendgroup\":\"DCP-PC\",\"marker\":{\"color\":\"#B6E880\",\"pattern\":{\"shape\":\"\"}},\"name\":\"DCP-PC\",\"offsetgroup\":\"DCP-PC\",\"orientation\":\"v\",\"showlegend\":true,\"textposition\":\"auto\",\"texttemplate\":\"%{y}\",\"x\":[\"DCP-PC\"],\"xaxis\":\"x\",\"y\":[23.98],\"yaxis\":\"y\",\"type\":\"bar\"},{\"alignmentgroup\":\"True\",\"customdata\":[[\"DraftKings Inc.\",20523000.0]],\"hovertemplate\":\"Symbol=%{x}<br>Price (Intraday)=%{y}<br>Name=%{customdata[0]}<br>Volume=%{customdata[1]}<extra></extra>\",\"legendgroup\":\"DKNG\",\"marker\":{\"color\":\"#FF97FF\",\"pattern\":{\"shape\":\"\"}},\"name\":\"DKNG\",\"offsetgroup\":\"DKNG\",\"orientation\":\"v\",\"showlegend\":true,\"textposition\":\"auto\",\"texttemplate\":\"%{y}\",\"x\":[\"DKNG\"],\"xaxis\":\"x\",\"y\":[15.8],\"yaxis\":\"y\",\"type\":\"bar\"},{\"alignmentgroup\":\"True\",\"customdata\":[[\"Pan Pacific International Holdings Corporation\",34880.0]],\"hovertemplate\":\"Symbol=%{x}<br>Price (Intraday)=%{y}<br>Name=%{customdata[0]}<br>Volume=%{customdata[1]}<extra></extra>\",\"legendgroup\":\"DQJCY\",\"marker\":{\"color\":\"#FECB52\",\"pattern\":{\"shape\":\"\"}},\"name\":\"DQJCY\",\"offsetgroup\":\"DQJCY\",\"orientation\":\"v\",\"showlegend\":true,\"textposition\":\"auto\",\"texttemplate\":\"%{y}\",\"x\":[\"DQJCY\"],\"xaxis\":\"x\",\"y\":[16.37],\"yaxis\":\"y\",\"type\":\"bar\"},{\"alignmentgroup\":\"True\",\"customdata\":[[\"Davide Campari-Milano N.V.\",923754.0]],\"hovertemplate\":\"Symbol=%{x}<br>Price (Intraday)=%{y}<br>Name=%{customdata[0]}<br>Volume=%{customdata[1]}<extra></extra>\",\"legendgroup\":\"DVDCF\",\"marker\":{\"color\":\"#636efa\",\"pattern\":{\"shape\":\"\"}},\"name\":\"DVDCF\",\"offsetgroup\":\"DVDCF\",\"orientation\":\"v\",\"showlegend\":true,\"textposition\":\"auto\",\"texttemplate\":\"%{y}\",\"x\":[\"DVDCF\"],\"xaxis\":\"x\",\"y\":[9.47],\"yaxis\":\"y\",\"type\":\"bar\"},{\"alignmentgroup\":\"True\",\"customdata\":[[\"Centrais El\\u00e9tricas Brasileiras S.A. - Eletrobr\\u00e1s\",5255000.0]],\"hovertemplate\":\"Symbol=%{x}<br>Price (Intraday)=%{y}<br>Name=%{customdata[0]}<br>Volume=%{customdata[1]}<extra></extra>\",\"legendgroup\":\"EBR\",\"marker\":{\"color\":\"#EF553B\",\"pattern\":{\"shape\":\"\"}},\"name\":\"EBR\",\"offsetgroup\":\"EBR\",\"orientation\":\"v\",\"showlegend\":true,\"textposition\":\"auto\",\"texttemplate\":\"%{y}\",\"x\":[\"EBR\"],\"xaxis\":\"x\",\"y\":[9.57],\"yaxis\":\"y\",\"type\":\"bar\"},{\"alignmentgroup\":\"True\",\"customdata\":[[\"Centrais El\\u00e9tricas Brasileiras S.A. - Eletrobr\\u00e1s\",50500.0]],\"hovertemplate\":\"Symbol=%{x}<br>Price (Intraday)=%{y}<br>Name=%{customdata[0]}<br>Volume=%{customdata[1]}<extra></extra>\",\"legendgroup\":\"EBR-B\",\"marker\":{\"color\":\"#00cc96\",\"pattern\":{\"shape\":\"\"}},\"name\":\"EBR-B\",\"offsetgroup\":\"EBR-B\",\"orientation\":\"v\",\"showlegend\":true,\"textposition\":\"auto\",\"texttemplate\":\"%{y}\",\"x\":[\"EBR-B\"],\"xaxis\":\"x\",\"y\":[10.45],\"yaxis\":\"y\",\"type\":\"bar\"},{\"alignmentgroup\":\"True\",\"customdata\":[[\"China Evergrande Group\",75092.0]],\"hovertemplate\":\"Symbol=%{x}<br>Price (Intraday)=%{y}<br>Name=%{customdata[0]}<br>Volume=%{customdata[1]}<extra></extra>\",\"legendgroup\":\"EGRNF\",\"marker\":{\"color\":\"#ab63fa\",\"pattern\":{\"shape\":\"\"}},\"name\":\"EGRNF\",\"offsetgroup\":\"EGRNF\",\"orientation\":\"v\",\"showlegend\":true,\"textposition\":\"auto\",\"texttemplate\":\"%{y}\",\"x\":[\"EGRNF\"],\"xaxis\":\"x\",\"y\":[0.083],\"yaxis\":\"y\",\"type\":\"bar\"},{\"alignmentgroup\":\"True\",\"customdata\":[[\"Companhia Paranaense de Energia - COPEL\",617828.0]],\"hovertemplate\":\"Symbol=%{x}<br>Price (Intraday)=%{y}<br>Name=%{customdata[0]}<br>Volume=%{customdata[1]}<extra></extra>\",\"legendgroup\":\"ELP\",\"marker\":{\"color\":\"#FFA15A\",\"pattern\":{\"shape\":\"\"}},\"name\":\"ELP\",\"offsetgroup\":\"ELP\",\"orientation\":\"v\",\"showlegend\":true,\"textposition\":\"auto\",\"texttemplate\":\"%{y}\",\"x\":[\"ELP\"],\"xaxis\":\"x\",\"y\":[7.07],\"yaxis\":\"y\",\"type\":\"bar\"},{\"alignmentgroup\":\"True\",\"customdata\":[[\"EQT Corporation\",9314000.0]],\"hovertemplate\":\"Symbol=%{x}<br>Price (Intraday)=%{y}<br>Name=%{customdata[0]}<br>Volume=%{customdata[1]}<extra></extra>\",\"legendgroup\":\"EQT\",\"marker\":{\"color\":\"#19d3f3\",\"pattern\":{\"shape\":\"\"}},\"name\":\"EQT\",\"offsetgroup\":\"EQT\",\"orientation\":\"v\",\"showlegend\":true,\"textposition\":\"auto\",\"texttemplate\":\"%{y}\",\"x\":[\"EQT\"],\"xaxis\":\"x\",\"y\":[41.84],\"yaxis\":\"y\",\"type\":\"bar\"},{\"alignmentgroup\":\"True\",\"customdata\":[[\"Earthstone Energy, Inc.\",1430000.0]],\"hovertemplate\":\"Symbol=%{x}<br>Price (Intraday)=%{y}<br>Name=%{customdata[0]}<br>Volume=%{customdata[1]}<extra></extra>\",\"legendgroup\":\"ESTE\",\"marker\":{\"color\":\"#FF6692\",\"pattern\":{\"shape\":\"\"}},\"name\":\"ESTE\",\"offsetgroup\":\"ESTE\",\"orientation\":\"v\",\"showlegend\":true,\"textposition\":\"auto\",\"texttemplate\":\"%{y}\",\"x\":[\"ESTE\"],\"xaxis\":\"x\",\"y\":[16.16],\"yaxis\":\"y\",\"type\":\"bar\"},{\"alignmentgroup\":\"True\",\"customdata\":[[\"Evonik Industries AG\",26315.0]],\"hovertemplate\":\"Symbol=%{x}<br>Price (Intraday)=%{y}<br>Name=%{customdata[0]}<br>Volume=%{customdata[1]}<extra></extra>\",\"legendgroup\":\"EVKIF\",\"marker\":{\"color\":\"#B6E880\",\"pattern\":{\"shape\":\"\"}},\"name\":\"EVKIF\",\"offsetgroup\":\"EVKIF\",\"orientation\":\"v\",\"showlegend\":true,\"textposition\":\"auto\",\"texttemplate\":\"%{y}\",\"x\":[\"EVKIF\"],\"xaxis\":\"x\",\"y\":[18.97],\"yaxis\":\"y\",\"type\":\"bar\"},{\"alignmentgroup\":\"True\",\"customdata\":[[\"Fresenius Medical Care AG & Co. KGaA\",2657000.0]],\"hovertemplate\":\"Symbol=%{x}<br>Price (Intraday)=%{y}<br>Name=%{customdata[0]}<br>Volume=%{customdata[1]}<extra></extra>\",\"legendgroup\":\"FMS\",\"marker\":{\"color\":\"#FF97FF\",\"pattern\":{\"shape\":\"\"}},\"name\":\"FMS\",\"offsetgroup\":\"FMS\",\"orientation\":\"v\",\"showlegend\":true,\"textposition\":\"auto\",\"texttemplate\":\"%{y}\",\"x\":[\"FMS\"],\"xaxis\":\"x\",\"y\":[13.89],\"yaxis\":\"y\",\"type\":\"bar\"},{\"alignmentgroup\":\"True\",\"customdata\":[[\"Federal National Mortgage Association\",16862.0]],\"hovertemplate\":\"Symbol=%{x}<br>Price (Intraday)=%{y}<br>Name=%{customdata[0]}<br>Volume=%{customdata[1]}<extra></extra>\",\"legendgroup\":\"FNMFN\",\"marker\":{\"color\":\"#FECB52\",\"pattern\":{\"shape\":\"\"}},\"name\":\"FNMFN\",\"offsetgroup\":\"FNMFN\",\"orientation\":\"v\",\"showlegend\":true,\"textposition\":\"auto\",\"texttemplate\":\"%{y}\",\"x\":[\"FNMFN\"],\"xaxis\":\"x\",\"y\":[4.95],\"yaxis\":\"y\",\"type\":\"bar\"},{\"alignmentgroup\":\"True\",\"customdata\":[[\"Federal Home Loan Mortgage Corporation\",18000.0]],\"hovertemplate\":\"Symbol=%{x}<br>Price (Intraday)=%{y}<br>Name=%{customdata[0]}<br>Volume=%{customdata[1]}<extra></extra>\",\"legendgroup\":\"FREGP\",\"marker\":{\"color\":\"#636efa\",\"pattern\":{\"shape\":\"\"}},\"name\":\"FREGP\",\"offsetgroup\":\"FREGP\",\"orientation\":\"v\",\"showlegend\":true,\"textposition\":\"auto\",\"texttemplate\":\"%{y}\",\"x\":[\"FREGP\"],\"xaxis\":\"x\",\"y\":[4.27],\"yaxis\":\"y\",\"type\":\"bar\"},{\"alignmentgroup\":\"True\",\"customdata\":[[\"First Solar, Inc.\",7041000.0]],\"hovertemplate\":\"Symbol=%{x}<br>Price (Intraday)=%{y}<br>Name=%{customdata[0]}<br>Volume=%{customdata[1]}<extra></extra>\",\"legendgroup\":\"FSLR\",\"marker\":{\"color\":\"#EF553B\",\"pattern\":{\"shape\":\"\"}},\"name\":\"FSLR\",\"offsetgroup\":\"FSLR\",\"orientation\":\"v\",\"showlegend\":true,\"textposition\":\"auto\",\"texttemplate\":\"%{y}\",\"x\":[\"FSLR\"],\"xaxis\":\"x\",\"y\":[145.57],\"yaxis\":\"y\",\"type\":\"bar\"},{\"alignmentgroup\":\"True\",\"customdata\":[[\"Fisker Inc.\",3448000.0]],\"hovertemplate\":\"Symbol=%{x}<br>Price (Intraday)=%{y}<br>Name=%{customdata[0]}<br>Volume=%{customdata[1]}<extra></extra>\",\"legendgroup\":\"FSR\",\"marker\":{\"color\":\"#00cc96\",\"pattern\":{\"shape\":\"\"}},\"name\":\"FSR\",\"offsetgroup\":\"FSR\",\"orientation\":\"v\",\"showlegend\":true,\"textposition\":\"auto\",\"texttemplate\":\"%{y}\",\"x\":[\"FSR\"],\"xaxis\":\"x\",\"y\":[8.16],\"yaxis\":\"y\",\"type\":\"bar\"},{\"alignmentgroup\":\"True\",\"customdata\":[[\"TechnipFMC plc\",9280000.0]],\"hovertemplate\":\"Symbol=%{x}<br>Price (Intraday)=%{y}<br>Name=%{customdata[0]}<br>Volume=%{customdata[1]}<extra></extra>\",\"legendgroup\":\"FTI\",\"marker\":{\"color\":\"#ab63fa\",\"pattern\":{\"shape\":\"\"}},\"name\":\"FTI\",\"offsetgroup\":\"FTI\",\"orientation\":\"v\",\"showlegend\":true,\"textposition\":\"auto\",\"texttemplate\":\"%{y}\",\"x\":[\"FTI\"],\"xaxis\":\"x\",\"y\":[10.6],\"yaxis\":\"y\",\"type\":\"bar\"},{\"alignmentgroup\":\"True\",\"customdata\":[[\"Getty Images Holdings, Inc.\",10547000.0]],\"hovertemplate\":\"Symbol=%{x}<br>Price (Intraday)=%{y}<br>Name=%{customdata[0]}<br>Volume=%{customdata[1]}<extra></extra>\",\"legendgroup\":\"GETY\",\"marker\":{\"color\":\"#FFA15A\",\"pattern\":{\"shape\":\"\"}},\"name\":\"GETY\",\"offsetgroup\":\"GETY\",\"orientation\":\"v\",\"showlegend\":true,\"textposition\":\"auto\",\"texttemplate\":\"%{y}\",\"x\":[\"GETY\"],\"xaxis\":\"x\",\"y\":[6.85],\"yaxis\":\"y\",\"type\":\"bar\"},{\"alignmentgroup\":\"True\",\"customdata\":[[\"Gol Linhas A\\u00e9reas Inteligentes S.A.\",2653000.0]],\"hovertemplate\":\"Symbol=%{x}<br>Price (Intraday)=%{y}<br>Name=%{customdata[0]}<br>Volume=%{customdata[1]}<extra></extra>\",\"legendgroup\":\"GOL\",\"marker\":{\"color\":\"#19d3f3\",\"pattern\":{\"shape\":\"\"}},\"name\":\"GOL\",\"offsetgroup\":\"GOL\",\"orientation\":\"v\",\"showlegend\":true,\"textposition\":\"auto\",\"texttemplate\":\"%{y}\",\"x\":[\"GOL\"],\"xaxis\":\"x\",\"y\":[3.7],\"yaxis\":\"y\",\"type\":\"bar\"},{\"alignmentgroup\":\"True\",\"customdata\":[[\"Globalstar, Inc.\",13288000.0]],\"hovertemplate\":\"Symbol=%{x}<br>Price (Intraday)=%{y}<br>Name=%{customdata[0]}<br>Volume=%{customdata[1]}<extra></extra>\",\"legendgroup\":\"GSAT\",\"marker\":{\"color\":\"#FF6692\",\"pattern\":{\"shape\":\"\"}},\"name\":\"GSAT\",\"offsetgroup\":\"GSAT\",\"orientation\":\"v\",\"showlegend\":true,\"textposition\":\"auto\",\"texttemplate\":\"%{y}\",\"x\":[\"GSAT\"],\"xaxis\":\"x\",\"y\":[2.16],\"yaxis\":\"y\",\"type\":\"bar\"},{\"alignmentgroup\":\"True\",\"customdata\":[[\"Green Thumb Industries Inc.\",739655.0]],\"hovertemplate\":\"Symbol=%{x}<br>Price (Intraday)=%{y}<br>Name=%{customdata[0]}<br>Volume=%{customdata[1]}<extra></extra>\",\"legendgroup\":\"GTBIF\",\"marker\":{\"color\":\"#B6E880\",\"pattern\":{\"shape\":\"\"}},\"name\":\"GTBIF\",\"offsetgroup\":\"GTBIF\",\"orientation\":\"v\",\"showlegend\":true,\"textposition\":\"auto\",\"texttemplate\":\"%{y}\",\"x\":[\"GTBIF\"],\"xaxis\":\"x\",\"y\":[11.82],\"yaxis\":\"y\",\"type\":\"bar\"},{\"alignmentgroup\":\"True\",\"customdata\":[[\"Chart Industries, Inc.\",1020999.9999999999]],\"hovertemplate\":\"Symbol=%{x}<br>Price (Intraday)=%{y}<br>Name=%{customdata[0]}<br>Volume=%{customdata[1]}<extra></extra>\",\"legendgroup\":\"GTLS\",\"marker\":{\"color\":\"#FF97FF\",\"pattern\":{\"shape\":\"\"}},\"name\":\"GTLS\",\"offsetgroup\":\"GTLS\",\"orientation\":\"v\",\"showlegend\":true,\"textposition\":\"auto\",\"texttemplate\":\"%{y}\",\"x\":[\"GTLS\"],\"xaxis\":\"x\",\"y\":[223.06],\"yaxis\":\"y\",\"type\":\"bar\"},{\"alignmentgroup\":\"True\",\"customdata\":[[\"HighPeak Energy, Inc.\",214876.0]],\"hovertemplate\":\"Symbol=%{x}<br>Price (Intraday)=%{y}<br>Name=%{customdata[0]}<br>Volume=%{customdata[1]}<extra></extra>\",\"legendgroup\":\"HPK\",\"marker\":{\"color\":\"#FECB52\",\"pattern\":{\"shape\":\"\"}},\"name\":\"HPK\",\"offsetgroup\":\"HPK\",\"orientation\":\"v\",\"showlegend\":true,\"textposition\":\"auto\",\"texttemplate\":\"%{y}\",\"x\":[\"HPK\"],\"xaxis\":\"x\",\"y\":[23.32],\"yaxis\":\"y\",\"type\":\"bar\"},{\"alignmentgroup\":\"True\",\"customdata\":[[\"Intercorp Financial Services Inc.\",73429.0]],\"hovertemplate\":\"Symbol=%{x}<br>Price (Intraday)=%{y}<br>Name=%{customdata[0]}<br>Volume=%{customdata[1]}<extra></extra>\",\"legendgroup\":\"IFS\",\"marker\":{\"color\":\"#636efa\",\"pattern\":{\"shape\":\"\"}},\"name\":\"IFS\",\"offsetgroup\":\"IFS\",\"orientation\":\"v\",\"showlegend\":true,\"textposition\":\"auto\",\"texttemplate\":\"%{y}\",\"x\":[\"IFS\"],\"xaxis\":\"x\",\"y\":[24.6],\"yaxis\":\"y\",\"type\":\"bar\"},{\"alignmentgroup\":\"True\",\"customdata\":[[\"Inspire Medical Systems, Inc.\",816978.0]],\"hovertemplate\":\"Symbol=%{x}<br>Price (Intraday)=%{y}<br>Name=%{customdata[0]}<br>Volume=%{customdata[1]}<extra></extra>\",\"legendgroup\":\"INSP\",\"marker\":{\"color\":\"#EF553B\",\"pattern\":{\"shape\":\"\"}},\"name\":\"INSP\",\"offsetgroup\":\"INSP\",\"orientation\":\"v\",\"showlegend\":true,\"textposition\":\"auto\",\"texttemplate\":\"%{y}\",\"x\":[\"INSP\"],\"xaxis\":\"x\",\"y\":[195.0],\"yaxis\":\"y\",\"type\":\"bar\"},{\"alignmentgroup\":\"True\",\"customdata\":[[\"Ita\\u00fa Unibanco Holding S.A.\",76512000.0]],\"hovertemplate\":\"Symbol=%{x}<br>Price (Intraday)=%{y}<br>Name=%{customdata[0]}<br>Volume=%{customdata[1]}<extra></extra>\",\"legendgroup\":\"ITUB\",\"marker\":{\"color\":\"#00cc96\",\"pattern\":{\"shape\":\"\"}},\"name\":\"ITUB\",\"offsetgroup\":\"ITUB\",\"orientation\":\"v\",\"showlegend\":true,\"textposition\":\"auto\",\"texttemplate\":\"%{y}\",\"x\":[\"ITUB\"],\"xaxis\":\"x\",\"y\":[5.82],\"yaxis\":\"y\",\"type\":\"bar\"},{\"alignmentgroup\":\"True\",\"customdata\":[[\"Japan Tobacco Inc.\",211955.0]],\"hovertemplate\":\"Symbol=%{x}<br>Price (Intraday)=%{y}<br>Name=%{customdata[0]}<br>Volume=%{customdata[1]}<extra></extra>\",\"legendgroup\":\"JAPAY\",\"marker\":{\"color\":\"#ab63fa\",\"pattern\":{\"shape\":\"\"}},\"name\":\"JAPAY\",\"offsetgroup\":\"JAPAY\",\"orientation\":\"v\",\"showlegend\":true,\"textposition\":\"auto\",\"texttemplate\":\"%{y}\",\"x\":[\"JAPAY\"],\"xaxis\":\"x\",\"y\":[8.73],\"yaxis\":\"y\",\"type\":\"bar\"},{\"alignmentgroup\":\"True\",\"customdata\":[[\"Kosmos Energy Ltd.\",6687000.0]],\"hovertemplate\":\"Symbol=%{x}<br>Price (Intraday)=%{y}<br>Name=%{customdata[0]}<br>Volume=%{customdata[1]}<extra></extra>\",\"legendgroup\":\"KOS\",\"marker\":{\"color\":\"#FFA15A\",\"pattern\":{\"shape\":\"\"}},\"name\":\"KOS\",\"offsetgroup\":\"KOS\",\"orientation\":\"v\",\"showlegend\":true,\"textposition\":\"auto\",\"texttemplate\":\"%{y}\",\"x\":[\"KOS\"],\"xaxis\":\"x\",\"y\":[6.51],\"yaxis\":\"y\",\"type\":\"bar\"},{\"alignmentgroup\":\"True\",\"customdata\":[[\"Liberty Energy Inc.\",3048000.0]],\"hovertemplate\":\"Symbol=%{x}<br>Price (Intraday)=%{y}<br>Name=%{customdata[0]}<br>Volume=%{customdata[1]}<extra></extra>\",\"legendgroup\":\"LBRT\",\"marker\":{\"color\":\"#19d3f3\",\"pattern\":{\"shape\":\"\"}},\"name\":\"LBRT\",\"offsetgroup\":\"LBRT\",\"orientation\":\"v\",\"showlegend\":true,\"textposition\":\"auto\",\"texttemplate\":\"%{y}\",\"x\":[\"LBRT\"],\"xaxis\":\"x\",\"y\":[16.91],\"yaxis\":\"y\",\"type\":\"bar\"},{\"alignmentgroup\":\"True\",\"customdata\":[[\"Lufax Holding Ltd\",11285000.0]],\"hovertemplate\":\"Symbol=%{x}<br>Price (Intraday)=%{y}<br>Name=%{customdata[0]}<br>Volume=%{customdata[1]}<extra></extra>\",\"legendgroup\":\"LU\",\"marker\":{\"color\":\"#FF6692\",\"pattern\":{\"shape\":\"\"}},\"name\":\"LU\",\"offsetgroup\":\"LU\",\"orientation\":\"v\",\"showlegend\":true,\"textposition\":\"auto\",\"texttemplate\":\"%{y}\",\"x\":[\"LU\"],\"xaxis\":\"x\",\"y\":[1.585],\"yaxis\":\"y\",\"type\":\"bar\"},{\"alignmentgroup\":\"True\",\"customdata\":[[\"Mercari, Inc.\",18585.0]],\"hovertemplate\":\"Symbol=%{x}<br>Price (Intraday)=%{y}<br>Name=%{customdata[0]}<br>Volume=%{customdata[1]}<extra></extra>\",\"legendgroup\":\"MCARY\",\"marker\":{\"color\":\"#B6E880\",\"pattern\":{\"shape\":\"\"}},\"name\":\"MCARY\",\"offsetgroup\":\"MCARY\",\"orientation\":\"v\",\"showlegend\":true,\"textposition\":\"auto\",\"texttemplate\":\"%{y}\",\"x\":[\"MCARY\"],\"xaxis\":\"x\",\"y\":[8.88],\"yaxis\":\"y\",\"type\":\"bar\"},{\"alignmentgroup\":\"True\",\"customdata\":[[\"MOL Magyar Olaj- \\u00e9s G\\u00e1zipari Nyilv\\u00e1nosan Muk\\u00f6do R\\u00e9szv\\u00e9nyt\\u00e1rsas\\u00e1g\",24492.0]],\"hovertemplate\":\"Symbol=%{x}<br>Price (Intraday)=%{y}<br>Name=%{customdata[0]}<br>Volume=%{customdata[1]}<extra></extra>\",\"legendgroup\":\"MGYOY\",\"marker\":{\"color\":\"#FF97FF\",\"pattern\":{\"shape\":\"\"}},\"name\":\"MGYOY\",\"offsetgroup\":\"MGYOY\",\"orientation\":\"v\",\"showlegend\":true,\"textposition\":\"auto\",\"texttemplate\":\"%{y}\",\"x\":[\"MGYOY\"],\"xaxis\":\"x\",\"y\":[3.14],\"yaxis\":\"y\",\"type\":\"bar\"},{\"alignmentgroup\":\"True\",\"customdata\":[[\"Mowi ASA\",106990.0]],\"hovertemplate\":\"Symbol=%{x}<br>Price (Intraday)=%{y}<br>Name=%{customdata[0]}<br>Volume=%{customdata[1]}<extra></extra>\",\"legendgroup\":\"MHGVY\",\"marker\":{\"color\":\"#FECB52\",\"pattern\":{\"shape\":\"\"}},\"name\":\"MHGVY\",\"offsetgroup\":\"MHGVY\",\"orientation\":\"v\",\"showlegend\":true,\"textposition\":\"auto\",\"texttemplate\":\"%{y}\",\"x\":[\"MHGVY\"],\"xaxis\":\"x\",\"y\":[14.92],\"yaxis\":\"y\",\"type\":\"bar\"},{\"alignmentgroup\":\"True\",\"customdata\":[[\"NexTier Oilfield Solutions Inc.\",2983000.0]],\"hovertemplate\":\"Symbol=%{x}<br>Price (Intraday)=%{y}<br>Name=%{customdata[0]}<br>Volume=%{customdata[1]}<extra></extra>\",\"legendgroup\":\"NEX\",\"marker\":{\"color\":\"#636efa\",\"pattern\":{\"shape\":\"\"}},\"name\":\"NEX\",\"offsetgroup\":\"NEX\",\"orientation\":\"v\",\"showlegend\":true,\"textposition\":\"auto\",\"texttemplate\":\"%{y}\",\"x\":[\"NEX\"],\"xaxis\":\"x\",\"y\":[10.1],\"yaxis\":\"y\",\"type\":\"bar\"},{\"alignmentgroup\":\"True\",\"customdata\":[[\"Nomad Foods Limited\",2225000.0]],\"hovertemplate\":\"Symbol=%{x}<br>Price (Intraday)=%{y}<br>Name=%{customdata[0]}<br>Volume=%{customdata[1]}<extra></extra>\",\"legendgroup\":\"NOMD\",\"marker\":{\"color\":\"#EF553B\",\"pattern\":{\"shape\":\"\"}},\"name\":\"NOMD\",\"offsetgroup\":\"NOMD\",\"orientation\":\"v\",\"showlegend\":true,\"textposition\":\"auto\",\"texttemplate\":\"%{y}\",\"x\":[\"NOMD\"],\"xaxis\":\"x\",\"y\":[15.42],\"yaxis\":\"y\",\"type\":\"bar\"},{\"alignmentgroup\":\"True\",\"customdata\":[[\"NOV Inc.\",5845000.0]],\"hovertemplate\":\"Symbol=%{x}<br>Price (Intraday)=%{y}<br>Name=%{customdata[0]}<br>Volume=%{customdata[1]}<extra></extra>\",\"legendgroup\":\"NOV\",\"marker\":{\"color\":\"#00cc96\",\"pattern\":{\"shape\":\"\"}},\"name\":\"NOV\",\"offsetgroup\":\"NOV\",\"orientation\":\"v\",\"showlegend\":true,\"textposition\":\"auto\",\"texttemplate\":\"%{y}\",\"x\":[\"NOV\"],\"xaxis\":\"x\",\"y\":[22.41],\"yaxis\":\"y\",\"type\":\"bar\"},{\"alignmentgroup\":\"True\",\"customdata\":[[\"Sunnova Energy International Inc.\",2491000.0]],\"hovertemplate\":\"Symbol=%{x}<br>Price (Intraday)=%{y}<br>Name=%{customdata[0]}<br>Volume=%{customdata[1]}<extra></extra>\",\"legendgroup\":\"NOVA\",\"marker\":{\"color\":\"#ab63fa\",\"pattern\":{\"shape\":\"\"}},\"name\":\"NOVA\",\"offsetgroup\":\"NOVA\",\"orientation\":\"v\",\"showlegend\":true,\"textposition\":\"auto\",\"texttemplate\":\"%{y}\",\"x\":[\"NOVA\"],\"xaxis\":\"x\",\"y\":[18.54],\"yaxis\":\"y\",\"type\":\"bar\"},{\"alignmentgroup\":\"True\",\"customdata\":[[\"Naspers Limited\",148221.0]],\"hovertemplate\":\"Symbol=%{x}<br>Price (Intraday)=%{y}<br>Name=%{customdata[0]}<br>Volume=%{customdata[1]}<extra></extra>\",\"legendgroup\":\"NPSNY\",\"marker\":{\"color\":\"#FFA15A\",\"pattern\":{\"shape\":\"\"}},\"name\":\"NPSNY\",\"offsetgroup\":\"NPSNY\",\"orientation\":\"v\",\"showlegend\":true,\"textposition\":\"auto\",\"texttemplate\":\"%{y}\",\"x\":[\"NPSNY\"],\"xaxis\":\"x\",\"y\":[20.44],\"yaxis\":\"y\",\"type\":\"bar\"},{\"alignmentgroup\":\"True\",\"customdata\":[[\"Insperity, Inc.\",629961.0]],\"hovertemplate\":\"Symbol=%{x}<br>Price (Intraday)=%{y}<br>Name=%{customdata[0]}<br>Volume=%{customdata[1]}<extra></extra>\",\"legendgroup\":\"NSP\",\"marker\":{\"color\":\"#19d3f3\",\"pattern\":{\"shape\":\"\"}},\"name\":\"NSP\",\"offsetgroup\":\"NSP\",\"orientation\":\"v\",\"showlegend\":true,\"textposition\":\"auto\",\"texttemplate\":\"%{y}\",\"x\":[\"NSP\"],\"xaxis\":\"x\",\"y\":[117.99],\"yaxis\":\"y\",\"type\":\"bar\"},{\"alignmentgroup\":\"True\",\"customdata\":[[\"Natura &Co Holding S.A.\",946981.0]],\"hovertemplate\":\"Symbol=%{x}<br>Price (Intraday)=%{y}<br>Name=%{customdata[0]}<br>Volume=%{customdata[1]}<extra></extra>\",\"legendgroup\":\"NTCO\",\"marker\":{\"color\":\"#FF6692\",\"pattern\":{\"shape\":\"\"}},\"name\":\"NTCO\",\"offsetgroup\":\"NTCO\",\"orientation\":\"v\",\"showlegend\":true,\"textposition\":\"auto\",\"texttemplate\":\"%{y}\",\"x\":[\"NTCO\"],\"xaxis\":\"x\",\"y\":[5.72],\"yaxis\":\"y\",\"type\":\"bar\"},{\"alignmentgroup\":\"True\",\"customdata\":[[\"Nu Holdings Ltd.\",61533000.0]],\"hovertemplate\":\"Symbol=%{x}<br>Price (Intraday)=%{y}<br>Name=%{customdata[0]}<br>Volume=%{customdata[1]}<extra></extra>\",\"legendgroup\":\"NU\",\"marker\":{\"color\":\"#B6E880\",\"pattern\":{\"shape\":\"\"}},\"name\":\"NU\",\"offsetgroup\":\"NU\",\"orientation\":\"v\",\"showlegend\":true,\"textposition\":\"auto\",\"texttemplate\":\"%{y}\",\"x\":[\"NU\"],\"xaxis\":\"x\",\"y\":[4.99],\"yaxis\":\"y\",\"type\":\"bar\"},{\"alignmentgroup\":\"True\",\"customdata\":[[\"NatWest Group plc\",2836000.0]],\"hovertemplate\":\"Symbol=%{x}<br>Price (Intraday)=%{y}<br>Name=%{customdata[0]}<br>Volume=%{customdata[1]}<extra></extra>\",\"legendgroup\":\"NWG\",\"marker\":{\"color\":\"#FF97FF\",\"pattern\":{\"shape\":\"\"}},\"name\":\"NWG\",\"offsetgroup\":\"NWG\",\"orientation\":\"v\",\"showlegend\":true,\"textposition\":\"auto\",\"texttemplate\":\"%{y}\",\"x\":[\"NWG\"],\"xaxis\":\"x\",\"y\":[5.43],\"yaxis\":\"y\",\"type\":\"bar\"},{\"alignmentgroup\":\"True\",\"customdata\":[[\"Metso Outotec Oyj\",17314.0]],\"hovertemplate\":\"Symbol=%{x}<br>Price (Intraday)=%{y}<br>Name=%{customdata[0]}<br>Volume=%{customdata[1]}<extra></extra>\",\"legendgroup\":\"OUKPF\",\"marker\":{\"color\":\"#FECB52\",\"pattern\":{\"shape\":\"\"}},\"name\":\"OUKPF\",\"offsetgroup\":\"OUKPF\",\"orientation\":\"v\",\"showlegend\":true,\"textposition\":\"auto\",\"texttemplate\":\"%{y}\",\"x\":[\"OUKPF\"],\"xaxis\":\"x\",\"y\":[7.6],\"yaxis\":\"y\",\"type\":\"bar\"},{\"alignmentgroup\":\"True\",\"customdata\":[[\"Vibra Energia S.A.\",23042.0]],\"hovertemplate\":\"Symbol=%{x}<br>Price (Intraday)=%{y}<br>Name=%{customdata[0]}<br>Volume=%{customdata[1]}<extra></extra>\",\"legendgroup\":\"PETRY\",\"marker\":{\"color\":\"#636efa\",\"pattern\":{\"shape\":\"\"}},\"name\":\"PETRY\",\"offsetgroup\":\"PETRY\",\"orientation\":\"v\",\"showlegend\":true,\"textposition\":\"auto\",\"texttemplate\":\"%{y}\",\"x\":[\"PETRY\"],\"xaxis\":\"x\",\"y\":[7.0],\"yaxis\":\"y\",\"type\":\"bar\"},{\"alignmentgroup\":\"True\",\"customdata\":[[\"Palomar Holdings, Inc.\",144051.0]],\"hovertemplate\":\"Symbol=%{x}<br>Price (Intraday)=%{y}<br>Name=%{customdata[0]}<br>Volume=%{customdata[1]}<extra></extra>\",\"legendgroup\":\"PLMR\",\"marker\":{\"color\":\"#EF553B\",\"pattern\":{\"shape\":\"\"}},\"name\":\"PLMR\",\"offsetgroup\":\"PLMR\",\"orientation\":\"v\",\"showlegend\":true,\"textposition\":\"auto\",\"texttemplate\":\"%{y}\",\"x\":[\"PLMR\"],\"xaxis\":\"x\",\"y\":[88.96],\"yaxis\":\"y\",\"type\":\"bar\"},{\"alignmentgroup\":\"True\",\"customdata\":[[\"Polestar Automotive Holding UK PLC\",1745000.0]],\"hovertemplate\":\"Symbol=%{x}<br>Price (Intraday)=%{y}<br>Name=%{customdata[0]}<br>Volume=%{customdata[1]}<extra></extra>\",\"legendgroup\":\"PSNY\",\"marker\":{\"color\":\"#00cc96\",\"pattern\":{\"shape\":\"\"}},\"name\":\"PSNY\",\"offsetgroup\":\"PSNY\",\"orientation\":\"v\",\"showlegend\":true,\"textposition\":\"auto\",\"texttemplate\":\"%{y}\",\"x\":[\"PSNY\"],\"xaxis\":\"x\",\"y\":[4.46],\"yaxis\":\"y\",\"type\":\"bar\"},{\"alignmentgroup\":\"True\",\"customdata\":[[\"Peloton Interactive, Inc.\",17342000.0]],\"hovertemplate\":\"Symbol=%{x}<br>Price (Intraday)=%{y}<br>Name=%{customdata[0]}<br>Volume=%{customdata[1]}<extra></extra>\",\"legendgroup\":\"PTON\",\"marker\":{\"color\":\"#ab63fa\",\"pattern\":{\"shape\":\"\"}},\"name\":\"PTON\",\"offsetgroup\":\"PTON\",\"orientation\":\"v\",\"showlegend\":true,\"textposition\":\"auto\",\"texttemplate\":\"%{y}\",\"x\":[\"PTON\"],\"xaxis\":\"x\",\"y\":[8.4],\"yaxis\":\"y\",\"type\":\"bar\"},{\"alignmentgroup\":\"True\",\"customdata\":[[\"RPC, Inc.\",2603000.0]],\"hovertemplate\":\"Symbol=%{x}<br>Price (Intraday)=%{y}<br>Name=%{customdata[0]}<br>Volume=%{customdata[1]}<extra></extra>\",\"legendgroup\":\"RES\",\"marker\":{\"color\":\"#FFA15A\",\"pattern\":{\"shape\":\"\"}},\"name\":\"RES\",\"offsetgroup\":\"RES\",\"orientation\":\"v\",\"showlegend\":true,\"textposition\":\"auto\",\"texttemplate\":\"%{y}\",\"x\":[\"RES\"],\"xaxis\":\"x\",\"y\":[11.12],\"yaxis\":\"y\",\"type\":\"bar\"},{\"alignmentgroup\":\"True\",\"customdata\":[[\"ReNew Energy Global Plc\",1424000.0]],\"hovertemplate\":\"Symbol=%{x}<br>Price (Intraday)=%{y}<br>Name=%{customdata[0]}<br>Volume=%{customdata[1]}<extra></extra>\",\"legendgroup\":\"RNW\",\"marker\":{\"color\":\"#19d3f3\",\"pattern\":{\"shape\":\"\"}},\"name\":\"RNW\",\"offsetgroup\":\"RNW\",\"orientation\":\"v\",\"showlegend\":true,\"textposition\":\"auto\",\"texttemplate\":\"%{y}\",\"x\":[\"RNW\"],\"xaxis\":\"x\",\"y\":[5.81],\"yaxis\":\"y\",\"type\":\"bar\"},{\"alignmentgroup\":\"True\",\"customdata\":[[\"Range Resources Corporation\",4290000.0]],\"hovertemplate\":\"Symbol=%{x}<br>Price (Intraday)=%{y}<br>Name=%{customdata[0]}<br>Volume=%{customdata[1]}<extra></extra>\",\"legendgroup\":\"RRC\",\"marker\":{\"color\":\"#FF6692\",\"pattern\":{\"shape\":\"\"}},\"name\":\"RRC\",\"offsetgroup\":\"RRC\",\"orientation\":\"v\",\"showlegend\":true,\"textposition\":\"auto\",\"texttemplate\":\"%{y}\",\"x\":[\"RRC\"],\"xaxis\":\"x\",\"y\":[28.47],\"yaxis\":\"y\",\"type\":\"bar\"},{\"alignmentgroup\":\"True\",\"customdata\":[[\"Rumble Inc.\",3648000.0]],\"hovertemplate\":\"Symbol=%{x}<br>Price (Intraday)=%{y}<br>Name=%{customdata[0]}<br>Volume=%{customdata[1]}<extra></extra>\",\"legendgroup\":\"RUM\",\"marker\":{\"color\":\"#B6E880\",\"pattern\":{\"shape\":\"\"}},\"name\":\"RUM\",\"offsetgroup\":\"RUM\",\"orientation\":\"v\",\"showlegend\":true,\"textposition\":\"auto\",\"texttemplate\":\"%{y}\",\"x\":[\"RUM\"],\"xaxis\":\"x\",\"y\":[12.15],\"yaxis\":\"y\",\"type\":\"bar\"},{\"alignmentgroup\":\"True\",\"customdata\":[[\"SalMar ASA\",19172.0]],\"hovertemplate\":\"Symbol=%{x}<br>Price (Intraday)=%{y}<br>Name=%{customdata[0]}<br>Volume=%{customdata[1]}<extra></extra>\",\"legendgroup\":\"SALRY\",\"marker\":{\"color\":\"#FF97FF\",\"pattern\":{\"shape\":\"\"}},\"name\":\"SALRY\",\"offsetgroup\":\"SALRY\",\"orientation\":\"v\",\"showlegend\":true,\"textposition\":\"auto\",\"texttemplate\":\"%{y}\",\"x\":[\"SALRY\"],\"xaxis\":\"x\",\"y\":[8.4],\"yaxis\":\"y\",\"type\":\"bar\"},{\"alignmentgroup\":\"True\",\"customdata\":[[\"Companhia de Saneamento B\\u00e1sico do Estado de S\\u00e3o Paulo - SABESP\",4791000.0]],\"hovertemplate\":\"Symbol=%{x}<br>Price (Intraday)=%{y}<br>Name=%{customdata[0]}<br>Volume=%{customdata[1]}<extra></extra>\",\"legendgroup\":\"SBS\",\"marker\":{\"color\":\"#FECB52\",\"pattern\":{\"shape\":\"\"}},\"name\":\"SBS\",\"offsetgroup\":\"SBS\",\"orientation\":\"v\",\"showlegend\":true,\"textposition\":\"auto\",\"texttemplate\":\"%{y}\",\"x\":[\"SBS\"],\"xaxis\":\"x\",\"y\":[11.57],\"yaxis\":\"y\",\"type\":\"bar\"},{\"alignmentgroup\":\"True\",\"customdata\":[[\"Sands China Ltd.\",191762.0]],\"hovertemplate\":\"Symbol=%{x}<br>Price (Intraday)=%{y}<br>Name=%{customdata[0]}<br>Volume=%{customdata[1]}<extra></extra>\",\"legendgroup\":\"SCHYY\",\"marker\":{\"color\":\"#636efa\",\"pattern\":{\"shape\":\"\"}},\"name\":\"SCHYY\",\"offsetgroup\":\"SCHYY\",\"orientation\":\"v\",\"showlegend\":true,\"textposition\":\"auto\",\"texttemplate\":\"%{y}\",\"x\":[\"SCHYY\"],\"xaxis\":\"x\",\"y\":[17.69],\"yaxis\":\"y\",\"type\":\"bar\"},{\"alignmentgroup\":\"True\",\"customdata\":[[\"SES AI Corporation\",326019.0]],\"hovertemplate\":\"Symbol=%{x}<br>Price (Intraday)=%{y}<br>Name=%{customdata[0]}<br>Volume=%{customdata[1]}<extra></extra>\",\"legendgroup\":\"SES\",\"marker\":{\"color\":\"#EF553B\",\"pattern\":{\"shape\":\"\"}},\"name\":\"SES\",\"offsetgroup\":\"SES\",\"orientation\":\"v\",\"showlegend\":true,\"textposition\":\"auto\",\"texttemplate\":\"%{y}\",\"x\":[\"SES\"],\"xaxis\":\"x\",\"y\":[5.99],\"yaxis\":\"y\",\"type\":\"bar\"},{\"alignmentgroup\":\"True\",\"customdata\":[[\"Shoals Technologies Group, Inc.\",983954.0]],\"hovertemplate\":\"Symbol=%{x}<br>Price (Intraday)=%{y}<br>Name=%{customdata[0]}<br>Volume=%{customdata[1]}<extra></extra>\",\"legendgroup\":\"SHLS\",\"marker\":{\"color\":\"#00cc96\",\"pattern\":{\"shape\":\"\"}},\"name\":\"SHLS\",\"offsetgroup\":\"SHLS\",\"orientation\":\"v\",\"showlegend\":true,\"textposition\":\"auto\",\"texttemplate\":\"%{y}\",\"x\":[\"SHLS\"],\"xaxis\":\"x\",\"y\":[23.11],\"yaxis\":\"y\",\"type\":\"bar\"},{\"alignmentgroup\":\"True\",\"customdata\":[[\"Southwestern Energy Company\",33088000.0]],\"hovertemplate\":\"Symbol=%{x}<br>Price (Intraday)=%{y}<br>Name=%{customdata[0]}<br>Volume=%{customdata[1]}<extra></extra>\",\"legendgroup\":\"SWN\",\"marker\":{\"color\":\"#ab63fa\",\"pattern\":{\"shape\":\"\"}},\"name\":\"SWN\",\"offsetgroup\":\"SWN\",\"orientation\":\"v\",\"showlegend\":true,\"textposition\":\"auto\",\"texttemplate\":\"%{y}\",\"x\":[\"SWN\"],\"xaxis\":\"x\",\"y\":[6.94],\"yaxis\":\"y\",\"type\":\"bar\"},{\"alignmentgroup\":\"True\",\"customdata\":[[\"TAL Education Group\",7605000.0]],\"hovertemplate\":\"Symbol=%{x}<br>Price (Intraday)=%{y}<br>Name=%{customdata[0]}<br>Volume=%{customdata[1]}<extra></extra>\",\"legendgroup\":\"TAL\",\"marker\":{\"color\":\"#FFA15A\",\"pattern\":{\"shape\":\"\"}},\"name\":\"TAL\",\"offsetgroup\":\"TAL\",\"orientation\":\"v\",\"showlegend\":true,\"textposition\":\"auto\",\"texttemplate\":\"%{y}\",\"x\":[\"TAL\"],\"xaxis\":\"x\",\"y\":[4.73],\"yaxis\":\"y\",\"type\":\"bar\"},{\"alignmentgroup\":\"True\",\"customdata\":[[\"Thai Beverage Public Company Limited\",29101.0]],\"hovertemplate\":\"Symbol=%{x}<br>Price (Intraday)=%{y}<br>Name=%{customdata[0]}<br>Volume=%{customdata[1]}<extra></extra>\",\"legendgroup\":\"TBVPF\",\"marker\":{\"color\":\"#19d3f3\",\"pattern\":{\"shape\":\"\"}},\"name\":\"TBVPF\",\"offsetgroup\":\"TBVPF\",\"orientation\":\"v\",\"showlegend\":true,\"textposition\":\"auto\",\"texttemplate\":\"%{y}\",\"x\":[\"TBVPF\"],\"xaxis\":\"x\",\"y\":[0.4213],\"yaxis\":\"y\",\"type\":\"bar\"},{\"alignmentgroup\":\"True\",\"customdata\":[[\"Trulieve Cannabis Corp.\",517889.0]],\"hovertemplate\":\"Symbol=%{x}<br>Price (Intraday)=%{y}<br>Name=%{customdata[0]}<br>Volume=%{customdata[1]}<extra></extra>\",\"legendgroup\":\"TCNNF\",\"marker\":{\"color\":\"#FF6692\",\"pattern\":{\"shape\":\"\"}},\"name\":\"TCNNF\",\"offsetgroup\":\"TCNNF\",\"orientation\":\"v\",\"showlegend\":true,\"textposition\":\"auto\",\"texttemplate\":\"%{y}\",\"x\":[\"TCNNF\"],\"xaxis\":\"x\",\"y\":[11.6],\"yaxis\":\"y\",\"type\":\"bar\"},{\"alignmentgroup\":\"True\",\"customdata\":[[\"Terex Corporation\",1407000.0]],\"hovertemplate\":\"Symbol=%{x}<br>Price (Intraday)=%{y}<br>Name=%{customdata[0]}<br>Volume=%{customdata[1]}<extra></extra>\",\"legendgroup\":\"TEX\",\"marker\":{\"color\":\"#B6E880\",\"pattern\":{\"shape\":\"\"}},\"name\":\"TEX\",\"offsetgroup\":\"TEX\",\"orientation\":\"v\",\"showlegend\":true,\"textposition\":\"auto\",\"texttemplate\":\"%{y}\",\"x\":[\"TEX\"],\"xaxis\":\"x\",\"y\":[40.58],\"yaxis\":\"y\",\"type\":\"bar\"},{\"alignmentgroup\":\"True\",\"customdata\":[[\"TIM S.A.\",770661.0]],\"hovertemplate\":\"Symbol=%{x}<br>Price (Intraday)=%{y}<br>Name=%{customdata[0]}<br>Volume=%{customdata[1]}<extra></extra>\",\"legendgroup\":\"TIMB\",\"marker\":{\"color\":\"#FF97FF\",\"pattern\":{\"shape\":\"\"}},\"name\":\"TIMB\",\"offsetgroup\":\"TIMB\",\"orientation\":\"v\",\"showlegend\":true,\"textposition\":\"auto\",\"texttemplate\":\"%{y}\",\"x\":[\"TIMB\"],\"xaxis\":\"x\",\"y\":[12.77],\"yaxis\":\"y\",\"type\":\"bar\"},{\"alignmentgroup\":\"True\",\"customdata\":[[\"Turkcell Iletisim Hizmetleri A.S.\",507613.0]],\"hovertemplate\":\"Symbol=%{x}<br>Price (Intraday)=%{y}<br>Name=%{customdata[0]}<br>Volume=%{customdata[1]}<extra></extra>\",\"legendgroup\":\"TKC\",\"marker\":{\"color\":\"#FECB52\",\"pattern\":{\"shape\":\"\"}},\"name\":\"TKC\",\"offsetgroup\":\"TKC\",\"orientation\":\"v\",\"showlegend\":true,\"textposition\":\"auto\",\"texttemplate\":\"%{y}\",\"x\":[\"TKC\"],\"xaxis\":\"x\",\"y\":[3.46],\"yaxis\":\"y\",\"type\":\"bar\"},{\"alignmentgroup\":\"True\",\"customdata\":[[\"Tilray Brands, Inc.\",52432000.0]],\"hovertemplate\":\"Symbol=%{x}<br>Price (Intraday)=%{y}<br>Name=%{customdata[0]}<br>Volume=%{customdata[1]}<extra></extra>\",\"legendgroup\":\"TLRY\",\"marker\":{\"color\":\"#636efa\",\"pattern\":{\"shape\":\"\"}},\"name\":\"TLRY\",\"offsetgroup\":\"TLRY\",\"orientation\":\"v\",\"showlegend\":true,\"textposition\":\"auto\",\"texttemplate\":\"%{y}\",\"x\":[\"TLRY\"],\"xaxis\":\"x\",\"y\":[4.07],\"yaxis\":\"y\",\"type\":\"bar\"},{\"alignmentgroup\":\"True\",\"customdata\":[[\"Ubisoft Entertainment SA\",113232.0]],\"hovertemplate\":\"Symbol=%{x}<br>Price (Intraday)=%{y}<br>Name=%{customdata[0]}<br>Volume=%{customdata[1]}<extra></extra>\",\"legendgroup\":\"UBSFY\",\"marker\":{\"color\":\"#EF553B\",\"pattern\":{\"shape\":\"\"}},\"name\":\"UBSFY\",\"offsetgroup\":\"UBSFY\",\"orientation\":\"v\",\"showlegend\":true,\"textposition\":\"auto\",\"texttemplate\":\"%{y}\",\"x\":[\"UBSFY\"],\"xaxis\":\"x\",\"y\":[5.44],\"yaxis\":\"y\",\"type\":\"bar\"},{\"alignmentgroup\":\"True\",\"customdata\":[[\"Ultrapar Participa\\u00e7\\u00f5es S.A.\",1977000.0]],\"hovertemplate\":\"Symbol=%{x}<br>Price (Intraday)=%{y}<br>Name=%{customdata[0]}<br>Volume=%{customdata[1]}<extra></extra>\",\"legendgroup\":\"UGP\",\"marker\":{\"color\":\"#00cc96\",\"pattern\":{\"shape\":\"\"}},\"name\":\"UGP\",\"offsetgroup\":\"UGP\",\"orientation\":\"v\",\"showlegend\":true,\"textposition\":\"auto\",\"texttemplate\":\"%{y}\",\"x\":[\"UGP\"],\"xaxis\":\"x\",\"y\":[2.615],\"yaxis\":\"y\",\"type\":\"bar\"},{\"alignmentgroup\":\"True\",\"customdata\":[[\"Frontier Group Holdings, Inc.\",1321000.0]],\"hovertemplate\":\"Symbol=%{x}<br>Price (Intraday)=%{y}<br>Name=%{customdata[0]}<br>Volume=%{customdata[1]}<extra></extra>\",\"legendgroup\":\"ULCC\",\"marker\":{\"color\":\"#ab63fa\",\"pattern\":{\"shape\":\"\"}},\"name\":\"ULCC\",\"offsetgroup\":\"ULCC\",\"orientation\":\"v\",\"showlegend\":true,\"textposition\":\"auto\",\"texttemplate\":\"%{y}\",\"x\":[\"ULCC\"],\"xaxis\":\"x\",\"y\":[13.11],\"yaxis\":\"y\",\"type\":\"bar\"},{\"alignmentgroup\":\"True\",\"customdata\":[[\"UWM Holdings Corporation\",934700.0]],\"hovertemplate\":\"Symbol=%{x}<br>Price (Intraday)=%{y}<br>Name=%{customdata[0]}<br>Volume=%{customdata[1]}<extra></extra>\",\"legendgroup\":\"UWMC\",\"marker\":{\"color\":\"#FFA15A\",\"pattern\":{\"shape\":\"\"}},\"name\":\"UWMC\",\"offsetgroup\":\"UWMC\",\"orientation\":\"v\",\"showlegend\":true,\"textposition\":\"auto\",\"texttemplate\":\"%{y}\",\"x\":[\"UWMC\"],\"xaxis\":\"x\",\"y\":[3.275],\"yaxis\":\"y\",\"type\":\"bar\"},{\"alignmentgroup\":\"True\",\"customdata\":[[\"Wayfair Inc.\",4494000.0]],\"hovertemplate\":\"Symbol=%{x}<br>Price (Intraday)=%{y}<br>Name=%{customdata[0]}<br>Volume=%{customdata[1]}<extra></extra>\",\"legendgroup\":\"W\",\"marker\":{\"color\":\"#19d3f3\",\"pattern\":{\"shape\":\"\"}},\"name\":\"W\",\"offsetgroup\":\"W\",\"orientation\":\"v\",\"showlegend\":true,\"textposition\":\"auto\",\"texttemplate\":\"%{y}\",\"x\":[\"W\"],\"xaxis\":\"x\",\"y\":[37.92],\"yaxis\":\"y\",\"type\":\"bar\"},{\"alignmentgroup\":\"True\",\"customdata\":[[\"Weibo Corporation\",2041999.9999999998]],\"hovertemplate\":\"Symbol=%{x}<br>Price (Intraday)=%{y}<br>Name=%{customdata[0]}<br>Volume=%{customdata[1]}<extra></extra>\",\"legendgroup\":\"WB\",\"marker\":{\"color\":\"#FF6692\",\"pattern\":{\"shape\":\"\"}},\"name\":\"WB\",\"offsetgroup\":\"WB\",\"orientation\":\"v\",\"showlegend\":true,\"textposition\":\"auto\",\"texttemplate\":\"%{y}\",\"x\":[\"WB\"],\"xaxis\":\"x\",\"y\":[11.32],\"yaxis\":\"y\",\"type\":\"bar\"},{\"alignmentgroup\":\"True\",\"customdata\":[[\"WEG S.A.\",34827.0]],\"hovertemplate\":\"Symbol=%{x}<br>Price (Intraday)=%{y}<br>Name=%{customdata[0]}<br>Volume=%{customdata[1]}<extra></extra>\",\"legendgroup\":\"WEGZY\",\"marker\":{\"color\":\"#B6E880\",\"pattern\":{\"shape\":\"\"}},\"name\":\"WEGZY\",\"offsetgroup\":\"WEGZY\",\"orientation\":\"v\",\"showlegend\":true,\"textposition\":\"auto\",\"texttemplate\":\"%{y}\",\"x\":[\"WEGZY\"],\"xaxis\":\"x\",\"y\":[7.98],\"yaxis\":\"y\",\"type\":\"bar\"},{\"alignmentgroup\":\"True\",\"customdata\":[[\"Wynn Resorts, Limited\",13843000.0]],\"hovertemplate\":\"Symbol=%{x}<br>Price (Intraday)=%{y}<br>Name=%{customdata[0]}<br>Volume=%{customdata[1]}<extra></extra>\",\"legendgroup\":\"WYNN\",\"marker\":{\"color\":\"#FF97FF\",\"pattern\":{\"shape\":\"\"}},\"name\":\"WYNN\",\"offsetgroup\":\"WYNN\",\"orientation\":\"v\",\"showlegend\":true,\"textposition\":\"auto\",\"texttemplate\":\"%{y}\",\"x\":[\"WYNN\"],\"xaxis\":\"x\",\"y\":[63.9],\"yaxis\":\"y\",\"type\":\"bar\"},{\"alignmentgroup\":\"True\",\"customdata\":[[\"XP Inc.\",2905000.0]],\"hovertemplate\":\"Symbol=%{x}<br>Price (Intraday)=%{y}<br>Name=%{customdata[0]}<br>Volume=%{customdata[1]}<extra></extra>\",\"legendgroup\":\"XP\",\"marker\":{\"color\":\"#FECB52\",\"pattern\":{\"shape\":\"\"}},\"name\":\"XP\",\"offsetgroup\":\"XP\",\"orientation\":\"v\",\"showlegend\":true,\"textposition\":\"auto\",\"texttemplate\":\"%{y}\",\"x\":[\"XP\"],\"xaxis\":\"x\",\"y\":[18.33],\"yaxis\":\"y\",\"type\":\"bar\"}],                        {\"template\":{\"data\":{\"bar\":[{\"error_x\":{\"color\":\"#2a3f5f\"},\"error_y\":{\"color\":\"#2a3f5f\"},\"marker\":{\"line\":{\"color\":\"#E5ECF6\",\"width\":0.5},\"pattern\":{\"fillmode\":\"overlay\",\"size\":10,\"solidity\":0.2}},\"type\":\"bar\"}],\"barpolar\":[{\"marker\":{\"line\":{\"color\":\"#E5ECF6\",\"width\":0.5},\"pattern\":{\"fillmode\":\"overlay\",\"size\":10,\"solidity\":0.2}},\"type\":\"barpolar\"}],\"carpet\":[{\"aaxis\":{\"endlinecolor\":\"#2a3f5f\",\"gridcolor\":\"white\",\"linecolor\":\"white\",\"minorgridcolor\":\"white\",\"startlinecolor\":\"#2a3f5f\"},\"baxis\":{\"endlinecolor\":\"#2a3f5f\",\"gridcolor\":\"white\",\"linecolor\":\"white\",\"minorgridcolor\":\"white\",\"startlinecolor\":\"#2a3f5f\"},\"type\":\"carpet\"}],\"choropleth\":[{\"colorbar\":{\"outlinewidth\":0,\"ticks\":\"\"},\"type\":\"choropleth\"}],\"contour\":[{\"colorbar\":{\"outlinewidth\":0,\"ticks\":\"\"},\"colorscale\":[[0.0,\"#0d0887\"],[0.1111111111111111,\"#46039f\"],[0.2222222222222222,\"#7201a8\"],[0.3333333333333333,\"#9c179e\"],[0.4444444444444444,\"#bd3786\"],[0.5555555555555556,\"#d8576b\"],[0.6666666666666666,\"#ed7953\"],[0.7777777777777778,\"#fb9f3a\"],[0.8888888888888888,\"#fdca26\"],[1.0,\"#f0f921\"]],\"type\":\"contour\"}],\"contourcarpet\":[{\"colorbar\":{\"outlinewidth\":0,\"ticks\":\"\"},\"type\":\"contourcarpet\"}],\"heatmap\":[{\"colorbar\":{\"outlinewidth\":0,\"ticks\":\"\"},\"colorscale\":[[0.0,\"#0d0887\"],[0.1111111111111111,\"#46039f\"],[0.2222222222222222,\"#7201a8\"],[0.3333333333333333,\"#9c179e\"],[0.4444444444444444,\"#bd3786\"],[0.5555555555555556,\"#d8576b\"],[0.6666666666666666,\"#ed7953\"],[0.7777777777777778,\"#fb9f3a\"],[0.8888888888888888,\"#fdca26\"],[1.0,\"#f0f921\"]],\"type\":\"heatmap\"}],\"heatmapgl\":[{\"colorbar\":{\"outlinewidth\":0,\"ticks\":\"\"},\"colorscale\":[[0.0,\"#0d0887\"],[0.1111111111111111,\"#46039f\"],[0.2222222222222222,\"#7201a8\"],[0.3333333333333333,\"#9c179e\"],[0.4444444444444444,\"#bd3786\"],[0.5555555555555556,\"#d8576b\"],[0.6666666666666666,\"#ed7953\"],[0.7777777777777778,\"#fb9f3a\"],[0.8888888888888888,\"#fdca26\"],[1.0,\"#f0f921\"]],\"type\":\"heatmapgl\"}],\"histogram\":[{\"marker\":{\"pattern\":{\"fillmode\":\"overlay\",\"size\":10,\"solidity\":0.2}},\"type\":\"histogram\"}],\"histogram2d\":[{\"colorbar\":{\"outlinewidth\":0,\"ticks\":\"\"},\"colorscale\":[[0.0,\"#0d0887\"],[0.1111111111111111,\"#46039f\"],[0.2222222222222222,\"#7201a8\"],[0.3333333333333333,\"#9c179e\"],[0.4444444444444444,\"#bd3786\"],[0.5555555555555556,\"#d8576b\"],[0.6666666666666666,\"#ed7953\"],[0.7777777777777778,\"#fb9f3a\"],[0.8888888888888888,\"#fdca26\"],[1.0,\"#f0f921\"]],\"type\":\"histogram2d\"}],\"histogram2dcontour\":[{\"colorbar\":{\"outlinewidth\":0,\"ticks\":\"\"},\"colorscale\":[[0.0,\"#0d0887\"],[0.1111111111111111,\"#46039f\"],[0.2222222222222222,\"#7201a8\"],[0.3333333333333333,\"#9c179e\"],[0.4444444444444444,\"#bd3786\"],[0.5555555555555556,\"#d8576b\"],[0.6666666666666666,\"#ed7953\"],[0.7777777777777778,\"#fb9f3a\"],[0.8888888888888888,\"#fdca26\"],[1.0,\"#f0f921\"]],\"type\":\"histogram2dcontour\"}],\"mesh3d\":[{\"colorbar\":{\"outlinewidth\":0,\"ticks\":\"\"},\"type\":\"mesh3d\"}],\"parcoords\":[{\"line\":{\"colorbar\":{\"outlinewidth\":0,\"ticks\":\"\"}},\"type\":\"parcoords\"}],\"pie\":[{\"automargin\":true,\"type\":\"pie\"}],\"scatter\":[{\"marker\":{\"colorbar\":{\"outlinewidth\":0,\"ticks\":\"\"}},\"type\":\"scatter\"}],\"scatter3d\":[{\"line\":{\"colorbar\":{\"outlinewidth\":0,\"ticks\":\"\"}},\"marker\":{\"colorbar\":{\"outlinewidth\":0,\"ticks\":\"\"}},\"type\":\"scatter3d\"}],\"scattercarpet\":[{\"marker\":{\"colorbar\":{\"outlinewidth\":0,\"ticks\":\"\"}},\"type\":\"scattercarpet\"}],\"scattergeo\":[{\"marker\":{\"colorbar\":{\"outlinewidth\":0,\"ticks\":\"\"}},\"type\":\"scattergeo\"}],\"scattergl\":[{\"marker\":{\"colorbar\":{\"outlinewidth\":0,\"ticks\":\"\"}},\"type\":\"scattergl\"}],\"scattermapbox\":[{\"marker\":{\"colorbar\":{\"outlinewidth\":0,\"ticks\":\"\"}},\"type\":\"scattermapbox\"}],\"scatterpolar\":[{\"marker\":{\"colorbar\":{\"outlinewidth\":0,\"ticks\":\"\"}},\"type\":\"scatterpolar\"}],\"scatterpolargl\":[{\"marker\":{\"colorbar\":{\"outlinewidth\":0,\"ticks\":\"\"}},\"type\":\"scatterpolargl\"}],\"scatterternary\":[{\"marker\":{\"colorbar\":{\"outlinewidth\":0,\"ticks\":\"\"}},\"type\":\"scatterternary\"}],\"surface\":[{\"colorbar\":{\"outlinewidth\":0,\"ticks\":\"\"},\"colorscale\":[[0.0,\"#0d0887\"],[0.1111111111111111,\"#46039f\"],[0.2222222222222222,\"#7201a8\"],[0.3333333333333333,\"#9c179e\"],[0.4444444444444444,\"#bd3786\"],[0.5555555555555556,\"#d8576b\"],[0.6666666666666666,\"#ed7953\"],[0.7777777777777778,\"#fb9f3a\"],[0.8888888888888888,\"#fdca26\"],[1.0,\"#f0f921\"]],\"type\":\"surface\"}],\"table\":[{\"cells\":{\"fill\":{\"color\":\"#EBF0F8\"},\"line\":{\"color\":\"white\"}},\"header\":{\"fill\":{\"color\":\"#C8D4E3\"},\"line\":{\"color\":\"white\"}},\"type\":\"table\"}]},\"layout\":{\"annotationdefaults\":{\"arrowcolor\":\"#2a3f5f\",\"arrowhead\":0,\"arrowwidth\":1},\"autotypenumbers\":\"strict\",\"coloraxis\":{\"colorbar\":{\"outlinewidth\":0,\"ticks\":\"\"}},\"colorscale\":{\"diverging\":[[0,\"#8e0152\"],[0.1,\"#c51b7d\"],[0.2,\"#de77ae\"],[0.3,\"#f1b6da\"],[0.4,\"#fde0ef\"],[0.5,\"#f7f7f7\"],[0.6,\"#e6f5d0\"],[0.7,\"#b8e186\"],[0.8,\"#7fbc41\"],[0.9,\"#4d9221\"],[1,\"#276419\"]],\"sequential\":[[0.0,\"#0d0887\"],[0.1111111111111111,\"#46039f\"],[0.2222222222222222,\"#7201a8\"],[0.3333333333333333,\"#9c179e\"],[0.4444444444444444,\"#bd3786\"],[0.5555555555555556,\"#d8576b\"],[0.6666666666666666,\"#ed7953\"],[0.7777777777777778,\"#fb9f3a\"],[0.8888888888888888,\"#fdca26\"],[1.0,\"#f0f921\"]],\"sequentialminus\":[[0.0,\"#0d0887\"],[0.1111111111111111,\"#46039f\"],[0.2222222222222222,\"#7201a8\"],[0.3333333333333333,\"#9c179e\"],[0.4444444444444444,\"#bd3786\"],[0.5555555555555556,\"#d8576b\"],[0.6666666666666666,\"#ed7953\"],[0.7777777777777778,\"#fb9f3a\"],[0.8888888888888888,\"#fdca26\"],[1.0,\"#f0f921\"]]},\"colorway\":[\"#636efa\",\"#EF553B\",\"#00cc96\",\"#ab63fa\",\"#FFA15A\",\"#19d3f3\",\"#FF6692\",\"#B6E880\",\"#FF97FF\",\"#FECB52\"],\"font\":{\"color\":\"#2a3f5f\"},\"geo\":{\"bgcolor\":\"white\",\"lakecolor\":\"white\",\"landcolor\":\"#E5ECF6\",\"showlakes\":true,\"showland\":true,\"subunitcolor\":\"white\"},\"hoverlabel\":{\"align\":\"left\"},\"hovermode\":\"closest\",\"mapbox\":{\"style\":\"light\"},\"paper_bgcolor\":\"white\",\"plot_bgcolor\":\"#E5ECF6\",\"polar\":{\"angularaxis\":{\"gridcolor\":\"white\",\"linecolor\":\"white\",\"ticks\":\"\"},\"bgcolor\":\"#E5ECF6\",\"radialaxis\":{\"gridcolor\":\"white\",\"linecolor\":\"white\",\"ticks\":\"\"}},\"scene\":{\"xaxis\":{\"backgroundcolor\":\"#E5ECF6\",\"gridcolor\":\"white\",\"gridwidth\":2,\"linecolor\":\"white\",\"showbackground\":true,\"ticks\":\"\",\"zerolinecolor\":\"white\"},\"yaxis\":{\"backgroundcolor\":\"#E5ECF6\",\"gridcolor\":\"white\",\"gridwidth\":2,\"linecolor\":\"white\",\"showbackground\":true,\"ticks\":\"\",\"zerolinecolor\":\"white\"},\"zaxis\":{\"backgroundcolor\":\"#E5ECF6\",\"gridcolor\":\"white\",\"gridwidth\":2,\"linecolor\":\"white\",\"showbackground\":true,\"ticks\":\"\",\"zerolinecolor\":\"white\"}},\"shapedefaults\":{\"line\":{\"color\":\"#2a3f5f\"}},\"ternary\":{\"aaxis\":{\"gridcolor\":\"white\",\"linecolor\":\"white\",\"ticks\":\"\"},\"baxis\":{\"gridcolor\":\"white\",\"linecolor\":\"white\",\"ticks\":\"\"},\"bgcolor\":\"#E5ECF6\",\"caxis\":{\"gridcolor\":\"white\",\"linecolor\":\"white\",\"ticks\":\"\"}},\"title\":{\"x\":0.05},\"xaxis\":{\"automargin\":true,\"gridcolor\":\"white\",\"linecolor\":\"white\",\"ticks\":\"\",\"title\":{\"standoff\":15},\"zerolinecolor\":\"white\",\"zerolinewidth\":2},\"yaxis\":{\"automargin\":true,\"gridcolor\":\"white\",\"linecolor\":\"white\",\"ticks\":\"\",\"title\":{\"standoff\":15},\"zerolinecolor\":\"white\",\"zerolinewidth\":2}}},\"xaxis\":{\"anchor\":\"y\",\"domain\":[0.0,1.0],\"title\":{\"text\":\"Symbol\"},\"categoryorder\":\"array\",\"categoryarray\":[\"AACAY\",\"ABEV\",\"AETUF\",\"AMBP\",\"AR\",\"ARRY\",\"ASAI\",\"ASND\",\"AUOTY\",\"AVTR\",\"BAK\",\"BBD\",\"BBDO\",\"BBSEY\",\"BESVF\",\"BIREF\",\"BRFS\",\"BSBR\",\"BTVCY\",\"CHK\",\"CIOXY\",\"CLBK\",\"CRK\",\"CS\",\"CSAN\",\"CSGKF\",\"CSIQ\",\"DCP-PC\",\"DKNG\",\"DQJCY\",\"DVDCF\",\"EBR\",\"EBR-B\",\"EGRNF\",\"ELP\",\"EQT\",\"ESTE\",\"EVKIF\",\"FMS\",\"FNMFN\",\"FREGP\",\"FSLR\",\"FSR\",\"FTI\",\"GETY\",\"GOL\",\"GSAT\",\"GTBIF\",\"GTLS\",\"HPK\",\"IFS\",\"INSP\",\"ITUB\",\"JAPAY\",\"KOS\",\"LBRT\",\"LU\",\"MCARY\",\"MGYOY\",\"MHGVY\",\"NEX\",\"NOMD\",\"NOV\",\"NOVA\",\"NPSNY\",\"NSP\",\"NTCO\",\"NU\",\"NWG\",\"OUKPF\",\"PETRY\",\"PLMR\",\"PSNY\",\"PTON\",\"RES\",\"RNW\",\"RRC\",\"RUM\",\"SALRY\",\"SBS\",\"SCHYY\",\"SES\",\"SHLS\",\"SWN\",\"TAL\",\"TBVPF\",\"TCNNF\",\"TEX\",\"TIMB\",\"TKC\",\"TLRY\",\"UBSFY\",\"UGP\",\"ULCC\",\"UWMC\",\"W\",\"WB\",\"WEGZY\",\"WYNN\",\"XP\"]},\"yaxis\":{\"anchor\":\"x\",\"domain\":[0.0,1.0],\"title\":{\"text\":\"Price (Intraday)\"}},\"legend\":{\"title\":{\"text\":\"Symbol\"},\"tracegroupgap\":0},\"title\":{\"text\":\"Increases of companies on a given day\"},\"barmode\":\"relative\"},                        {\"responsive\": true}                    ).then(function(){\n",
              "                            \n",
              "var gd = document.getElementById('2cdc586d-8d5e-47ca-84dc-8a9260c7dda6');\n",
              "var x = new MutationObserver(function (mutations, observer) {{\n",
              "        var display = window.getComputedStyle(gd).display;\n",
              "        if (!display || display === 'none') {{\n",
              "            console.log([gd, 'removed!']);\n",
              "            Plotly.purge(gd);\n",
              "            observer.disconnect();\n",
              "        }}\n",
              "}});\n",
              "\n",
              "// Listen for the removal of the full notebook cells\n",
              "var notebookContainer = gd.closest('#notebook-container');\n",
              "if (notebookContainer) {{\n",
              "    x.observe(notebookContainer, {childList: true});\n",
              "}}\n",
              "\n",
              "// Listen for the clearing of the current output cell\n",
              "var outputEl = gd.closest('.output');\n",
              "if (outputEl) {{\n",
              "    x.observe(outputEl, {childList: true});\n",
              "}}\n",
              "\n",
              "                        })                };                            </script>        </div>\n",
              "</body>\n",
              "</html>"
            ]
          },
          "metadata": {}
        }
      ]
    },
    {
      "cell_type": "markdown",
      "source": [
        "**I check the company that has the highest growth during the day.**"
      ],
      "metadata": {
        "id": "EHEUEmYH2iQB"
      }
    },
    {
      "cell_type": "code",
      "source": [
        "max_day = response['Price (Intraday)'].max()\n",
        "max_day"
      ],
      "metadata": {
        "colab": {
          "base_uri": "https://localhost:8080/"
        },
        "id": "uOo_qIxqHdtm",
        "outputId": "d4f2db70-5819-494c-d4e9-98ec602526a8"
      },
      "execution_count": null,
      "outputs": [
        {
          "output_type": "execute_result",
          "data": {
            "text/plain": [
              "223.06"
            ]
          },
          "metadata": {},
          "execution_count": 115
        }
      ]
    },
    {
      "cell_type": "code",
      "source": [
        "df = response['Price (Intraday)'].idxmax()\n",
        "df"
      ],
      "metadata": {
        "id": "6A_IK1Ds-UHt",
        "colab": {
          "base_uri": "https://localhost:8080/"
        },
        "outputId": "530e410a-7094-41dd-a32f-89682590b4e2"
      },
      "execution_count": null,
      "outputs": [
        {
          "output_type": "execute_result",
          "data": {
            "text/plain": [
              "63"
            ]
          },
          "metadata": {},
          "execution_count": 116
        }
      ]
    },
    {
      "cell_type": "code",
      "source": [
        "name_max_day = response.loc[df , 'Symbol']\n",
        "name_max_day\n"
      ],
      "metadata": {
        "colab": {
          "base_uri": "https://localhost:8080/",
          "height": 36
        },
        "id": "4UPvwpDUQBhZ",
        "outputId": "07b3cbc9-314a-49d8-ded8-231290faae6c"
      },
      "execution_count": null,
      "outputs": [
        {
          "output_type": "execute_result",
          "data": {
            "text/plain": [
              "'GTLS'"
            ],
            "application/vnd.google.colaboratory.intrinsic+json": {
              "type": "string"
            }
          },
          "metadata": {},
          "execution_count": 117
        }
      ]
    },
    {
      "cell_type": "markdown",
      "source": [
        "# EARNINGS HISTORY WITH ACTUAL / EXPECTED EPS INFORMATION"
      ],
      "metadata": {
        "id": "Gw30NVr_4Fhs"
      }
    },
    {
      "cell_type": "markdown",
      "source": [
        "I check the history of the ernings of the company that increased the maximum price intraday whether there are grounds to invest in it."
      ],
      "metadata": {
        "id": "coS4Qtxq5W26"
      }
    },
    {
      "cell_type": "code",
      "source": [
        "history_earnings = si.get_earnings_history(name_max_day) \n",
        "history_earnings"
      ],
      "metadata": {
        "id": "H1CESI0aQJQ1"
      },
      "execution_count": null,
      "outputs": []
    },
    {
      "cell_type": "markdown",
      "source": [
        "**To extract the company's IPO date, it will write earnings histories to DataFrame**"
      ],
      "metadata": {
        "id": "3ZvWMMI_Qv0J"
      }
    },
    {
      "cell_type": "code",
      "source": [
        "df_history_earnings = pd.DataFrame.from_dict(history_earnings) "
      ],
      "metadata": {
        "id": "ZSPCOjFb_2Sx"
      },
      "execution_count": null,
      "outputs": []
    },
    {
      "cell_type": "code",
      "source": [
        "df_history_earnings.set_index('startdatetime') "
      ],
      "metadata": {
        "id": "_sZeMYvFZiQO",
        "colab": {
          "base_uri": "https://localhost:8080/",
          "height": 693
        },
        "outputId": "77cd24fb-96d3-4ff0-856c-22f706cab4f7"
      },
      "execution_count": null,
      "outputs": [
        {
          "output_type": "execute_result",
          "data": {
            "text/plain": [
              "                         ticker        companyshortname startdatetimetype  \\\n",
              "startdatetime                                                               \n",
              "2023-10-26T12:30:00.000Z   GTLS    Chart Industries Inc               BMO   \n",
              "2023-07-27T12:30:00.000Z   GTLS    Chart Industries Inc               BMO   \n",
              "2023-04-27T12:30:00.000Z   GTLS    Chart Industries Inc               BMO   \n",
              "2023-02-22T13:30:00.000Z   GTLS    Chart Industries Inc               BMO   \n",
              "2022-10-28T06:01:00.000Z   GTLS  Chart Industries, Inc.               TAS   \n",
              "...                         ...                     ...               ...   \n",
              "2007-11-13T05:00:00.000Z   GTLS  Chart Industries, Inc.               TAS   \n",
              "2007-08-13T04:00:00.000Z   GTLS  Chart Industries, Inc.               TAS   \n",
              "2007-05-14T04:00:00.000Z   GTLS  Chart Industries, Inc.               TAS   \n",
              "2007-03-15T04:00:00.000Z   GTLS  Chart Industries, Inc.               TAS   \n",
              "2006-11-09T05:00:00.000Z   GTLS  Chart Industries, Inc.               TAS   \n",
              "\n",
              "                          epsestimate  epsactual  epssurprisepct  \\\n",
              "startdatetime                                                      \n",
              "2023-10-26T12:30:00.000Z          NaN        NaN             NaN   \n",
              "2023-07-27T12:30:00.000Z          NaN        NaN             NaN   \n",
              "2023-04-27T12:30:00.000Z          NaN        NaN             NaN   \n",
              "2023-02-22T13:30:00.000Z         2.06        NaN             NaN   \n",
              "2022-10-28T06:01:00.000Z         1.33       1.49           12.45   \n",
              "...                               ...        ...             ...   \n",
              "2007-11-13T05:00:00.000Z         0.42       0.42            0.00   \n",
              "2007-08-13T04:00:00.000Z         0.34       0.51           48.26   \n",
              "2007-05-14T04:00:00.000Z         0.32       0.28          -12.50   \n",
              "2007-03-15T04:00:00.000Z         0.26       0.33           27.91   \n",
              "2006-11-09T05:00:00.000Z         0.25       0.27            9.46   \n",
              "\n",
              "                         timeZoneShortName  gmtOffsetMilliSeconds quoteType  \n",
              "startdatetime                                                                \n",
              "2023-10-26T12:30:00.000Z               EDT              -14400000    EQUITY  \n",
              "2023-07-27T12:30:00.000Z               EDT              -14400000    EQUITY  \n",
              "2023-04-27T12:30:00.000Z               EDT              -14400000    EQUITY  \n",
              "2023-02-22T13:30:00.000Z               EST              -18000000    EQUITY  \n",
              "2022-10-28T06:01:00.000Z               EDT              -14400000    EQUITY  \n",
              "...                                    ...                    ...       ...  \n",
              "2007-11-13T05:00:00.000Z               EST              -18000000    EQUITY  \n",
              "2007-08-13T04:00:00.000Z               EDT              -14400000    EQUITY  \n",
              "2007-05-14T04:00:00.000Z               EDT              -14400000    EQUITY  \n",
              "2007-03-15T04:00:00.000Z               EDT              -14400000    EQUITY  \n",
              "2006-11-09T05:00:00.000Z               EST              -18000000    EQUITY  \n",
              "\n",
              "[69 rows x 9 columns]"
            ],
            "text/html": [
              "\n",
              "  <div id=\"df-a05d0864-3f9d-4daa-bb21-6094c63a4d0e\">\n",
              "    <div class=\"colab-df-container\">\n",
              "      <div>\n",
              "<style scoped>\n",
              "    .dataframe tbody tr th:only-of-type {\n",
              "        vertical-align: middle;\n",
              "    }\n",
              "\n",
              "    .dataframe tbody tr th {\n",
              "        vertical-align: top;\n",
              "    }\n",
              "\n",
              "    .dataframe thead th {\n",
              "        text-align: right;\n",
              "    }\n",
              "</style>\n",
              "<table border=\"1\" class=\"dataframe\">\n",
              "  <thead>\n",
              "    <tr style=\"text-align: right;\">\n",
              "      <th></th>\n",
              "      <th>ticker</th>\n",
              "      <th>companyshortname</th>\n",
              "      <th>startdatetimetype</th>\n",
              "      <th>epsestimate</th>\n",
              "      <th>epsactual</th>\n",
              "      <th>epssurprisepct</th>\n",
              "      <th>timeZoneShortName</th>\n",
              "      <th>gmtOffsetMilliSeconds</th>\n",
              "      <th>quoteType</th>\n",
              "    </tr>\n",
              "    <tr>\n",
              "      <th>startdatetime</th>\n",
              "      <th></th>\n",
              "      <th></th>\n",
              "      <th></th>\n",
              "      <th></th>\n",
              "      <th></th>\n",
              "      <th></th>\n",
              "      <th></th>\n",
              "      <th></th>\n",
              "      <th></th>\n",
              "    </tr>\n",
              "  </thead>\n",
              "  <tbody>\n",
              "    <tr>\n",
              "      <th>2023-10-26T12:30:00.000Z</th>\n",
              "      <td>GTLS</td>\n",
              "      <td>Chart Industries Inc</td>\n",
              "      <td>BMO</td>\n",
              "      <td>NaN</td>\n",
              "      <td>NaN</td>\n",
              "      <td>NaN</td>\n",
              "      <td>EDT</td>\n",
              "      <td>-14400000</td>\n",
              "      <td>EQUITY</td>\n",
              "    </tr>\n",
              "    <tr>\n",
              "      <th>2023-07-27T12:30:00.000Z</th>\n",
              "      <td>GTLS</td>\n",
              "      <td>Chart Industries Inc</td>\n",
              "      <td>BMO</td>\n",
              "      <td>NaN</td>\n",
              "      <td>NaN</td>\n",
              "      <td>NaN</td>\n",
              "      <td>EDT</td>\n",
              "      <td>-14400000</td>\n",
              "      <td>EQUITY</td>\n",
              "    </tr>\n",
              "    <tr>\n",
              "      <th>2023-04-27T12:30:00.000Z</th>\n",
              "      <td>GTLS</td>\n",
              "      <td>Chart Industries Inc</td>\n",
              "      <td>BMO</td>\n",
              "      <td>NaN</td>\n",
              "      <td>NaN</td>\n",
              "      <td>NaN</td>\n",
              "      <td>EDT</td>\n",
              "      <td>-14400000</td>\n",
              "      <td>EQUITY</td>\n",
              "    </tr>\n",
              "    <tr>\n",
              "      <th>2023-02-22T13:30:00.000Z</th>\n",
              "      <td>GTLS</td>\n",
              "      <td>Chart Industries Inc</td>\n",
              "      <td>BMO</td>\n",
              "      <td>2.06</td>\n",
              "      <td>NaN</td>\n",
              "      <td>NaN</td>\n",
              "      <td>EST</td>\n",
              "      <td>-18000000</td>\n",
              "      <td>EQUITY</td>\n",
              "    </tr>\n",
              "    <tr>\n",
              "      <th>2022-10-28T06:01:00.000Z</th>\n",
              "      <td>GTLS</td>\n",
              "      <td>Chart Industries, Inc.</td>\n",
              "      <td>TAS</td>\n",
              "      <td>1.33</td>\n",
              "      <td>1.49</td>\n",
              "      <td>12.45</td>\n",
              "      <td>EDT</td>\n",
              "      <td>-14400000</td>\n",
              "      <td>EQUITY</td>\n",
              "    </tr>\n",
              "    <tr>\n",
              "      <th>...</th>\n",
              "      <td>...</td>\n",
              "      <td>...</td>\n",
              "      <td>...</td>\n",
              "      <td>...</td>\n",
              "      <td>...</td>\n",
              "      <td>...</td>\n",
              "      <td>...</td>\n",
              "      <td>...</td>\n",
              "      <td>...</td>\n",
              "    </tr>\n",
              "    <tr>\n",
              "      <th>2007-11-13T05:00:00.000Z</th>\n",
              "      <td>GTLS</td>\n",
              "      <td>Chart Industries, Inc.</td>\n",
              "      <td>TAS</td>\n",
              "      <td>0.42</td>\n",
              "      <td>0.42</td>\n",
              "      <td>0.00</td>\n",
              "      <td>EST</td>\n",
              "      <td>-18000000</td>\n",
              "      <td>EQUITY</td>\n",
              "    </tr>\n",
              "    <tr>\n",
              "      <th>2007-08-13T04:00:00.000Z</th>\n",
              "      <td>GTLS</td>\n",
              "      <td>Chart Industries, Inc.</td>\n",
              "      <td>TAS</td>\n",
              "      <td>0.34</td>\n",
              "      <td>0.51</td>\n",
              "      <td>48.26</td>\n",
              "      <td>EDT</td>\n",
              "      <td>-14400000</td>\n",
              "      <td>EQUITY</td>\n",
              "    </tr>\n",
              "    <tr>\n",
              "      <th>2007-05-14T04:00:00.000Z</th>\n",
              "      <td>GTLS</td>\n",
              "      <td>Chart Industries, Inc.</td>\n",
              "      <td>TAS</td>\n",
              "      <td>0.32</td>\n",
              "      <td>0.28</td>\n",
              "      <td>-12.50</td>\n",
              "      <td>EDT</td>\n",
              "      <td>-14400000</td>\n",
              "      <td>EQUITY</td>\n",
              "    </tr>\n",
              "    <tr>\n",
              "      <th>2007-03-15T04:00:00.000Z</th>\n",
              "      <td>GTLS</td>\n",
              "      <td>Chart Industries, Inc.</td>\n",
              "      <td>TAS</td>\n",
              "      <td>0.26</td>\n",
              "      <td>0.33</td>\n",
              "      <td>27.91</td>\n",
              "      <td>EDT</td>\n",
              "      <td>-14400000</td>\n",
              "      <td>EQUITY</td>\n",
              "    </tr>\n",
              "    <tr>\n",
              "      <th>2006-11-09T05:00:00.000Z</th>\n",
              "      <td>GTLS</td>\n",
              "      <td>Chart Industries, Inc.</td>\n",
              "      <td>TAS</td>\n",
              "      <td>0.25</td>\n",
              "      <td>0.27</td>\n",
              "      <td>9.46</td>\n",
              "      <td>EST</td>\n",
              "      <td>-18000000</td>\n",
              "      <td>EQUITY</td>\n",
              "    </tr>\n",
              "  </tbody>\n",
              "</table>\n",
              "<p>69 rows × 9 columns</p>\n",
              "</div>\n",
              "      <button class=\"colab-df-convert\" onclick=\"convertToInteractive('df-a05d0864-3f9d-4daa-bb21-6094c63a4d0e')\"\n",
              "              title=\"Convert this dataframe to an interactive table.\"\n",
              "              style=\"display:none;\">\n",
              "        \n",
              "  <svg xmlns=\"http://www.w3.org/2000/svg\" height=\"24px\"viewBox=\"0 0 24 24\"\n",
              "       width=\"24px\">\n",
              "    <path d=\"M0 0h24v24H0V0z\" fill=\"none\"/>\n",
              "    <path d=\"M18.56 5.44l.94 2.06.94-2.06 2.06-.94-2.06-.94-.94-2.06-.94 2.06-2.06.94zm-11 1L8.5 8.5l.94-2.06 2.06-.94-2.06-.94L8.5 2.5l-.94 2.06-2.06.94zm10 10l.94 2.06.94-2.06 2.06-.94-2.06-.94-.94-2.06-.94 2.06-2.06.94z\"/><path d=\"M17.41 7.96l-1.37-1.37c-.4-.4-.92-.59-1.43-.59-.52 0-1.04.2-1.43.59L10.3 9.45l-7.72 7.72c-.78.78-.78 2.05 0 2.83L4 21.41c.39.39.9.59 1.41.59.51 0 1.02-.2 1.41-.59l7.78-7.78 2.81-2.81c.8-.78.8-2.07 0-2.86zM5.41 20L4 18.59l7.72-7.72 1.47 1.35L5.41 20z\"/>\n",
              "  </svg>\n",
              "      </button>\n",
              "      \n",
              "  <style>\n",
              "    .colab-df-container {\n",
              "      display:flex;\n",
              "      flex-wrap:wrap;\n",
              "      gap: 12px;\n",
              "    }\n",
              "\n",
              "    .colab-df-convert {\n",
              "      background-color: #E8F0FE;\n",
              "      border: none;\n",
              "      border-radius: 50%;\n",
              "      cursor: pointer;\n",
              "      display: none;\n",
              "      fill: #1967D2;\n",
              "      height: 32px;\n",
              "      padding: 0 0 0 0;\n",
              "      width: 32px;\n",
              "    }\n",
              "\n",
              "    .colab-df-convert:hover {\n",
              "      background-color: #E2EBFA;\n",
              "      box-shadow: 0px 1px 2px rgba(60, 64, 67, 0.3), 0px 1px 3px 1px rgba(60, 64, 67, 0.15);\n",
              "      fill: #174EA6;\n",
              "    }\n",
              "\n",
              "    [theme=dark] .colab-df-convert {\n",
              "      background-color: #3B4455;\n",
              "      fill: #D2E3FC;\n",
              "    }\n",
              "\n",
              "    [theme=dark] .colab-df-convert:hover {\n",
              "      background-color: #434B5C;\n",
              "      box-shadow: 0px 1px 3px 1px rgba(0, 0, 0, 0.15);\n",
              "      filter: drop-shadow(0px 1px 2px rgba(0, 0, 0, 0.3));\n",
              "      fill: #FFFFFF;\n",
              "    }\n",
              "  </style>\n",
              "\n",
              "      <script>\n",
              "        const buttonEl =\n",
              "          document.querySelector('#df-a05d0864-3f9d-4daa-bb21-6094c63a4d0e button.colab-df-convert');\n",
              "        buttonEl.style.display =\n",
              "          google.colab.kernel.accessAllowed ? 'block' : 'none';\n",
              "\n",
              "        async function convertToInteractive(key) {\n",
              "          const element = document.querySelector('#df-a05d0864-3f9d-4daa-bb21-6094c63a4d0e');\n",
              "          const dataTable =\n",
              "            await google.colab.kernel.invokeFunction('convertToInteractive',\n",
              "                                                     [key], {});\n",
              "          if (!dataTable) return;\n",
              "\n",
              "          const docLinkHtml = 'Like what you see? Visit the ' +\n",
              "            '<a target=\"_blank\" href=https://colab.research.google.com/notebooks/data_table.ipynb>data table notebook</a>'\n",
              "            + ' to learn more about interactive tables.';\n",
              "          element.innerHTML = '';\n",
              "          dataTable['output_type'] = 'display_data';\n",
              "          await google.colab.output.renderOutput(dataTable, element);\n",
              "          const docLink = document.createElement('div');\n",
              "          docLink.innerHTML = docLinkHtml;\n",
              "          element.appendChild(docLink);\n",
              "        }\n",
              "      </script>\n",
              "    </div>\n",
              "  </div>\n",
              "  "
            ]
          },
          "metadata": {},
          "execution_count": 120
        }
      ]
    },
    {
      "cell_type": "markdown",
      "source": [
        "**The first stock exchange listing of the company**"
      ],
      "metadata": {
        "id": "YIBVn_QxT0qj"
      }
    },
    {
      "cell_type": "code",
      "source": [
        "start_day = df_history_earnings['startdatetime'].min()\n",
        "start_day"
      ],
      "metadata": {
        "colab": {
          "base_uri": "https://localhost:8080/",
          "height": 36
        },
        "id": "fT21NNc6W-uU",
        "outputId": "eba7a0ba-9df2-4cd9-83f3-223ddc82f786"
      },
      "execution_count": null,
      "outputs": [
        {
          "output_type": "execute_result",
          "data": {
            "text/plain": [
              "'2006-11-09T05:00:00.000Z'"
            ],
            "application/vnd.google.colaboratory.intrinsic+json": {
              "type": "string"
            }
          },
          "metadata": {},
          "execution_count": 121
        }
      ]
    },
    {
      "cell_type": "markdown",
      "source": [
        "#HISTORY OF THE COMPANY'S EARNINGS TO THIS DAY"
      ],
      "metadata": {
        "id": "ED8VjjJFSG8B"
      }
    },
    {
      "cell_type": "code",
      "source": [
        "today = date.today()\n",
        "end_date = today.isoformat()\n",
        "end_date"
      ],
      "metadata": {
        "colab": {
          "base_uri": "https://localhost:8080/",
          "height": 36
        },
        "id": "yvKBaSLJO5UE",
        "outputId": "4a3508cf-3bb2-42b4-fb55-26a1251b51ac"
      },
      "execution_count": null,
      "outputs": [
        {
          "output_type": "execute_result",
          "data": {
            "text/plain": [
              "'2022-10-31'"
            ],
            "application/vnd.google.colaboratory.intrinsic+json": {
              "type": "string"
            }
          },
          "metadata": {},
          "execution_count": 122
        }
      ]
    },
    {
      "cell_type": "code",
      "source": [
        "earnings_history_to_date = yh.get_data(name_max_day, start_day , end_date, index_as_date = True) \n",
        "\n",
        "df=pd.DataFrame(earnings_history_to_date)\n",
        "df"
      ],
      "metadata": {
        "colab": {
          "base_uri": "https://localhost:8080/",
          "height": 424
        },
        "id": "TtZhL_EaeutH",
        "outputId": "9074295c-fa2e-4db9-f65f-9f165b2c0858"
      },
      "execution_count": null,
      "outputs": [
        {
          "output_type": "execute_result",
          "data": {
            "text/plain": [
              "                  open        high         low       close    adjclose  \\\n",
              "2006-11-09   15.000000   15.000000   13.170000   13.310000   13.310000   \n",
              "2006-11-10   13.280000   13.640000   13.250000   13.600000   13.600000   \n",
              "2006-11-13   13.750000   14.210000   13.560000   13.630000   13.630000   \n",
              "2006-11-14   13.610000   14.950000   13.610000   14.890000   14.890000   \n",
              "2006-11-15   14.970000   15.360000   14.290000   15.240000   15.240000   \n",
              "...                ...         ...         ...         ...         ...   \n",
              "2022-10-24  201.440002  204.259995  198.820007  202.110001  202.110001   \n",
              "2022-10-25  200.979996  209.429993  200.979996  204.889999  204.889999   \n",
              "2022-10-26  206.479996  207.050003  201.520004  205.800003  205.800003   \n",
              "2022-10-27  206.000000  209.039993  202.559998  204.160004  204.160004   \n",
              "2022-10-28  202.000000  213.429993  186.520004  212.660004  212.660004   \n",
              "\n",
              "            volume ticker  \n",
              "2006-11-09  246800   GTLS  \n",
              "2006-11-10   52600   GTLS  \n",
              "2006-11-13  186900   GTLS  \n",
              "2006-11-14  134700   GTLS  \n",
              "2006-11-15  167200   GTLS  \n",
              "...            ...    ...  \n",
              "2022-10-24  331800   GTLS  \n",
              "2022-10-25  320600   GTLS  \n",
              "2022-10-26  338700   GTLS  \n",
              "2022-10-27  707900   GTLS  \n",
              "2022-10-28  833800   GTLS  \n",
              "\n",
              "[4020 rows x 7 columns]"
            ],
            "text/html": [
              "\n",
              "  <div id=\"df-193a0e3a-a13a-45e7-a8b8-cbe5bd69a4c3\">\n",
              "    <div class=\"colab-df-container\">\n",
              "      <div>\n",
              "<style scoped>\n",
              "    .dataframe tbody tr th:only-of-type {\n",
              "        vertical-align: middle;\n",
              "    }\n",
              "\n",
              "    .dataframe tbody tr th {\n",
              "        vertical-align: top;\n",
              "    }\n",
              "\n",
              "    .dataframe thead th {\n",
              "        text-align: right;\n",
              "    }\n",
              "</style>\n",
              "<table border=\"1\" class=\"dataframe\">\n",
              "  <thead>\n",
              "    <tr style=\"text-align: right;\">\n",
              "      <th></th>\n",
              "      <th>open</th>\n",
              "      <th>high</th>\n",
              "      <th>low</th>\n",
              "      <th>close</th>\n",
              "      <th>adjclose</th>\n",
              "      <th>volume</th>\n",
              "      <th>ticker</th>\n",
              "    </tr>\n",
              "  </thead>\n",
              "  <tbody>\n",
              "    <tr>\n",
              "      <th>2006-11-09</th>\n",
              "      <td>15.000000</td>\n",
              "      <td>15.000000</td>\n",
              "      <td>13.170000</td>\n",
              "      <td>13.310000</td>\n",
              "      <td>13.310000</td>\n",
              "      <td>246800</td>\n",
              "      <td>GTLS</td>\n",
              "    </tr>\n",
              "    <tr>\n",
              "      <th>2006-11-10</th>\n",
              "      <td>13.280000</td>\n",
              "      <td>13.640000</td>\n",
              "      <td>13.250000</td>\n",
              "      <td>13.600000</td>\n",
              "      <td>13.600000</td>\n",
              "      <td>52600</td>\n",
              "      <td>GTLS</td>\n",
              "    </tr>\n",
              "    <tr>\n",
              "      <th>2006-11-13</th>\n",
              "      <td>13.750000</td>\n",
              "      <td>14.210000</td>\n",
              "      <td>13.560000</td>\n",
              "      <td>13.630000</td>\n",
              "      <td>13.630000</td>\n",
              "      <td>186900</td>\n",
              "      <td>GTLS</td>\n",
              "    </tr>\n",
              "    <tr>\n",
              "      <th>2006-11-14</th>\n",
              "      <td>13.610000</td>\n",
              "      <td>14.950000</td>\n",
              "      <td>13.610000</td>\n",
              "      <td>14.890000</td>\n",
              "      <td>14.890000</td>\n",
              "      <td>134700</td>\n",
              "      <td>GTLS</td>\n",
              "    </tr>\n",
              "    <tr>\n",
              "      <th>2006-11-15</th>\n",
              "      <td>14.970000</td>\n",
              "      <td>15.360000</td>\n",
              "      <td>14.290000</td>\n",
              "      <td>15.240000</td>\n",
              "      <td>15.240000</td>\n",
              "      <td>167200</td>\n",
              "      <td>GTLS</td>\n",
              "    </tr>\n",
              "    <tr>\n",
              "      <th>...</th>\n",
              "      <td>...</td>\n",
              "      <td>...</td>\n",
              "      <td>...</td>\n",
              "      <td>...</td>\n",
              "      <td>...</td>\n",
              "      <td>...</td>\n",
              "      <td>...</td>\n",
              "    </tr>\n",
              "    <tr>\n",
              "      <th>2022-10-24</th>\n",
              "      <td>201.440002</td>\n",
              "      <td>204.259995</td>\n",
              "      <td>198.820007</td>\n",
              "      <td>202.110001</td>\n",
              "      <td>202.110001</td>\n",
              "      <td>331800</td>\n",
              "      <td>GTLS</td>\n",
              "    </tr>\n",
              "    <tr>\n",
              "      <th>2022-10-25</th>\n",
              "      <td>200.979996</td>\n",
              "      <td>209.429993</td>\n",
              "      <td>200.979996</td>\n",
              "      <td>204.889999</td>\n",
              "      <td>204.889999</td>\n",
              "      <td>320600</td>\n",
              "      <td>GTLS</td>\n",
              "    </tr>\n",
              "    <tr>\n",
              "      <th>2022-10-26</th>\n",
              "      <td>206.479996</td>\n",
              "      <td>207.050003</td>\n",
              "      <td>201.520004</td>\n",
              "      <td>205.800003</td>\n",
              "      <td>205.800003</td>\n",
              "      <td>338700</td>\n",
              "      <td>GTLS</td>\n",
              "    </tr>\n",
              "    <tr>\n",
              "      <th>2022-10-27</th>\n",
              "      <td>206.000000</td>\n",
              "      <td>209.039993</td>\n",
              "      <td>202.559998</td>\n",
              "      <td>204.160004</td>\n",
              "      <td>204.160004</td>\n",
              "      <td>707900</td>\n",
              "      <td>GTLS</td>\n",
              "    </tr>\n",
              "    <tr>\n",
              "      <th>2022-10-28</th>\n",
              "      <td>202.000000</td>\n",
              "      <td>213.429993</td>\n",
              "      <td>186.520004</td>\n",
              "      <td>212.660004</td>\n",
              "      <td>212.660004</td>\n",
              "      <td>833800</td>\n",
              "      <td>GTLS</td>\n",
              "    </tr>\n",
              "  </tbody>\n",
              "</table>\n",
              "<p>4020 rows × 7 columns</p>\n",
              "</div>\n",
              "      <button class=\"colab-df-convert\" onclick=\"convertToInteractive('df-193a0e3a-a13a-45e7-a8b8-cbe5bd69a4c3')\"\n",
              "              title=\"Convert this dataframe to an interactive table.\"\n",
              "              style=\"display:none;\">\n",
              "        \n",
              "  <svg xmlns=\"http://www.w3.org/2000/svg\" height=\"24px\"viewBox=\"0 0 24 24\"\n",
              "       width=\"24px\">\n",
              "    <path d=\"M0 0h24v24H0V0z\" fill=\"none\"/>\n",
              "    <path d=\"M18.56 5.44l.94 2.06.94-2.06 2.06-.94-2.06-.94-.94-2.06-.94 2.06-2.06.94zm-11 1L8.5 8.5l.94-2.06 2.06-.94-2.06-.94L8.5 2.5l-.94 2.06-2.06.94zm10 10l.94 2.06.94-2.06 2.06-.94-2.06-.94-.94-2.06-.94 2.06-2.06.94z\"/><path d=\"M17.41 7.96l-1.37-1.37c-.4-.4-.92-.59-1.43-.59-.52 0-1.04.2-1.43.59L10.3 9.45l-7.72 7.72c-.78.78-.78 2.05 0 2.83L4 21.41c.39.39.9.59 1.41.59.51 0 1.02-.2 1.41-.59l7.78-7.78 2.81-2.81c.8-.78.8-2.07 0-2.86zM5.41 20L4 18.59l7.72-7.72 1.47 1.35L5.41 20z\"/>\n",
              "  </svg>\n",
              "      </button>\n",
              "      \n",
              "  <style>\n",
              "    .colab-df-container {\n",
              "      display:flex;\n",
              "      flex-wrap:wrap;\n",
              "      gap: 12px;\n",
              "    }\n",
              "\n",
              "    .colab-df-convert {\n",
              "      background-color: #E8F0FE;\n",
              "      border: none;\n",
              "      border-radius: 50%;\n",
              "      cursor: pointer;\n",
              "      display: none;\n",
              "      fill: #1967D2;\n",
              "      height: 32px;\n",
              "      padding: 0 0 0 0;\n",
              "      width: 32px;\n",
              "    }\n",
              "\n",
              "    .colab-df-convert:hover {\n",
              "      background-color: #E2EBFA;\n",
              "      box-shadow: 0px 1px 2px rgba(60, 64, 67, 0.3), 0px 1px 3px 1px rgba(60, 64, 67, 0.15);\n",
              "      fill: #174EA6;\n",
              "    }\n",
              "\n",
              "    [theme=dark] .colab-df-convert {\n",
              "      background-color: #3B4455;\n",
              "      fill: #D2E3FC;\n",
              "    }\n",
              "\n",
              "    [theme=dark] .colab-df-convert:hover {\n",
              "      background-color: #434B5C;\n",
              "      box-shadow: 0px 1px 3px 1px rgba(0, 0, 0, 0.15);\n",
              "      filter: drop-shadow(0px 1px 2px rgba(0, 0, 0, 0.3));\n",
              "      fill: #FFFFFF;\n",
              "    }\n",
              "  </style>\n",
              "\n",
              "      <script>\n",
              "        const buttonEl =\n",
              "          document.querySelector('#df-193a0e3a-a13a-45e7-a8b8-cbe5bd69a4c3 button.colab-df-convert');\n",
              "        buttonEl.style.display =\n",
              "          google.colab.kernel.accessAllowed ? 'block' : 'none';\n",
              "\n",
              "        async function convertToInteractive(key) {\n",
              "          const element = document.querySelector('#df-193a0e3a-a13a-45e7-a8b8-cbe5bd69a4c3');\n",
              "          const dataTable =\n",
              "            await google.colab.kernel.invokeFunction('convertToInteractive',\n",
              "                                                     [key], {});\n",
              "          if (!dataTable) return;\n",
              "\n",
              "          const docLinkHtml = 'Like what you see? Visit the ' +\n",
              "            '<a target=\"_blank\" href=https://colab.research.google.com/notebooks/data_table.ipynb>data table notebook</a>'\n",
              "            + ' to learn more about interactive tables.';\n",
              "          element.innerHTML = '';\n",
              "          dataTable['output_type'] = 'display_data';\n",
              "          await google.colab.output.renderOutput(dataTable, element);\n",
              "          const docLink = document.createElement('div');\n",
              "          docLink.innerHTML = docLinkHtml;\n",
              "          element.appendChild(docLink);\n",
              "        }\n",
              "      </script>\n",
              "    </div>\n",
              "  </div>\n",
              "  "
            ]
          },
          "metadata": {},
          "execution_count": 123
        }
      ]
    },
    {
      "cell_type": "code",
      "source": [
        "df.tail(5)"
      ],
      "metadata": {
        "colab": {
          "base_uri": "https://localhost:8080/",
          "height": 206
        },
        "id": "ysE7M1oTLCGn",
        "outputId": "7379a83e-c9d2-4c0e-ffa4-ac9d10dcab9c"
      },
      "execution_count": null,
      "outputs": [
        {
          "output_type": "execute_result",
          "data": {
            "text/plain": [
              "                  open        high         low       close    adjclose  \\\n",
              "2022-10-24  201.440002  204.259995  198.820007  202.110001  202.110001   \n",
              "2022-10-25  200.979996  209.429993  200.979996  204.889999  204.889999   \n",
              "2022-10-26  206.479996  207.050003  201.520004  205.800003  205.800003   \n",
              "2022-10-27  206.000000  209.039993  202.559998  204.160004  204.160004   \n",
              "2022-10-28  202.000000  213.429993  186.520004  212.660004  212.660004   \n",
              "\n",
              "            volume ticker  \n",
              "2022-10-24  331800   GTLS  \n",
              "2022-10-25  320600   GTLS  \n",
              "2022-10-26  338700   GTLS  \n",
              "2022-10-27  707900   GTLS  \n",
              "2022-10-28  833800   GTLS  "
            ],
            "text/html": [
              "\n",
              "  <div id=\"df-d996875a-48e4-449b-a52a-331425a13139\">\n",
              "    <div class=\"colab-df-container\">\n",
              "      <div>\n",
              "<style scoped>\n",
              "    .dataframe tbody tr th:only-of-type {\n",
              "        vertical-align: middle;\n",
              "    }\n",
              "\n",
              "    .dataframe tbody tr th {\n",
              "        vertical-align: top;\n",
              "    }\n",
              "\n",
              "    .dataframe thead th {\n",
              "        text-align: right;\n",
              "    }\n",
              "</style>\n",
              "<table border=\"1\" class=\"dataframe\">\n",
              "  <thead>\n",
              "    <tr style=\"text-align: right;\">\n",
              "      <th></th>\n",
              "      <th>open</th>\n",
              "      <th>high</th>\n",
              "      <th>low</th>\n",
              "      <th>close</th>\n",
              "      <th>adjclose</th>\n",
              "      <th>volume</th>\n",
              "      <th>ticker</th>\n",
              "    </tr>\n",
              "  </thead>\n",
              "  <tbody>\n",
              "    <tr>\n",
              "      <th>2022-10-24</th>\n",
              "      <td>201.440002</td>\n",
              "      <td>204.259995</td>\n",
              "      <td>198.820007</td>\n",
              "      <td>202.110001</td>\n",
              "      <td>202.110001</td>\n",
              "      <td>331800</td>\n",
              "      <td>GTLS</td>\n",
              "    </tr>\n",
              "    <tr>\n",
              "      <th>2022-10-25</th>\n",
              "      <td>200.979996</td>\n",
              "      <td>209.429993</td>\n",
              "      <td>200.979996</td>\n",
              "      <td>204.889999</td>\n",
              "      <td>204.889999</td>\n",
              "      <td>320600</td>\n",
              "      <td>GTLS</td>\n",
              "    </tr>\n",
              "    <tr>\n",
              "      <th>2022-10-26</th>\n",
              "      <td>206.479996</td>\n",
              "      <td>207.050003</td>\n",
              "      <td>201.520004</td>\n",
              "      <td>205.800003</td>\n",
              "      <td>205.800003</td>\n",
              "      <td>338700</td>\n",
              "      <td>GTLS</td>\n",
              "    </tr>\n",
              "    <tr>\n",
              "      <th>2022-10-27</th>\n",
              "      <td>206.000000</td>\n",
              "      <td>209.039993</td>\n",
              "      <td>202.559998</td>\n",
              "      <td>204.160004</td>\n",
              "      <td>204.160004</td>\n",
              "      <td>707900</td>\n",
              "      <td>GTLS</td>\n",
              "    </tr>\n",
              "    <tr>\n",
              "      <th>2022-10-28</th>\n",
              "      <td>202.000000</td>\n",
              "      <td>213.429993</td>\n",
              "      <td>186.520004</td>\n",
              "      <td>212.660004</td>\n",
              "      <td>212.660004</td>\n",
              "      <td>833800</td>\n",
              "      <td>GTLS</td>\n",
              "    </tr>\n",
              "  </tbody>\n",
              "</table>\n",
              "</div>\n",
              "      <button class=\"colab-df-convert\" onclick=\"convertToInteractive('df-d996875a-48e4-449b-a52a-331425a13139')\"\n",
              "              title=\"Convert this dataframe to an interactive table.\"\n",
              "              style=\"display:none;\">\n",
              "        \n",
              "  <svg xmlns=\"http://www.w3.org/2000/svg\" height=\"24px\"viewBox=\"0 0 24 24\"\n",
              "       width=\"24px\">\n",
              "    <path d=\"M0 0h24v24H0V0z\" fill=\"none\"/>\n",
              "    <path d=\"M18.56 5.44l.94 2.06.94-2.06 2.06-.94-2.06-.94-.94-2.06-.94 2.06-2.06.94zm-11 1L8.5 8.5l.94-2.06 2.06-.94-2.06-.94L8.5 2.5l-.94 2.06-2.06.94zm10 10l.94 2.06.94-2.06 2.06-.94-2.06-.94-.94-2.06-.94 2.06-2.06.94z\"/><path d=\"M17.41 7.96l-1.37-1.37c-.4-.4-.92-.59-1.43-.59-.52 0-1.04.2-1.43.59L10.3 9.45l-7.72 7.72c-.78.78-.78 2.05 0 2.83L4 21.41c.39.39.9.59 1.41.59.51 0 1.02-.2 1.41-.59l7.78-7.78 2.81-2.81c.8-.78.8-2.07 0-2.86zM5.41 20L4 18.59l7.72-7.72 1.47 1.35L5.41 20z\"/>\n",
              "  </svg>\n",
              "      </button>\n",
              "      \n",
              "  <style>\n",
              "    .colab-df-container {\n",
              "      display:flex;\n",
              "      flex-wrap:wrap;\n",
              "      gap: 12px;\n",
              "    }\n",
              "\n",
              "    .colab-df-convert {\n",
              "      background-color: #E8F0FE;\n",
              "      border: none;\n",
              "      border-radius: 50%;\n",
              "      cursor: pointer;\n",
              "      display: none;\n",
              "      fill: #1967D2;\n",
              "      height: 32px;\n",
              "      padding: 0 0 0 0;\n",
              "      width: 32px;\n",
              "    }\n",
              "\n",
              "    .colab-df-convert:hover {\n",
              "      background-color: #E2EBFA;\n",
              "      box-shadow: 0px 1px 2px rgba(60, 64, 67, 0.3), 0px 1px 3px 1px rgba(60, 64, 67, 0.15);\n",
              "      fill: #174EA6;\n",
              "    }\n",
              "\n",
              "    [theme=dark] .colab-df-convert {\n",
              "      background-color: #3B4455;\n",
              "      fill: #D2E3FC;\n",
              "    }\n",
              "\n",
              "    [theme=dark] .colab-df-convert:hover {\n",
              "      background-color: #434B5C;\n",
              "      box-shadow: 0px 1px 3px 1px rgba(0, 0, 0, 0.15);\n",
              "      filter: drop-shadow(0px 1px 2px rgba(0, 0, 0, 0.3));\n",
              "      fill: #FFFFFF;\n",
              "    }\n",
              "  </style>\n",
              "\n",
              "      <script>\n",
              "        const buttonEl =\n",
              "          document.querySelector('#df-d996875a-48e4-449b-a52a-331425a13139 button.colab-df-convert');\n",
              "        buttonEl.style.display =\n",
              "          google.colab.kernel.accessAllowed ? 'block' : 'none';\n",
              "\n",
              "        async function convertToInteractive(key) {\n",
              "          const element = document.querySelector('#df-d996875a-48e4-449b-a52a-331425a13139');\n",
              "          const dataTable =\n",
              "            await google.colab.kernel.invokeFunction('convertToInteractive',\n",
              "                                                     [key], {});\n",
              "          if (!dataTable) return;\n",
              "\n",
              "          const docLinkHtml = 'Like what you see? Visit the ' +\n",
              "            '<a target=\"_blank\" href=https://colab.research.google.com/notebooks/data_table.ipynb>data table notebook</a>'\n",
              "            + ' to learn more about interactive tables.';\n",
              "          element.innerHTML = '';\n",
              "          dataTable['output_type'] = 'display_data';\n",
              "          await google.colab.output.renderOutput(dataTable, element);\n",
              "          const docLink = document.createElement('div');\n",
              "          docLink.innerHTML = docLinkHtml;\n",
              "          element.appendChild(docLink);\n",
              "        }\n",
              "      </script>\n",
              "    </div>\n",
              "  </div>\n",
              "  "
            ]
          },
          "metadata": {},
          "execution_count": 124
        }
      ]
    },
    {
      "cell_type": "markdown",
      "source": [
        "**The volume (turnover) represents the activity of investors within a specific time frame. Each volume unit reflects the behavior of buyers and sellers.**"
      ],
      "metadata": {
        "id": "Q2mfc22ZcFKe"
      }
    },
    {
      "cell_type": "code",
      "source": [
        "fig, ax=plt.subplots(figsize=(20,6))\n",
        "\n",
        "ax.bar(df.index, df['volume'], color='b')\n",
        "ax.set_xlabel('Date')\n",
        "ax.set_ylabel('volume')\n",
        "ax.set_title('Smart money', fontsize=14)\n",
        "ax.xaxis.set_tick_params(rotation=90)\n",
        "plt.show()"
      ],
      "metadata": {
        "colab": {
          "base_uri": "https://localhost:8080/",
          "height": 420
        },
        "id": "GfxuZfIecK_F",
        "outputId": "30a39403-a91c-48f5-8d52-86c3dadf3094"
      },
      "execution_count": null,
      "outputs": [
        {
          "output_type": "display_data",
          "data": {
            "text/plain": [
              "<Figure size 1440x432 with 1 Axes>"
            ],
            "image/png": "[encoded data removed]"
          },
          "metadata": {
            "needs_background": "light"
          }
        }
      ]
    },
    {
      "cell_type": "markdown",
      "source": [
        "The height of the bar reflects the volume, i.e. the higher the bar, the higher the turnover. The volume analysis allows you to understand the source of the price change and find places where large capital is involved in the game. The sharp increase in volume confirms that there is a lot of capital in the game, which does not intend to sell shares at the first better correction."
      ],
      "metadata": {
        "id": "931AXmMUcTHh"
      }
    },
    {
      "cell_type": "markdown",
      "source": [
        "**To make the chart more readable, I will illustrate the volume from the last 3 months.**"
      ],
      "metadata": {
        "id": "9C3EUO26d9LR"
      }
    },
    {
      "cell_type": "code",
      "source": [
        "three_months_ago = today - timedelta(days=90)\n",
        "three_months_ago = three_months_ago.isoformat()\n",
        "three_months_ago"
      ],
      "metadata": {
        "colab": {
          "base_uri": "https://localhost:8080/",
          "height": 36
        },
        "id": "wGmk0cGdex01",
        "outputId": "b358a160-45cb-44c2-b42d-959c349d52e1"
      },
      "execution_count": null,
      "outputs": [
        {
          "output_type": "execute_result",
          "data": {
            "text/plain": [
              "'2022-08-02'"
            ],
            "application/vnd.google.colaboratory.intrinsic+json": {
              "type": "string"
            }
          },
          "metadata": {},
          "execution_count": 126
        }
      ]
    },
    {
      "cell_type": "code",
      "source": [
        "earnings_history_three_months = yh.get_data(name_max_day, three_months_ago , end_date, index_as_date = True)"
      ],
      "metadata": {
        "id": "SF1ZOUxVehHO"
      },
      "execution_count": null,
      "outputs": []
    },
    {
      "cell_type": "code",
      "source": [
        "fig, ax=plt.subplots(figsize=(20,6))\n",
        "\n",
        "ax.bar(earnings_history_three_months.index, earnings_history_three_months['volume'], color='b')\n",
        "ax.set_xlabel('Date')\n",
        "ax.set_ylabel('volume')\n",
        "ax.set_title('Smart money', fontsize=16)\n",
        "ax.xaxis.set_tick_params(rotation=90)\n",
        "plt.show()"
      ],
      "metadata": {
        "colab": {
          "base_uri": "https://localhost:8080/",
          "height": 449
        },
        "id": "UU7ofsrHd77z",
        "outputId": "3ccb06f0-643f-4c99-9603-bb2f499b954f"
      },
      "execution_count": null,
      "outputs": [
        {
          "output_type": "display_data",
          "data": {
            "text/plain": [
              "<Figure size 1440x432 with 1 Axes>"
            ],
            "image/png": "[encoded data removed]"
          },
          "metadata": {
            "needs_background": "light"
          }
        }
      ]
    },
    {
      "cell_type": "markdown",
      "source": [
        "#QUARTERLY REPORT"
      ],
      "metadata": {
        "id": "_DWl9QYnN9RM"
      }
    },
    {
      "cell_type": "markdown",
      "source": [
        "AVERAGE VALUE OF THE COMPANY AFTER THE END OF THREE MONTH"
      ],
      "metadata": {
        "id": "3ka1iA8yaLYf"
      }
    },
    {
      "cell_type": "code",
      "source": [
        "price_three_months_ago = earnings_history_three_months.open[0]\n",
        "price_three_months_ago"
      ],
      "metadata": {
        "colab": {
          "base_uri": "https://localhost:8080/"
        },
        "id": "bDiGOKNTPxOJ",
        "outputId": "4370a5a3-aa75-403e-db68-ab0a98352f97"
      },
      "execution_count": null,
      "outputs": [
        {
          "output_type": "execute_result",
          "data": {
            "text/plain": [
              "191.3800048828125"
            ]
          },
          "metadata": {},
          "execution_count": 129
        }
      ]
    },
    {
      "cell_type": "code",
      "source": [
        "price_yesterday = earnings_history_three_months.open[-1] \n",
        "price_yesterday"
      ],
      "metadata": {
        "colab": {
          "base_uri": "https://localhost:8080/"
        },
        "id": "amrIiEexT7xM",
        "outputId": "782ee22b-6c09-43bf-a751-a236d2ce65c4"
      },
      "execution_count": null,
      "outputs": [
        {
          "output_type": "execute_result",
          "data": {
            "text/plain": [
              "202.0"
            ]
          },
          "metadata": {},
          "execution_count": 130
        }
      ]
    },
    {
      "cell_type": "code",
      "source": [
        "print(f\"Average opening value: {earnings_history_three_months.open.mean():.2f}\")  \n",
        "print(f\"Average daily value: {earnings_history_three_months.high.mean():.2f}\") \n",
        "print(f\"Average daily lowest value {earnings_history_three_months.low.mean():.2f}\")\n",
        "print(f\"Average closing value: {earnings_history_three_months.close.mean():.2f}\")\n",
        "print(f\"Percentage increase in the company's shares: {(price_yesterday-price_three_months_ago)/price_three_months_ago*100:.2f}\" \"%\" )"
      ],
      "metadata": {
        "colab": {
          "base_uri": "https://localhost:8080/"
        },
        "id": "MnwbINAOWxSZ",
        "outputId": "17e28ab5-586a-4aa8-8adc-ca408dd7f733"
      },
      "execution_count": null,
      "outputs": [
        {
          "output_type": "stream",
          "name": "stdout",
          "text": [
            "Average opening value: 196.45\n",
            "Average daily value: 200.77\n",
            "Average daily lowest value 192.19\n",
            "Average closing value: 196.78\n",
            "Percentage increase in the company's shares: 5.55%\n"
          ]
        }
      ]
    },
    {
      "cell_type": "code",
      "source": [
        "fig, ax=plt.subplots(figsize=(8,6))\n",
        "\n",
        "ax.bar('open', earnings_history_three_months.open.mean(), color='m')   \n",
        "ax.bar('high', earnings_history_three_months.high.mean(), color='y')  \n",
        "ax.bar('low',  earnings_history_three_months.low.mean(), color='b')   \n",
        "ax.bar('close', earnings_history_three_months.low.mean(), color='g')  \n",
        "\n",
        "ax.set_ylabel('Average value[$]')\n",
        "ax.set_ylim() \n",
        "ax.set_title(\"Average company's value in the last three months\", fontsize=16)\n",
        "plt.show()"
      ],
      "metadata": {
        "colab": {
          "base_uri": "https://localhost:8080/",
          "height": 392
        },
        "id": "ysLu3hetYB52",
        "outputId": "ecb89308-44e1-4923-e4d5-b1720f0d6cf1"
      },
      "execution_count": null,
      "outputs": [
        {
          "output_type": "display_data",
          "data": {
            "text/plain": [
              "<Figure size 576x432 with 1 Axes>"
            ],
            "image/png": "[encoded data removed]"
          },
          "metadata": {
            "needs_background": "light"
          }
        }
      ]
    },
    {
      "cell_type": "markdown",
      "source": [
        "**WE WILL SEE MORE WHAT THE PRICE IS SHAPING - AN IMAGE OF THE COMPANY'S PRICE DURING ONE MONTH**"
      ],
      "metadata": {
        "id": "Pf-qmkfuj7J8"
      }
    },
    {
      "cell_type": "code",
      "source": [
        "one_month_ago = today - timedelta(days=30)\n",
        "one_month_ago = one_month_ago.isoformat()"
      ],
      "metadata": {
        "id": "HWhXSkarlVdu"
      },
      "execution_count": null,
      "outputs": []
    },
    {
      "cell_type": "code",
      "source": [
        "earnings_history_one_month = yh.get_data(name_max_day, one_month_ago , end_date, index_as_date = True)"
      ],
      "metadata": {
        "id": "40sFx6XpO2jT"
      },
      "execution_count": null,
      "outputs": []
    },
    {
      "cell_type": "code",
      "source": [
        "fig, ax=plt.subplots(2,1,sharey=False, figsize=(18,6))\n",
        "\n",
        "ax[0].plot(earnings_history_one_month.index, earnings_history_one_month['high'], color='b', linestyle='--')\n",
        "ax[0].plot(earnings_history_one_month.index, earnings_history_one_month['open'], color='r')\n",
        "\n",
        "ax[1].plot(earnings_history_one_month.index, earnings_history_one_month['open'], color='r')\n",
        "ax[1].plot(earnings_history_one_month.index, earnings_history_one_month['close'], color='g', linestyle='-')\n",
        "\n",
        "ax[1].set_xlabel('Date',fontsize=12)\n",
        "\n",
        "ax[0].set_ylabel('cena [$]',fontsize=14)\n",
        "ax[1].set_ylabel('cena [$]',fontsize=14)\n",
        "\n",
        "ax[0].set_title('Company behavior during one month', fontsize=16)\n",
        "\n",
        "ax[0].set_xticklabels([])\n",
        "ax[1].xaxis.set_tick_params(rotation=0)\n",
        "\n",
        "ax[0].legend([\"Price highest\", \"Price opening\"], loc =\"upper left\")\n",
        "ax[1].legend([\"Price opening\", \"Price closing\"], loc =\"upper left\")\n",
        "plt.show()\n",
        "\n"
      ],
      "metadata": {
        "colab": {
          "base_uri": "https://localhost:8080/",
          "height": 409
        },
        "id": "glnakf56mFzD",
        "outputId": "25019919-1cca-4e0f-ffc1-c706727bc350"
      },
      "execution_count": null,
      "outputs": [
        {
          "output_type": "display_data",
          "data": {
            "text/plain": [
              "<Figure size 1296x432 with 2 Axes>"
            ],
            "image/png": "[encoded data removed]"
          },
          "metadata": {
            "needs_background": "light"
          }
        }
      ]
    },
    {
      "cell_type": "markdown",
      "source": [
        "**AVERAGE VALUE OF THE COMPANY AFTER THE END OF THE MONTH**"
      ],
      "metadata": {
        "id": "0gW4BltznMnq"
      }
    },
    {
      "cell_type": "code",
      "source": [
        "price_month_ego = earnings_history_one_month.open[0] \n",
        "price_month_ego"
      ],
      "metadata": {
        "id": "fkMgU82m2bNa",
        "colab": {
          "base_uri": "https://localhost:8080/"
        },
        "outputId": "482faf31-4501-4ea1-e76f-7b48061615d3"
      },
      "execution_count": null,
      "outputs": [
        {
          "output_type": "execute_result",
          "data": {
            "text/plain": [
              "187.99000549316406"
            ]
          },
          "metadata": {},
          "execution_count": 136
        }
      ]
    },
    {
      "cell_type": "code",
      "source": [
        "price_yesterday = earnings_history_one_month.open[-1] \n",
        "price_yesterday"
      ],
      "metadata": {
        "colab": {
          "base_uri": "https://localhost:8080/"
        },
        "id": "7lQJJh7ziKVz",
        "outputId": "9a68cd18-7bc9-470b-f1f9-279e2373b517"
      },
      "execution_count": null,
      "outputs": [
        {
          "output_type": "execute_result",
          "data": {
            "text/plain": [
              "202.0"
            ]
          },
          "metadata": {},
          "execution_count": 137
        }
      ]
    },
    {
      "cell_type": "code",
      "source": [
        "print(f\"Average opening value: {earnings_history_one_month.open.mean():.2f}\")  \n",
        "print(f\"Average daily value: {earnings_history_one_month.high.mean():.2f}\") \n",
        "print(f\"Average daily lowest value {earnings_history_one_month.low.mean():.2f}\")\n",
        "print(f\"Average closing value: {earnings_history_one_month.close.mean():.2f}\")\n",
        "print(f\"Percentage increase in the company's shares: {(price_yesterday-price_month_ego)/price_month_ego*100:.2f}\" \"%\" )"
      ],
      "metadata": {
        "colab": {
          "base_uri": "https://localhost:8080/"
        },
        "id": "r_0KUMlmiT4i",
        "outputId": "a13bde9e-77af-4bff-ff30-5ac2bfb44277"
      },
      "execution_count": null,
      "outputs": [
        {
          "output_type": "stream",
          "name": "stdout",
          "text": [
            "Average opening value: 198.01\n",
            "Average daily value: 202.67\n",
            "Average daily lowest value 193.48\n",
            "Average closing value: 198.93\n",
            "Percentage increase in the company's shares: 7.45%\n"
          ]
        }
      ]
    },
    {
      "cell_type": "markdown",
      "source": [
        "# Exploratory Data Analysis"
      ],
      "metadata": {
        "id": "LdgN0gzVV9zx"
      }
    },
    {
      "cell_type": "markdown",
      "source": [
        "**Data Cleaning**\n",
        "\n",
        "I will bring up a dataset"
      ],
      "metadata": {
        "id": "HWQ2owNdVwry"
      }
    },
    {
      "cell_type": "code",
      "source": [
        "earnings_history_to_date = yh.get_data(name_max_day, start_day , end_date, index_as_date = True) \n",
        "df=pd.DataFrame(earnings_history_to_date)\n",
        "df"
      ],
      "metadata": {
        "colab": {
          "base_uri": "https://localhost:8080/",
          "height": 424
        },
        "id": "s7DhbHilkHw3",
        "outputId": "c72a1ea3-a6fc-4980-dc31-c7ec59c1d4d6"
      },
      "execution_count": null,
      "outputs": [
        {
          "output_type": "execute_result",
          "data": {
            "text/plain": [
              "                  open        high         low       close    adjclose  \\\n",
              "2006-11-09   15.000000   15.000000   13.170000   13.310000   13.310000   \n",
              "2006-11-10   13.280000   13.640000   13.250000   13.600000   13.600000   \n",
              "2006-11-13   13.750000   14.210000   13.560000   13.630000   13.630000   \n",
              "2006-11-14   13.610000   14.950000   13.610000   14.890000   14.890000   \n",
              "2006-11-15   14.970000   15.360000   14.290000   15.240000   15.240000   \n",
              "...                ...         ...         ...         ...         ...   \n",
              "2022-10-24  201.440002  204.259995  198.820007  202.110001  202.110001   \n",
              "2022-10-25  200.979996  209.429993  200.979996  204.889999  204.889999   \n",
              "2022-10-26  206.479996  207.050003  201.520004  205.800003  205.800003   \n",
              "2022-10-27  206.000000  209.039993  202.559998  204.160004  204.160004   \n",
              "2022-10-28  202.000000  213.429993  186.520004  212.660004  212.660004   \n",
              "\n",
              "            volume ticker  \n",
              "2006-11-09  246800   GTLS  \n",
              "2006-11-10   52600   GTLS  \n",
              "2006-11-13  186900   GTLS  \n",
              "2006-11-14  134700   GTLS  \n",
              "2006-11-15  167200   GTLS  \n",
              "...            ...    ...  \n",
              "2022-10-24  331800   GTLS  \n",
              "2022-10-25  320600   GTLS  \n",
              "2022-10-26  338700   GTLS  \n",
              "2022-10-27  707900   GTLS  \n",
              "2022-10-28  833800   GTLS  \n",
              "\n",
              "[4020 rows x 7 columns]"
            ],
            "text/html": [
              "\n",
              "  <div id=\"df-351fe3e8-8c16-4f5d-adfb-e37f8a93fbe2\">\n",
              "    <div class=\"colab-df-container\">\n",
              "      <div>\n",
              "<style scoped>\n",
              "    .dataframe tbody tr th:only-of-type {\n",
              "        vertical-align: middle;\n",
              "    }\n",
              "\n",
              "    .dataframe tbody tr th {\n",
              "        vertical-align: top;\n",
              "    }\n",
              "\n",
              "    .dataframe thead th {\n",
              "        text-align: right;\n",
              "    }\n",
              "</style>\n",
              "<table border=\"1\" class=\"dataframe\">\n",
              "  <thead>\n",
              "    <tr style=\"text-align: right;\">\n",
              "      <th></th>\n",
              "      <th>open</th>\n",
              "      <th>high</th>\n",
              "      <th>low</th>\n",
              "      <th>close</th>\n",
              "      <th>adjclose</th>\n",
              "      <th>volume</th>\n",
              "      <th>ticker</th>\n",
              "    </tr>\n",
              "  </thead>\n",
              "  <tbody>\n",
              "    <tr>\n",
              "      <th>2006-11-09</th>\n",
              "      <td>15.000000</td>\n",
              "      <td>15.000000</td>\n",
              "      <td>13.170000</td>\n",
              "      <td>13.310000</td>\n",
              "      <td>13.310000</td>\n",
              "      <td>246800</td>\n",
              "      <td>GTLS</td>\n",
              "    </tr>\n",
              "    <tr>\n",
              "      <th>2006-11-10</th>\n",
              "      <td>13.280000</td>\n",
              "      <td>13.640000</td>\n",
              "      <td>13.250000</td>\n",
              "      <td>13.600000</td>\n",
              "      <td>13.600000</td>\n",
              "      <td>52600</td>\n",
              "      <td>GTLS</td>\n",
              "    </tr>\n",
              "    <tr>\n",
              "      <th>2006-11-13</th>\n",
              "      <td>13.750000</td>\n",
              "      <td>14.210000</td>\n",
              "      <td>13.560000</td>\n",
              "      <td>13.630000</td>\n",
              "      <td>13.630000</td>\n",
              "      <td>186900</td>\n",
              "      <td>GTLS</td>\n",
              "    </tr>\n",
              "    <tr>\n",
              "      <th>2006-11-14</th>\n",
              "      <td>13.610000</td>\n",
              "      <td>14.950000</td>\n",
              "      <td>13.610000</td>\n",
              "      <td>14.890000</td>\n",
              "      <td>14.890000</td>\n",
              "      <td>134700</td>\n",
              "      <td>GTLS</td>\n",
              "    </tr>\n",
              "    <tr>\n",
              "      <th>2006-11-15</th>\n",
              "      <td>14.970000</td>\n",
              "      <td>15.360000</td>\n",
              "      <td>14.290000</td>\n",
              "      <td>15.240000</td>\n",
              "      <td>15.240000</td>\n",
              "      <td>167200</td>\n",
              "      <td>GTLS</td>\n",
              "    </tr>\n",
              "    <tr>\n",
              "      <th>...</th>\n",
              "      <td>...</td>\n",
              "      <td>...</td>\n",
              "      <td>...</td>\n",
              "      <td>...</td>\n",
              "      <td>...</td>\n",
              "      <td>...</td>\n",
              "      <td>...</td>\n",
              "    </tr>\n",
              "    <tr>\n",
              "      <th>2022-10-24</th>\n",
              "      <td>201.440002</td>\n",
              "      <td>204.259995</td>\n",
              "      <td>198.820007</td>\n",
              "      <td>202.110001</td>\n",
              "      <td>202.110001</td>\n",
              "      <td>331800</td>\n",
              "      <td>GTLS</td>\n",
              "    </tr>\n",
              "    <tr>\n",
              "      <th>2022-10-25</th>\n",
              "      <td>200.979996</td>\n",
              "      <td>209.429993</td>\n",
              "      <td>200.979996</td>\n",
              "      <td>204.889999</td>\n",
              "      <td>204.889999</td>\n",
              "      <td>320600</td>\n",
              "      <td>GTLS</td>\n",
              "    </tr>\n",
              "    <tr>\n",
              "      <th>2022-10-26</th>\n",
              "      <td>206.479996</td>\n",
              "      <td>207.050003</td>\n",
              "      <td>201.520004</td>\n",
              "      <td>205.800003</td>\n",
              "      <td>205.800003</td>\n",
              "      <td>338700</td>\n",
              "      <td>GTLS</td>\n",
              "    </tr>\n",
              "    <tr>\n",
              "      <th>2022-10-27</th>\n",
              "      <td>206.000000</td>\n",
              "      <td>209.039993</td>\n",
              "      <td>202.559998</td>\n",
              "      <td>204.160004</td>\n",
              "      <td>204.160004</td>\n",
              "      <td>707900</td>\n",
              "      <td>GTLS</td>\n",
              "    </tr>\n",
              "    <tr>\n",
              "      <th>2022-10-28</th>\n",
              "      <td>202.000000</td>\n",
              "      <td>213.429993</td>\n",
              "      <td>186.520004</td>\n",
              "      <td>212.660004</td>\n",
              "      <td>212.660004</td>\n",
              "      <td>833800</td>\n",
              "      <td>GTLS</td>\n",
              "    </tr>\n",
              "  </tbody>\n",
              "</table>\n",
              "<p>4020 rows × 7 columns</p>\n",
              "</div>\n",
              "      <button class=\"colab-df-convert\" onclick=\"convertToInteractive('df-351fe3e8-8c16-4f5d-adfb-e37f8a93fbe2')\"\n",
              "              title=\"Convert this dataframe to an interactive table.\"\n",
              "              style=\"display:none;\">\n",
              "        \n",
              "  <svg xmlns=\"http://www.w3.org/2000/svg\" height=\"24px\"viewBox=\"0 0 24 24\"\n",
              "       width=\"24px\">\n",
              "    <path d=\"M0 0h24v24H0V0z\" fill=\"none\"/>\n",
              "    <path d=\"M18.56 5.44l.94 2.06.94-2.06 2.06-.94-2.06-.94-.94-2.06-.94 2.06-2.06.94zm-11 1L8.5 8.5l.94-2.06 2.06-.94-2.06-.94L8.5 2.5l-.94 2.06-2.06.94zm10 10l.94 2.06.94-2.06 2.06-.94-2.06-.94-.94-2.06-.94 2.06-2.06.94z\"/><path d=\"M17.41 7.96l-1.37-1.37c-.4-.4-.92-.59-1.43-.59-.52 0-1.04.2-1.43.59L10.3 9.45l-7.72 7.72c-.78.78-.78 2.05 0 2.83L4 21.41c.39.39.9.59 1.41.59.51 0 1.02-.2 1.41-.59l7.78-7.78 2.81-2.81c.8-.78.8-2.07 0-2.86zM5.41 20L4 18.59l7.72-7.72 1.47 1.35L5.41 20z\"/>\n",
              "  </svg>\n",
              "      </button>\n",
              "      \n",
              "  <style>\n",
              "    .colab-df-container {\n",
              "      display:flex;\n",
              "      flex-wrap:wrap;\n",
              "      gap: 12px;\n",
              "    }\n",
              "\n",
              "    .colab-df-convert {\n",
              "      background-color: #E8F0FE;\n",
              "      border: none;\n",
              "      border-radius: 50%;\n",
              "      cursor: pointer;\n",
              "      display: none;\n",
              "      fill: #1967D2;\n",
              "      height: 32px;\n",
              "      padding: 0 0 0 0;\n",
              "      width: 32px;\n",
              "    }\n",
              "\n",
              "    .colab-df-convert:hover {\n",
              "      background-color: #E2EBFA;\n",
              "      box-shadow: 0px 1px 2px rgba(60, 64, 67, 0.3), 0px 1px 3px 1px rgba(60, 64, 67, 0.15);\n",
              "      fill: #174EA6;\n",
              "    }\n",
              "\n",
              "    [theme=dark] .colab-df-convert {\n",
              "      background-color: #3B4455;\n",
              "      fill: #D2E3FC;\n",
              "    }\n",
              "\n",
              "    [theme=dark] .colab-df-convert:hover {\n",
              "      background-color: #434B5C;\n",
              "      box-shadow: 0px 1px 3px 1px rgba(0, 0, 0, 0.15);\n",
              "      filter: drop-shadow(0px 1px 2px rgba(0, 0, 0, 0.3));\n",
              "      fill: #FFFFFF;\n",
              "    }\n",
              "  </style>\n",
              "\n",
              "      <script>\n",
              "        const buttonEl =\n",
              "          document.querySelector('#df-351fe3e8-8c16-4f5d-adfb-e37f8a93fbe2 button.colab-df-convert');\n",
              "        buttonEl.style.display =\n",
              "          google.colab.kernel.accessAllowed ? 'block' : 'none';\n",
              "\n",
              "        async function convertToInteractive(key) {\n",
              "          const element = document.querySelector('#df-351fe3e8-8c16-4f5d-adfb-e37f8a93fbe2');\n",
              "          const dataTable =\n",
              "            await google.colab.kernel.invokeFunction('convertToInteractive',\n",
              "                                                     [key], {});\n",
              "          if (!dataTable) return;\n",
              "\n",
              "          const docLinkHtml = 'Like what you see? Visit the ' +\n",
              "            '<a target=\"_blank\" href=https://colab.research.google.com/notebooks/data_table.ipynb>data table notebook</a>'\n",
              "            + ' to learn more about interactive tables.';\n",
              "          element.innerHTML = '';\n",
              "          dataTable['output_type'] = 'display_data';\n",
              "          await google.colab.output.renderOutput(dataTable, element);\n",
              "          const docLink = document.createElement('div');\n",
              "          docLink.innerHTML = docLinkHtml;\n",
              "          element.appendChild(docLink);\n",
              "        }\n",
              "      </script>\n",
              "    </div>\n",
              "  </div>\n",
              "  "
            ]
          },
          "metadata": {},
          "execution_count": 139
        }
      ]
    },
    {
      "cell_type": "markdown",
      "source": [
        "I'll do open, high, low, close, adjclose prices - to two decimal places"
      ],
      "metadata": {
        "id": "fryzLLkZgrRC"
      }
    },
    {
      "cell_type": "code",
      "source": [
        "df = df.round({'open': 2, 'high': 2, 'low': 2, 'close': 2, 'adjclose': 2})\n",
        "df"
      ],
      "metadata": {
        "colab": {
          "base_uri": "https://localhost:8080/",
          "height": 424
        },
        "id": "zkMkUSs9gtsW",
        "outputId": "26f892d4-f33c-4ded-ff72-ab40fc00e0ef"
      },
      "execution_count": null,
      "outputs": [
        {
          "output_type": "execute_result",
          "data": {
            "text/plain": [
              "              open    high     low   close  adjclose  volume ticker\n",
              "2006-11-09   15.00   15.00   13.17   13.31     13.31  246800   GTLS\n",
              "2006-11-10   13.28   13.64   13.25   13.60     13.60   52600   GTLS\n",
              "2006-11-13   13.75   14.21   13.56   13.63     13.63  186900   GTLS\n",
              "2006-11-14   13.61   14.95   13.61   14.89     14.89  134700   GTLS\n",
              "2006-11-15   14.97   15.36   14.29   15.24     15.24  167200   GTLS\n",
              "...            ...     ...     ...     ...       ...     ...    ...\n",
              "2022-10-24  201.44  204.26  198.82  202.11    202.11  331800   GTLS\n",
              "2022-10-25  200.98  209.43  200.98  204.89    204.89  320600   GTLS\n",
              "2022-10-26  206.48  207.05  201.52  205.80    205.80  338700   GTLS\n",
              "2022-10-27  206.00  209.04  202.56  204.16    204.16  707900   GTLS\n",
              "2022-10-28  202.00  213.43  186.52  212.66    212.66  833800   GTLS\n",
              "\n",
              "[4020 rows x 7 columns]"
            ],
            "text/html": [
              "\n",
              "  <div id=\"df-96b4b311-ab79-4d93-80cb-7d6710e5c13a\">\n",
              "    <div class=\"colab-df-container\">\n",
              "      <div>\n",
              "<style scoped>\n",
              "    .dataframe tbody tr th:only-of-type {\n",
              "        vertical-align: middle;\n",
              "    }\n",
              "\n",
              "    .dataframe tbody tr th {\n",
              "        vertical-align: top;\n",
              "    }\n",
              "\n",
              "    .dataframe thead th {\n",
              "        text-align: right;\n",
              "    }\n",
              "</style>\n",
              "<table border=\"1\" class=\"dataframe\">\n",
              "  <thead>\n",
              "    <tr style=\"text-align: right;\">\n",
              "      <th></th>\n",
              "      <th>open</th>\n",
              "      <th>high</th>\n",
              "      <th>low</th>\n",
              "      <th>close</th>\n",
              "      <th>adjclose</th>\n",
              "      <th>volume</th>\n",
              "      <th>ticker</th>\n",
              "    </tr>\n",
              "  </thead>\n",
              "  <tbody>\n",
              "    <tr>\n",
              "      <th>2006-11-09</th>\n",
              "      <td>15.00</td>\n",
              "      <td>15.00</td>\n",
              "      <td>13.17</td>\n",
              "      <td>13.31</td>\n",
              "      <td>13.31</td>\n",
              "      <td>246800</td>\n",
              "      <td>GTLS</td>\n",
              "    </tr>\n",
              "    <tr>\n",
              "      <th>2006-11-10</th>\n",
              "      <td>13.28</td>\n",
              "      <td>13.64</td>\n",
              "      <td>13.25</td>\n",
              "      <td>13.60</td>\n",
              "      <td>13.60</td>\n",
              "      <td>52600</td>\n",
              "      <td>GTLS</td>\n",
              "    </tr>\n",
              "    <tr>\n",
              "      <th>2006-11-13</th>\n",
              "      <td>13.75</td>\n",
              "      <td>14.21</td>\n",
              "      <td>13.56</td>\n",
              "      <td>13.63</td>\n",
              "      <td>13.63</td>\n",
              "      <td>186900</td>\n",
              "      <td>GTLS</td>\n",
              "    </tr>\n",
              "    <tr>\n",
              "      <th>2006-11-14</th>\n",
              "      <td>13.61</td>\n",
              "      <td>14.95</td>\n",
              "      <td>13.61</td>\n",
              "      <td>14.89</td>\n",
              "      <td>14.89</td>\n",
              "      <td>134700</td>\n",
              "      <td>GTLS</td>\n",
              "    </tr>\n",
              "    <tr>\n",
              "      <th>2006-11-15</th>\n",
              "      <td>14.97</td>\n",
              "      <td>15.36</td>\n",
              "      <td>14.29</td>\n",
              "      <td>15.24</td>\n",
              "      <td>15.24</td>\n",
              "      <td>167200</td>\n",
              "      <td>GTLS</td>\n",
              "    </tr>\n",
              "    <tr>\n",
              "      <th>...</th>\n",
              "      <td>...</td>\n",
              "      <td>...</td>\n",
              "      <td>...</td>\n",
              "      <td>...</td>\n",
              "      <td>...</td>\n",
              "      <td>...</td>\n",
              "      <td>...</td>\n",
              "    </tr>\n",
              "    <tr>\n",
              "      <th>2022-10-24</th>\n",
              "      <td>201.44</td>\n",
              "      <td>204.26</td>\n",
              "      <td>198.82</td>\n",
              "      <td>202.11</td>\n",
              "      <td>202.11</td>\n",
              "      <td>331800</td>\n",
              "      <td>GTLS</td>\n",
              "    </tr>\n",
              "    <tr>\n",
              "      <th>2022-10-25</th>\n",
              "      <td>200.98</td>\n",
              "      <td>209.43</td>\n",
              "      <td>200.98</td>\n",
              "      <td>204.89</td>\n",
              "      <td>204.89</td>\n",
              "      <td>320600</td>\n",
              "      <td>GTLS</td>\n",
              "    </tr>\n",
              "    <tr>\n",
              "      <th>2022-10-26</th>\n",
              "      <td>206.48</td>\n",
              "      <td>207.05</td>\n",
              "      <td>201.52</td>\n",
              "      <td>205.80</td>\n",
              "      <td>205.80</td>\n",
              "      <td>338700</td>\n",
              "      <td>GTLS</td>\n",
              "    </tr>\n",
              "    <tr>\n",
              "      <th>2022-10-27</th>\n",
              "      <td>206.00</td>\n",
              "      <td>209.04</td>\n",
              "      <td>202.56</td>\n",
              "      <td>204.16</td>\n",
              "      <td>204.16</td>\n",
              "      <td>707900</td>\n",
              "      <td>GTLS</td>\n",
              "    </tr>\n",
              "    <tr>\n",
              "      <th>2022-10-28</th>\n",
              "      <td>202.00</td>\n",
              "      <td>213.43</td>\n",
              "      <td>186.52</td>\n",
              "      <td>212.66</td>\n",
              "      <td>212.66</td>\n",
              "      <td>833800</td>\n",
              "      <td>GTLS</td>\n",
              "    </tr>\n",
              "  </tbody>\n",
              "</table>\n",
              "<p>4020 rows × 7 columns</p>\n",
              "</div>\n",
              "      <button class=\"colab-df-convert\" onclick=\"convertToInteractive('df-96b4b311-ab79-4d93-80cb-7d6710e5c13a')\"\n",
              "              title=\"Convert this dataframe to an interactive table.\"\n",
              "              style=\"display:none;\">\n",
              "        \n",
              "  <svg xmlns=\"http://www.w3.org/2000/svg\" height=\"24px\"viewBox=\"0 0 24 24\"\n",
              "       width=\"24px\">\n",
              "    <path d=\"M0 0h24v24H0V0z\" fill=\"none\"/>\n",
              "    <path d=\"M18.56 5.44l.94 2.06.94-2.06 2.06-.94-2.06-.94-.94-2.06-.94 2.06-2.06.94zm-11 1L8.5 8.5l.94-2.06 2.06-.94-2.06-.94L8.5 2.5l-.94 2.06-2.06.94zm10 10l.94 2.06.94-2.06 2.06-.94-2.06-.94-.94-2.06-.94 2.06-2.06.94z\"/><path d=\"M17.41 7.96l-1.37-1.37c-.4-.4-.92-.59-1.43-.59-.52 0-1.04.2-1.43.59L10.3 9.45l-7.72 7.72c-.78.78-.78 2.05 0 2.83L4 21.41c.39.39.9.59 1.41.59.51 0 1.02-.2 1.41-.59l7.78-7.78 2.81-2.81c.8-.78.8-2.07 0-2.86zM5.41 20L4 18.59l7.72-7.72 1.47 1.35L5.41 20z\"/>\n",
              "  </svg>\n",
              "      </button>\n",
              "      \n",
              "  <style>\n",
              "    .colab-df-container {\n",
              "      display:flex;\n",
              "      flex-wrap:wrap;\n",
              "      gap: 12px;\n",
              "    }\n",
              "\n",
              "    .colab-df-convert {\n",
              "      background-color: #E8F0FE;\n",
              "      border: none;\n",
              "      border-radius: 50%;\n",
              "      cursor: pointer;\n",
              "      display: none;\n",
              "      fill: #1967D2;\n",
              "      height: 32px;\n",
              "      padding: 0 0 0 0;\n",
              "      width: 32px;\n",
              "    }\n",
              "\n",
              "    .colab-df-convert:hover {\n",
              "      background-color: #E2EBFA;\n",
              "      box-shadow: 0px 1px 2px rgba(60, 64, 67, 0.3), 0px 1px 3px 1px rgba(60, 64, 67, 0.15);\n",
              "      fill: #174EA6;\n",
              "    }\n",
              "\n",
              "    [theme=dark] .colab-df-convert {\n",
              "      background-color: #3B4455;\n",
              "      fill: #D2E3FC;\n",
              "    }\n",
              "\n",
              "    [theme=dark] .colab-df-convert:hover {\n",
              "      background-color: #434B5C;\n",
              "      box-shadow: 0px 1px 3px 1px rgba(0, 0, 0, 0.15);\n",
              "      filter: drop-shadow(0px 1px 2px rgba(0, 0, 0, 0.3));\n",
              "      fill: #FFFFFF;\n",
              "    }\n",
              "  </style>\n",
              "\n",
              "      <script>\n",
              "        const buttonEl =\n",
              "          document.querySelector('#df-96b4b311-ab79-4d93-80cb-7d6710e5c13a button.colab-df-convert');\n",
              "        buttonEl.style.display =\n",
              "          google.colab.kernel.accessAllowed ? 'block' : 'none';\n",
              "\n",
              "        async function convertToInteractive(key) {\n",
              "          const element = document.querySelector('#df-96b4b311-ab79-4d93-80cb-7d6710e5c13a');\n",
              "          const dataTable =\n",
              "            await google.colab.kernel.invokeFunction('convertToInteractive',\n",
              "                                                     [key], {});\n",
              "          if (!dataTable) return;\n",
              "\n",
              "          const docLinkHtml = 'Like what you see? Visit the ' +\n",
              "            '<a target=\"_blank\" href=https://colab.research.google.com/notebooks/data_table.ipynb>data table notebook</a>'\n",
              "            + ' to learn more about interactive tables.';\n",
              "          element.innerHTML = '';\n",
              "          dataTable['output_type'] = 'display_data';\n",
              "          await google.colab.output.renderOutput(dataTable, element);\n",
              "          const docLink = document.createElement('div');\n",
              "          docLink.innerHTML = docLinkHtml;\n",
              "          element.appendChild(docLink);\n",
              "        }\n",
              "      </script>\n",
              "    </div>\n",
              "  </div>\n",
              "  "
            ]
          },
          "metadata": {},
          "execution_count": 140
        }
      ]
    },
    {
      "cell_type": "code",
      "source": [
        "df.info()"
      ],
      "metadata": {
        "colab": {
          "base_uri": "https://localhost:8080/"
        },
        "id": "5QlqbXVkXEkL",
        "outputId": "3f847456-2452-4dd6-b9ef-a25a22fc0372"
      },
      "execution_count": null,
      "outputs": [
        {
          "output_type": "stream",
          "name": "stdout",
          "text": [
            "<class 'pandas.core.frame.DataFrame'>\n",
            "DatetimeIndex: 4020 entries, 2006-11-09 to 2022-10-28\n",
            "Data columns (total 7 columns):\n",
            " #   Column    Non-Null Count  Dtype  \n",
            "---  ------    --------------  -----  \n",
            " 0   open      4020 non-null   float64\n",
            " 1   high      4020 non-null   float64\n",
            " 2   low       4020 non-null   float64\n",
            " 3   close     4020 non-null   float64\n",
            " 4   adjclose  4020 non-null   float64\n",
            " 5   volume    4020 non-null   int64  \n",
            " 6   ticker    4020 non-null   object \n",
            "dtypes: float64(5), int64(1), object(1)\n",
            "memory usage: 251.2+ KB\n"
          ]
        }
      ]
    },
    {
      "cell_type": "code",
      "source": [
        "df.isnull().sum()"
      ],
      "metadata": {
        "colab": {
          "base_uri": "https://localhost:8080/"
        },
        "id": "49HOnJ2tYAW2",
        "outputId": "20aaf0ee-d3b8-407d-efd5-5aac6c89f38c"
      },
      "execution_count": null,
      "outputs": [
        {
          "output_type": "execute_result",
          "data": {
            "text/plain": [
              "open        0\n",
              "high        0\n",
              "low         0\n",
              "close       0\n",
              "adjclose    0\n",
              "volume      0\n",
              "ticker      0\n",
              "dtype: int64"
            ]
          },
          "metadata": {},
          "execution_count": 142
        }
      ]
    },
    {
      "cell_type": "markdown",
      "source": [
        "The dataset is doesn't have any null values.\n",
        "\n",
        "Now, let's see if it contains any duplicated values or not."
      ],
      "metadata": {
        "id": "hjCgkX5MYNeh"
      }
    },
    {
      "cell_type": "code",
      "source": [
        "print('Number of duplicate values are:')\n",
        "df.duplicated().sum()"
      ],
      "metadata": {
        "colab": {
          "base_uri": "https://localhost:8080/"
        },
        "id": "Hxhw8qfUYKo6",
        "outputId": "b7f95684-493c-444f-d81f-ba460fd29a29"
      },
      "execution_count": null,
      "outputs": [
        {
          "output_type": "stream",
          "name": "stdout",
          "text": [
            "Number of duplicate values are:\n"
          ]
        },
        {
          "output_type": "execute_result",
          "data": {
            "text/plain": [
              "0"
            ]
          },
          "metadata": {},
          "execution_count": 143
        }
      ]
    },
    {
      "cell_type": "markdown",
      "source": [
        "There are no duplicated values and neither null values. It means that the dataset is already cleaned."
      ],
      "metadata": {
        "id": "T1_SmyKOZR8o"
      }
    },
    {
      "cell_type": "code",
      "source": [
        "df.describe()"
      ],
      "metadata": {
        "colab": {
          "base_uri": "https://localhost:8080/",
          "height": 300
        },
        "id": "Pb8swLjuZxad",
        "outputId": "ba564bc5-6f1e-46dd-d040-64739d76bb23"
      },
      "execution_count": null,
      "outputs": [
        {
          "output_type": "execute_result",
          "data": {
            "text/plain": [
              "              open         high          low        close     adjclose  \\\n",
              "count  4020.000000  4020.000000  4020.000000  4020.000000  4020.000000   \n",
              "mean     60.440736    61.664331    59.190716    60.450184    60.450184   \n",
              "std      45.214629    46.099126    44.301286    45.243413    45.243413   \n",
              "min       5.210000     5.760000     5.170000     5.260000     5.260000   \n",
              "25%      27.217500    28.090000    26.347500    27.257500    27.257500   \n",
              "50%      47.105000    48.285000    45.925000    46.915000    46.915000   \n",
              "75%      74.812500    76.102500    73.792500    74.910000    74.910000   \n",
              "max     218.590000   218.950000   206.910000   212.660000   212.660000   \n",
              "\n",
              "             volume  \n",
              "count  4.020000e+03  \n",
              "mean   4.057901e+05  \n",
              "std    3.088664e+05  \n",
              "min    1.290000e+04  \n",
              "25%    2.390000e+05  \n",
              "50%    3.421500e+05  \n",
              "75%    4.905250e+05  \n",
              "max    7.218400e+06  "
            ],
            "text/html": [
              "\n",
              "  <div id=\"df-f7991411-32b3-4795-aed6-7a96aaafade9\">\n",
              "    <div class=\"colab-df-container\">\n",
              "      <div>\n",
              "<style scoped>\n",
              "    .dataframe tbody tr th:only-of-type {\n",
              "        vertical-align: middle;\n",
              "    }\n",
              "\n",
              "    .dataframe tbody tr th {\n",
              "        vertical-align: top;\n",
              "    }\n",
              "\n",
              "    .dataframe thead th {\n",
              "        text-align: right;\n",
              "    }\n",
              "</style>\n",
              "<table border=\"1\" class=\"dataframe\">\n",
              "  <thead>\n",
              "    <tr style=\"text-align: right;\">\n",
              "      <th></th>\n",
              "      <th>open</th>\n",
              "      <th>high</th>\n",
              "      <th>low</th>\n",
              "      <th>close</th>\n",
              "      <th>adjclose</th>\n",
              "      <th>volume</th>\n",
              "    </tr>\n",
              "  </thead>\n",
              "  <tbody>\n",
              "    <tr>\n",
              "      <th>count</th>\n",
              "      <td>4020.000000</td>\n",
              "      <td>4020.000000</td>\n",
              "      <td>4020.000000</td>\n",
              "      <td>4020.000000</td>\n",
              "      <td>4020.000000</td>\n",
              "      <td>4.020000e+03</td>\n",
              "    </tr>\n",
              "    <tr>\n",
              "      <th>mean</th>\n",
              "      <td>60.440736</td>\n",
              "      <td>61.664331</td>\n",
              "      <td>59.190716</td>\n",
              "      <td>60.450184</td>\n",
              "      <td>60.450184</td>\n",
              "      <td>4.057901e+05</td>\n",
              "    </tr>\n",
              "    <tr>\n",
              "      <th>std</th>\n",
              "      <td>45.214629</td>\n",
              "      <td>46.099126</td>\n",
              "      <td>44.301286</td>\n",
              "      <td>45.243413</td>\n",
              "      <td>45.243413</td>\n",
              "      <td>3.088664e+05</td>\n",
              "    </tr>\n",
              "    <tr>\n",
              "      <th>min</th>\n",
              "      <td>5.210000</td>\n",
              "      <td>5.760000</td>\n",
              "      <td>5.170000</td>\n",
              "      <td>5.260000</td>\n",
              "      <td>5.260000</td>\n",
              "      <td>1.290000e+04</td>\n",
              "    </tr>\n",
              "    <tr>\n",
              "      <th>25%</th>\n",
              "      <td>27.217500</td>\n",
              "      <td>28.090000</td>\n",
              "      <td>26.347500</td>\n",
              "      <td>27.257500</td>\n",
              "      <td>27.257500</td>\n",
              "      <td>2.390000e+05</td>\n",
              "    </tr>\n",
              "    <tr>\n",
              "      <th>50%</th>\n",
              "      <td>47.105000</td>\n",
              "      <td>48.285000</td>\n",
              "      <td>45.925000</td>\n",
              "      <td>46.915000</td>\n",
              "      <td>46.915000</td>\n",
              "      <td>3.421500e+05</td>\n",
              "    </tr>\n",
              "    <tr>\n",
              "      <th>75%</th>\n",
              "      <td>74.812500</td>\n",
              "      <td>76.102500</td>\n",
              "      <td>73.792500</td>\n",
              "      <td>74.910000</td>\n",
              "      <td>74.910000</td>\n",
              "      <td>4.905250e+05</td>\n",
              "    </tr>\n",
              "    <tr>\n",
              "      <th>max</th>\n",
              "      <td>218.590000</td>\n",
              "      <td>218.950000</td>\n",
              "      <td>206.910000</td>\n",
              "      <td>212.660000</td>\n",
              "      <td>212.660000</td>\n",
              "      <td>7.218400e+06</td>\n",
              "    </tr>\n",
              "  </tbody>\n",
              "</table>\n",
              "</div>\n",
              "      <button class=\"colab-df-convert\" onclick=\"convertToInteractive('df-f7991411-32b3-4795-aed6-7a96aaafade9')\"\n",
              "              title=\"Convert this dataframe to an interactive table.\"\n",
              "              style=\"display:none;\">\n",
              "        \n",
              "  <svg xmlns=\"http://www.w3.org/2000/svg\" height=\"24px\"viewBox=\"0 0 24 24\"\n",
              "       width=\"24px\">\n",
              "    <path d=\"M0 0h24v24H0V0z\" fill=\"none\"/>\n",
              "    <path d=\"M18.56 5.44l.94 2.06.94-2.06 2.06-.94-2.06-.94-.94-2.06-.94 2.06-2.06.94zm-11 1L8.5 8.5l.94-2.06 2.06-.94-2.06-.94L8.5 2.5l-.94 2.06-2.06.94zm10 10l.94 2.06.94-2.06 2.06-.94-2.06-.94-.94-2.06-.94 2.06-2.06.94z\"/><path d=\"M17.41 7.96l-1.37-1.37c-.4-.4-.92-.59-1.43-.59-.52 0-1.04.2-1.43.59L10.3 9.45l-7.72 7.72c-.78.78-.78 2.05 0 2.83L4 21.41c.39.39.9.59 1.41.59.51 0 1.02-.2 1.41-.59l7.78-7.78 2.81-2.81c.8-.78.8-2.07 0-2.86zM5.41 20L4 18.59l7.72-7.72 1.47 1.35L5.41 20z\"/>\n",
              "  </svg>\n",
              "      </button>\n",
              "      \n",
              "  <style>\n",
              "    .colab-df-container {\n",
              "      display:flex;\n",
              "      flex-wrap:wrap;\n",
              "      gap: 12px;\n",
              "    }\n",
              "\n",
              "    .colab-df-convert {\n",
              "      background-color: #E8F0FE;\n",
              "      border: none;\n",
              "      border-radius: 50%;\n",
              "      cursor: pointer;\n",
              "      display: none;\n",
              "      fill: #1967D2;\n",
              "      height: 32px;\n",
              "      padding: 0 0 0 0;\n",
              "      width: 32px;\n",
              "    }\n",
              "\n",
              "    .colab-df-convert:hover {\n",
              "      background-color: #E2EBFA;\n",
              "      box-shadow: 0px 1px 2px rgba(60, 64, 67, 0.3), 0px 1px 3px 1px rgba(60, 64, 67, 0.15);\n",
              "      fill: #174EA6;\n",
              "    }\n",
              "\n",
              "    [theme=dark] .colab-df-convert {\n",
              "      background-color: #3B4455;\n",
              "      fill: #D2E3FC;\n",
              "    }\n",
              "\n",
              "    [theme=dark] .colab-df-convert:hover {\n",
              "      background-color: #434B5C;\n",
              "      box-shadow: 0px 1px 3px 1px rgba(0, 0, 0, 0.15);\n",
              "      filter: drop-shadow(0px 1px 2px rgba(0, 0, 0, 0.3));\n",
              "      fill: #FFFFFF;\n",
              "    }\n",
              "  </style>\n",
              "\n",
              "      <script>\n",
              "        const buttonEl =\n",
              "          document.querySelector('#df-f7991411-32b3-4795-aed6-7a96aaafade9 button.colab-df-convert');\n",
              "        buttonEl.style.display =\n",
              "          google.colab.kernel.accessAllowed ? 'block' : 'none';\n",
              "\n",
              "        async function convertToInteractive(key) {\n",
              "          const element = document.querySelector('#df-f7991411-32b3-4795-aed6-7a96aaafade9');\n",
              "          const dataTable =\n",
              "            await google.colab.kernel.invokeFunction('convertToInteractive',\n",
              "                                                     [key], {});\n",
              "          if (!dataTable) return;\n",
              "\n",
              "          const docLinkHtml = 'Like what you see? Visit the ' +\n",
              "            '<a target=\"_blank\" href=https://colab.research.google.com/notebooks/data_table.ipynb>data table notebook</a>'\n",
              "            + ' to learn more about interactive tables.';\n",
              "          element.innerHTML = '';\n",
              "          dataTable['output_type'] = 'display_data';\n",
              "          await google.colab.output.renderOutput(dataTable, element);\n",
              "          const docLink = document.createElement('div');\n",
              "          docLink.innerHTML = docLinkHtml;\n",
              "          element.appendChild(docLink);\n",
              "        }\n",
              "      </script>\n",
              "    </div>\n",
              "  </div>\n",
              "  "
            ]
          },
          "metadata": {},
          "execution_count": 144
        }
      ]
    },
    {
      "cell_type": "markdown",
      "source": [
        "I WILL GO NOW TO CREATE A MODEL THAT PROVIDES US THE PRICE OF THE COMPANY, WE WILL ANSWER THE QUESTION, IS IT WORTH INVESTING IN THIS COMPANY?"
      ],
      "metadata": {
        "id": "t6mMj-QbcG6z"
      }
    },
    {
      "cell_type": "markdown",
      "source": [
        "I will use **Linear Regression** to create the model.\n",
        "\n",
        "I am interested in the dependence of the company's closing price on the volume (source of price changes)\n"
      ],
      "metadata": {
        "id": "UC4tVdWJpwgB"
      }
    },
    {
      "cell_type": "code",
      "source": [
        "sns.pairplot(pd.DataFrame(df, columns=[ 'volume', 'close']))\n",
        "plt.show()"
      ],
      "metadata": {
        "id": "EZM48emTug94",
        "colab": {
          "base_uri": "https://localhost:8080/",
          "height": 374
        },
        "outputId": "df1af25d-d6df-447c-c827-21580d017084"
      },
      "execution_count": null,
      "outputs": [
        {
          "output_type": "display_data",
          "data": {
            "text/plain": [
              "<Figure size 360x360 with 6 Axes>"
            ],
            "image/png": "[encoded data removed]"
          },
          "metadata": {
            "needs_background": "light"
          }
        }
      ]
    },
    {
      "cell_type": "code",
      "source": [
        "X = df[['volume']].values      \n",
        "y = df[['close']].values  "
      ],
      "metadata": {
        "id": "HJothivgert7"
      },
      "execution_count": null,
      "outputs": []
    },
    {
      "cell_type": "markdown",
      "source": [
        "# Model Selection"
      ],
      "metadata": {
        "id": "KEBTbhpTfMOi"
      }
    },
    {
      "cell_type": "code",
      "source": [
        "X_train, X_test, y_train, y_test = train_test_split(X, y, test_size = 0.2, random_state=42)"
      ],
      "metadata": {
        "id": "gSA-rkPnzc1p"
      },
      "execution_count": null,
      "outputs": []
    },
    {
      "cell_type": "code",
      "source": [
        "len(X_train)"
      ],
      "metadata": {
        "id": "dZYDqa1WDF0k",
        "colab": {
          "base_uri": "https://localhost:8080/"
        },
        "outputId": "6c3535db-2fdf-4156-f5b1-6e8ea9ee4c85"
      },
      "execution_count": null,
      "outputs": [
        {
          "output_type": "execute_result",
          "data": {
            "text/plain": [
              "3216"
            ]
          },
          "metadata": {},
          "execution_count": 148
        }
      ]
    },
    {
      "cell_type": "code",
      "source": [
        "len(X_test)"
      ],
      "metadata": {
        "id": "KdPANPEEDKWp",
        "colab": {
          "base_uri": "https://localhost:8080/"
        },
        "outputId": "83f93c01-4f24-4c5e-caac-3b09ecfa7bab"
      },
      "execution_count": null,
      "outputs": [
        {
          "output_type": "execute_result",
          "data": {
            "text/plain": [
              "804"
            ]
          },
          "metadata": {},
          "execution_count": 149
        }
      ]
    },
    {
      "cell_type": "markdown",
      "source": [
        "# MODEL TRAIN \n",
        "\n"
      ],
      "metadata": {
        "id": "s4RwQvIQfed3"
      }
    },
    {
      "cell_type": "code",
      "source": [
        "sc = StandardScaler()\n",
        "X_sc = sc.fit_transform(X_train)"
      ],
      "metadata": {
        "id": "7Fisr4ob61Mj"
      },
      "execution_count": null,
      "outputs": []
    },
    {
      "cell_type": "markdown",
      "source": [
        "# Linear Regression"
      ],
      "metadata": {
        "id": "LvogCErLjlgs"
      }
    },
    {
      "cell_type": "code",
      "source": [
        "lr = LinearRegression()\n",
        "lr.fit(X_sc, y_train)"
      ],
      "metadata": {
        "colab": {
          "base_uri": "https://localhost:8080/"
        },
        "id": "dm-wVpX2e-ys",
        "outputId": "11495d86-2bfa-48cf-b872-c979ab7e4284"
      },
      "execution_count": null,
      "outputs": [
        {
          "output_type": "execute_result",
          "data": {
            "text/plain": [
              "LinearRegression()"
            ]
          },
          "metadata": {},
          "execution_count": 151
        }
      ]
    },
    {
      "cell_type": "code",
      "source": [
        "fig, ax = plt.subplots()        \n",
        "ax.scatter(X_sc, y_train) \n",
        "    \n",
        "ax.plot(X_sc, lr.predict(X_sc), c='r')\n",
        "plt.xlabel('volume')\n",
        "plt.ylabel('close')\n",
        "plt.show()"
      ],
      "metadata": {
        "colab": {
          "base_uri": "https://localhost:8080/",
          "height": 279
        },
        "id": "YRvh7OQka_nd",
        "outputId": "a9a1525d-51e8-4dd1-e2d8-f1fbaa5a7b40"
      },
      "execution_count": null,
      "outputs": [
        {
          "output_type": "display_data",
          "data": {
            "text/plain": [
              "<Figure size 432x288 with 1 Axes>"
            ],
            "image/png": "[encoded data removed]"
          },
          "metadata": {
            "needs_background": "light"
          }
        }
      ]
    },
    {
      "cell_type": "code",
      "source": [
        "lr.score(X_sc, y_train)"
      ],
      "metadata": {
        "colab": {
          "base_uri": "https://localhost:8080/"
        },
        "id": "PqYEg8gIbPJg",
        "outputId": "e8ae592a-b451-466e-a76d-c71b44a8484e"
      },
      "execution_count": null,
      "outputs": [
        {
          "output_type": "execute_result",
          "data": {
            "text/plain": [
              "0.0026380816443731803"
            ]
          },
          "metadata": {},
          "execution_count": 153
        }
      ]
    },
    {
      "cell_type": "code",
      "source": [
        "lr.intercept_"
      ],
      "metadata": {
        "colab": {
          "base_uri": "https://localhost:8080/"
        },
        "id": "LSJHS1DMa-gV",
        "outputId": "82ad4706-62d2-40fd-a19e-57563fe3b940"
      },
      "execution_count": null,
      "outputs": [
        {
          "output_type": "execute_result",
          "data": {
            "text/plain": [
              "array([60.59432214])"
            ]
          },
          "metadata": {},
          "execution_count": 154
        }
      ]
    },
    {
      "cell_type": "code",
      "source": [
        "lr.coef_"
      ],
      "metadata": {
        "colab": {
          "base_uri": "https://localhost:8080/"
        },
        "id": "weXSEAdLc3SQ",
        "outputId": "47fc7d30-57bc-4d85-9e86-4b1b942da803"
      },
      "execution_count": null,
      "outputs": [
        {
          "output_type": "execute_result",
          "data": {
            "text/plain": [
              "array([[2.32264511]])"
            ]
          },
          "metadata": {},
          "execution_count": 155
        }
      ]
    },
    {
      "cell_type": "markdown",
      "source": [
        "# MODEL TEST"
      ],
      "metadata": {
        "id": "VRZQpIHNvBEc"
      }
    },
    {
      "cell_type": "code",
      "source": [
        "X_test_sc = sc.transform(X_test)"
      ],
      "metadata": {
        "id": "kW0tsqtR1X7j"
      },
      "execution_count": null,
      "outputs": []
    },
    {
      "cell_type": "code",
      "source": [
        "lr.score(X_test_sc, y_test)"
      ],
      "metadata": {
        "id": "XLnrYtW-15MG",
        "colab": {
          "base_uri": "https://localhost:8080/"
        },
        "outputId": "2abf7835-2280-48eb-8067-3a6e64a13be1"
      },
      "execution_count": null,
      "outputs": [
        {
          "output_type": "execute_result",
          "data": {
            "text/plain": [
              "0.005366637913616024"
            ]
          },
          "metadata": {},
          "execution_count": 157
        }
      ]
    },
    {
      "cell_type": "markdown",
      "source": [
        "#PREDICT"
      ],
      "metadata": {
        "id": "tBjEtfhUmUNy"
      }
    },
    {
      "cell_type": "markdown",
      "source": [
        "**Estimated closing price**"
      ],
      "metadata": {
        "id": "gcft2M1Jc_as"
      }
    },
    {
      "cell_type": "code",
      "source": [
        "selected_day = df.sample(random_state=66)\n",
        "selected_day"
      ],
      "metadata": {
        "id": "UwbL-Sbf9C5O",
        "colab": {
          "base_uri": "https://localhost:8080/",
          "height": 81
        },
        "outputId": "35941454-fa70-481e-830b-a8a4c5834159"
      },
      "execution_count": null,
      "outputs": [
        {
          "output_type": "execute_result",
          "data": {
            "text/plain": [
              "             open   high    low  close  adjclose  volume ticker\n",
              "2011-10-21  51.38  53.19  51.06  53.18     53.18  380800   GTLS"
            ],
            "text/html": [
              "\n",
              "  <div id=\"df-4d99f34f-653e-421a-b977-896d23d290af\">\n",
              "    <div class=\"colab-df-container\">\n",
              "      <div>\n",
              "<style scoped>\n",
              "    .dataframe tbody tr th:only-of-type {\n",
              "        vertical-align: middle;\n",
              "    }\n",
              "\n",
              "    .dataframe tbody tr th {\n",
              "        vertical-align: top;\n",
              "    }\n",
              "\n",
              "    .dataframe thead th {\n",
              "        text-align: right;\n",
              "    }\n",
              "</style>\n",
              "<table border=\"1\" class=\"dataframe\">\n",
              "  <thead>\n",
              "    <tr style=\"text-align: right;\">\n",
              "      <th></th>\n",
              "      <th>open</th>\n",
              "      <th>high</th>\n",
              "      <th>low</th>\n",
              "      <th>close</th>\n",
              "      <th>adjclose</th>\n",
              "      <th>volume</th>\n",
              "      <th>ticker</th>\n",
              "    </tr>\n",
              "  </thead>\n",
              "  <tbody>\n",
              "    <tr>\n",
              "      <th>2011-10-21</th>\n",
              "      <td>51.38</td>\n",
              "      <td>53.19</td>\n",
              "      <td>51.06</td>\n",
              "      <td>53.18</td>\n",
              "      <td>53.18</td>\n",
              "      <td>380800</td>\n",
              "      <td>GTLS</td>\n",
              "    </tr>\n",
              "  </tbody>\n",
              "</table>\n",
              "</div>\n",
              "      <button class=\"colab-df-convert\" onclick=\"convertToInteractive('df-4d99f34f-653e-421a-b977-896d23d290af')\"\n",
              "              title=\"Convert this dataframe to an interactive table.\"\n",
              "              style=\"display:none;\">\n",
              "        \n",
              "  <svg xmlns=\"http://www.w3.org/2000/svg\" height=\"24px\"viewBox=\"0 0 24 24\"\n",
              "       width=\"24px\">\n",
              "    <path d=\"M0 0h24v24H0V0z\" fill=\"none\"/>\n",
              "    <path d=\"M18.56 5.44l.94 2.06.94-2.06 2.06-.94-2.06-.94-.94-2.06-.94 2.06-2.06.94zm-11 1L8.5 8.5l.94-2.06 2.06-.94-2.06-.94L8.5 2.5l-.94 2.06-2.06.94zm10 10l.94 2.06.94-2.06 2.06-.94-2.06-.94-.94-2.06-.94 2.06-2.06.94z\"/><path d=\"M17.41 7.96l-1.37-1.37c-.4-.4-.92-.59-1.43-.59-.52 0-1.04.2-1.43.59L10.3 9.45l-7.72 7.72c-.78.78-.78 2.05 0 2.83L4 21.41c.39.39.9.59 1.41.59.51 0 1.02-.2 1.41-.59l7.78-7.78 2.81-2.81c.8-.78.8-2.07 0-2.86zM5.41 20L4 18.59l7.72-7.72 1.47 1.35L5.41 20z\"/>\n",
              "  </svg>\n",
              "      </button>\n",
              "      \n",
              "  <style>\n",
              "    .colab-df-container {\n",
              "      display:flex;\n",
              "      flex-wrap:wrap;\n",
              "      gap: 12px;\n",
              "    }\n",
              "\n",
              "    .colab-df-convert {\n",
              "      background-color: #E8F0FE;\n",
              "      border: none;\n",
              "      border-radius: 50%;\n",
              "      cursor: pointer;\n",
              "      display: none;\n",
              "      fill: #1967D2;\n",
              "      height: 32px;\n",
              "      padding: 0 0 0 0;\n",
              "      width: 32px;\n",
              "    }\n",
              "\n",
              "    .colab-df-convert:hover {\n",
              "      background-color: #E2EBFA;\n",
              "      box-shadow: 0px 1px 2px rgba(60, 64, 67, 0.3), 0px 1px 3px 1px rgba(60, 64, 67, 0.15);\n",
              "      fill: #174EA6;\n",
              "    }\n",
              "\n",
              "    [theme=dark] .colab-df-convert {\n",
              "      background-color: #3B4455;\n",
              "      fill: #D2E3FC;\n",
              "    }\n",
              "\n",
              "    [theme=dark] .colab-df-convert:hover {\n",
              "      background-color: #434B5C;\n",
              "      box-shadow: 0px 1px 3px 1px rgba(0, 0, 0, 0.15);\n",
              "      filter: drop-shadow(0px 1px 2px rgba(0, 0, 0, 0.3));\n",
              "      fill: #FFFFFF;\n",
              "    }\n",
              "  </style>\n",
              "\n",
              "      <script>\n",
              "        const buttonEl =\n",
              "          document.querySelector('#df-4d99f34f-653e-421a-b977-896d23d290af button.colab-df-convert');\n",
              "        buttonEl.style.display =\n",
              "          google.colab.kernel.accessAllowed ? 'block' : 'none';\n",
              "\n",
              "        async function convertToInteractive(key) {\n",
              "          const element = document.querySelector('#df-4d99f34f-653e-421a-b977-896d23d290af');\n",
              "          const dataTable =\n",
              "            await google.colab.kernel.invokeFunction('convertToInteractive',\n",
              "                                                     [key], {});\n",
              "          if (!dataTable) return;\n",
              "\n",
              "          const docLinkHtml = 'Like what you see? Visit the ' +\n",
              "            '<a target=\"_blank\" href=https://colab.research.google.com/notebooks/data_table.ipynb>data table notebook</a>'\n",
              "            + ' to learn more about interactive tables.';\n",
              "          element.innerHTML = '';\n",
              "          dataTable['output_type'] = 'display_data';\n",
              "          await google.colab.output.renderOutput(dataTable, element);\n",
              "          const docLink = document.createElement('div');\n",
              "          docLink.innerHTML = docLinkHtml;\n",
              "          element.appendChild(docLink);\n",
              "        }\n",
              "      </script>\n",
              "    </div>\n",
              "  </div>\n",
              "  "
            ]
          },
          "metadata": {},
          "execution_count": 158
        }
      ]
    },
    {
      "cell_type": "code",
      "source": [
        "to_predict = df[['volume']].sample(random_state=66)\n",
        "to_predict"
      ],
      "metadata": {
        "colab": {
          "base_uri": "https://localhost:8080/",
          "height": 81
        },
        "id": "E1jBYOmu_o6j",
        "outputId": "3ecab2f1-f41f-498f-dc25-56a61bdbbfda"
      },
      "execution_count": null,
      "outputs": [
        {
          "output_type": "execute_result",
          "data": {
            "text/plain": [
              "            volume\n",
              "2011-10-21  380800"
            ],
            "text/html": [
              "\n",
              "  <div id=\"df-9f1d4c5a-ba34-40d4-9267-37a88a4ec54d\">\n",
              "    <div class=\"colab-df-container\">\n",
              "      <div>\n",
              "<style scoped>\n",
              "    .dataframe tbody tr th:only-of-type {\n",
              "        vertical-align: middle;\n",
              "    }\n",
              "\n",
              "    .dataframe tbody tr th {\n",
              "        vertical-align: top;\n",
              "    }\n",
              "\n",
              "    .dataframe thead th {\n",
              "        text-align: right;\n",
              "    }\n",
              "</style>\n",
              "<table border=\"1\" class=\"dataframe\">\n",
              "  <thead>\n",
              "    <tr style=\"text-align: right;\">\n",
              "      <th></th>\n",
              "      <th>volume</th>\n",
              "    </tr>\n",
              "  </thead>\n",
              "  <tbody>\n",
              "    <tr>\n",
              "      <th>2011-10-21</th>\n",
              "      <td>380800</td>\n",
              "    </tr>\n",
              "  </tbody>\n",
              "</table>\n",
              "</div>\n",
              "      <button class=\"colab-df-convert\" onclick=\"convertToInteractive('df-9f1d4c5a-ba34-40d4-9267-37a88a4ec54d')\"\n",
              "              title=\"Convert this dataframe to an interactive table.\"\n",
              "              style=\"display:none;\">\n",
              "        \n",
              "  <svg xmlns=\"http://www.w3.org/2000/svg\" height=\"24px\"viewBox=\"0 0 24 24\"\n",
              "       width=\"24px\">\n",
              "    <path d=\"M0 0h24v24H0V0z\" fill=\"none\"/>\n",
              "    <path d=\"M18.56 5.44l.94 2.06.94-2.06 2.06-.94-2.06-.94-.94-2.06-.94 2.06-2.06.94zm-11 1L8.5 8.5l.94-2.06 2.06-.94-2.06-.94L8.5 2.5l-.94 2.06-2.06.94zm10 10l.94 2.06.94-2.06 2.06-.94-2.06-.94-.94-2.06-.94 2.06-2.06.94z\"/><path d=\"M17.41 7.96l-1.37-1.37c-.4-.4-.92-.59-1.43-.59-.52 0-1.04.2-1.43.59L10.3 9.45l-7.72 7.72c-.78.78-.78 2.05 0 2.83L4 21.41c.39.39.9.59 1.41.59.51 0 1.02-.2 1.41-.59l7.78-7.78 2.81-2.81c.8-.78.8-2.07 0-2.86zM5.41 20L4 18.59l7.72-7.72 1.47 1.35L5.41 20z\"/>\n",
              "  </svg>\n",
              "      </button>\n",
              "      \n",
              "  <style>\n",
              "    .colab-df-container {\n",
              "      display:flex;\n",
              "      flex-wrap:wrap;\n",
              "      gap: 12px;\n",
              "    }\n",
              "\n",
              "    .colab-df-convert {\n",
              "      background-color: #E8F0FE;\n",
              "      border: none;\n",
              "      border-radius: 50%;\n",
              "      cursor: pointer;\n",
              "      display: none;\n",
              "      fill: #1967D2;\n",
              "      height: 32px;\n",
              "      padding: 0 0 0 0;\n",
              "      width: 32px;\n",
              "    }\n",
              "\n",
              "    .colab-df-convert:hover {\n",
              "      background-color: #E2EBFA;\n",
              "      box-shadow: 0px 1px 2px rgba(60, 64, 67, 0.3), 0px 1px 3px 1px rgba(60, 64, 67, 0.15);\n",
              "      fill: #174EA6;\n",
              "    }\n",
              "\n",
              "    [theme=dark] .colab-df-convert {\n",
              "      background-color: #3B4455;\n",
              "      fill: #D2E3FC;\n",
              "    }\n",
              "\n",
              "    [theme=dark] .colab-df-convert:hover {\n",
              "      background-color: #434B5C;\n",
              "      box-shadow: 0px 1px 3px 1px rgba(0, 0, 0, 0.15);\n",
              "      filter: drop-shadow(0px 1px 2px rgba(0, 0, 0, 0.3));\n",
              "      fill: #FFFFFF;\n",
              "    }\n",
              "  </style>\n",
              "\n",
              "      <script>\n",
              "        const buttonEl =\n",
              "          document.querySelector('#df-9f1d4c5a-ba34-40d4-9267-37a88a4ec54d button.colab-df-convert');\n",
              "        buttonEl.style.display =\n",
              "          google.colab.kernel.accessAllowed ? 'block' : 'none';\n",
              "\n",
              "        async function convertToInteractive(key) {\n",
              "          const element = document.querySelector('#df-9f1d4c5a-ba34-40d4-9267-37a88a4ec54d');\n",
              "          const dataTable =\n",
              "            await google.colab.kernel.invokeFunction('convertToInteractive',\n",
              "                                                     [key], {});\n",
              "          if (!dataTable) return;\n",
              "\n",
              "          const docLinkHtml = 'Like what you see? Visit the ' +\n",
              "            '<a target=\"_blank\" href=https://colab.research.google.com/notebooks/data_table.ipynb>data table notebook</a>'\n",
              "            + ' to learn more about interactive tables.';\n",
              "          element.innerHTML = '';\n",
              "          dataTable['output_type'] = 'display_data';\n",
              "          await google.colab.output.renderOutput(dataTable, element);\n",
              "          const docLink = document.createElement('div');\n",
              "          docLink.innerHTML = docLinkHtml;\n",
              "          element.appendChild(docLink);\n",
              "        }\n",
              "      </script>\n",
              "    </div>\n",
              "  </div>\n",
              "  "
            ]
          },
          "metadata": {},
          "execution_count": 159
        }
      ]
    },
    {
      "cell_type": "code",
      "source": [
        "data_to_predict_sc = sc.transform(to_predict) \n",
        "data_to_predict_sc"
      ],
      "metadata": {
        "colab": {
          "base_uri": "https://localhost:8080/"
        },
        "id": "guI-STZ4m3Ex",
        "outputId": "4958a49c-1752-4d7c-8574-ce029ce1732b"
      },
      "execution_count": null,
      "outputs": [
        {
          "output_type": "stream",
          "name": "stderr",
          "text": [
            "/usr/local/lib/python3.7/dist-packages/sklearn/base.py:444: UserWarning:\n",
            "\n",
            "X has feature names, but StandardScaler was fitted without feature names\n",
            "\n"
          ]
        },
        {
          "output_type": "execute_result",
          "data": {
            "text/plain": [
              "array([[-0.09440831]])"
            ]
          },
          "metadata": {},
          "execution_count": 160
        }
      ]
    },
    {
      "cell_type": "code",
      "source": [
        "price_close_predict = lr.predict(data_to_predict_sc) \n",
        "price_close_predict"
      ],
      "metadata": {
        "colab": {
          "base_uri": "https://localhost:8080/"
        },
        "id": "Qe5MZpF_nV3w",
        "outputId": "81cad083-2210-4b01-bcda-a8e6fb5f90d8"
      },
      "execution_count": null,
      "outputs": [
        {
          "output_type": "execute_result",
          "data": {
            "text/plain": [
              "array([[60.37504513]])"
            ]
          },
          "metadata": {},
          "execution_count": 161
        }
      ]
    },
    {
      "cell_type": "markdown",
      "source": [
        "# Grid Search"
      ],
      "metadata": {
        "id": "VsVD7XvEoMZp"
      }
    },
    {
      "cell_type": "code",
      "source": [
        "rfr = RandomForestRegressor()"
      ],
      "metadata": {
        "id": "ZcGdxO5hoWKw"
      },
      "execution_count": null,
      "outputs": []
    },
    {
      "cell_type": "code",
      "source": [
        "params = {'n_estimators': [1,2, 3,5,7,8,9,10], 'max_depth': [2,3,4,5], 'min_samples_split': [5,10,15,20]}\n",
        "gs = GridSearchCV(estimator=rfr, param_grid=params)"
      ],
      "metadata": {
        "id": "Z4V-cetSoW0D"
      },
      "execution_count": null,
      "outputs": []
    },
    {
      "cell_type": "code",
      "source": [
        "gs.fit(X_train, y_train.ravel())"
      ],
      "metadata": {
        "colab": {
          "base_uri": "https://localhost:8080/"
        },
        "id": "vyOLwReioWqE",
        "outputId": "97895da4-fc65-4644-a556-c3ca11dfd107"
      },
      "execution_count": null,
      "outputs": [
        {
          "output_type": "execute_result",
          "data": {
            "text/plain": [
              "GridSearchCV(estimator=RandomForestRegressor(),\n",
              "             param_grid={'max_depth': [2, 3, 4, 5],\n",
              "                         'min_samples_split': [5, 10, 15, 20],\n",
              "                         'n_estimators': [1, 2, 3, 5, 7, 8, 9, 10]})"
            ]
          },
          "metadata": {},
          "execution_count": 164
        }
      ]
    },
    {
      "cell_type": "code",
      "source": [
        "gs.best_estimator_"
      ],
      "metadata": {
        "colab": {
          "base_uri": "https://localhost:8080/"
        },
        "id": "VWQ5mSnNoWeN",
        "outputId": "a3c759ee-8281-47c1-f2ed-8d2ceab56c55"
      },
      "execution_count": null,
      "outputs": [
        {
          "output_type": "execute_result",
          "data": {
            "text/plain": [
              "RandomForestRegressor(max_depth=3, min_samples_split=5, n_estimators=10)"
            ]
          },
          "metadata": {},
          "execution_count": 165
        }
      ]
    },
    {
      "cell_type": "code",
      "source": [
        "gs.best_score_"
      ],
      "metadata": {
        "colab": {
          "base_uri": "https://localhost:8080/"
        },
        "id": "hs9RhRmlokAz",
        "outputId": "2e1cdf5e-55cf-45a4-fd3d-4f55b33b6a70"
      },
      "execution_count": null,
      "outputs": [
        {
          "output_type": "execute_result",
          "data": {
            "text/plain": [
              "0.04041432416047983"
            ]
          },
          "metadata": {},
          "execution_count": 166
        }
      ]
    },
    {
      "cell_type": "code",
      "source": [
        "print(f\"{gs.score(X_train, y_train.ravel()):.2f}\")\n",
        "print(f\"{gs.score(X_test, y_test.ravel()):.2f}\")"
      ],
      "metadata": {
        "colab": {
          "base_uri": "https://localhost:8080/"
        },
        "id": "hg3JpuXnoniL",
        "outputId": "e59e0f95-daba-4760-8cb3-04b454b289ec"
      },
      "execution_count": null,
      "outputs": [
        {
          "output_type": "stream",
          "name": "stdout",
          "text": [
            "0.06\n",
            "0.04\n"
          ]
        }
      ]
    },
    {
      "cell_type": "markdown",
      "source": [
        "#Collected training and testing results of the model"
      ],
      "metadata": {
        "id": "iTmG3RISotjn"
      }
    },
    {
      "cell_type": "code",
      "source": [
        "print(\"Score on the: \\n\\n\"\n",
        "     f\"Training Model - Linear Regression: {lr.score(X_sc, y_train):.2f}\\n\"\n",
        "     f\"Testing Model  - Linear Regression: {lr.score(X_test_sc, y_test):.2f}\\n\\n\"  \n",
        "     f\"Training Model - Grid Search: {gs.score(X_train, y_train.ravel()):.2f}\\n\"\n",
        "     f\"Testing Model  - Grid Search: {gs.score(X_test, y_test.ravel()):.2f}\\n\\n\") "
      ],
      "metadata": {
        "colab": {
          "base_uri": "https://localhost:8080/"
        },
        "id": "8KwIfaXRoyKt",
        "outputId": "66478ac1-26fd-491f-c5d5-47412562b4b9"
      },
      "execution_count": null,
      "outputs": [
        {
          "output_type": "stream",
          "name": "stdout",
          "text": [
            "Score on the: \n",
            "\n",
            "Training Model - Linear Regression: 0.00\n",
            "Testing Model  - Linear Regression: 0.01\n",
            "\n",
            "Training Model - Grid Search: 0.06\n",
            "Testing Model  - Grid Search: 0.04\n",
            "\n",
            "\n"
          ]
        }
      ]
    },
    {
      "cell_type": "markdown",
      "source": [
        "#Let's see if the model predicted well."
      ],
      "metadata": {
        "id": "osgXHX4v_ldN"
      }
    },
    {
      "cell_type": "code",
      "source": [
        "day = selected_day.index[0]\n",
        "predict_day = day.isoformat()\n",
        "predict_day"
      ],
      "metadata": {
        "colab": {
          "base_uri": "https://localhost:8080/",
          "height": 36
        },
        "id": "NxoQ2miydqTc",
        "outputId": "5f910c78-dbc5-45d4-9fa7-17ec63026e24"
      },
      "execution_count": null,
      "outputs": [
        {
          "output_type": "execute_result",
          "data": {
            "text/plain": [
              "'2011-10-21T00:00:00'"
            ],
            "application/vnd.google.colaboratory.intrinsic+json": {
              "type": "string"
            }
          },
          "metadata": {},
          "execution_count": 169
        }
      ]
    },
    {
      "cell_type": "code",
      "source": [
        "today = date.today()\n",
        "end_date = today.isoformat()\n",
        "end_date"
      ],
      "metadata": {
        "colab": {
          "base_uri": "https://localhost:8080/",
          "height": 36
        },
        "id": "HrbpYLiOX7f1",
        "outputId": "c9524a37-c611-4bee-b768-3634e911f002"
      },
      "execution_count": null,
      "outputs": [
        {
          "output_type": "execute_result",
          "data": {
            "text/plain": [
              "'2022-10-31'"
            ],
            "application/vnd.google.colaboratory.intrinsic+json": {
              "type": "string"
            }
          },
          "metadata": {},
          "execution_count": 170
        }
      ]
    },
    {
      "cell_type": "markdown",
      "source": [
        "Company data from the selected date until today."
      ],
      "metadata": {
        "id": "Hvjm0fkhgKPh"
      }
    },
    {
      "cell_type": "code",
      "source": [
        "data_set = yh.get_data(name_max_day,predict_day, end_date, index_as_date = True)\n",
        "data_set"
      ],
      "metadata": {
        "id": "yORfGFVG_gK7",
        "colab": {
          "base_uri": "https://localhost:8080/",
          "height": 424
        },
        "outputId": "4f20a68a-259d-4e00-954d-eb6d714a00c3"
      },
      "execution_count": null,
      "outputs": [
        {
          "output_type": "execute_result",
          "data": {
            "text/plain": [
              "                  open        high         low       close    adjclose  \\\n",
              "2011-10-21   51.380001   53.189999   51.060001   53.180000   53.180000   \n",
              "2011-10-24   53.509998   56.119999   53.500000   55.490002   55.490002   \n",
              "2011-10-25   54.790001   55.209999   52.740002   53.090000   53.090000   \n",
              "2011-10-26   54.700001   57.119999   54.700001   56.310001   56.310001   \n",
              "2011-10-27   59.320000   59.950001   50.669998   56.270000   56.270000   \n",
              "...                ...         ...         ...         ...         ...   \n",
              "2022-10-24  201.440002  204.259995  198.820007  202.110001  202.110001   \n",
              "2022-10-25  200.979996  209.429993  200.979996  204.889999  204.889999   \n",
              "2022-10-26  206.479996  207.050003  201.520004  205.800003  205.800003   \n",
              "2022-10-27  206.000000  209.039993  202.559998  204.160004  204.160004   \n",
              "2022-10-28  202.000000  213.429993  186.520004  212.660004  212.660004   \n",
              "\n",
              "             volume ticker  \n",
              "2011-10-21   380800   GTLS  \n",
              "2011-10-24   387100   GTLS  \n",
              "2011-10-25   289700   GTLS  \n",
              "2011-10-26  1116000   GTLS  \n",
              "2011-10-27  2259600   GTLS  \n",
              "...             ...    ...  \n",
              "2022-10-24   331800   GTLS  \n",
              "2022-10-25   320600   GTLS  \n",
              "2022-10-26   338700   GTLS  \n",
              "2022-10-27   707900   GTLS  \n",
              "2022-10-28   833800   GTLS  \n",
              "\n",
              "[2774 rows x 7 columns]"
            ],
            "text/html": [
              "\n",
              "  <div id=\"df-dca45f5a-0b14-4b16-9b8d-210665d6964a\">\n",
              "    <div class=\"colab-df-container\">\n",
              "      <div>\n",
              "<style scoped>\n",
              "    .dataframe tbody tr th:only-of-type {\n",
              "        vertical-align: middle;\n",
              "    }\n",
              "\n",
              "    .dataframe tbody tr th {\n",
              "        vertical-align: top;\n",
              "    }\n",
              "\n",
              "    .dataframe thead th {\n",
              "        text-align: right;\n",
              "    }\n",
              "</style>\n",
              "<table border=\"1\" class=\"dataframe\">\n",
              "  <thead>\n",
              "    <tr style=\"text-align: right;\">\n",
              "      <th></th>\n",
              "      <th>open</th>\n",
              "      <th>high</th>\n",
              "      <th>low</th>\n",
              "      <th>close</th>\n",
              "      <th>adjclose</th>\n",
              "      <th>volume</th>\n",
              "      <th>ticker</th>\n",
              "    </tr>\n",
              "  </thead>\n",
              "  <tbody>\n",
              "    <tr>\n",
              "      <th>2011-10-21</th>\n",
              "      <td>51.380001</td>\n",
              "      <td>53.189999</td>\n",
              "      <td>51.060001</td>\n",
              "      <td>53.180000</td>\n",
              "      <td>53.180000</td>\n",
              "      <td>380800</td>\n",
              "      <td>GTLS</td>\n",
              "    </tr>\n",
              "    <tr>\n",
              "      <th>2011-10-24</th>\n",
              "      <td>53.509998</td>\n",
              "      <td>56.119999</td>\n",
              "      <td>53.500000</td>\n",
              "      <td>55.490002</td>\n",
              "      <td>55.490002</td>\n",
              "      <td>387100</td>\n",
              "      <td>GTLS</td>\n",
              "    </tr>\n",
              "    <tr>\n",
              "      <th>2011-10-25</th>\n",
              "      <td>54.790001</td>\n",
              "      <td>55.209999</td>\n",
              "      <td>52.740002</td>\n",
              "      <td>53.090000</td>\n",
              "      <td>53.090000</td>\n",
              "      <td>289700</td>\n",
              "      <td>GTLS</td>\n",
              "    </tr>\n",
              "    <tr>\n",
              "      <th>2011-10-26</th>\n",
              "      <td>54.700001</td>\n",
              "      <td>57.119999</td>\n",
              "      <td>54.700001</td>\n",
              "      <td>56.310001</td>\n",
              "      <td>56.310001</td>\n",
              "      <td>1116000</td>\n",
              "      <td>GTLS</td>\n",
              "    </tr>\n",
              "    <tr>\n",
              "      <th>2011-10-27</th>\n",
              "      <td>59.320000</td>\n",
              "      <td>59.950001</td>\n",
              "      <td>50.669998</td>\n",
              "      <td>56.270000</td>\n",
              "      <td>56.270000</td>\n",
              "      <td>2259600</td>\n",
              "      <td>GTLS</td>\n",
              "    </tr>\n",
              "    <tr>\n",
              "      <th>...</th>\n",
              "      <td>...</td>\n",
              "      <td>...</td>\n",
              "      <td>...</td>\n",
              "      <td>...</td>\n",
              "      <td>...</td>\n",
              "      <td>...</td>\n",
              "      <td>...</td>\n",
              "    </tr>\n",
              "    <tr>\n",
              "      <th>2022-10-24</th>\n",
              "      <td>201.440002</td>\n",
              "      <td>204.259995</td>\n",
              "      <td>198.820007</td>\n",
              "      <td>202.110001</td>\n",
              "      <td>202.110001</td>\n",
              "      <td>331800</td>\n",
              "      <td>GTLS</td>\n",
              "    </tr>\n",
              "    <tr>\n",
              "      <th>2022-10-25</th>\n",
              "      <td>200.979996</td>\n",
              "      <td>209.429993</td>\n",
              "      <td>200.979996</td>\n",
              "      <td>204.889999</td>\n",
              "      <td>204.889999</td>\n",
              "      <td>320600</td>\n",
              "      <td>GTLS</td>\n",
              "    </tr>\n",
              "    <tr>\n",
              "      <th>2022-10-26</th>\n",
              "      <td>206.479996</td>\n",
              "      <td>207.050003</td>\n",
              "      <td>201.520004</td>\n",
              "      <td>205.800003</td>\n",
              "      <td>205.800003</td>\n",
              "      <td>338700</td>\n",
              "      <td>GTLS</td>\n",
              "    </tr>\n",
              "    <tr>\n",
              "      <th>2022-10-27</th>\n",
              "      <td>206.000000</td>\n",
              "      <td>209.039993</td>\n",
              "      <td>202.559998</td>\n",
              "      <td>204.160004</td>\n",
              "      <td>204.160004</td>\n",
              "      <td>707900</td>\n",
              "      <td>GTLS</td>\n",
              "    </tr>\n",
              "    <tr>\n",
              "      <th>2022-10-28</th>\n",
              "      <td>202.000000</td>\n",
              "      <td>213.429993</td>\n",
              "      <td>186.520004</td>\n",
              "      <td>212.660004</td>\n",
              "      <td>212.660004</td>\n",
              "      <td>833800</td>\n",
              "      <td>GTLS</td>\n",
              "    </tr>\n",
              "  </tbody>\n",
              "</table>\n",
              "<p>2774 rows × 7 columns</p>\n",
              "</div>\n",
              "      <button class=\"colab-df-convert\" onclick=\"convertToInteractive('df-dca45f5a-0b14-4b16-9b8d-210665d6964a')\"\n",
              "              title=\"Convert this dataframe to an interactive table.\"\n",
              "              style=\"display:none;\">\n",
              "        \n",
              "  <svg xmlns=\"http://www.w3.org/2000/svg\" height=\"24px\"viewBox=\"0 0 24 24\"\n",
              "       width=\"24px\">\n",
              "    <path d=\"M0 0h24v24H0V0z\" fill=\"none\"/>\n",
              "    <path d=\"M18.56 5.44l.94 2.06.94-2.06 2.06-.94-2.06-.94-.94-2.06-.94 2.06-2.06.94zm-11 1L8.5 8.5l.94-2.06 2.06-.94-2.06-.94L8.5 2.5l-.94 2.06-2.06.94zm10 10l.94 2.06.94-2.06 2.06-.94-2.06-.94-.94-2.06-.94 2.06-2.06.94z\"/><path d=\"M17.41 7.96l-1.37-1.37c-.4-.4-.92-.59-1.43-.59-.52 0-1.04.2-1.43.59L10.3 9.45l-7.72 7.72c-.78.78-.78 2.05 0 2.83L4 21.41c.39.39.9.59 1.41.59.51 0 1.02-.2 1.41-.59l7.78-7.78 2.81-2.81c.8-.78.8-2.07 0-2.86zM5.41 20L4 18.59l7.72-7.72 1.47 1.35L5.41 20z\"/>\n",
              "  </svg>\n",
              "      </button>\n",
              "      \n",
              "  <style>\n",
              "    .colab-df-container {\n",
              "      display:flex;\n",
              "      flex-wrap:wrap;\n",
              "      gap: 12px;\n",
              "    }\n",
              "\n",
              "    .colab-df-convert {\n",
              "      background-color: #E8F0FE;\n",
              "      border: none;\n",
              "      border-radius: 50%;\n",
              "      cursor: pointer;\n",
              "      display: none;\n",
              "      fill: #1967D2;\n",
              "      height: 32px;\n",
              "      padding: 0 0 0 0;\n",
              "      width: 32px;\n",
              "    }\n",
              "\n",
              "    .colab-df-convert:hover {\n",
              "      background-color: #E2EBFA;\n",
              "      box-shadow: 0px 1px 2px rgba(60, 64, 67, 0.3), 0px 1px 3px 1px rgba(60, 64, 67, 0.15);\n",
              "      fill: #174EA6;\n",
              "    }\n",
              "\n",
              "    [theme=dark] .colab-df-convert {\n",
              "      background-color: #3B4455;\n",
              "      fill: #D2E3FC;\n",
              "    }\n",
              "\n",
              "    [theme=dark] .colab-df-convert:hover {\n",
              "      background-color: #434B5C;\n",
              "      box-shadow: 0px 1px 3px 1px rgba(0, 0, 0, 0.15);\n",
              "      filter: drop-shadow(0px 1px 2px rgba(0, 0, 0, 0.3));\n",
              "      fill: #FFFFFF;\n",
              "    }\n",
              "  </style>\n",
              "\n",
              "      <script>\n",
              "        const buttonEl =\n",
              "          document.querySelector('#df-dca45f5a-0b14-4b16-9b8d-210665d6964a button.colab-df-convert');\n",
              "        buttonEl.style.display =\n",
              "          google.colab.kernel.accessAllowed ? 'block' : 'none';\n",
              "\n",
              "        async function convertToInteractive(key) {\n",
              "          const element = document.querySelector('#df-dca45f5a-0b14-4b16-9b8d-210665d6964a');\n",
              "          const dataTable =\n",
              "            await google.colab.kernel.invokeFunction('convertToInteractive',\n",
              "                                                     [key], {});\n",
              "          if (!dataTable) return;\n",
              "\n",
              "          const docLinkHtml = 'Like what you see? Visit the ' +\n",
              "            '<a target=\"_blank\" href=https://colab.research.google.com/notebooks/data_table.ipynb>data table notebook</a>'\n",
              "            + ' to learn more about interactive tables.';\n",
              "          element.innerHTML = '';\n",
              "          dataTable['output_type'] = 'display_data';\n",
              "          await google.colab.output.renderOutput(dataTable, element);\n",
              "          const docLink = document.createElement('div');\n",
              "          docLink.innerHTML = docLinkHtml;\n",
              "          element.appendChild(docLink);\n",
              "        }\n",
              "      </script>\n",
              "    </div>\n",
              "  </div>\n",
              "  "
            ]
          },
          "metadata": {},
          "execution_count": 171
        }
      ]
    },
    {
      "cell_type": "code",
      "source": [
        "fig, ax=plt.subplots(figsize=(18,6))  \n",
        "\n",
        "ax.plot(data_set.index, data_set['close'], color='r')               \n",
        "\n",
        "ax.set_xlabel('Date')\n",
        "ax.set_ylabel('Price [$]')\n",
        "\n",
        "ax.set_title('Behavior of the company', fontsize=16)\n",
        "ax.xaxis.set_tick_params(rotation=90)\n",
        "plt.show()"
      ],
      "metadata": {
        "id": "wEflKgiJ9uxy",
        "colab": {
          "base_uri": "https://localhost:8080/",
          "height": 421
        },
        "outputId": "9a42620e-8045-4957-ffdd-d5f01d3001b4"
      },
      "execution_count": null,
      "outputs": [
        {
          "output_type": "display_data",
          "data": {
            "text/plain": [
              "<Figure size 1296x432 with 1 Axes>"
            ],
            "image/png": "[encoded data removed]"
          },
          "metadata": {
            "needs_background": "light"
          }
        }
      ]
    },
    {
      "cell_type": "markdown",
      "source": [
        "**Conclusion:**\n",
        "\n",
        "\n",
        "*   Percentage increase in the company's shares after three months: **5,55%**\n",
        "*   Percentage increase in the company's shares after one month: **7,45%**\n",
        "\n",
        "\n",
        "*   The model predicted an increase in the company's closing price.\n",
        "\n",
        "**Would you invest in the above company - remember - the investment risk is associated with the inability to predict 100% what will happen with your investment in the future.**\n",
        "\n",
        "**You will never invest without risk. A proven method of its reduction is the diversification of the portfolio held, which allows you to secure some of your funds. It is also worth acting in accordance with a well-thought-out investment strategy, the implementation of which will bring you closer to the overarching goal - profit.**\n",
        "\n",
        "\n"
      ],
      "metadata": {
        "id": "TRdkI4KdRq_m"
      }
    }
  ]
}