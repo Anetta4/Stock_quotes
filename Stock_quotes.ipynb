{
  "nbformat": 4,
  "nbformat_minor": 0,
  "metadata": {
    "colab": {
      "provenance": [],
      "collapsed_sections": []
    },
    "kernelspec": {
      "name": "python3",
      "display_name": "Python 3"
    },
    "language_info": {
      "name": "python"
    }
  },
  "cells": [
    {
      "cell_type": "markdown",
      "source": [
        "#**About Dataset:** \n",
        "\n",
        "Analysis of te company that reached the maximum price intraday.\n",
        "\n",
        "Thesis: Is it worth investing in a company that has reached the maximum price intraday? Are there any grounds to invest in it?\n",
        "\n",
        "The analyzed data changes every day as the company that has reached the maximum price changes.\n",
        "\n",
        "We can analyze a different company every day.\n",
        "\n",
        "Dataset is Yahoo Finance. At Yahoo Finance, we get free stock quotes, the latest news, portfolio management resources, international market data, social interaction and mortgage rates to help you manage your financial."
      ],
      "metadata": {
        "id": "K5KiyrCdfZHJ"
      }
    },
    {
      "cell_type": "markdown",
      "source": [
        "#Importing data"
      ],
      "metadata": {
        "id": "dZzmpu60mDEq"
      }
    },
    {
      "cell_type": "code",
      "source": [
        "!pip install yahoo-fin\n",
        "!pip install requests-html"
      ],
      "metadata": {
        "id": "UNXtiDhyZ9Ng"
      },
      "execution_count": null,
      "outputs": []
    },
    {
      "cell_type": "code",
      "source": [
        "!pip install yahoo_fin --upgrade"
      ],
      "metadata": {
        "id": "M6nILk0eVhV6"
      },
      "execution_count": null,
      "outputs": []
    },
    {
      "cell_type": "markdown",
      "source": [
        "#Importing dependencies"
      ],
      "metadata": {
        "id": "s19BWdFimU2B"
      }
    },
    {
      "cell_type": "code",
      "source": [
        "!pip install pmdarima"
      ],
      "metadata": {
        "id": "cpjMhqoXBp4c"
      },
      "execution_count": null,
      "outputs": []
    },
    {
      "cell_type": "code",
      "source": [
        "import yahoo_fin.stock_info as yh\n",
        "import yahoo_fin.stock_info as si\n",
        "import pandas as pd\n",
        "import matplotlib.pyplot as plt\n",
        "%matplotlib inline\n",
        "import plotly.express as px\n",
        "import time\n",
        "from datetime import date, timedelta\n",
        "import numpy as np\n",
        "import seaborn as sns\n",
        "from pandas.plotting import register_matplotlib_converters\n",
        "import io\n",
        "\n",
        "import pmdarima as pm\n",
        "from pandas.plotting import lag_plot\n",
        "\n",
        "%matplotlib inline\n",
        "register_matplotlib_converters()\n",
        "\n",
        "from pmdarima.arima import ndiffs\n",
        "from sklearn.metrics import mean_squared_error\n",
        "from pmdarima.metrics import smape"
      ],
      "metadata": {
        "id": "tO8f-EROSUlN"
      },
      "execution_count": 4,
      "outputs": []
    },
    {
      "cell_type": "markdown",
      "source": [
        "#Company review\n"
      ],
      "metadata": {
        "id": "q3O0PCvz5aP4"
      }
    },
    {
      "cell_type": "code",
      "source": [
        "response = yh.get_day_gainers()"
      ],
      "metadata": {
        "id": "1SZbf_65TC99"
      },
      "execution_count": 5,
      "outputs": []
    },
    {
      "cell_type": "code",
      "source": [
        "response.head()"
      ],
      "metadata": {
        "colab": {
          "base_uri": "https://localhost:8080/",
          "height": 206
        },
        "id": "pjkpZ6e0TUML",
        "outputId": "ef9bbb55-728c-4d80-e23c-f0c3009c3d39"
      },
      "execution_count": 6,
      "outputs": [
        {
          "output_type": "execute_result",
          "data": {
            "text/plain": [
              "  Symbol                               Name  Price (Intraday)  Change  \\\n",
              "0   TASK                       TaskUs, Inc.             21.17    5.12   \n",
              "1   FIVN                        Five9, Inc.             56.05    9.05   \n",
              "2   AAON                         AAON, Inc.             77.02   11.47   \n",
              "3   SEDG       SolarEdge Technologies, Inc.            247.60   36.30   \n",
              "4    IGT  International Game Technology PLC             23.27    3.32   \n",
              "\n",
              "   % Change     Volume  Avg Vol (3 month)    Market Cap  PE Ratio (TTM)  \n",
              "0     31.95  1971000.0           534614.0  2.078000e+09           39.93  \n",
              "1     19.26  4908000.0          1261000.0  3.929000e+09             NaN  \n",
              "2     17.50   204681.0           140539.0  4.111000e+09           74.78  \n",
              "3     17.18  2109000.0          1008000.0  1.427700e+10          103.17  \n",
              "4     16.67  1469000.0          1333000.0  4.708000e+09           30.23  "
            ],
            "text/html": [
              "\n",
              "  <div id=\"df-5deb6a38-ba81-4eed-a767-d46f7560ec33\">\n",
              "    <div class=\"colab-df-container\">\n",
              "      <div>\n",
              "<style scoped>\n",
              "    .dataframe tbody tr th:only-of-type {\n",
              "        vertical-align: middle;\n",
              "    }\n",
              "\n",
              "    .dataframe tbody tr th {\n",
              "        vertical-align: top;\n",
              "    }\n",
              "\n",
              "    .dataframe thead th {\n",
              "        text-align: right;\n",
              "    }\n",
              "</style>\n",
              "<table border=\"1\" class=\"dataframe\">\n",
              "  <thead>\n",
              "    <tr style=\"text-align: right;\">\n",
              "      <th></th>\n",
              "      <th>Symbol</th>\n",
              "      <th>Name</th>\n",
              "      <th>Price (Intraday)</th>\n",
              "      <th>Change</th>\n",
              "      <th>% Change</th>\n",
              "      <th>Volume</th>\n",
              "      <th>Avg Vol (3 month)</th>\n",
              "      <th>Market Cap</th>\n",
              "      <th>PE Ratio (TTM)</th>\n",
              "    </tr>\n",
              "  </thead>\n",
              "  <tbody>\n",
              "    <tr>\n",
              "      <th>0</th>\n",
              "      <td>TASK</td>\n",
              "      <td>TaskUs, Inc.</td>\n",
              "      <td>21.17</td>\n",
              "      <td>5.12</td>\n",
              "      <td>31.95</td>\n",
              "      <td>1971000.0</td>\n",
              "      <td>534614.0</td>\n",
              "      <td>2.078000e+09</td>\n",
              "      <td>39.93</td>\n",
              "    </tr>\n",
              "    <tr>\n",
              "      <th>1</th>\n",
              "      <td>FIVN</td>\n",
              "      <td>Five9, Inc.</td>\n",
              "      <td>56.05</td>\n",
              "      <td>9.05</td>\n",
              "      <td>19.26</td>\n",
              "      <td>4908000.0</td>\n",
              "      <td>1261000.0</td>\n",
              "      <td>3.929000e+09</td>\n",
              "      <td>NaN</td>\n",
              "    </tr>\n",
              "    <tr>\n",
              "      <th>2</th>\n",
              "      <td>AAON</td>\n",
              "      <td>AAON, Inc.</td>\n",
              "      <td>77.02</td>\n",
              "      <td>11.47</td>\n",
              "      <td>17.50</td>\n",
              "      <td>204681.0</td>\n",
              "      <td>140539.0</td>\n",
              "      <td>4.111000e+09</td>\n",
              "      <td>74.78</td>\n",
              "    </tr>\n",
              "    <tr>\n",
              "      <th>3</th>\n",
              "      <td>SEDG</td>\n",
              "      <td>SolarEdge Technologies, Inc.</td>\n",
              "      <td>247.60</td>\n",
              "      <td>36.30</td>\n",
              "      <td>17.18</td>\n",
              "      <td>2109000.0</td>\n",
              "      <td>1008000.0</td>\n",
              "      <td>1.427700e+10</td>\n",
              "      <td>103.17</td>\n",
              "    </tr>\n",
              "    <tr>\n",
              "      <th>4</th>\n",
              "      <td>IGT</td>\n",
              "      <td>International Game Technology PLC</td>\n",
              "      <td>23.27</td>\n",
              "      <td>3.32</td>\n",
              "      <td>16.67</td>\n",
              "      <td>1469000.0</td>\n",
              "      <td>1333000.0</td>\n",
              "      <td>4.708000e+09</td>\n",
              "      <td>30.23</td>\n",
              "    </tr>\n",
              "  </tbody>\n",
              "</table>\n",
              "</div>\n",
              "      <button class=\"colab-df-convert\" onclick=\"convertToInteractive('df-5deb6a38-ba81-4eed-a767-d46f7560ec33')\"\n",
              "              title=\"Convert this dataframe to an interactive table.\"\n",
              "              style=\"display:none;\">\n",
              "        \n",
              "  <svg xmlns=\"http://www.w3.org/2000/svg\" height=\"24px\"viewBox=\"0 0 24 24\"\n",
              "       width=\"24px\">\n",
              "    <path d=\"M0 0h24v24H0V0z\" fill=\"none\"/>\n",
              "    <path d=\"M18.56 5.44l.94 2.06.94-2.06 2.06-.94-2.06-.94-.94-2.06-.94 2.06-2.06.94zm-11 1L8.5 8.5l.94-2.06 2.06-.94-2.06-.94L8.5 2.5l-.94 2.06-2.06.94zm10 10l.94 2.06.94-2.06 2.06-.94-2.06-.94-.94-2.06-.94 2.06-2.06.94z\"/><path d=\"M17.41 7.96l-1.37-1.37c-.4-.4-.92-.59-1.43-.59-.52 0-1.04.2-1.43.59L10.3 9.45l-7.72 7.72c-.78.78-.78 2.05 0 2.83L4 21.41c.39.39.9.59 1.41.59.51 0 1.02-.2 1.41-.59l7.78-7.78 2.81-2.81c.8-.78.8-2.07 0-2.86zM5.41 20L4 18.59l7.72-7.72 1.47 1.35L5.41 20z\"/>\n",
              "  </svg>\n",
              "      </button>\n",
              "      \n",
              "  <style>\n",
              "    .colab-df-container {\n",
              "      display:flex;\n",
              "      flex-wrap:wrap;\n",
              "      gap: 12px;\n",
              "    }\n",
              "\n",
              "    .colab-df-convert {\n",
              "      background-color: #E8F0FE;\n",
              "      border: none;\n",
              "      border-radius: 50%;\n",
              "      cursor: pointer;\n",
              "      display: none;\n",
              "      fill: #1967D2;\n",
              "      height: 32px;\n",
              "      padding: 0 0 0 0;\n",
              "      width: 32px;\n",
              "    }\n",
              "\n",
              "    .colab-df-convert:hover {\n",
              "      background-color: #E2EBFA;\n",
              "      box-shadow: 0px 1px 2px rgba(60, 64, 67, 0.3), 0px 1px 3px 1px rgba(60, 64, 67, 0.15);\n",
              "      fill: #174EA6;\n",
              "    }\n",
              "\n",
              "    [theme=dark] .colab-df-convert {\n",
              "      background-color: #3B4455;\n",
              "      fill: #D2E3FC;\n",
              "    }\n",
              "\n",
              "    [theme=dark] .colab-df-convert:hover {\n",
              "      background-color: #434B5C;\n",
              "      box-shadow: 0px 1px 3px 1px rgba(0, 0, 0, 0.15);\n",
              "      filter: drop-shadow(0px 1px 2px rgba(0, 0, 0, 0.3));\n",
              "      fill: #FFFFFF;\n",
              "    }\n",
              "  </style>\n",
              "\n",
              "      <script>\n",
              "        const buttonEl =\n",
              "          document.querySelector('#df-5deb6a38-ba81-4eed-a767-d46f7560ec33 button.colab-df-convert');\n",
              "        buttonEl.style.display =\n",
              "          google.colab.kernel.accessAllowed ? 'block' : 'none';\n",
              "\n",
              "        async function convertToInteractive(key) {\n",
              "          const element = document.querySelector('#df-5deb6a38-ba81-4eed-a767-d46f7560ec33');\n",
              "          const dataTable =\n",
              "            await google.colab.kernel.invokeFunction('convertToInteractive',\n",
              "                                                     [key], {});\n",
              "          if (!dataTable) return;\n",
              "\n",
              "          const docLinkHtml = 'Like what you see? Visit the ' +\n",
              "            '<a target=\"_blank\" href=https://colab.research.google.com/notebooks/data_table.ipynb>data table notebook</a>'\n",
              "            + ' to learn more about interactive tables.';\n",
              "          element.innerHTML = '';\n",
              "          dataTable['output_type'] = 'display_data';\n",
              "          await google.colab.output.renderOutput(dataTable, element);\n",
              "          const docLink = document.createElement('div');\n",
              "          docLink.innerHTML = docLinkHtml;\n",
              "          element.appendChild(docLink);\n",
              "        }\n",
              "      </script>\n",
              "    </div>\n",
              "  </div>\n",
              "  "
            ]
          },
          "metadata": {},
          "execution_count": 6
        }
      ]
    },
    {
      "cell_type": "code",
      "source": [
        "response.info()"
      ],
      "metadata": {
        "colab": {
          "base_uri": "https://localhost:8080/"
        },
        "id": "MESJoioWT7pl",
        "outputId": "41721531-0269-4cb2-eba2-022b01b01dc4"
      },
      "execution_count": 7,
      "outputs": [
        {
          "output_type": "stream",
          "name": "stdout",
          "text": [
            "<class 'pandas.core.frame.DataFrame'>\n",
            "RangeIndex: 100 entries, 0 to 99\n",
            "Data columns (total 9 columns):\n",
            " #   Column             Non-Null Count  Dtype  \n",
            "---  ------             --------------  -----  \n",
            " 0   Symbol             100 non-null    object \n",
            " 1   Name               100 non-null    object \n",
            " 2   Price (Intraday)   100 non-null    float64\n",
            " 3   Change             100 non-null    float64\n",
            " 4   % Change           100 non-null    float64\n",
            " 5   Volume             100 non-null    float64\n",
            " 6   Avg Vol (3 month)  100 non-null    float64\n",
            " 7   Market Cap         100 non-null    float64\n",
            " 8   PE Ratio (TTM)     67 non-null     float64\n",
            "dtypes: float64(7), object(2)\n",
            "memory usage: 7.2+ KB\n"
          ]
        }
      ]
    },
    {
      "cell_type": "code",
      "source": [
        "response.columns"
      ],
      "metadata": {
        "colab": {
          "base_uri": "https://localhost:8080/"
        },
        "id": "Ay1B9g70sG6g",
        "outputId": "b3e8d9e0-c9f2-48b1-9724-32dce7f61a5f"
      },
      "execution_count": 8,
      "outputs": [
        {
          "output_type": "execute_result",
          "data": {
            "text/plain": [
              "Index(['Symbol', 'Name', 'Price (Intraday)', 'Change', '% Change', 'Volume',\n",
              "       'Avg Vol (3 month)', 'Market Cap', 'PE Ratio (TTM)'],\n",
              "      dtype='object')"
            ]
          },
          "metadata": {},
          "execution_count": 8
        }
      ]
    },
    {
      "cell_type": "code",
      "source": [
        "response['Symbol'].unique()"
      ],
      "metadata": {
        "colab": {
          "base_uri": "https://localhost:8080/"
        },
        "id": "7Ku5QTo5nzmX",
        "outputId": "e70f3ca2-5104-42c7-eedd-bcf4e9a87049"
      },
      "execution_count": 9,
      "outputs": [
        {
          "output_type": "execute_result",
          "data": {
            "text/plain": [
              "array(['TASK', 'FIVN', 'AAON', 'SEDG', 'IGT', 'OSH', 'VRNS', 'LTMAQ',\n",
              "       'AXSM', 'RADLY', 'SPWR', 'PLNT', 'SANM', 'PTVE', 'DNA', 'GFI',\n",
              "       'SMG', 'CERT', 'KSS', 'LPL', 'WELL', 'FN', 'PWSC', 'GFS', 'HUBS',\n",
              "       'TAC', 'OR', 'KD', 'NU', 'ARRY', 'BCLYF', 'ZHEXF', 'DKNG', 'DD',\n",
              "       'FOUR', 'EXPD', 'BLDR', 'SGML', 'TROX', 'AEM', 'GOLD', 'NEM',\n",
              "       'CSIQ', 'SQM', 'XM', 'PACB', 'TDC', 'PCCYF', 'ASH', 'NOVA', 'AU',\n",
              "       'WOLF', 'ALB', 'UNICY', 'DASH', 'AUY', 'DIOD', 'LTHM', 'PANW',\n",
              "       'LSRCY', 'RKT', 'RLLCF', 'IFNNY', 'FNV', 'FRSH', 'TEAM', 'BSY',\n",
              "       'WPM', 'PAAS', 'ESTC', 'AFRM', 'AGI', 'PYPL', 'GNRC', 'LUMN',\n",
              "       'NXST', 'FTNT', 'QGEN', 'TENB', 'GRFS', 'DISH', 'CLPBY', 'RGLD',\n",
              "       'AMGN', 'SHCAY', 'ARVN', 'ALHC', 'DT', 'KGC', 'BTG', 'ABNB', 'AG',\n",
              "       'NTR', 'CNHI', 'LAC', 'FQVLF', 'RUN', 'TXG', 'HSQVY', 'EXAS'],\n",
              "      dtype=object)"
            ]
          },
          "metadata": {},
          "execution_count": 9
        }
      ]
    },
    {
      "cell_type": "code",
      "source": [
        "response.describe()"
      ],
      "metadata": {
        "colab": {
          "base_uri": "https://localhost:8080/",
          "height": 300
        },
        "id": "ZBRi4PeKoV57",
        "outputId": "3d0f5d1a-a1ee-421b-fd27-768789d4c1d5"
      },
      "execution_count": 10,
      "outputs": [
        {
          "output_type": "execute_result",
          "data": {
            "text/plain": [
              "       Price (Intraday)      Change    % Change        Volume  \\\n",
              "count        100.000000  100.000000  100.000000  1.000000e+02   \n",
              "mean          48.437021    3.888886    8.802700  3.266357e+06   \n",
              "std           60.937830    5.389198    3.660461  5.922967e+06   \n",
              "min            0.007500    0.000500    5.700000  1.964900e+04   \n",
              "25%           11.770000    0.810000    6.780000  3.958378e+05   \n",
              "50%           28.190000    2.175000    7.780000  1.306000e+06   \n",
              "75%           63.287500    5.365000    9.247500  3.374000e+06   \n",
              "max          308.020000   36.300000   31.950000  4.243400e+07   \n",
              "\n",
              "       Avg Vol (3 month)    Market Cap  PE Ratio (TTM)  \n",
              "count       1.000000e+02  1.000000e+02       67.000000  \n",
              "mean        3.714534e+06  1.649495e+10      112.058806  \n",
              "std         5.835938e+06  2.809705e+10      582.444736  \n",
              "min         2.443000e+03  2.055000e+09        0.420000  \n",
              "25%         6.786432e+05  3.533500e+09       11.305000  \n",
              "50%         1.512000e+06  5.908000e+09       22.530000  \n",
              "75%         3.473750e+06  1.757025e+10       50.240000  \n",
              "max         3.103300e+07  1.635050e+11     4787.500000  "
            ],
            "text/html": [
              "\n",
              "  <div id=\"df-f232f00e-d5bd-49c4-9f0e-90a1a4fd6d0c\">\n",
              "    <div class=\"colab-df-container\">\n",
              "      <div>\n",
              "<style scoped>\n",
              "    .dataframe tbody tr th:only-of-type {\n",
              "        vertical-align: middle;\n",
              "    }\n",
              "\n",
              "    .dataframe tbody tr th {\n",
              "        vertical-align: top;\n",
              "    }\n",
              "\n",
              "    .dataframe thead th {\n",
              "        text-align: right;\n",
              "    }\n",
              "</style>\n",
              "<table border=\"1\" class=\"dataframe\">\n",
              "  <thead>\n",
              "    <tr style=\"text-align: right;\">\n",
              "      <th></th>\n",
              "      <th>Price (Intraday)</th>\n",
              "      <th>Change</th>\n",
              "      <th>% Change</th>\n",
              "      <th>Volume</th>\n",
              "      <th>Avg Vol (3 month)</th>\n",
              "      <th>Market Cap</th>\n",
              "      <th>PE Ratio (TTM)</th>\n",
              "    </tr>\n",
              "  </thead>\n",
              "  <tbody>\n",
              "    <tr>\n",
              "      <th>count</th>\n",
              "      <td>100.000000</td>\n",
              "      <td>100.000000</td>\n",
              "      <td>100.000000</td>\n",
              "      <td>1.000000e+02</td>\n",
              "      <td>1.000000e+02</td>\n",
              "      <td>1.000000e+02</td>\n",
              "      <td>67.000000</td>\n",
              "    </tr>\n",
              "    <tr>\n",
              "      <th>mean</th>\n",
              "      <td>48.437021</td>\n",
              "      <td>3.888886</td>\n",
              "      <td>8.802700</td>\n",
              "      <td>3.266357e+06</td>\n",
              "      <td>3.714534e+06</td>\n",
              "      <td>1.649495e+10</td>\n",
              "      <td>112.058806</td>\n",
              "    </tr>\n",
              "    <tr>\n",
              "      <th>std</th>\n",
              "      <td>60.937830</td>\n",
              "      <td>5.389198</td>\n",
              "      <td>3.660461</td>\n",
              "      <td>5.922967e+06</td>\n",
              "      <td>5.835938e+06</td>\n",
              "      <td>2.809705e+10</td>\n",
              "      <td>582.444736</td>\n",
              "    </tr>\n",
              "    <tr>\n",
              "      <th>min</th>\n",
              "      <td>0.007500</td>\n",
              "      <td>0.000500</td>\n",
              "      <td>5.700000</td>\n",
              "      <td>1.964900e+04</td>\n",
              "      <td>2.443000e+03</td>\n",
              "      <td>2.055000e+09</td>\n",
              "      <td>0.420000</td>\n",
              "    </tr>\n",
              "    <tr>\n",
              "      <th>25%</th>\n",
              "      <td>11.770000</td>\n",
              "      <td>0.810000</td>\n",
              "      <td>6.780000</td>\n",
              "      <td>3.958378e+05</td>\n",
              "      <td>6.786432e+05</td>\n",
              "      <td>3.533500e+09</td>\n",
              "      <td>11.305000</td>\n",
              "    </tr>\n",
              "    <tr>\n",
              "      <th>50%</th>\n",
              "      <td>28.190000</td>\n",
              "      <td>2.175000</td>\n",
              "      <td>7.780000</td>\n",
              "      <td>1.306000e+06</td>\n",
              "      <td>1.512000e+06</td>\n",
              "      <td>5.908000e+09</td>\n",
              "      <td>22.530000</td>\n",
              "    </tr>\n",
              "    <tr>\n",
              "      <th>75%</th>\n",
              "      <td>63.287500</td>\n",
              "      <td>5.365000</td>\n",
              "      <td>9.247500</td>\n",
              "      <td>3.374000e+06</td>\n",
              "      <td>3.473750e+06</td>\n",
              "      <td>1.757025e+10</td>\n",
              "      <td>50.240000</td>\n",
              "    </tr>\n",
              "    <tr>\n",
              "      <th>max</th>\n",
              "      <td>308.020000</td>\n",
              "      <td>36.300000</td>\n",
              "      <td>31.950000</td>\n",
              "      <td>4.243400e+07</td>\n",
              "      <td>3.103300e+07</td>\n",
              "      <td>1.635050e+11</td>\n",
              "      <td>4787.500000</td>\n",
              "    </tr>\n",
              "  </tbody>\n",
              "</table>\n",
              "</div>\n",
              "      <button class=\"colab-df-convert\" onclick=\"convertToInteractive('df-f232f00e-d5bd-49c4-9f0e-90a1a4fd6d0c')\"\n",
              "              title=\"Convert this dataframe to an interactive table.\"\n",
              "              style=\"display:none;\">\n",
              "        \n",
              "  <svg xmlns=\"http://www.w3.org/2000/svg\" height=\"24px\"viewBox=\"0 0 24 24\"\n",
              "       width=\"24px\">\n",
              "    <path d=\"M0 0h24v24H0V0z\" fill=\"none\"/>\n",
              "    <path d=\"M18.56 5.44l.94 2.06.94-2.06 2.06-.94-2.06-.94-.94-2.06-.94 2.06-2.06.94zm-11 1L8.5 8.5l.94-2.06 2.06-.94-2.06-.94L8.5 2.5l-.94 2.06-2.06.94zm10 10l.94 2.06.94-2.06 2.06-.94-2.06-.94-.94-2.06-.94 2.06-2.06.94z\"/><path d=\"M17.41 7.96l-1.37-1.37c-.4-.4-.92-.59-1.43-.59-.52 0-1.04.2-1.43.59L10.3 9.45l-7.72 7.72c-.78.78-.78 2.05 0 2.83L4 21.41c.39.39.9.59 1.41.59.51 0 1.02-.2 1.41-.59l7.78-7.78 2.81-2.81c.8-.78.8-2.07 0-2.86zM5.41 20L4 18.59l7.72-7.72 1.47 1.35L5.41 20z\"/>\n",
              "  </svg>\n",
              "      </button>\n",
              "      \n",
              "  <style>\n",
              "    .colab-df-container {\n",
              "      display:flex;\n",
              "      flex-wrap:wrap;\n",
              "      gap: 12px;\n",
              "    }\n",
              "\n",
              "    .colab-df-convert {\n",
              "      background-color: #E8F0FE;\n",
              "      border: none;\n",
              "      border-radius: 50%;\n",
              "      cursor: pointer;\n",
              "      display: none;\n",
              "      fill: #1967D2;\n",
              "      height: 32px;\n",
              "      padding: 0 0 0 0;\n",
              "      width: 32px;\n",
              "    }\n",
              "\n",
              "    .colab-df-convert:hover {\n",
              "      background-color: #E2EBFA;\n",
              "      box-shadow: 0px 1px 2px rgba(60, 64, 67, 0.3), 0px 1px 3px 1px rgba(60, 64, 67, 0.15);\n",
              "      fill: #174EA6;\n",
              "    }\n",
              "\n",
              "    [theme=dark] .colab-df-convert {\n",
              "      background-color: #3B4455;\n",
              "      fill: #D2E3FC;\n",
              "    }\n",
              "\n",
              "    [theme=dark] .colab-df-convert:hover {\n",
              "      background-color: #434B5C;\n",
              "      box-shadow: 0px 1px 3px 1px rgba(0, 0, 0, 0.15);\n",
              "      filter: drop-shadow(0px 1px 2px rgba(0, 0, 0, 0.3));\n",
              "      fill: #FFFFFF;\n",
              "    }\n",
              "  </style>\n",
              "\n",
              "      <script>\n",
              "        const buttonEl =\n",
              "          document.querySelector('#df-f232f00e-d5bd-49c4-9f0e-90a1a4fd6d0c button.colab-df-convert');\n",
              "        buttonEl.style.display =\n",
              "          google.colab.kernel.accessAllowed ? 'block' : 'none';\n",
              "\n",
              "        async function convertToInteractive(key) {\n",
              "          const element = document.querySelector('#df-f232f00e-d5bd-49c4-9f0e-90a1a4fd6d0c');\n",
              "          const dataTable =\n",
              "            await google.colab.kernel.invokeFunction('convertToInteractive',\n",
              "                                                     [key], {});\n",
              "          if (!dataTable) return;\n",
              "\n",
              "          const docLinkHtml = 'Like what you see? Visit the ' +\n",
              "            '<a target=\"_blank\" href=https://colab.research.google.com/notebooks/data_table.ipynb>data table notebook</a>'\n",
              "            + ' to learn more about interactive tables.';\n",
              "          element.innerHTML = '';\n",
              "          dataTable['output_type'] = 'display_data';\n",
              "          await google.colab.output.renderOutput(dataTable, element);\n",
              "          const docLink = document.createElement('div');\n",
              "          docLink.innerHTML = docLinkHtml;\n",
              "          element.appendChild(docLink);\n",
              "        }\n",
              "      </script>\n",
              "    </div>\n",
              "  </div>\n",
              "  "
            ]
          },
          "metadata": {},
          "execution_count": 10
        }
      ]
    },
    {
      "cell_type": "markdown",
      "source": [
        "**Which company has reached the maximum price today?**"
      ],
      "metadata": {
        "id": "7HcBj1l2Bm33"
      }
    },
    {
      "cell_type": "code",
      "source": [
        "px.bar(data_frame=response.sort_values('Symbol'), x='Symbol', y='Price (Intraday)', title='Increases of companies on a given day',\n",
        "      text_auto=True, color='Symbol', hover_data=['Name', 'Volume']) "
      ],
      "metadata": {
        "colab": {
          "base_uri": "https://localhost:8080/",
          "height": 542
        },
        "id": "LzovehYo0wL3",
        "outputId": "2764ee1d-ba24-4b68-89e0-d332aa79d8c0"
      },
      "execution_count": 11,
      "outputs": [
        {
          "output_type": "display_data",
          "data": {
            "text/html": [
              "<html>\n",
              "<head><meta charset=\"utf-8\" /></head>\n",
              "<body>\n",
              "    <div>            <script src=\"https://cdnjs.cloudflare.com/ajax/libs/mathjax/2.7.5/MathJax.js?config=TeX-AMS-MML_SVG\"></script><script type=\"text/javascript\">if (window.MathJax) {MathJax.Hub.Config({SVG: {font: \"STIX-Web\"}});}</script>                <script type=\"text/javascript\">window.PlotlyConfig = {MathJaxConfig: 'local'};</script>\n",
              "        <script src=\"https://cdn.plot.ly/plotly-2.8.3.min.js\"></script>                <div id=\"fa494646-fdef-4969-850e-1e4bad1bd506\" class=\"plotly-graph-div\" style=\"height:525px; width:100%;\"></div>            <script type=\"text/javascript\">                                    window.PLOTLYENV=window.PLOTLYENV || {};                                    if (document.getElementById(\"fa494646-fdef-4969-850e-1e4bad1bd506\")) {                    Plotly.newPlot(                        \"fa494646-fdef-4969-850e-1e4bad1bd506\",                        [{\"alignmentgroup\":\"True\",\"customdata\":[[\"AAON, Inc.\",204681.0]],\"hovertemplate\":\"Symbol=%{x}<br>Price (Intraday)=%{y}<br>Name=%{customdata[0]}<br>Volume=%{customdata[1]}<extra></extra>\",\"legendgroup\":\"AAON\",\"marker\":{\"color\":\"#636efa\",\"pattern\":{\"shape\":\"\"}},\"name\":\"AAON\",\"offsetgroup\":\"AAON\",\"orientation\":\"v\",\"showlegend\":true,\"textposition\":\"auto\",\"texttemplate\":\"%{y}\",\"x\":[\"AAON\"],\"xaxis\":\"x\",\"y\":[77.02],\"yaxis\":\"y\",\"type\":\"bar\"},{\"alignmentgroup\":\"True\",\"customdata\":[[\"Airbnb, Inc.\",3691000.0]],\"hovertemplate\":\"Symbol=%{x}<br>Price (Intraday)=%{y}<br>Name=%{customdata[0]}<br>Volume=%{customdata[1]}<extra></extra>\",\"legendgroup\":\"ABNB\",\"marker\":{\"color\":\"#EF553B\",\"pattern\":{\"shape\":\"\"}},\"name\":\"ABNB\",\"offsetgroup\":\"ABNB\",\"orientation\":\"v\",\"showlegend\":true,\"textposition\":\"auto\",\"texttemplate\":\"%{y}\",\"x\":[\"ABNB\"],\"xaxis\":\"x\",\"y\":[101.33],\"yaxis\":\"y\",\"type\":\"bar\"},{\"alignmentgroup\":\"True\",\"customdata\":[[\"Agnico Eagle Mines Limited\",2983000.0]],\"hovertemplate\":\"Symbol=%{x}<br>Price (Intraday)=%{y}<br>Name=%{customdata[0]}<br>Volume=%{customdata[1]}<extra></extra>\",\"legendgroup\":\"AEM\",\"marker\":{\"color\":\"#00cc96\",\"pattern\":{\"shape\":\"\"}},\"name\":\"AEM\",\"offsetgroup\":\"AEM\",\"orientation\":\"v\",\"showlegend\":true,\"textposition\":\"auto\",\"texttemplate\":\"%{y}\",\"x\":[\"AEM\"],\"xaxis\":\"x\",\"y\":[46.65],\"yaxis\":\"y\",\"type\":\"bar\"},{\"alignmentgroup\":\"True\",\"customdata\":[[\"Affirm Holdings, Inc.\",7770000.0]],\"hovertemplate\":\"Symbol=%{x}<br>Price (Intraday)=%{y}<br>Name=%{customdata[0]}<br>Volume=%{customdata[1]}<extra></extra>\",\"legendgroup\":\"AFRM\",\"marker\":{\"color\":\"#ab63fa\",\"pattern\":{\"shape\":\"\"}},\"name\":\"AFRM\",\"offsetgroup\":\"AFRM\",\"orientation\":\"v\",\"showlegend\":true,\"textposition\":\"auto\",\"texttemplate\":\"%{y}\",\"x\":[\"AFRM\"],\"xaxis\":\"x\",\"y\":[16.69],\"yaxis\":\"y\",\"type\":\"bar\"},{\"alignmentgroup\":\"True\",\"customdata\":[[\"First Majestic Silver Corp.\",5871000.0]],\"hovertemplate\":\"Symbol=%{x}<br>Price (Intraday)=%{y}<br>Name=%{customdata[0]}<br>Volume=%{customdata[1]}<extra></extra>\",\"legendgroup\":\"AG\",\"marker\":{\"color\":\"#FFA15A\",\"pattern\":{\"shape\":\"\"}},\"name\":\"AG\",\"offsetgroup\":\"AG\",\"orientation\":\"v\",\"showlegend\":true,\"textposition\":\"auto\",\"texttemplate\":\"%{y}\",\"x\":[\"AG\"],\"xaxis\":\"x\",\"y\":[9.57],\"yaxis\":\"y\",\"type\":\"bar\"},{\"alignmentgroup\":\"True\",\"customdata\":[[\"Alamos Gold Inc.\",3380000.0]],\"hovertemplate\":\"Symbol=%{x}<br>Price (Intraday)=%{y}<br>Name=%{customdata[0]}<br>Volume=%{customdata[1]}<extra></extra>\",\"legendgroup\":\"AGI\",\"marker\":{\"color\":\"#19d3f3\",\"pattern\":{\"shape\":\"\"}},\"name\":\"AGI\",\"offsetgroup\":\"AGI\",\"orientation\":\"v\",\"showlegend\":true,\"textposition\":\"auto\",\"texttemplate\":\"%{y}\",\"x\":[\"AGI\"],\"xaxis\":\"x\",\"y\":[8.52],\"yaxis\":\"y\",\"type\":\"bar\"},{\"alignmentgroup\":\"True\",\"customdata\":[[\"Albemarle Corporation\",1014999.9999999999]],\"hovertemplate\":\"Symbol=%{x}<br>Price (Intraday)=%{y}<br>Name=%{customdata[0]}<br>Volume=%{customdata[1]}<extra></extra>\",\"legendgroup\":\"ALB\",\"marker\":{\"color\":\"#FF6692\",\"pattern\":{\"shape\":\"\"}},\"name\":\"ALB\",\"offsetgroup\":\"ALB\",\"orientation\":\"v\",\"showlegend\":true,\"textposition\":\"auto\",\"texttemplate\":\"%{y}\",\"x\":[\"ALB\"],\"xaxis\":\"x\",\"y\":[308.02],\"yaxis\":\"y\",\"type\":\"bar\"},{\"alignmentgroup\":\"True\",\"customdata\":[[\"Alignment Healthcare, Inc.\",146218.0]],\"hovertemplate\":\"Symbol=%{x}<br>Price (Intraday)=%{y}<br>Name=%{customdata[0]}<br>Volume=%{customdata[1]}<extra></extra>\",\"legendgroup\":\"ALHC\",\"marker\":{\"color\":\"#B6E880\",\"pattern\":{\"shape\":\"\"}},\"name\":\"ALHC\",\"offsetgroup\":\"ALHC\",\"orientation\":\"v\",\"showlegend\":true,\"textposition\":\"auto\",\"texttemplate\":\"%{y}\",\"x\":[\"ALHC\"],\"xaxis\":\"x\",\"y\":[13.02],\"yaxis\":\"y\",\"type\":\"bar\"},{\"alignmentgroup\":\"True\",\"customdata\":[[\"Amgen Inc.\",3496000.0]],\"hovertemplate\":\"Symbol=%{x}<br>Price (Intraday)=%{y}<br>Name=%{customdata[0]}<br>Volume=%{customdata[1]}<extra></extra>\",\"legendgroup\":\"AMGN\",\"marker\":{\"color\":\"#FF97FF\",\"pattern\":{\"shape\":\"\"}},\"name\":\"AMGN\",\"offsetgroup\":\"AMGN\",\"orientation\":\"v\",\"showlegend\":true,\"textposition\":\"auto\",\"texttemplate\":\"%{y}\",\"x\":[\"AMGN\"],\"xaxis\":\"x\",\"y\":[295.03],\"yaxis\":\"y\",\"type\":\"bar\"},{\"alignmentgroup\":\"True\",\"customdata\":[[\"Array Technologies, Inc.\",1792000.0]],\"hovertemplate\":\"Symbol=%{x}<br>Price (Intraday)=%{y}<br>Name=%{customdata[0]}<br>Volume=%{customdata[1]}<extra></extra>\",\"legendgroup\":\"ARRY\",\"marker\":{\"color\":\"#FECB52\",\"pattern\":{\"shape\":\"\"}},\"name\":\"ARRY\",\"offsetgroup\":\"ARRY\",\"orientation\":\"v\",\"showlegend\":true,\"textposition\":\"auto\",\"texttemplate\":\"%{y}\",\"x\":[\"ARRY\"],\"xaxis\":\"x\",\"y\":[17.36],\"yaxis\":\"y\",\"type\":\"bar\"},{\"alignmentgroup\":\"True\",\"customdata\":[[\"Arvinas, Inc.\",133932.0]],\"hovertemplate\":\"Symbol=%{x}<br>Price (Intraday)=%{y}<br>Name=%{customdata[0]}<br>Volume=%{customdata[1]}<extra></extra>\",\"legendgroup\":\"ARVN\",\"marker\":{\"color\":\"#636efa\",\"pattern\":{\"shape\":\"\"}},\"name\":\"ARVN\",\"offsetgroup\":\"ARVN\",\"orientation\":\"v\",\"showlegend\":true,\"textposition\":\"auto\",\"texttemplate\":\"%{y}\",\"x\":[\"ARVN\"],\"xaxis\":\"x\",\"y\":[45.18],\"yaxis\":\"y\",\"type\":\"bar\"},{\"alignmentgroup\":\"True\",\"customdata\":[[\"Ashland Inc.\",302854.0]],\"hovertemplate\":\"Symbol=%{x}<br>Price (Intraday)=%{y}<br>Name=%{customdata[0]}<br>Volume=%{customdata[1]}<extra></extra>\",\"legendgroup\":\"ASH\",\"marker\":{\"color\":\"#EF553B\",\"pattern\":{\"shape\":\"\"}},\"name\":\"ASH\",\"offsetgroup\":\"ASH\",\"orientation\":\"v\",\"showlegend\":true,\"textposition\":\"auto\",\"texttemplate\":\"%{y}\",\"x\":[\"ASH\"],\"xaxis\":\"x\",\"y\":[110.4],\"yaxis\":\"y\",\"type\":\"bar\"},{\"alignmentgroup\":\"True\",\"customdata\":[[\"AngloGold Ashanti Limited\",1804000.0]],\"hovertemplate\":\"Symbol=%{x}<br>Price (Intraday)=%{y}<br>Name=%{customdata[0]}<br>Volume=%{customdata[1]}<extra></extra>\",\"legendgroup\":\"AU\",\"marker\":{\"color\":\"#00cc96\",\"pattern\":{\"shape\":\"\"}},\"name\":\"AU\",\"offsetgroup\":\"AU\",\"orientation\":\"v\",\"showlegend\":true,\"textposition\":\"auto\",\"texttemplate\":\"%{y}\",\"x\":[\"AU\"],\"xaxis\":\"x\",\"y\":[16.0],\"yaxis\":\"y\",\"type\":\"bar\"},{\"alignmentgroup\":\"True\",\"customdata\":[[\"Yamana Gold Inc.\",42434000.0]],\"hovertemplate\":\"Symbol=%{x}<br>Price (Intraday)=%{y}<br>Name=%{customdata[0]}<br>Volume=%{customdata[1]}<extra></extra>\",\"legendgroup\":\"AUY\",\"marker\":{\"color\":\"#ab63fa\",\"pattern\":{\"shape\":\"\"}},\"name\":\"AUY\",\"offsetgroup\":\"AUY\",\"orientation\":\"v\",\"showlegend\":true,\"textposition\":\"auto\",\"texttemplate\":\"%{y}\",\"x\":[\"AUY\"],\"xaxis\":\"x\",\"y\":[5.23],\"yaxis\":\"y\",\"type\":\"bar\"},{\"alignmentgroup\":\"True\",\"customdata\":[[\"Axsome Therapeutics, Inc.\",1072000.0]],\"hovertemplate\":\"Symbol=%{x}<br>Price (Intraday)=%{y}<br>Name=%{customdata[0]}<br>Volume=%{customdata[1]}<extra></extra>\",\"legendgroup\":\"AXSM\",\"marker\":{\"color\":\"#FFA15A\",\"pattern\":{\"shape\":\"\"}},\"name\":\"AXSM\",\"offsetgroup\":\"AXSM\",\"orientation\":\"v\",\"showlegend\":true,\"textposition\":\"auto\",\"texttemplate\":\"%{y}\",\"x\":[\"AXSM\"],\"xaxis\":\"x\",\"y\":[64.75],\"yaxis\":\"y\",\"type\":\"bar\"},{\"alignmentgroup\":\"True\",\"customdata\":[[\"Barclays PLC\",19649.0]],\"hovertemplate\":\"Symbol=%{x}<br>Price (Intraday)=%{y}<br>Name=%{customdata[0]}<br>Volume=%{customdata[1]}<extra></extra>\",\"legendgroup\":\"BCLYF\",\"marker\":{\"color\":\"#19d3f3\",\"pattern\":{\"shape\":\"\"}},\"name\":\"BCLYF\",\"offsetgroup\":\"BCLYF\",\"orientation\":\"v\",\"showlegend\":true,\"textposition\":\"auto\",\"texttemplate\":\"%{y}\",\"x\":[\"BCLYF\"],\"xaxis\":\"x\",\"y\":[1.83],\"yaxis\":\"y\",\"type\":\"bar\"},{\"alignmentgroup\":\"True\",\"customdata\":[[\"Builders FirstSource, Inc.\",1507000.0]],\"hovertemplate\":\"Symbol=%{x}<br>Price (Intraday)=%{y}<br>Name=%{customdata[0]}<br>Volume=%{customdata[1]}<extra></extra>\",\"legendgroup\":\"BLDR\",\"marker\":{\"color\":\"#FF6692\",\"pattern\":{\"shape\":\"\"}},\"name\":\"BLDR\",\"offsetgroup\":\"BLDR\",\"orientation\":\"v\",\"showlegend\":true,\"textposition\":\"auto\",\"texttemplate\":\"%{y}\",\"x\":[\"BLDR\"],\"xaxis\":\"x\",\"y\":[62.8],\"yaxis\":\"y\",\"type\":\"bar\"},{\"alignmentgroup\":\"True\",\"customdata\":[[\"Bentley Systems, Incorporated\",636684.0]],\"hovertemplate\":\"Symbol=%{x}<br>Price (Intraday)=%{y}<br>Name=%{customdata[0]}<br>Volume=%{customdata[1]}<extra></extra>\",\"legendgroup\":\"BSY\",\"marker\":{\"color\":\"#B6E880\",\"pattern\":{\"shape\":\"\"}},\"name\":\"BSY\",\"offsetgroup\":\"BSY\",\"orientation\":\"v\",\"showlegend\":true,\"textposition\":\"auto\",\"texttemplate\":\"%{y}\",\"x\":[\"BSY\"],\"xaxis\":\"x\",\"y\":[36.28],\"yaxis\":\"y\",\"type\":\"bar\"},{\"alignmentgroup\":\"True\",\"customdata\":[[\"B2Gold Corp.\",8890000.0]],\"hovertemplate\":\"Symbol=%{x}<br>Price (Intraday)=%{y}<br>Name=%{customdata[0]}<br>Volume=%{customdata[1]}<extra></extra>\",\"legendgroup\":\"BTG\",\"marker\":{\"color\":\"#FF97FF\",\"pattern\":{\"shape\":\"\"}},\"name\":\"BTG\",\"offsetgroup\":\"BTG\",\"orientation\":\"v\",\"showlegend\":true,\"textposition\":\"auto\",\"texttemplate\":\"%{y}\",\"x\":[\"BTG\"],\"xaxis\":\"x\",\"y\":[3.375],\"yaxis\":\"y\",\"type\":\"bar\"},{\"alignmentgroup\":\"True\",\"customdata\":[[\"Certara, Inc.\",501333.0]],\"hovertemplate\":\"Symbol=%{x}<br>Price (Intraday)=%{y}<br>Name=%{customdata[0]}<br>Volume=%{customdata[1]}<extra></extra>\",\"legendgroup\":\"CERT\",\"marker\":{\"color\":\"#FECB52\",\"pattern\":{\"shape\":\"\"}},\"name\":\"CERT\",\"offsetgroup\":\"CERT\",\"orientation\":\"v\",\"showlegend\":true,\"textposition\":\"auto\",\"texttemplate\":\"%{y}\",\"x\":[\"CERT\"],\"xaxis\":\"x\",\"y\":[14.03],\"yaxis\":\"y\",\"type\":\"bar\"},{\"alignmentgroup\":\"True\",\"customdata\":[[\"Coloplast A/S\",169281.0]],\"hovertemplate\":\"Symbol=%{x}<br>Price (Intraday)=%{y}<br>Name=%{customdata[0]}<br>Volume=%{customdata[1]}<extra></extra>\",\"legendgroup\":\"CLPBY\",\"marker\":{\"color\":\"#636efa\",\"pattern\":{\"shape\":\"\"}},\"name\":\"CLPBY\",\"offsetgroup\":\"CLPBY\",\"orientation\":\"v\",\"showlegend\":true,\"textposition\":\"auto\",\"texttemplate\":\"%{y}\",\"x\":[\"CLPBY\"],\"xaxis\":\"x\",\"y\":[11.32],\"yaxis\":\"y\",\"type\":\"bar\"},{\"alignmentgroup\":\"True\",\"customdata\":[[\"CNH Industrial N.V.\",3920000.0]],\"hovertemplate\":\"Symbol=%{x}<br>Price (Intraday)=%{y}<br>Name=%{customdata[0]}<br>Volume=%{customdata[1]}<extra></extra>\",\"legendgroup\":\"CNHI\",\"marker\":{\"color\":\"#EF553B\",\"pattern\":{\"shape\":\"\"}},\"name\":\"CNHI\",\"offsetgroup\":\"CNHI\",\"orientation\":\"v\",\"showlegend\":true,\"textposition\":\"auto\",\"texttemplate\":\"%{y}\",\"x\":[\"CNHI\"],\"xaxis\":\"x\",\"y\":[14.26],\"yaxis\":\"y\",\"type\":\"bar\"},{\"alignmentgroup\":\"True\",\"customdata\":[[\"Canadian Solar Inc.\",537831.0]],\"hovertemplate\":\"Symbol=%{x}<br>Price (Intraday)=%{y}<br>Name=%{customdata[0]}<br>Volume=%{customdata[1]}<extra></extra>\",\"legendgroup\":\"CSIQ\",\"marker\":{\"color\":\"#00cc96\",\"pattern\":{\"shape\":\"\"}},\"name\":\"CSIQ\",\"offsetgroup\":\"CSIQ\",\"orientation\":\"v\",\"showlegend\":true,\"textposition\":\"auto\",\"texttemplate\":\"%{y}\",\"x\":[\"CSIQ\"],\"xaxis\":\"x\",\"y\":[35.06],\"yaxis\":\"y\",\"type\":\"bar\"},{\"alignmentgroup\":\"True\",\"customdata\":[[\"DoorDash, Inc.\",3384000.0]],\"hovertemplate\":\"Symbol=%{x}<br>Price (Intraday)=%{y}<br>Name=%{customdata[0]}<br>Volume=%{customdata[1]}<extra></extra>\",\"legendgroup\":\"DASH\",\"marker\":{\"color\":\"#ab63fa\",\"pattern\":{\"shape\":\"\"}},\"name\":\"DASH\",\"offsetgroup\":\"DASH\",\"orientation\":\"v\",\"showlegend\":true,\"textposition\":\"auto\",\"texttemplate\":\"%{y}\",\"x\":[\"DASH\"],\"xaxis\":\"x\",\"y\":[55.89],\"yaxis\":\"y\",\"type\":\"bar\"},{\"alignmentgroup\":\"True\",\"customdata\":[[\"DuPont de Nemours, Inc.\",3874000.0]],\"hovertemplate\":\"Symbol=%{x}<br>Price (Intraday)=%{y}<br>Name=%{customdata[0]}<br>Volume=%{customdata[1]}<extra></extra>\",\"legendgroup\":\"DD\",\"marker\":{\"color\":\"#FFA15A\",\"pattern\":{\"shape\":\"\"}},\"name\":\"DD\",\"offsetgroup\":\"DD\",\"orientation\":\"v\",\"showlegend\":true,\"textposition\":\"auto\",\"texttemplate\":\"%{y}\",\"x\":[\"DD\"],\"xaxis\":\"x\",\"y\":[67.15],\"yaxis\":\"y\",\"type\":\"bar\"},{\"alignmentgroup\":\"True\",\"customdata\":[[\"Diodes Incorporated\",104601.0]],\"hovertemplate\":\"Symbol=%{x}<br>Price (Intraday)=%{y}<br>Name=%{customdata[0]}<br>Volume=%{customdata[1]}<extra></extra>\",\"legendgroup\":\"DIOD\",\"marker\":{\"color\":\"#19d3f3\",\"pattern\":{\"shape\":\"\"}},\"name\":\"DIOD\",\"offsetgroup\":\"DIOD\",\"orientation\":\"v\",\"showlegend\":true,\"textposition\":\"auto\",\"texttemplate\":\"%{y}\",\"x\":[\"DIOD\"],\"xaxis\":\"x\",\"y\":[78.29],\"yaxis\":\"y\",\"type\":\"bar\"},{\"alignmentgroup\":\"True\",\"customdata\":[[\"DISH Network Corporation\",2919000.0]],\"hovertemplate\":\"Symbol=%{x}<br>Price (Intraday)=%{y}<br>Name=%{customdata[0]}<br>Volume=%{customdata[1]}<extra></extra>\",\"legendgroup\":\"DISH\",\"marker\":{\"color\":\"#FF6692\",\"pattern\":{\"shape\":\"\"}},\"name\":\"DISH\",\"offsetgroup\":\"DISH\",\"orientation\":\"v\",\"showlegend\":true,\"textposition\":\"auto\",\"texttemplate\":\"%{y}\",\"x\":[\"DISH\"],\"xaxis\":\"x\",\"y\":[15.62],\"yaxis\":\"y\",\"type\":\"bar\"},{\"alignmentgroup\":\"True\",\"customdata\":[[\"DraftKings Inc.\",15272000.0]],\"hovertemplate\":\"Symbol=%{x}<br>Price (Intraday)=%{y}<br>Name=%{customdata[0]}<br>Volume=%{customdata[1]}<extra></extra>\",\"legendgroup\":\"DKNG\",\"marker\":{\"color\":\"#B6E880\",\"pattern\":{\"shape\":\"\"}},\"name\":\"DKNG\",\"offsetgroup\":\"DKNG\",\"orientation\":\"v\",\"showlegend\":true,\"textposition\":\"auto\",\"texttemplate\":\"%{y}\",\"x\":[\"DKNG\"],\"xaxis\":\"x\",\"y\":[12.83],\"yaxis\":\"y\",\"type\":\"bar\"},{\"alignmentgroup\":\"True\",\"customdata\":[[\"Ginkgo Bioworks Holdings, Inc.\",12725000.0]],\"hovertemplate\":\"Symbol=%{x}<br>Price (Intraday)=%{y}<br>Name=%{customdata[0]}<br>Volume=%{customdata[1]}<extra></extra>\",\"legendgroup\":\"DNA\",\"marker\":{\"color\":\"#FF97FF\",\"pattern\":{\"shape\":\"\"}},\"name\":\"DNA\",\"offsetgroup\":\"DNA\",\"orientation\":\"v\",\"showlegend\":true,\"textposition\":\"auto\",\"texttemplate\":\"%{y}\",\"x\":[\"DNA\"],\"xaxis\":\"x\",\"y\":[2.635],\"yaxis\":\"y\",\"type\":\"bar\"},{\"alignmentgroup\":\"True\",\"customdata\":[[\"Dynatrace, Inc.\",1169000.0]],\"hovertemplate\":\"Symbol=%{x}<br>Price (Intraday)=%{y}<br>Name=%{customdata[0]}<br>Volume=%{customdata[1]}<extra></extra>\",\"legendgroup\":\"DT\",\"marker\":{\"color\":\"#FECB52\",\"pattern\":{\"shape\":\"\"}},\"name\":\"DT\",\"offsetgroup\":\"DT\",\"orientation\":\"v\",\"showlegend\":true,\"textposition\":\"auto\",\"texttemplate\":\"%{y}\",\"x\":[\"DT\"],\"xaxis\":\"x\",\"y\":[35.87],\"yaxis\":\"y\",\"type\":\"bar\"},{\"alignmentgroup\":\"True\",\"customdata\":[[\"Elastic N.V.\",601812.0]],\"hovertemplate\":\"Symbol=%{x}<br>Price (Intraday)=%{y}<br>Name=%{customdata[0]}<br>Volume=%{customdata[1]}<extra></extra>\",\"legendgroup\":\"ESTC\",\"marker\":{\"color\":\"#636efa\",\"pattern\":{\"shape\":\"\"}},\"name\":\"ESTC\",\"offsetgroup\":\"ESTC\",\"orientation\":\"v\",\"showlegend\":true,\"textposition\":\"auto\",\"texttemplate\":\"%{y}\",\"x\":[\"ESTC\"],\"xaxis\":\"x\",\"y\":[57.6],\"yaxis\":\"y\",\"type\":\"bar\"},{\"alignmentgroup\":\"True\",\"customdata\":[[\"Exact Sciences Corporation\",1190000.0]],\"hovertemplate\":\"Symbol=%{x}<br>Price (Intraday)=%{y}<br>Name=%{customdata[0]}<br>Volume=%{customdata[1]}<extra></extra>\",\"legendgroup\":\"EXAS\",\"marker\":{\"color\":\"#EF553B\",\"pattern\":{\"shape\":\"\"}},\"name\":\"EXAS\",\"offsetgroup\":\"EXAS\",\"orientation\":\"v\",\"showlegend\":true,\"textposition\":\"auto\",\"texttemplate\":\"%{y}\",\"x\":[\"EXAS\"],\"xaxis\":\"x\",\"y\":[40.33],\"yaxis\":\"y\",\"type\":\"bar\"},{\"alignmentgroup\":\"True\",\"customdata\":[[\"Expeditors International of Washington, Inc.\",1401000.0]],\"hovertemplate\":\"Symbol=%{x}<br>Price (Intraday)=%{y}<br>Name=%{customdata[0]}<br>Volume=%{customdata[1]}<extra></extra>\",\"legendgroup\":\"EXPD\",\"marker\":{\"color\":\"#00cc96\",\"pattern\":{\"shape\":\"\"}},\"name\":\"EXPD\",\"offsetgroup\":\"EXPD\",\"orientation\":\"v\",\"showlegend\":true,\"textposition\":\"auto\",\"texttemplate\":\"%{y}\",\"x\":[\"EXPD\"],\"xaxis\":\"x\",\"y\":[103.88],\"yaxis\":\"y\",\"type\":\"bar\"},{\"alignmentgroup\":\"True\",\"customdata\":[[\"Five9, Inc.\",4908000.0]],\"hovertemplate\":\"Symbol=%{x}<br>Price (Intraday)=%{y}<br>Name=%{customdata[0]}<br>Volume=%{customdata[1]}<extra></extra>\",\"legendgroup\":\"FIVN\",\"marker\":{\"color\":\"#ab63fa\",\"pattern\":{\"shape\":\"\"}},\"name\":\"FIVN\",\"offsetgroup\":\"FIVN\",\"orientation\":\"v\",\"showlegend\":true,\"textposition\":\"auto\",\"texttemplate\":\"%{y}\",\"x\":[\"FIVN\"],\"xaxis\":\"x\",\"y\":[56.05],\"yaxis\":\"y\",\"type\":\"bar\"},{\"alignmentgroup\":\"True\",\"customdata\":[[\"Fabrinet\",213711.0]],\"hovertemplate\":\"Symbol=%{x}<br>Price (Intraday)=%{y}<br>Name=%{customdata[0]}<br>Volume=%{customdata[1]}<extra></extra>\",\"legendgroup\":\"FN\",\"marker\":{\"color\":\"#FFA15A\",\"pattern\":{\"shape\":\"\"}},\"name\":\"FN\",\"offsetgroup\":\"FN\",\"orientation\":\"v\",\"showlegend\":true,\"textposition\":\"auto\",\"texttemplate\":\"%{y}\",\"x\":[\"FN\"],\"xaxis\":\"x\",\"y\":[122.25],\"yaxis\":\"y\",\"type\":\"bar\"},{\"alignmentgroup\":\"True\",\"customdata\":[[\"Franco-Nevada Corporation\",569871.0]],\"hovertemplate\":\"Symbol=%{x}<br>Price (Intraday)=%{y}<br>Name=%{customdata[0]}<br>Volume=%{customdata[1]}<extra></extra>\",\"legendgroup\":\"FNV\",\"marker\":{\"color\":\"#19d3f3\",\"pattern\":{\"shape\":\"\"}},\"name\":\"FNV\",\"offsetgroup\":\"FNV\",\"orientation\":\"v\",\"showlegend\":true,\"textposition\":\"auto\",\"texttemplate\":\"%{y}\",\"x\":[\"FNV\"],\"xaxis\":\"x\",\"y\":[134.84],\"yaxis\":\"y\",\"type\":\"bar\"},{\"alignmentgroup\":\"True\",\"customdata\":[[\"Shift4 Payments, Inc.\",705689.0]],\"hovertemplate\":\"Symbol=%{x}<br>Price (Intraday)=%{y}<br>Name=%{customdata[0]}<br>Volume=%{customdata[1]}<extra></extra>\",\"legendgroup\":\"FOUR\",\"marker\":{\"color\":\"#FF6692\",\"pattern\":{\"shape\":\"\"}},\"name\":\"FOUR\",\"offsetgroup\":\"FOUR\",\"orientation\":\"v\",\"showlegend\":true,\"textposition\":\"auto\",\"texttemplate\":\"%{y}\",\"x\":[\"FOUR\"],\"xaxis\":\"x\",\"y\":[40.5],\"yaxis\":\"y\",\"type\":\"bar\"},{\"alignmentgroup\":\"True\",\"customdata\":[[\"First Quantum Minerals Ltd.\",36700.0]],\"hovertemplate\":\"Symbol=%{x}<br>Price (Intraday)=%{y}<br>Name=%{customdata[0]}<br>Volume=%{customdata[1]}<extra></extra>\",\"legendgroup\":\"FQVLF\",\"marker\":{\"color\":\"#B6E880\",\"pattern\":{\"shape\":\"\"}},\"name\":\"FQVLF\",\"offsetgroup\":\"FQVLF\",\"orientation\":\"v\",\"showlegend\":true,\"textposition\":\"auto\",\"texttemplate\":\"%{y}\",\"x\":[\"FQVLF\"],\"xaxis\":\"x\",\"y\":[22.67],\"yaxis\":\"y\",\"type\":\"bar\"},{\"alignmentgroup\":\"True\",\"customdata\":[[\"Freshworks Inc.\",400708.0]],\"hovertemplate\":\"Symbol=%{x}<br>Price (Intraday)=%{y}<br>Name=%{customdata[0]}<br>Volume=%{customdata[1]}<extra></extra>\",\"legendgroup\":\"FRSH\",\"marker\":{\"color\":\"#FF97FF\",\"pattern\":{\"shape\":\"\"}},\"name\":\"FRSH\",\"offsetgroup\":\"FRSH\",\"orientation\":\"v\",\"showlegend\":true,\"textposition\":\"auto\",\"texttemplate\":\"%{y}\",\"x\":[\"FRSH\"],\"xaxis\":\"x\",\"y\":[13.83],\"yaxis\":\"y\",\"type\":\"bar\"},{\"alignmentgroup\":\"True\",\"customdata\":[[\"Fortinet, Inc.\",2724000.0]],\"hovertemplate\":\"Symbol=%{x}<br>Price (Intraday)=%{y}<br>Name=%{customdata[0]}<br>Volume=%{customdata[1]}<extra></extra>\",\"legendgroup\":\"FTNT\",\"marker\":{\"color\":\"#FECB52\",\"pattern\":{\"shape\":\"\"}},\"name\":\"FTNT\",\"offsetgroup\":\"FTNT\",\"orientation\":\"v\",\"showlegend\":true,\"textposition\":\"auto\",\"texttemplate\":\"%{y}\",\"x\":[\"FTNT\"],\"xaxis\":\"x\",\"y\":[51.04],\"yaxis\":\"y\",\"type\":\"bar\"},{\"alignmentgroup\":\"True\",\"customdata\":[[\"Gold Fields Limited\",23539000.0]],\"hovertemplate\":\"Symbol=%{x}<br>Price (Intraday)=%{y}<br>Name=%{customdata[0]}<br>Volume=%{customdata[1]}<extra></extra>\",\"legendgroup\":\"GFI\",\"marker\":{\"color\":\"#636efa\",\"pattern\":{\"shape\":\"\"}},\"name\":\"GFI\",\"offsetgroup\":\"GFI\",\"orientation\":\"v\",\"showlegend\":true,\"textposition\":\"auto\",\"texttemplate\":\"%{y}\",\"x\":[\"GFI\"],\"xaxis\":\"x\",\"y\":[9.59],\"yaxis\":\"y\",\"type\":\"bar\"},{\"alignmentgroup\":\"True\",\"customdata\":[[\"GLOBALFOUNDRIES Inc.\",2123000.0]],\"hovertemplate\":\"Symbol=%{x}<br>Price (Intraday)=%{y}<br>Name=%{customdata[0]}<br>Volume=%{customdata[1]}<extra></extra>\",\"legendgroup\":\"GFS\",\"marker\":{\"color\":\"#EF553B\",\"pattern\":{\"shape\":\"\"}},\"name\":\"GFS\",\"offsetgroup\":\"GFS\",\"orientation\":\"v\",\"showlegend\":true,\"textposition\":\"auto\",\"texttemplate\":\"%{y}\",\"x\":[\"GFS\"],\"xaxis\":\"x\",\"y\":[61.69],\"yaxis\":\"y\",\"type\":\"bar\"},{\"alignmentgroup\":\"True\",\"customdata\":[[\"Generac Holdings Inc.\",1096000.0]],\"hovertemplate\":\"Symbol=%{x}<br>Price (Intraday)=%{y}<br>Name=%{customdata[0]}<br>Volume=%{customdata[1]}<extra></extra>\",\"legendgroup\":\"GNRC\",\"marker\":{\"color\":\"#00cc96\",\"pattern\":{\"shape\":\"\"}},\"name\":\"GNRC\",\"offsetgroup\":\"GNRC\",\"orientation\":\"v\",\"showlegend\":true,\"textposition\":\"auto\",\"texttemplate\":\"%{y}\",\"x\":[\"GNRC\"],\"xaxis\":\"x\",\"y\":[104.61],\"yaxis\":\"y\",\"type\":\"bar\"},{\"alignmentgroup\":\"True\",\"customdata\":[[\"Barrick Gold Corporation\",19217000.0]],\"hovertemplate\":\"Symbol=%{x}<br>Price (Intraday)=%{y}<br>Name=%{customdata[0]}<br>Volume=%{customdata[1]}<extra></extra>\",\"legendgroup\":\"GOLD\",\"marker\":{\"color\":\"#ab63fa\",\"pattern\":{\"shape\":\"\"}},\"name\":\"GOLD\",\"offsetgroup\":\"GOLD\",\"orientation\":\"v\",\"showlegend\":true,\"textposition\":\"auto\",\"texttemplate\":\"%{y}\",\"x\":[\"GOLD\"],\"xaxis\":\"x\",\"y\":[15.76],\"yaxis\":\"y\",\"type\":\"bar\"},{\"alignmentgroup\":\"True\",\"customdata\":[[\"Grifols, S.A.\",1917000.0]],\"hovertemplate\":\"Symbol=%{x}<br>Price (Intraday)=%{y}<br>Name=%{customdata[0]}<br>Volume=%{customdata[1]}<extra></extra>\",\"legendgroup\":\"GRFS\",\"marker\":{\"color\":\"#FFA15A\",\"pattern\":{\"shape\":\"\"}},\"name\":\"GRFS\",\"offsetgroup\":\"GRFS\",\"orientation\":\"v\",\"showlegend\":true,\"textposition\":\"auto\",\"texttemplate\":\"%{y}\",\"x\":[\"GRFS\"],\"xaxis\":\"x\",\"y\":[7.47],\"yaxis\":\"y\",\"type\":\"bar\"},{\"alignmentgroup\":\"True\",\"customdata\":[[\"Husqvarna AB (publ)\",43829.0]],\"hovertemplate\":\"Symbol=%{x}<br>Price (Intraday)=%{y}<br>Name=%{customdata[0]}<br>Volume=%{customdata[1]}<extra></extra>\",\"legendgroup\":\"HSQVY\",\"marker\":{\"color\":\"#19d3f3\",\"pattern\":{\"shape\":\"\"}},\"name\":\"HSQVY\",\"offsetgroup\":\"HSQVY\",\"orientation\":\"v\",\"showlegend\":true,\"textposition\":\"auto\",\"texttemplate\":\"%{y}\",\"x\":[\"HSQVY\"],\"xaxis\":\"x\",\"y\":[13.52],\"yaxis\":\"y\",\"type\":\"bar\"},{\"alignmentgroup\":\"True\",\"customdata\":[[\"HubSpot, Inc.\",409995.0]],\"hovertemplate\":\"Symbol=%{x}<br>Price (Intraday)=%{y}<br>Name=%{customdata[0]}<br>Volume=%{customdata[1]}<extra></extra>\",\"legendgroup\":\"HUBS\",\"marker\":{\"color\":\"#FF6692\",\"pattern\":{\"shape\":\"\"}},\"name\":\"HUBS\",\"offsetgroup\":\"HUBS\",\"orientation\":\"v\",\"showlegend\":true,\"textposition\":\"auto\",\"texttemplate\":\"%{y}\",\"x\":[\"HUBS\"],\"xaxis\":\"x\",\"y\":[284.77],\"yaxis\":\"y\",\"type\":\"bar\"},{\"alignmentgroup\":\"True\",\"customdata\":[[\"Infineon Technologies AG\",72920.0]],\"hovertemplate\":\"Symbol=%{x}<br>Price (Intraday)=%{y}<br>Name=%{customdata[0]}<br>Volume=%{customdata[1]}<extra></extra>\",\"legendgroup\":\"IFNNY\",\"marker\":{\"color\":\"#B6E880\",\"pattern\":{\"shape\":\"\"}},\"name\":\"IFNNY\",\"offsetgroup\":\"IFNNY\",\"orientation\":\"v\",\"showlegend\":true,\"textposition\":\"auto\",\"texttemplate\":\"%{y}\",\"x\":[\"IFNNY\"],\"xaxis\":\"x\",\"y\":[28.33],\"yaxis\":\"y\",\"type\":\"bar\"},{\"alignmentgroup\":\"True\",\"customdata\":[[\"International Game Technology PLC\",1469000.0]],\"hovertemplate\":\"Symbol=%{x}<br>Price (Intraday)=%{y}<br>Name=%{customdata[0]}<br>Volume=%{customdata[1]}<extra></extra>\",\"legendgroup\":\"IGT\",\"marker\":{\"color\":\"#FF97FF\",\"pattern\":{\"shape\":\"\"}},\"name\":\"IGT\",\"offsetgroup\":\"IGT\",\"orientation\":\"v\",\"showlegend\":true,\"textposition\":\"auto\",\"texttemplate\":\"%{y}\",\"x\":[\"IGT\"],\"xaxis\":\"x\",\"y\":[23.27],\"yaxis\":\"y\",\"type\":\"bar\"},{\"alignmentgroup\":\"True\",\"customdata\":[[\"Kyndryl Holdings, Inc.\",1496000.0]],\"hovertemplate\":\"Symbol=%{x}<br>Price (Intraday)=%{y}<br>Name=%{customdata[0]}<br>Volume=%{customdata[1]}<extra></extra>\",\"legendgroup\":\"KD\",\"marker\":{\"color\":\"#FECB52\",\"pattern\":{\"shape\":\"\"}},\"name\":\"KD\",\"offsetgroup\":\"KD\",\"orientation\":\"v\",\"showlegend\":true,\"textposition\":\"auto\",\"texttemplate\":\"%{y}\",\"x\":[\"KD\"],\"xaxis\":\"x\",\"y\":[9.86],\"yaxis\":\"y\",\"type\":\"bar\"},{\"alignmentgroup\":\"True\",\"customdata\":[[\"Kinross Gold Corporation\",16619000.0]],\"hovertemplate\":\"Symbol=%{x}<br>Price (Intraday)=%{y}<br>Name=%{customdata[0]}<br>Volume=%{customdata[1]}<extra></extra>\",\"legendgroup\":\"KGC\",\"marker\":{\"color\":\"#636efa\",\"pattern\":{\"shape\":\"\"}},\"name\":\"KGC\",\"offsetgroup\":\"KGC\",\"orientation\":\"v\",\"showlegend\":true,\"textposition\":\"auto\",\"texttemplate\":\"%{y}\",\"x\":[\"KGC\"],\"xaxis\":\"x\",\"y\":[4.1345],\"yaxis\":\"y\",\"type\":\"bar\"},{\"alignmentgroup\":\"True\",\"customdata\":[[\"Kohl's Corporation\",7101000.0]],\"hovertemplate\":\"Symbol=%{x}<br>Price (Intraday)=%{y}<br>Name=%{customdata[0]}<br>Volume=%{customdata[1]}<extra></extra>\",\"legendgroup\":\"KSS\",\"marker\":{\"color\":\"#EF553B\",\"pattern\":{\"shape\":\"\"}},\"name\":\"KSS\",\"offsetgroup\":\"KSS\",\"orientation\":\"v\",\"showlegend\":true,\"textposition\":\"auto\",\"texttemplate\":\"%{y}\",\"x\":[\"KSS\"],\"xaxis\":\"x\",\"y\":[29.59],\"yaxis\":\"y\",\"type\":\"bar\"},{\"alignmentgroup\":\"True\",\"customdata\":[[\"Lithium Americas Corp.\",1430000.0]],\"hovertemplate\":\"Symbol=%{x}<br>Price (Intraday)=%{y}<br>Name=%{customdata[0]}<br>Volume=%{customdata[1]}<extra></extra>\",\"legendgroup\":\"LAC\",\"marker\":{\"color\":\"#00cc96\",\"pattern\":{\"shape\":\"\"}},\"name\":\"LAC\",\"offsetgroup\":\"LAC\",\"orientation\":\"v\",\"showlegend\":true,\"textposition\":\"auto\",\"texttemplate\":\"%{y}\",\"x\":[\"LAC\"],\"xaxis\":\"x\",\"y\":[28.05],\"yaxis\":\"y\",\"type\":\"bar\"},{\"alignmentgroup\":\"True\",\"customdata\":[[\"LG Display Co., Ltd.\",358750.0]],\"hovertemplate\":\"Symbol=%{x}<br>Price (Intraday)=%{y}<br>Name=%{customdata[0]}<br>Volume=%{customdata[1]}<extra></extra>\",\"legendgroup\":\"LPL\",\"marker\":{\"color\":\"#ab63fa\",\"pattern\":{\"shape\":\"\"}},\"name\":\"LPL\",\"offsetgroup\":\"LPL\",\"orientation\":\"v\",\"showlegend\":true,\"textposition\":\"auto\",\"texttemplate\":\"%{y}\",\"x\":[\"LPL\"],\"xaxis\":\"x\",\"y\":[5.32],\"yaxis\":\"y\",\"type\":\"bar\"},{\"alignmentgroup\":\"True\",\"customdata\":[[\"Lasertec Corporation\",79189.0]],\"hovertemplate\":\"Symbol=%{x}<br>Price (Intraday)=%{y}<br>Name=%{customdata[0]}<br>Volume=%{customdata[1]}<extra></extra>\",\"legendgroup\":\"LSRCY\",\"marker\":{\"color\":\"#FFA15A\",\"pattern\":{\"shape\":\"\"}},\"name\":\"LSRCY\",\"offsetgroup\":\"LSRCY\",\"orientation\":\"v\",\"showlegend\":true,\"textposition\":\"auto\",\"texttemplate\":\"%{y}\",\"x\":[\"LSRCY\"],\"xaxis\":\"x\",\"y\":[32.04],\"yaxis\":\"y\",\"type\":\"bar\"},{\"alignmentgroup\":\"True\",\"customdata\":[[\"Livent Corporation\",1566000.0]],\"hovertemplate\":\"Symbol=%{x}<br>Price (Intraday)=%{y}<br>Name=%{customdata[0]}<br>Volume=%{customdata[1]}<extra></extra>\",\"legendgroup\":\"LTHM\",\"marker\":{\"color\":\"#19d3f3\",\"pattern\":{\"shape\":\"\"}},\"name\":\"LTHM\",\"offsetgroup\":\"LTHM\",\"orientation\":\"v\",\"showlegend\":true,\"textposition\":\"auto\",\"texttemplate\":\"%{y}\",\"x\":[\"LTHM\"],\"xaxis\":\"x\",\"y\":[32.55],\"yaxis\":\"y\",\"type\":\"bar\"},{\"alignmentgroup\":\"True\",\"customdata\":[[\"LATAM Airlines Group S.A.\",3372000.0]],\"hovertemplate\":\"Symbol=%{x}<br>Price (Intraday)=%{y}<br>Name=%{customdata[0]}<br>Volume=%{customdata[1]}<extra></extra>\",\"legendgroup\":\"LTMAQ\",\"marker\":{\"color\":\"#FF6692\",\"pattern\":{\"shape\":\"\"}},\"name\":\"LTMAQ\",\"offsetgroup\":\"LTMAQ\",\"orientation\":\"v\",\"showlegend\":true,\"textposition\":\"auto\",\"texttemplate\":\"%{y}\",\"x\":[\"LTMAQ\"],\"xaxis\":\"x\",\"y\":[0.42],\"yaxis\":\"y\",\"type\":\"bar\"},{\"alignmentgroup\":\"True\",\"customdata\":[[\"Lumen Technologies, Inc.\",14234000.0]],\"hovertemplate\":\"Symbol=%{x}<br>Price (Intraday)=%{y}<br>Name=%{customdata[0]}<br>Volume=%{customdata[1]}<extra></extra>\",\"legendgroup\":\"LUMN\",\"marker\":{\"color\":\"#B6E880\",\"pattern\":{\"shape\":\"\"}},\"name\":\"LUMN\",\"offsetgroup\":\"LUMN\",\"orientation\":\"v\",\"showlegend\":true,\"textposition\":\"auto\",\"texttemplate\":\"%{y}\",\"x\":[\"LUMN\"],\"xaxis\":\"x\",\"y\":[6.45],\"yaxis\":\"y\",\"type\":\"bar\"},{\"alignmentgroup\":\"True\",\"customdata\":[[\"Newmont Corporation\",5754000.0]],\"hovertemplate\":\"Symbol=%{x}<br>Price (Intraday)=%{y}<br>Name=%{customdata[0]}<br>Volume=%{customdata[1]}<extra></extra>\",\"legendgroup\":\"NEM\",\"marker\":{\"color\":\"#FF97FF\",\"pattern\":{\"shape\":\"\"}},\"name\":\"NEM\",\"offsetgroup\":\"NEM\",\"orientation\":\"v\",\"showlegend\":true,\"textposition\":\"auto\",\"texttemplate\":\"%{y}\",\"x\":[\"NEM\"],\"xaxis\":\"x\",\"y\":[44.66],\"yaxis\":\"y\",\"type\":\"bar\"},{\"alignmentgroup\":\"True\",\"customdata\":[[\"Sunnova Energy International Inc.\",1688000.0]],\"hovertemplate\":\"Symbol=%{x}<br>Price (Intraday)=%{y}<br>Name=%{customdata[0]}<br>Volume=%{customdata[1]}<extra></extra>\",\"legendgroup\":\"NOVA\",\"marker\":{\"color\":\"#FECB52\",\"pattern\":{\"shape\":\"\"}},\"name\":\"NOVA\",\"offsetgroup\":\"NOVA\",\"orientation\":\"v\",\"showlegend\":true,\"textposition\":\"auto\",\"texttemplate\":\"%{y}\",\"x\":[\"NOVA\"],\"xaxis\":\"x\",\"y\":[19.39],\"yaxis\":\"y\",\"type\":\"bar\"},{\"alignmentgroup\":\"True\",\"customdata\":[[\"Nutrien Ltd.\",1548000.0]],\"hovertemplate\":\"Symbol=%{x}<br>Price (Intraday)=%{y}<br>Name=%{customdata[0]}<br>Volume=%{customdata[1]}<extra></extra>\",\"legendgroup\":\"NTR\",\"marker\":{\"color\":\"#636efa\",\"pattern\":{\"shape\":\"\"}},\"name\":\"NTR\",\"offsetgroup\":\"NTR\",\"orientation\":\"v\",\"showlegend\":true,\"textposition\":\"auto\",\"texttemplate\":\"%{y}\",\"x\":[\"NTR\"],\"xaxis\":\"x\",\"y\":[77.61],\"yaxis\":\"y\",\"type\":\"bar\"},{\"alignmentgroup\":\"True\",\"customdata\":[[\"Nu Holdings Ltd.\",15546000.0]],\"hovertemplate\":\"Symbol=%{x}<br>Price (Intraday)=%{y}<br>Name=%{customdata[0]}<br>Volume=%{customdata[1]}<extra></extra>\",\"legendgroup\":\"NU\",\"marker\":{\"color\":\"#EF553B\",\"pattern\":{\"shape\":\"\"}},\"name\":\"NU\",\"offsetgroup\":\"NU\",\"orientation\":\"v\",\"showlegend\":true,\"textposition\":\"auto\",\"texttemplate\":\"%{y}\",\"x\":[\"NU\"],\"xaxis\":\"x\",\"y\":[5.25],\"yaxis\":\"y\",\"type\":\"bar\"},{\"alignmentgroup\":\"True\",\"customdata\":[[\"Nexstar Media Group, Inc.\",381227.0]],\"hovertemplate\":\"Symbol=%{x}<br>Price (Intraday)=%{y}<br>Name=%{customdata[0]}<br>Volume=%{customdata[1]}<extra></extra>\",\"legendgroup\":\"NXST\",\"marker\":{\"color\":\"#00cc96\",\"pattern\":{\"shape\":\"\"}},\"name\":\"NXST\",\"offsetgroup\":\"NXST\",\"orientation\":\"v\",\"showlegend\":true,\"textposition\":\"auto\",\"texttemplate\":\"%{y}\",\"x\":[\"NXST\"],\"xaxis\":\"x\",\"y\":[165.51],\"yaxis\":\"y\",\"type\":\"bar\"},{\"alignmentgroup\":\"True\",\"customdata\":[[\"Osisko Gold Royalties Ltd\",465669.0]],\"hovertemplate\":\"Symbol=%{x}<br>Price (Intraday)=%{y}<br>Name=%{customdata[0]}<br>Volume=%{customdata[1]}<extra></extra>\",\"legendgroup\":\"OR\",\"marker\":{\"color\":\"#ab63fa\",\"pattern\":{\"shape\":\"\"}},\"name\":\"OR\",\"offsetgroup\":\"OR\",\"orientation\":\"v\",\"showlegend\":true,\"textposition\":\"auto\",\"texttemplate\":\"%{y}\",\"x\":[\"OR\"],\"xaxis\":\"x\",\"y\":[12.28],\"yaxis\":\"y\",\"type\":\"bar\"},{\"alignmentgroup\":\"True\",\"customdata\":[[\"Oak Street Health, Inc.\",1953000.0]],\"hovertemplate\":\"Symbol=%{x}<br>Price (Intraday)=%{y}<br>Name=%{customdata[0]}<br>Volume=%{customdata[1]}<extra></extra>\",\"legendgroup\":\"OSH\",\"marker\":{\"color\":\"#FFA15A\",\"pattern\":{\"shape\":\"\"}},\"name\":\"OSH\",\"offsetgroup\":\"OSH\",\"orientation\":\"v\",\"showlegend\":true,\"textposition\":\"auto\",\"texttemplate\":\"%{y}\",\"x\":[\"OSH\"],\"xaxis\":\"x\",\"y\":[21.7],\"yaxis\":\"y\",\"type\":\"bar\"},{\"alignmentgroup\":\"True\",\"customdata\":[[\"Pan American Silver Corp.\",6138000.0]],\"hovertemplate\":\"Symbol=%{x}<br>Price (Intraday)=%{y}<br>Name=%{customdata[0]}<br>Volume=%{customdata[1]}<extra></extra>\",\"legendgroup\":\"PAAS\",\"marker\":{\"color\":\"#19d3f3\",\"pattern\":{\"shape\":\"\"}},\"name\":\"PAAS\",\"offsetgroup\":\"PAAS\",\"orientation\":\"v\",\"showlegend\":true,\"textposition\":\"auto\",\"texttemplate\":\"%{y}\",\"x\":[\"PAAS\"],\"xaxis\":\"x\",\"y\":[16.04],\"yaxis\":\"y\",\"type\":\"bar\"},{\"alignmentgroup\":\"True\",\"customdata\":[[\"Pacific Biosciences of California, Inc.\",4863000.0]],\"hovertemplate\":\"Symbol=%{x}<br>Price (Intraday)=%{y}<br>Name=%{customdata[0]}<br>Volume=%{customdata[1]}<extra></extra>\",\"legendgroup\":\"PACB\",\"marker\":{\"color\":\"#FF6692\",\"pattern\":{\"shape\":\"\"}},\"name\":\"PACB\",\"offsetgroup\":\"PACB\",\"orientation\":\"v\",\"showlegend\":true,\"textposition\":\"auto\",\"texttemplate\":\"%{y}\",\"x\":[\"PACB\"],\"xaxis\":\"x\",\"y\":[9.14],\"yaxis\":\"y\",\"type\":\"bar\"},{\"alignmentgroup\":\"True\",\"customdata\":[[\"Palo Alto Networks, Inc.\",2926000.0]],\"hovertemplate\":\"Symbol=%{x}<br>Price (Intraday)=%{y}<br>Name=%{customdata[0]}<br>Volume=%{customdata[1]}<extra></extra>\",\"legendgroup\":\"PANW\",\"marker\":{\"color\":\"#B6E880\",\"pattern\":{\"shape\":\"\"}},\"name\":\"PANW\",\"offsetgroup\":\"PANW\",\"orientation\":\"v\",\"showlegend\":true,\"textposition\":\"auto\",\"texttemplate\":\"%{y}\",\"x\":[\"PANW\"],\"xaxis\":\"x\",\"y\":[154.93],\"yaxis\":\"y\",\"type\":\"bar\"},{\"alignmentgroup\":\"True\",\"customdata\":[[\"PetroChina Company Limited\",65200.0]],\"hovertemplate\":\"Symbol=%{x}<br>Price (Intraday)=%{y}<br>Name=%{customdata[0]}<br>Volume=%{customdata[1]}<extra></extra>\",\"legendgroup\":\"PCCYF\",\"marker\":{\"color\":\"#FF97FF\",\"pattern\":{\"shape\":\"\"}},\"name\":\"PCCYF\",\"offsetgroup\":\"PCCYF\",\"orientation\":\"v\",\"showlegend\":true,\"textposition\":\"auto\",\"texttemplate\":\"%{y}\",\"x\":[\"PCCYF\"],\"xaxis\":\"x\",\"y\":[0.4424],\"yaxis\":\"y\",\"type\":\"bar\"},{\"alignmentgroup\":\"True\",\"customdata\":[[\"Planet Fitness, Inc.\",1871000.0]],\"hovertemplate\":\"Symbol=%{x}<br>Price (Intraday)=%{y}<br>Name=%{customdata[0]}<br>Volume=%{customdata[1]}<extra></extra>\",\"legendgroup\":\"PLNT\",\"marker\":{\"color\":\"#FECB52\",\"pattern\":{\"shape\":\"\"}},\"name\":\"PLNT\",\"offsetgroup\":\"PLNT\",\"orientation\":\"v\",\"showlegend\":true,\"textposition\":\"auto\",\"texttemplate\":\"%{y}\",\"x\":[\"PLNT\"],\"xaxis\":\"x\",\"y\":[69.04],\"yaxis\":\"y\",\"type\":\"bar\"},{\"alignmentgroup\":\"True\",\"customdata\":[[\"Pactiv Evergreen Inc.\",284357.0]],\"hovertemplate\":\"Symbol=%{x}<br>Price (Intraday)=%{y}<br>Name=%{customdata[0]}<br>Volume=%{customdata[1]}<extra></extra>\",\"legendgroup\":\"PTVE\",\"marker\":{\"color\":\"#636efa\",\"pattern\":{\"shape\":\"\"}},\"name\":\"PTVE\",\"offsetgroup\":\"PTVE\",\"orientation\":\"v\",\"showlegend\":true,\"textposition\":\"auto\",\"texttemplate\":\"%{y}\",\"x\":[\"PTVE\"],\"xaxis\":\"x\",\"y\":[11.92],\"yaxis\":\"y\",\"type\":\"bar\"},{\"alignmentgroup\":\"True\",\"customdata\":[[\"PowerSchool Holdings, Inc.\",170531.0]],\"hovertemplate\":\"Symbol=%{x}<br>Price (Intraday)=%{y}<br>Name=%{customdata[0]}<br>Volume=%{customdata[1]}<extra></extra>\",\"legendgroup\":\"PWSC\",\"marker\":{\"color\":\"#EF553B\",\"pattern\":{\"shape\":\"\"}},\"name\":\"PWSC\",\"offsetgroup\":\"PWSC\",\"orientation\":\"v\",\"showlegend\":true,\"textposition\":\"auto\",\"texttemplate\":\"%{y}\",\"x\":[\"PWSC\"],\"xaxis\":\"x\",\"y\":[19.02],\"yaxis\":\"y\",\"type\":\"bar\"},{\"alignmentgroup\":\"True\",\"customdata\":[[\"PayPal Holdings, Inc.\",9805000.0]],\"hovertemplate\":\"Symbol=%{x}<br>Price (Intraday)=%{y}<br>Name=%{customdata[0]}<br>Volume=%{customdata[1]}<extra></extra>\",\"legendgroup\":\"PYPL\",\"marker\":{\"color\":\"#00cc96\",\"pattern\":{\"shape\":\"\"}},\"name\":\"PYPL\",\"offsetgroup\":\"PYPL\",\"orientation\":\"v\",\"showlegend\":true,\"textposition\":\"auto\",\"texttemplate\":\"%{y}\",\"x\":[\"PYPL\"],\"xaxis\":\"x\",\"y\":[83.04],\"yaxis\":\"y\",\"type\":\"bar\"},{\"alignmentgroup\":\"True\",\"customdata\":[[\"Qiagen N.V.\",1030000.0]],\"hovertemplate\":\"Symbol=%{x}<br>Price (Intraday)=%{y}<br>Name=%{customdata[0]}<br>Volume=%{customdata[1]}<extra></extra>\",\"legendgroup\":\"QGEN\",\"marker\":{\"color\":\"#ab63fa\",\"pattern\":{\"shape\":\"\"}},\"name\":\"QGEN\",\"offsetgroup\":\"QGEN\",\"orientation\":\"v\",\"showlegend\":true,\"textposition\":\"auto\",\"texttemplate\":\"%{y}\",\"x\":[\"QGEN\"],\"xaxis\":\"x\",\"y\":[44.76],\"yaxis\":\"y\",\"type\":\"bar\"},{\"alignmentgroup\":\"True\",\"customdata\":[[\"Raia Drogasil S.A.\",57945.0]],\"hovertemplate\":\"Symbol=%{x}<br>Price (Intraday)=%{y}<br>Name=%{customdata[0]}<br>Volume=%{customdata[1]}<extra></extra>\",\"legendgroup\":\"RADLY\",\"marker\":{\"color\":\"#FFA15A\",\"pattern\":{\"shape\":\"\"}},\"name\":\"RADLY\",\"offsetgroup\":\"RADLY\",\"orientation\":\"v\",\"showlegend\":true,\"textposition\":\"auto\",\"texttemplate\":\"%{y}\",\"x\":[\"RADLY\"],\"xaxis\":\"x\",\"y\":[5.01],\"yaxis\":\"y\",\"type\":\"bar\"},{\"alignmentgroup\":\"True\",\"customdata\":[[\"Royal Gold, Inc.\",169921.0]],\"hovertemplate\":\"Symbol=%{x}<br>Price (Intraday)=%{y}<br>Name=%{customdata[0]}<br>Volume=%{customdata[1]}<extra></extra>\",\"legendgroup\":\"RGLD\",\"marker\":{\"color\":\"#19d3f3\",\"pattern\":{\"shape\":\"\"}},\"name\":\"RGLD\",\"offsetgroup\":\"RGLD\",\"orientation\":\"v\",\"showlegend\":true,\"textposition\":\"auto\",\"texttemplate\":\"%{y}\",\"x\":[\"RGLD\"],\"xaxis\":\"x\",\"y\":[101.99],\"yaxis\":\"y\",\"type\":\"bar\"},{\"alignmentgroup\":\"True\",\"customdata\":[[\"Rocket Companies, Inc.\",1256000.0]],\"hovertemplate\":\"Symbol=%{x}<br>Price (Intraday)=%{y}<br>Name=%{customdata[0]}<br>Volume=%{customdata[1]}<extra></extra>\",\"legendgroup\":\"RKT\",\"marker\":{\"color\":\"#FF6692\",\"pattern\":{\"shape\":\"\"}},\"name\":\"RKT\",\"offsetgroup\":\"RKT\",\"orientation\":\"v\",\"showlegend\":true,\"textposition\":\"auto\",\"texttemplate\":\"%{y}\",\"x\":[\"RKT\"],\"xaxis\":\"x\",\"y\":[6.82],\"yaxis\":\"y\",\"type\":\"bar\"},{\"alignmentgroup\":\"True\",\"customdata\":[[\"Rolls-Royce Holdings plc\",110454.0]],\"hovertemplate\":\"Symbol=%{x}<br>Price (Intraday)=%{y}<br>Name=%{customdata[0]}<br>Volume=%{customdata[1]}<extra></extra>\",\"legendgroup\":\"RLLCF\",\"marker\":{\"color\":\"#B6E880\",\"pattern\":{\"shape\":\"\"}},\"name\":\"RLLCF\",\"offsetgroup\":\"RLLCF\",\"orientation\":\"v\",\"showlegend\":true,\"textposition\":\"auto\",\"texttemplate\":\"%{y}\",\"x\":[\"RLLCF\"],\"xaxis\":\"x\",\"y\":[0.0075],\"yaxis\":\"y\",\"type\":\"bar\"},{\"alignmentgroup\":\"True\",\"customdata\":[[\"Sunrun Inc.\",4196000.0]],\"hovertemplate\":\"Symbol=%{x}<br>Price (Intraday)=%{y}<br>Name=%{customdata[0]}<br>Volume=%{customdata[1]}<extra></extra>\",\"legendgroup\":\"RUN\",\"marker\":{\"color\":\"#FF97FF\",\"pattern\":{\"shape\":\"\"}},\"name\":\"RUN\",\"offsetgroup\":\"RUN\",\"orientation\":\"v\",\"showlegend\":true,\"textposition\":\"auto\",\"texttemplate\":\"%{y}\",\"x\":[\"RUN\"],\"xaxis\":\"x\",\"y\":[24.48],\"yaxis\":\"y\",\"type\":\"bar\"},{\"alignmentgroup\":\"True\",\"customdata\":[[\"Sanmina Corporation\",210157.0]],\"hovertemplate\":\"Symbol=%{x}<br>Price (Intraday)=%{y}<br>Name=%{customdata[0]}<br>Volume=%{customdata[1]}<extra></extra>\",\"legendgroup\":\"SANM\",\"marker\":{\"color\":\"#FECB52\",\"pattern\":{\"shape\":\"\"}},\"name\":\"SANM\",\"offsetgroup\":\"SANM\",\"orientation\":\"v\",\"showlegend\":true,\"textposition\":\"auto\",\"texttemplate\":\"%{y}\",\"x\":[\"SANM\"],\"xaxis\":\"x\",\"y\":[65.97],\"yaxis\":\"y\",\"type\":\"bar\"},{\"alignmentgroup\":\"True\",\"customdata\":[[\"SolarEdge Technologies, Inc.\",2109000.0]],\"hovertemplate\":\"Symbol=%{x}<br>Price (Intraday)=%{y}<br>Name=%{customdata[0]}<br>Volume=%{customdata[1]}<extra></extra>\",\"legendgroup\":\"SEDG\",\"marker\":{\"color\":\"#636efa\",\"pattern\":{\"shape\":\"\"}},\"name\":\"SEDG\",\"offsetgroup\":\"SEDG\",\"orientation\":\"v\",\"showlegend\":true,\"textposition\":\"auto\",\"texttemplate\":\"%{y}\",\"x\":[\"SEDG\"],\"xaxis\":\"x\",\"y\":[247.6],\"yaxis\":\"y\",\"type\":\"bar\"},{\"alignmentgroup\":\"True\",\"customdata\":[[\"Sigma Lithium Corporation\",380777.0]],\"hovertemplate\":\"Symbol=%{x}<br>Price (Intraday)=%{y}<br>Name=%{customdata[0]}<br>Volume=%{customdata[1]}<extra></extra>\",\"legendgroup\":\"SGML\",\"marker\":{\"color\":\"#EF553B\",\"pattern\":{\"shape\":\"\"}},\"name\":\"SGML\",\"offsetgroup\":\"SGML\",\"orientation\":\"v\",\"showlegend\":true,\"textposition\":\"auto\",\"texttemplate\":\"%{y}\",\"x\":[\"SGML\"],\"xaxis\":\"x\",\"y\":[36.39],\"yaxis\":\"y\",\"type\":\"bar\"},{\"alignmentgroup\":\"True\",\"customdata\":[[\"Sharp Corporation\",41668.0]],\"hovertemplate\":\"Symbol=%{x}<br>Price (Intraday)=%{y}<br>Name=%{customdata[0]}<br>Volume=%{customdata[1]}<extra></extra>\",\"legendgroup\":\"SHCAY\",\"marker\":{\"color\":\"#00cc96\",\"pattern\":{\"shape\":\"\"}},\"name\":\"SHCAY\",\"offsetgroup\":\"SHCAY\",\"orientation\":\"v\",\"showlegend\":true,\"textposition\":\"auto\",\"texttemplate\":\"%{y}\",\"x\":[\"SHCAY\"],\"xaxis\":\"x\",\"y\":[1.5],\"yaxis\":\"y\",\"type\":\"bar\"},{\"alignmentgroup\":\"True\",\"customdata\":[[\"The Scotts Miracle-Gro Company\",740500.0]],\"hovertemplate\":\"Symbol=%{x}<br>Price (Intraday)=%{y}<br>Name=%{customdata[0]}<br>Volume=%{customdata[1]}<extra></extra>\",\"legendgroup\":\"SMG\",\"marker\":{\"color\":\"#ab63fa\",\"pattern\":{\"shape\":\"\"}},\"name\":\"SMG\",\"offsetgroup\":\"SMG\",\"orientation\":\"v\",\"showlegend\":true,\"textposition\":\"auto\",\"texttemplate\":\"%{y}\",\"x\":[\"SMG\"],\"xaxis\":\"x\",\"y\":[56.99],\"yaxis\":\"y\",\"type\":\"bar\"},{\"alignmentgroup\":\"True\",\"customdata\":[[\"SunPower Corporation\",6162000.0]],\"hovertemplate\":\"Symbol=%{x}<br>Price (Intraday)=%{y}<br>Name=%{customdata[0]}<br>Volume=%{customdata[1]}<extra></extra>\",\"legendgroup\":\"SPWR\",\"marker\":{\"color\":\"#FFA15A\",\"pattern\":{\"shape\":\"\"}},\"name\":\"SPWR\",\"offsetgroup\":\"SPWR\",\"orientation\":\"v\",\"showlegend\":true,\"textposition\":\"auto\",\"texttemplate\":\"%{y}\",\"x\":[\"SPWR\"],\"xaxis\":\"x\",\"y\":[18.84],\"yaxis\":\"y\",\"type\":\"bar\"},{\"alignmentgroup\":\"True\",\"customdata\":[[\"Sociedad Qu\\u00edmica y Minera de Chile S.A.\",1036999.9999999999]],\"hovertemplate\":\"Symbol=%{x}<br>Price (Intraday)=%{y}<br>Name=%{customdata[0]}<br>Volume=%{customdata[1]}<extra></extra>\",\"legendgroup\":\"SQM\",\"marker\":{\"color\":\"#19d3f3\",\"pattern\":{\"shape\":\"\"}},\"name\":\"SQM\",\"offsetgroup\":\"SQM\",\"orientation\":\"v\",\"showlegend\":true,\"textposition\":\"auto\",\"texttemplate\":\"%{y}\",\"x\":[\"SQM\"],\"xaxis\":\"x\",\"y\":[105.9],\"yaxis\":\"y\",\"type\":\"bar\"},{\"alignmentgroup\":\"True\",\"customdata\":[[\"TransAlta Corporation\",351002.0]],\"hovertemplate\":\"Symbol=%{x}<br>Price (Intraday)=%{y}<br>Name=%{customdata[0]}<br>Volume=%{customdata[1]}<extra></extra>\",\"legendgroup\":\"TAC\",\"marker\":{\"color\":\"#FF6692\",\"pattern\":{\"shape\":\"\"}},\"name\":\"TAC\",\"offsetgroup\":\"TAC\",\"orientation\":\"v\",\"showlegend\":true,\"textposition\":\"auto\",\"texttemplate\":\"%{y}\",\"x\":[\"TAC\"],\"xaxis\":\"x\",\"y\":[9.56],\"yaxis\":\"y\",\"type\":\"bar\"},{\"alignmentgroup\":\"True\",\"customdata\":[[\"TaskUs, Inc.\",1971000.0]],\"hovertemplate\":\"Symbol=%{x}<br>Price (Intraday)=%{y}<br>Name=%{customdata[0]}<br>Volume=%{customdata[1]}<extra></extra>\",\"legendgroup\":\"TASK\",\"marker\":{\"color\":\"#B6E880\",\"pattern\":{\"shape\":\"\"}},\"name\":\"TASK\",\"offsetgroup\":\"TASK\",\"orientation\":\"v\",\"showlegend\":true,\"textposition\":\"auto\",\"texttemplate\":\"%{y}\",\"x\":[\"TASK\"],\"xaxis\":\"x\",\"y\":[21.17],\"yaxis\":\"y\",\"type\":\"bar\"},{\"alignmentgroup\":\"True\",\"customdata\":[[\"Teradata Corporation\",718827.0]],\"hovertemplate\":\"Symbol=%{x}<br>Price (Intraday)=%{y}<br>Name=%{customdata[0]}<br>Volume=%{customdata[1]}<extra></extra>\",\"legendgroup\":\"TDC\",\"marker\":{\"color\":\"#FF97FF\",\"pattern\":{\"shape\":\"\"}},\"name\":\"TDC\",\"offsetgroup\":\"TDC\",\"orientation\":\"v\",\"showlegend\":true,\"textposition\":\"auto\",\"texttemplate\":\"%{y}\",\"x\":[\"TDC\"],\"xaxis\":\"x\",\"y\":[32.45],\"yaxis\":\"y\",\"type\":\"bar\"},{\"alignmentgroup\":\"True\",\"customdata\":[[\"Atlassian Corporation\",1844000.0]],\"hovertemplate\":\"Symbol=%{x}<br>Price (Intraday)=%{y}<br>Name=%{customdata[0]}<br>Volume=%{customdata[1]}<extra></extra>\",\"legendgroup\":\"TEAM\",\"marker\":{\"color\":\"#FECB52\",\"pattern\":{\"shape\":\"\"}},\"name\":\"TEAM\",\"offsetgroup\":\"TEAM\",\"orientation\":\"v\",\"showlegend\":true,\"textposition\":\"auto\",\"texttemplate\":\"%{y}\",\"x\":[\"TEAM\"],\"xaxis\":\"x\",\"y\":[127.43],\"yaxis\":\"y\",\"type\":\"bar\"},{\"alignmentgroup\":\"True\",\"customdata\":[[\"Tenable Holdings, Inc.\",579265.0]],\"hovertemplate\":\"Symbol=%{x}<br>Price (Intraday)=%{y}<br>Name=%{customdata[0]}<br>Volume=%{customdata[1]}<extra></extra>\",\"legendgroup\":\"TENB\",\"marker\":{\"color\":\"#636efa\",\"pattern\":{\"shape\":\"\"}},\"name\":\"TENB\",\"offsetgroup\":\"TENB\",\"orientation\":\"v\",\"showlegend\":true,\"textposition\":\"auto\",\"texttemplate\":\"%{y}\",\"x\":[\"TENB\"],\"xaxis\":\"x\",\"y\":[36.47],\"yaxis\":\"y\",\"type\":\"bar\"},{\"alignmentgroup\":\"True\",\"customdata\":[[\"Tronox Holdings plc\",672017.0]],\"hovertemplate\":\"Symbol=%{x}<br>Price (Intraday)=%{y}<br>Name=%{customdata[0]}<br>Volume=%{customdata[1]}<extra></extra>\",\"legendgroup\":\"TROX\",\"marker\":{\"color\":\"#EF553B\",\"pattern\":{\"shape\":\"\"}},\"name\":\"TROX\",\"offsetgroup\":\"TROX\",\"orientation\":\"v\",\"showlegend\":true,\"textposition\":\"auto\",\"texttemplate\":\"%{y}\",\"x\":[\"TROX\"],\"xaxis\":\"x\",\"y\":[13.32],\"yaxis\":\"y\",\"type\":\"bar\"},{\"alignmentgroup\":\"True\",\"customdata\":[[\"10x Genomics, Inc.\",452638.0]],\"hovertemplate\":\"Symbol=%{x}<br>Price (Intraday)=%{y}<br>Name=%{customdata[0]}<br>Volume=%{customdata[1]}<extra></extra>\",\"legendgroup\":\"TXG\",\"marker\":{\"color\":\"#00cc96\",\"pattern\":{\"shape\":\"\"}},\"name\":\"TXG\",\"offsetgroup\":\"TXG\",\"orientation\":\"v\",\"showlegend\":true,\"textposition\":\"auto\",\"texttemplate\":\"%{y}\",\"x\":[\"TXG\"],\"xaxis\":\"x\",\"y\":[32.71],\"yaxis\":\"y\",\"type\":\"bar\"},{\"alignmentgroup\":\"True\",\"customdata\":[[\"Unicharm Corporation\",440670.0]],\"hovertemplate\":\"Symbol=%{x}<br>Price (Intraday)=%{y}<br>Name=%{customdata[0]}<br>Volume=%{customdata[1]}<extra></extra>\",\"legendgroup\":\"UNICY\",\"marker\":{\"color\":\"#ab63fa\",\"pattern\":{\"shape\":\"\"}},\"name\":\"UNICY\",\"offsetgroup\":\"UNICY\",\"orientation\":\"v\",\"showlegend\":true,\"textposition\":\"auto\",\"texttemplate\":\"%{y}\",\"x\":[\"UNICY\"],\"xaxis\":\"x\",\"y\":[6.68],\"yaxis\":\"y\",\"type\":\"bar\"},{\"alignmentgroup\":\"True\",\"customdata\":[[\"Varonis Systems, Inc.\",1356000.0]],\"hovertemplate\":\"Symbol=%{x}<br>Price (Intraday)=%{y}<br>Name=%{customdata[0]}<br>Volume=%{customdata[1]}<extra></extra>\",\"legendgroup\":\"VRNS\",\"marker\":{\"color\":\"#FFA15A\",\"pattern\":{\"shape\":\"\"}},\"name\":\"VRNS\",\"offsetgroup\":\"VRNS\",\"orientation\":\"v\",\"showlegend\":true,\"textposition\":\"auto\",\"texttemplate\":\"%{y}\",\"x\":[\"VRNS\"],\"xaxis\":\"x\",\"y\":[19.16],\"yaxis\":\"y\",\"type\":\"bar\"},{\"alignmentgroup\":\"True\",\"customdata\":[[\"Welltower Inc.\",2517000.0]],\"hovertemplate\":\"Symbol=%{x}<br>Price (Intraday)=%{y}<br>Name=%{customdata[0]}<br>Volume=%{customdata[1]}<extra></extra>\",\"legendgroup\":\"WELL\",\"marker\":{\"color\":\"#19d3f3\",\"pattern\":{\"shape\":\"\"}},\"name\":\"WELL\",\"offsetgroup\":\"WELL\",\"orientation\":\"v\",\"showlegend\":true,\"textposition\":\"auto\",\"texttemplate\":\"%{y}\",\"x\":[\"WELL\"],\"xaxis\":\"x\",\"y\":[67.46],\"yaxis\":\"y\",\"type\":\"bar\"},{\"alignmentgroup\":\"True\",\"customdata\":[[\"Wolfspeed, Inc.\",1121000.0]],\"hovertemplate\":\"Symbol=%{x}<br>Price (Intraday)=%{y}<br>Name=%{customdata[0]}<br>Volume=%{customdata[1]}<extra></extra>\",\"legendgroup\":\"WOLF\",\"marker\":{\"color\":\"#FF6692\",\"pattern\":{\"shape\":\"\"}},\"name\":\"WOLF\",\"offsetgroup\":\"WOLF\",\"orientation\":\"v\",\"showlegend\":true,\"textposition\":\"auto\",\"texttemplate\":\"%{y}\",\"x\":[\"WOLF\"],\"xaxis\":\"x\",\"y\":[80.84],\"yaxis\":\"y\",\"type\":\"bar\"},{\"alignmentgroup\":\"True\",\"customdata\":[[\"Wheaton Precious Metals Corp.\",1764000.0]],\"hovertemplate\":\"Symbol=%{x}<br>Price (Intraday)=%{y}<br>Name=%{customdata[0]}<br>Volume=%{customdata[1]}<extra></extra>\",\"legendgroup\":\"WPM\",\"marker\":{\"color\":\"#B6E880\",\"pattern\":{\"shape\":\"\"}},\"name\":\"WPM\",\"offsetgroup\":\"WPM\",\"orientation\":\"v\",\"showlegend\":true,\"textposition\":\"auto\",\"texttemplate\":\"%{y}\",\"x\":[\"WPM\"],\"xaxis\":\"x\",\"y\":[36.56],\"yaxis\":\"y\",\"type\":\"bar\"},{\"alignmentgroup\":\"True\",\"customdata\":[[\"Qualtrics International Inc.\",1219000.0]],\"hovertemplate\":\"Symbol=%{x}<br>Price (Intraday)=%{y}<br>Name=%{customdata[0]}<br>Volume=%{customdata[1]}<extra></extra>\",\"legendgroup\":\"XM\",\"marker\":{\"color\":\"#FF97FF\",\"pattern\":{\"shape\":\"\"}},\"name\":\"XM\",\"offsetgroup\":\"XM\",\"orientation\":\"v\",\"showlegend\":true,\"textposition\":\"auto\",\"texttemplate\":\"%{y}\",\"x\":[\"XM\"],\"xaxis\":\"x\",\"y\":[10.53],\"yaxis\":\"y\",\"type\":\"bar\"},{\"alignmentgroup\":\"True\",\"customdata\":[[\"Zhejiang Expressway Co., Ltd.\",48613.0]],\"hovertemplate\":\"Symbol=%{x}<br>Price (Intraday)=%{y}<br>Name=%{customdata[0]}<br>Volume=%{customdata[1]}<extra></extra>\",\"legendgroup\":\"ZHEXF\",\"marker\":{\"color\":\"#FECB52\",\"pattern\":{\"shape\":\"\"}},\"name\":\"ZHEXF\",\"offsetgroup\":\"ZHEXF\",\"orientation\":\"v\",\"showlegend\":true,\"textposition\":\"auto\",\"texttemplate\":\"%{y}\",\"x\":[\"ZHEXF\"],\"xaxis\":\"x\",\"y\":[0.7077],\"yaxis\":\"y\",\"type\":\"bar\"}],                        {\"template\":{\"data\":{\"bar\":[{\"error_x\":{\"color\":\"#2a3f5f\"},\"error_y\":{\"color\":\"#2a3f5f\"},\"marker\":{\"line\":{\"color\":\"#E5ECF6\",\"width\":0.5},\"pattern\":{\"fillmode\":\"overlay\",\"size\":10,\"solidity\":0.2}},\"type\":\"bar\"}],\"barpolar\":[{\"marker\":{\"line\":{\"color\":\"#E5ECF6\",\"width\":0.5},\"pattern\":{\"fillmode\":\"overlay\",\"size\":10,\"solidity\":0.2}},\"type\":\"barpolar\"}],\"carpet\":[{\"aaxis\":{\"endlinecolor\":\"#2a3f5f\",\"gridcolor\":\"white\",\"linecolor\":\"white\",\"minorgridcolor\":\"white\",\"startlinecolor\":\"#2a3f5f\"},\"baxis\":{\"endlinecolor\":\"#2a3f5f\",\"gridcolor\":\"white\",\"linecolor\":\"white\",\"minorgridcolor\":\"white\",\"startlinecolor\":\"#2a3f5f\"},\"type\":\"carpet\"}],\"choropleth\":[{\"colorbar\":{\"outlinewidth\":0,\"ticks\":\"\"},\"type\":\"choropleth\"}],\"contour\":[{\"colorbar\":{\"outlinewidth\":0,\"ticks\":\"\"},\"colorscale\":[[0.0,\"#0d0887\"],[0.1111111111111111,\"#46039f\"],[0.2222222222222222,\"#7201a8\"],[0.3333333333333333,\"#9c179e\"],[0.4444444444444444,\"#bd3786\"],[0.5555555555555556,\"#d8576b\"],[0.6666666666666666,\"#ed7953\"],[0.7777777777777778,\"#fb9f3a\"],[0.8888888888888888,\"#fdca26\"],[1.0,\"#f0f921\"]],\"type\":\"contour\"}],\"contourcarpet\":[{\"colorbar\":{\"outlinewidth\":0,\"ticks\":\"\"},\"type\":\"contourcarpet\"}],\"heatmap\":[{\"colorbar\":{\"outlinewidth\":0,\"ticks\":\"\"},\"colorscale\":[[0.0,\"#0d0887\"],[0.1111111111111111,\"#46039f\"],[0.2222222222222222,\"#7201a8\"],[0.3333333333333333,\"#9c179e\"],[0.4444444444444444,\"#bd3786\"],[0.5555555555555556,\"#d8576b\"],[0.6666666666666666,\"#ed7953\"],[0.7777777777777778,\"#fb9f3a\"],[0.8888888888888888,\"#fdca26\"],[1.0,\"#f0f921\"]],\"type\":\"heatmap\"}],\"heatmapgl\":[{\"colorbar\":{\"outlinewidth\":0,\"ticks\":\"\"},\"colorscale\":[[0.0,\"#0d0887\"],[0.1111111111111111,\"#46039f\"],[0.2222222222222222,\"#7201a8\"],[0.3333333333333333,\"#9c179e\"],[0.4444444444444444,\"#bd3786\"],[0.5555555555555556,\"#d8576b\"],[0.6666666666666666,\"#ed7953\"],[0.7777777777777778,\"#fb9f3a\"],[0.8888888888888888,\"#fdca26\"],[1.0,\"#f0f921\"]],\"type\":\"heatmapgl\"}],\"histogram\":[{\"marker\":{\"pattern\":{\"fillmode\":\"overlay\",\"size\":10,\"solidity\":0.2}},\"type\":\"histogram\"}],\"histogram2d\":[{\"colorbar\":{\"outlinewidth\":0,\"ticks\":\"\"},\"colorscale\":[[0.0,\"#0d0887\"],[0.1111111111111111,\"#46039f\"],[0.2222222222222222,\"#7201a8\"],[0.3333333333333333,\"#9c179e\"],[0.4444444444444444,\"#bd3786\"],[0.5555555555555556,\"#d8576b\"],[0.6666666666666666,\"#ed7953\"],[0.7777777777777778,\"#fb9f3a\"],[0.8888888888888888,\"#fdca26\"],[1.0,\"#f0f921\"]],\"type\":\"histogram2d\"}],\"histogram2dcontour\":[{\"colorbar\":{\"outlinewidth\":0,\"ticks\":\"\"},\"colorscale\":[[0.0,\"#0d0887\"],[0.1111111111111111,\"#46039f\"],[0.2222222222222222,\"#7201a8\"],[0.3333333333333333,\"#9c179e\"],[0.4444444444444444,\"#bd3786\"],[0.5555555555555556,\"#d8576b\"],[0.6666666666666666,\"#ed7953\"],[0.7777777777777778,\"#fb9f3a\"],[0.8888888888888888,\"#fdca26\"],[1.0,\"#f0f921\"]],\"type\":\"histogram2dcontour\"}],\"mesh3d\":[{\"colorbar\":{\"outlinewidth\":0,\"ticks\":\"\"},\"type\":\"mesh3d\"}],\"parcoords\":[{\"line\":{\"colorbar\":{\"outlinewidth\":0,\"ticks\":\"\"}},\"type\":\"parcoords\"}],\"pie\":[{\"automargin\":true,\"type\":\"pie\"}],\"scatter\":[{\"marker\":{\"colorbar\":{\"outlinewidth\":0,\"ticks\":\"\"}},\"type\":\"scatter\"}],\"scatter3d\":[{\"line\":{\"colorbar\":{\"outlinewidth\":0,\"ticks\":\"\"}},\"marker\":{\"colorbar\":{\"outlinewidth\":0,\"ticks\":\"\"}},\"type\":\"scatter3d\"}],\"scattercarpet\":[{\"marker\":{\"colorbar\":{\"outlinewidth\":0,\"ticks\":\"\"}},\"type\":\"scattercarpet\"}],\"scattergeo\":[{\"marker\":{\"colorbar\":{\"outlinewidth\":0,\"ticks\":\"\"}},\"type\":\"scattergeo\"}],\"scattergl\":[{\"marker\":{\"colorbar\":{\"outlinewidth\":0,\"ticks\":\"\"}},\"type\":\"scattergl\"}],\"scattermapbox\":[{\"marker\":{\"colorbar\":{\"outlinewidth\":0,\"ticks\":\"\"}},\"type\":\"scattermapbox\"}],\"scatterpolar\":[{\"marker\":{\"colorbar\":{\"outlinewidth\":0,\"ticks\":\"\"}},\"type\":\"scatterpolar\"}],\"scatterpolargl\":[{\"marker\":{\"colorbar\":{\"outlinewidth\":0,\"ticks\":\"\"}},\"type\":\"scatterpolargl\"}],\"scatterternary\":[{\"marker\":{\"colorbar\":{\"outlinewidth\":0,\"ticks\":\"\"}},\"type\":\"scatterternary\"}],\"surface\":[{\"colorbar\":{\"outlinewidth\":0,\"ticks\":\"\"},\"colorscale\":[[0.0,\"#0d0887\"],[0.1111111111111111,\"#46039f\"],[0.2222222222222222,\"#7201a8\"],[0.3333333333333333,\"#9c179e\"],[0.4444444444444444,\"#bd3786\"],[0.5555555555555556,\"#d8576b\"],[0.6666666666666666,\"#ed7953\"],[0.7777777777777778,\"#fb9f3a\"],[0.8888888888888888,\"#fdca26\"],[1.0,\"#f0f921\"]],\"type\":\"surface\"}],\"table\":[{\"cells\":{\"fill\":{\"color\":\"#EBF0F8\"},\"line\":{\"color\":\"white\"}},\"header\":{\"fill\":{\"color\":\"#C8D4E3\"},\"line\":{\"color\":\"white\"}},\"type\":\"table\"}]},\"layout\":{\"annotationdefaults\":{\"arrowcolor\":\"#2a3f5f\",\"arrowhead\":0,\"arrowwidth\":1},\"autotypenumbers\":\"strict\",\"coloraxis\":{\"colorbar\":{\"outlinewidth\":0,\"ticks\":\"\"}},\"colorscale\":{\"diverging\":[[0,\"#8e0152\"],[0.1,\"#c51b7d\"],[0.2,\"#de77ae\"],[0.3,\"#f1b6da\"],[0.4,\"#fde0ef\"],[0.5,\"#f7f7f7\"],[0.6,\"#e6f5d0\"],[0.7,\"#b8e186\"],[0.8,\"#7fbc41\"],[0.9,\"#4d9221\"],[1,\"#276419\"]],\"sequential\":[[0.0,\"#0d0887\"],[0.1111111111111111,\"#46039f\"],[0.2222222222222222,\"#7201a8\"],[0.3333333333333333,\"#9c179e\"],[0.4444444444444444,\"#bd3786\"],[0.5555555555555556,\"#d8576b\"],[0.6666666666666666,\"#ed7953\"],[0.7777777777777778,\"#fb9f3a\"],[0.8888888888888888,\"#fdca26\"],[1.0,\"#f0f921\"]],\"sequentialminus\":[[0.0,\"#0d0887\"],[0.1111111111111111,\"#46039f\"],[0.2222222222222222,\"#7201a8\"],[0.3333333333333333,\"#9c179e\"],[0.4444444444444444,\"#bd3786\"],[0.5555555555555556,\"#d8576b\"],[0.6666666666666666,\"#ed7953\"],[0.7777777777777778,\"#fb9f3a\"],[0.8888888888888888,\"#fdca26\"],[1.0,\"#f0f921\"]]},\"colorway\":[\"#636efa\",\"#EF553B\",\"#00cc96\",\"#ab63fa\",\"#FFA15A\",\"#19d3f3\",\"#FF6692\",\"#B6E880\",\"#FF97FF\",\"#FECB52\"],\"font\":{\"color\":\"#2a3f5f\"},\"geo\":{\"bgcolor\":\"white\",\"lakecolor\":\"white\",\"landcolor\":\"#E5ECF6\",\"showlakes\":true,\"showland\":true,\"subunitcolor\":\"white\"},\"hoverlabel\":{\"align\":\"left\"},\"hovermode\":\"closest\",\"mapbox\":{\"style\":\"light\"},\"paper_bgcolor\":\"white\",\"plot_bgcolor\":\"#E5ECF6\",\"polar\":{\"angularaxis\":{\"gridcolor\":\"white\",\"linecolor\":\"white\",\"ticks\":\"\"},\"bgcolor\":\"#E5ECF6\",\"radialaxis\":{\"gridcolor\":\"white\",\"linecolor\":\"white\",\"ticks\":\"\"}},\"scene\":{\"xaxis\":{\"backgroundcolor\":\"#E5ECF6\",\"gridcolor\":\"white\",\"gridwidth\":2,\"linecolor\":\"white\",\"showbackground\":true,\"ticks\":\"\",\"zerolinecolor\":\"white\"},\"yaxis\":{\"backgroundcolor\":\"#E5ECF6\",\"gridcolor\":\"white\",\"gridwidth\":2,\"linecolor\":\"white\",\"showbackground\":true,\"ticks\":\"\",\"zerolinecolor\":\"white\"},\"zaxis\":{\"backgroundcolor\":\"#E5ECF6\",\"gridcolor\":\"white\",\"gridwidth\":2,\"linecolor\":\"white\",\"showbackground\":true,\"ticks\":\"\",\"zerolinecolor\":\"white\"}},\"shapedefaults\":{\"line\":{\"color\":\"#2a3f5f\"}},\"ternary\":{\"aaxis\":{\"gridcolor\":\"white\",\"linecolor\":\"white\",\"ticks\":\"\"},\"baxis\":{\"gridcolor\":\"white\",\"linecolor\":\"white\",\"ticks\":\"\"},\"bgcolor\":\"#E5ECF6\",\"caxis\":{\"gridcolor\":\"white\",\"linecolor\":\"white\",\"ticks\":\"\"}},\"title\":{\"x\":0.05},\"xaxis\":{\"automargin\":true,\"gridcolor\":\"white\",\"linecolor\":\"white\",\"ticks\":\"\",\"title\":{\"standoff\":15},\"zerolinecolor\":\"white\",\"zerolinewidth\":2},\"yaxis\":{\"automargin\":true,\"gridcolor\":\"white\",\"linecolor\":\"white\",\"ticks\":\"\",\"title\":{\"standoff\":15},\"zerolinecolor\":\"white\",\"zerolinewidth\":2}}},\"xaxis\":{\"anchor\":\"y\",\"domain\":[0.0,1.0],\"title\":{\"text\":\"Symbol\"},\"categoryorder\":\"array\",\"categoryarray\":[\"AAON\",\"ABNB\",\"AEM\",\"AFRM\",\"AG\",\"AGI\",\"ALB\",\"ALHC\",\"AMGN\",\"ARRY\",\"ARVN\",\"ASH\",\"AU\",\"AUY\",\"AXSM\",\"BCLYF\",\"BLDR\",\"BSY\",\"BTG\",\"CERT\",\"CLPBY\",\"CNHI\",\"CSIQ\",\"DASH\",\"DD\",\"DIOD\",\"DISH\",\"DKNG\",\"DNA\",\"DT\",\"ESTC\",\"EXAS\",\"EXPD\",\"FIVN\",\"FN\",\"FNV\",\"FOUR\",\"FQVLF\",\"FRSH\",\"FTNT\",\"GFI\",\"GFS\",\"GNRC\",\"GOLD\",\"GRFS\",\"HSQVY\",\"HUBS\",\"IFNNY\",\"IGT\",\"KD\",\"KGC\",\"KSS\",\"LAC\",\"LPL\",\"LSRCY\",\"LTHM\",\"LTMAQ\",\"LUMN\",\"NEM\",\"NOVA\",\"NTR\",\"NU\",\"NXST\",\"OR\",\"OSH\",\"PAAS\",\"PACB\",\"PANW\",\"PCCYF\",\"PLNT\",\"PTVE\",\"PWSC\",\"PYPL\",\"QGEN\",\"RADLY\",\"RGLD\",\"RKT\",\"RLLCF\",\"RUN\",\"SANM\",\"SEDG\",\"SGML\",\"SHCAY\",\"SMG\",\"SPWR\",\"SQM\",\"TAC\",\"TASK\",\"TDC\",\"TEAM\",\"TENB\",\"TROX\",\"TXG\",\"UNICY\",\"VRNS\",\"WELL\",\"WOLF\",\"WPM\",\"XM\",\"ZHEXF\"]},\"yaxis\":{\"anchor\":\"x\",\"domain\":[0.0,1.0],\"title\":{\"text\":\"Price (Intraday)\"}},\"legend\":{\"title\":{\"text\":\"Symbol\"},\"tracegroupgap\":0},\"title\":{\"text\":\"Increases of companies on a given day\"},\"barmode\":\"relative\"},                        {\"responsive\": true}                    ).then(function(){\n",
              "                            \n",
              "var gd = document.getElementById('fa494646-fdef-4969-850e-1e4bad1bd506');\n",
              "var x = new MutationObserver(function (mutations, observer) {{\n",
              "        var display = window.getComputedStyle(gd).display;\n",
              "        if (!display || display === 'none') {{\n",
              "            console.log([gd, 'removed!']);\n",
              "            Plotly.purge(gd);\n",
              "            observer.disconnect();\n",
              "        }}\n",
              "}});\n",
              "\n",
              "// Listen for the removal of the full notebook cells\n",
              "var notebookContainer = gd.closest('#notebook-container');\n",
              "if (notebookContainer) {{\n",
              "    x.observe(notebookContainer, {childList: true});\n",
              "}}\n",
              "\n",
              "// Listen for the clearing of the current output cell\n",
              "var outputEl = gd.closest('.output');\n",
              "if (outputEl) {{\n",
              "    x.observe(outputEl, {childList: true});\n",
              "}}\n",
              "\n",
              "                        })                };                            </script>        </div>\n",
              "</body>\n",
              "</html>"
            ]
          },
          "metadata": {}
        }
      ]
    },
    {
      "cell_type": "markdown",
      "source": [
        "**I check the company that has the highest growth during the day.**"
      ],
      "metadata": {
        "id": "EHEUEmYH2iQB"
      }
    },
    {
      "cell_type": "code",
      "source": [
        "max_day = response['Price (Intraday)'].max()\n",
        "max_day"
      ],
      "metadata": {
        "colab": {
          "base_uri": "https://localhost:8080/"
        },
        "id": "uOo_qIxqHdtm",
        "outputId": "9a8bb647-4ee2-4259-b5ad-de482cf21413"
      },
      "execution_count": 12,
      "outputs": [
        {
          "output_type": "execute_result",
          "data": {
            "text/plain": [
              "308.02"
            ]
          },
          "metadata": {},
          "execution_count": 12
        }
      ]
    },
    {
      "cell_type": "code",
      "source": [
        "df = response['Price (Intraday)'].idxmax()\n",
        "df"
      ],
      "metadata": {
        "id": "6A_IK1Ds-UHt",
        "colab": {
          "base_uri": "https://localhost:8080/"
        },
        "outputId": "e3ae4135-7f3f-4857-eee7-0532429e817e"
      },
      "execution_count": 13,
      "outputs": [
        {
          "output_type": "execute_result",
          "data": {
            "text/plain": [
              "52"
            ]
          },
          "metadata": {},
          "execution_count": 13
        }
      ]
    },
    {
      "cell_type": "code",
      "source": [
        "name_max_day = response.loc[df , 'Symbol']\n",
        "name_max_day\n"
      ],
      "metadata": {
        "colab": {
          "base_uri": "https://localhost:8080/",
          "height": 36
        },
        "id": "4UPvwpDUQBhZ",
        "outputId": "3a512e05-9d1c-45bd-d658-ea62f77f92ba"
      },
      "execution_count": 14,
      "outputs": [
        {
          "output_type": "execute_result",
          "data": {
            "text/plain": [
              "'ALB'"
            ],
            "application/vnd.google.colaboratory.intrinsic+json": {
              "type": "string"
            }
          },
          "metadata": {},
          "execution_count": 14
        }
      ]
    },
    {
      "cell_type": "markdown",
      "source": [
        "# EARNINGS HISTORY WITH ACTUAL / EXPECTED EPS INFORMATION"
      ],
      "metadata": {
        "id": "Gw30NVr_4Fhs"
      }
    },
    {
      "cell_type": "markdown",
      "source": [
        "I check the history of the ernings of the company that increased the maximum price intraday whether there are grounds to invest in it."
      ],
      "metadata": {
        "id": "coS4Qtxq5W26"
      }
    },
    {
      "cell_type": "code",
      "source": [
        "history_earnings = si.get_earnings_history(name_max_day) \n",
        "history_earnings"
      ],
      "metadata": {
        "id": "H1CESI0aQJQ1",
        "colab": {
          "base_uri": "https://localhost:8080/"
        },
        "outputId": "e33e4aad-c12c-4468-a393-e61d17e37968"
      },
      "execution_count": 15,
      "outputs": [
        {
          "output_type": "execute_result",
          "data": {
            "text/plain": [
              "[{'ticker': 'ALB',\n",
              "  'companyshortname': 'Albemarle Corp',\n",
              "  'eventname': 'Q3 2023  Earnings Release',\n",
              "  'startdatetime': '2023-10-31T10:59:00.000Z',\n",
              "  'startdatetimetype': 'TNS',\n",
              "  'epsestimate': None,\n",
              "  'epsactual': None,\n",
              "  'epssurprisepct': None,\n",
              "  'timeZoneShortName': 'EDT',\n",
              "  'gmtOffsetMilliSeconds': -14400000,\n",
              "  'quoteType': 'EQUITY'},\n",
              " {'ticker': 'ALB',\n",
              "  'companyshortname': 'Albemarle Corp',\n",
              "  'eventname': 'Q2 2023  Earnings Release',\n",
              "  'startdatetime': '2023-08-01T10:59:00.000Z',\n",
              "  'startdatetimetype': 'TNS',\n",
              "  'epsestimate': None,\n",
              "  'epsactual': None,\n",
              "  'epssurprisepct': None,\n",
              "  'timeZoneShortName': 'EDT',\n",
              "  'gmtOffsetMilliSeconds': -14400000,\n",
              "  'quoteType': 'EQUITY'},\n",
              " {'ticker': 'ALB',\n",
              "  'companyshortname': 'Albemarle Corp',\n",
              "  'eventname': 'Q1 2023  Earnings Release',\n",
              "  'startdatetime': '2023-05-02T10:59:00.000Z',\n",
              "  'startdatetimetype': 'TNS',\n",
              "  'epsestimate': None,\n",
              "  'epsactual': None,\n",
              "  'epssurprisepct': None,\n",
              "  'timeZoneShortName': 'EDT',\n",
              "  'gmtOffsetMilliSeconds': -14400000,\n",
              "  'quoteType': 'EQUITY'},\n",
              " {'ticker': 'ALB',\n",
              "  'companyshortname': 'Albemarle Corp',\n",
              "  'eventname': 'Q4 2022  Earnings Release',\n",
              "  'startdatetime': '2023-02-14T10:59:00.000Z',\n",
              "  'startdatetimetype': 'TNS',\n",
              "  'epsestimate': 7.79,\n",
              "  'epsactual': None,\n",
              "  'epssurprisepct': None,\n",
              "  'timeZoneShortName': 'EST',\n",
              "  'gmtOffsetMilliSeconds': -18000000,\n",
              "  'quoteType': 'EQUITY'},\n",
              " {'ticker': 'ALB',\n",
              "  'companyshortname': 'Albemarle Corp',\n",
              "  'eventname': 'Q3 2022  Earnings Call',\n",
              "  'startdatetime': '2022-11-03T13:00:00.000Z',\n",
              "  'startdatetimetype': 'TAS',\n",
              "  'epsestimate': 6.99,\n",
              "  'epsactual': 7.5,\n",
              "  'epssurprisepct': 7.3,\n",
              "  'timeZoneShortName': 'EDT',\n",
              "  'gmtOffsetMilliSeconds': -14400000,\n",
              "  'quoteType': 'EQUITY'},\n",
              " {'ticker': 'ALB',\n",
              "  'companyshortname': 'Albemarle Corporation',\n",
              "  'eventname': None,\n",
              "  'startdatetime': '2022-11-02T16:52:00.000Z',\n",
              "  'startdatetimetype': 'TAS',\n",
              "  'epsestimate': 6.99,\n",
              "  'epsactual': 7.5,\n",
              "  'epssurprisepct': 7.33,\n",
              "  'timeZoneShortName': 'EDT',\n",
              "  'gmtOffsetMilliSeconds': -14400000,\n",
              "  'quoteType': 'EQUITY'},\n",
              " {'ticker': 'ALB',\n",
              "  'companyshortname': 'Albemarle Corp',\n",
              "  'eventname': 'Q2 2022  Earnings Call',\n",
              "  'startdatetime': '2022-08-04T13:00:00.000Z',\n",
              "  'startdatetimetype': 'TAS',\n",
              "  'epsestimate': 3.26,\n",
              "  'epsactual': 3.45,\n",
              "  'epssurprisepct': 5.83,\n",
              "  'timeZoneShortName': 'EDT',\n",
              "  'gmtOffsetMilliSeconds': -14400000,\n",
              "  'quoteType': 'EQUITY'},\n",
              " {'ticker': 'ALB',\n",
              "  'companyshortname': 'Albemarle Corporation',\n",
              "  'eventname': None,\n",
              "  'startdatetime': '2022-08-03T16:25:00.000Z',\n",
              "  'startdatetimetype': 'TAS',\n",
              "  'epsestimate': 3.26,\n",
              "  'epsactual': 3.45,\n",
              "  'epssurprisepct': 5.86,\n",
              "  'timeZoneShortName': 'EDT',\n",
              "  'gmtOffsetMilliSeconds': -14400000,\n",
              "  'quoteType': 'EQUITY'},\n",
              " {'ticker': 'ALB',\n",
              "  'companyshortname': 'Albemarle Corporation',\n",
              "  'eventname': None,\n",
              "  'startdatetime': '2022-05-04T16:25:00.000Z',\n",
              "  'startdatetimetype': 'TAS',\n",
              "  'epsestimate': 1.63,\n",
              "  'epsactual': 2.38,\n",
              "  'epssurprisepct': 45.65,\n",
              "  'timeZoneShortName': 'EDT',\n",
              "  'gmtOffsetMilliSeconds': -14400000,\n",
              "  'quoteType': 'EQUITY'},\n",
              " {'ticker': 'ALB',\n",
              "  'companyshortname': 'Albemarle Corporation',\n",
              "  'eventname': None,\n",
              "  'startdatetime': '2022-02-16T16:48:00.000Z',\n",
              "  'startdatetimetype': 'TAS',\n",
              "  'epsestimate': 0.99,\n",
              "  'epsactual': 1.01,\n",
              "  'epssurprisepct': 1.81,\n",
              "  'timeZoneShortName': 'EST',\n",
              "  'gmtOffsetMilliSeconds': -18000000,\n",
              "  'quoteType': 'EQUITY'},\n",
              " {'ticker': 'ALB',\n",
              "  'companyshortname': 'Albemarle Corporation',\n",
              "  'eventname': None,\n",
              "  'startdatetime': '2021-11-03T16:15:00.000Z',\n",
              "  'startdatetimetype': 'TAS',\n",
              "  'epsestimate': 0.77,\n",
              "  'epsactual': 1.05,\n",
              "  'epssurprisepct': 36.9,\n",
              "  'timeZoneShortName': 'EDT',\n",
              "  'gmtOffsetMilliSeconds': -14400000,\n",
              "  'quoteType': 'EQUITY'},\n",
              " {'ticker': 'ALB',\n",
              "  'companyshortname': 'Albemarle Corporation',\n",
              "  'eventname': None,\n",
              "  'startdatetime': '2021-08-04T16:15:00.000Z',\n",
              "  'startdatetimetype': 'TAS',\n",
              "  'epsestimate': 0.84,\n",
              "  'epsactual': 0.89,\n",
              "  'epssurprisepct': 6.21,\n",
              "  'timeZoneShortName': 'EDT',\n",
              "  'gmtOffsetMilliSeconds': -14400000,\n",
              "  'quoteType': 'EQUITY'},\n",
              " {'ticker': 'ALB',\n",
              "  'companyshortname': 'Albemarle Corporation',\n",
              "  'eventname': None,\n",
              "  'startdatetime': '2021-05-05T16:22:00.000Z',\n",
              "  'startdatetimetype': 'TAS',\n",
              "  'epsestimate': 0.8,\n",
              "  'epsactual': 1.1,\n",
              "  'epssurprisepct': 38.19,\n",
              "  'timeZoneShortName': 'EDT',\n",
              "  'gmtOffsetMilliSeconds': -14400000,\n",
              "  'quoteType': 'EQUITY'},\n",
              " {'ticker': 'ALB',\n",
              "  'companyshortname': 'Albemarle Corporation',\n",
              "  'eventname': None,\n",
              "  'startdatetime': '2021-02-17T16:15:00.000Z',\n",
              "  'startdatetimetype': 'TAS',\n",
              "  'epsestimate': 1.1,\n",
              "  'epsactual': 1.17,\n",
              "  'epssurprisepct': 6.46,\n",
              "  'timeZoneShortName': 'EST',\n",
              "  'gmtOffsetMilliSeconds': -18000000,\n",
              "  'quoteType': 'EQUITY'},\n",
              " {'ticker': 'ALB',\n",
              "  'companyshortname': 'Albemarle Corporation',\n",
              "  'eventname': None,\n",
              "  'startdatetime': '2020-11-04T16:15:00.000Z',\n",
              "  'startdatetimetype': 'TAS',\n",
              "  'epsestimate': 0.78,\n",
              "  'epsactual': 1.09,\n",
              "  'epssurprisepct': 40.1,\n",
              "  'timeZoneShortName': 'EST',\n",
              "  'gmtOffsetMilliSeconds': -18000000,\n",
              "  'quoteType': 'EQUITY'},\n",
              " {'ticker': 'ALB',\n",
              "  'companyshortname': 'Albemarle Corporation',\n",
              "  'eventname': None,\n",
              "  'startdatetime': '2020-08-05T17:02:00.000Z',\n",
              "  'startdatetimetype': 'TAS',\n",
              "  'epsestimate': 0.73,\n",
              "  'epsactual': 0.86,\n",
              "  'epssurprisepct': 18.13,\n",
              "  'timeZoneShortName': 'EDT',\n",
              "  'gmtOffsetMilliSeconds': -14400000,\n",
              "  'quoteType': 'EQUITY'},\n",
              " {'ticker': 'ALB',\n",
              "  'companyshortname': 'Albemarle Corporation',\n",
              "  'eventname': None,\n",
              "  'startdatetime': '2020-05-06T16:15:00.000Z',\n",
              "  'startdatetimetype': 'TAS',\n",
              "  'epsestimate': 0.83,\n",
              "  'epsactual': 1,\n",
              "  'epssurprisepct': 20.77,\n",
              "  'timeZoneShortName': 'EDT',\n",
              "  'gmtOffsetMilliSeconds': -14400000,\n",
              "  'quoteType': 'EQUITY'},\n",
              " {'ticker': 'ALB',\n",
              "  'companyshortname': 'Albemarle Corporation',\n",
              "  'eventname': None,\n",
              "  'startdatetime': '2020-02-19T16:17:00.000Z',\n",
              "  'startdatetimetype': 'TAS',\n",
              "  'epsestimate': 1.74,\n",
              "  'epsactual': 1.73,\n",
              "  'epssurprisepct': -0.57,\n",
              "  'timeZoneShortName': 'EST',\n",
              "  'gmtOffsetMilliSeconds': -18000000,\n",
              "  'quoteType': 'EQUITY'},\n",
              " {'ticker': 'ALB',\n",
              "  'companyshortname': 'Albemarle Corporation',\n",
              "  'eventname': None,\n",
              "  'startdatetime': '2019-11-06T16:19:00.000Z',\n",
              "  'startdatetimetype': 'TAS',\n",
              "  'epsestimate': 1.56,\n",
              "  'epsactual': 1.53,\n",
              "  'epssurprisepct': -1.86,\n",
              "  'timeZoneShortName': 'EST',\n",
              "  'gmtOffsetMilliSeconds': -18000000,\n",
              "  'quoteType': 'EQUITY'},\n",
              " {'ticker': 'ALB',\n",
              "  'companyshortname': 'Albemarle Corporation',\n",
              "  'eventname': None,\n",
              "  'startdatetime': '2019-08-07T16:15:00.000Z',\n",
              "  'startdatetimetype': 'TAS',\n",
              "  'epsestimate': 1.44,\n",
              "  'epsactual': 1.55,\n",
              "  'epssurprisepct': 7.64,\n",
              "  'timeZoneShortName': 'EDT',\n",
              "  'gmtOffsetMilliSeconds': -14400000,\n",
              "  'quoteType': 'EQUITY'},\n",
              " {'ticker': 'ALB',\n",
              "  'companyshortname': 'Albemarle Corporation',\n",
              "  'eventname': None,\n",
              "  'startdatetime': '2019-05-08T16:19:00.000Z',\n",
              "  'startdatetimetype': 'TAS',\n",
              "  'epsestimate': 1.22,\n",
              "  'epsactual': 1.23,\n",
              "  'epssurprisepct': 0.82,\n",
              "  'timeZoneShortName': 'EDT',\n",
              "  'gmtOffsetMilliSeconds': -14400000,\n",
              "  'quoteType': 'EQUITY'},\n",
              " {'ticker': 'ALB',\n",
              "  'companyshortname': 'Albemarle Corporation',\n",
              "  'eventname': None,\n",
              "  'startdatetime': '2019-02-20T16:18:00.000Z',\n",
              "  'startdatetimetype': 'TAS',\n",
              "  'epsestimate': 1.47,\n",
              "  'epsactual': 1.53,\n",
              "  'epssurprisepct': 4.15,\n",
              "  'timeZoneShortName': 'EST',\n",
              "  'gmtOffsetMilliSeconds': -18000000,\n",
              "  'quoteType': 'EQUITY'},\n",
              " {'ticker': 'ALB',\n",
              "  'companyshortname': 'Albemarle Corporation',\n",
              "  'eventname': None,\n",
              "  'startdatetime': '2018-11-07T16:15:00.000Z',\n",
              "  'startdatetimetype': 'TAS',\n",
              "  'epsestimate': 1.25,\n",
              "  'epsactual': 1.31,\n",
              "  'epssurprisepct': 4.72,\n",
              "  'timeZoneShortName': 'EST',\n",
              "  'gmtOffsetMilliSeconds': -18000000,\n",
              "  'quoteType': 'EQUITY'},\n",
              " {'ticker': 'ALB',\n",
              "  'companyshortname': 'Albemarle Corporation',\n",
              "  'eventname': None,\n",
              "  'startdatetime': '2018-08-07T16:15:00.000Z',\n",
              "  'startdatetimetype': 'TAS',\n",
              "  'epsestimate': 1.28,\n",
              "  'epsactual': 1.36,\n",
              "  'epssurprisepct': 6.17,\n",
              "  'timeZoneShortName': 'EDT',\n",
              "  'gmtOffsetMilliSeconds': -14400000,\n",
              "  'quoteType': 'EQUITY'},\n",
              " {'ticker': 'ALB',\n",
              "  'companyshortname': 'Albemarle Corporation',\n",
              "  'eventname': None,\n",
              "  'startdatetime': '2018-05-09T16:44:00.000Z',\n",
              "  'startdatetimetype': 'TAS',\n",
              "  'epsestimate': 1.21,\n",
              "  'epsactual': 1.3,\n",
              "  'epssurprisepct': 7.35,\n",
              "  'timeZoneShortName': 'EDT',\n",
              "  'gmtOffsetMilliSeconds': -14400000,\n",
              "  'quoteType': 'EQUITY'},\n",
              " {'ticker': 'ALB',\n",
              "  'companyshortname': 'Albemarle Corporation',\n",
              "  'eventname': None,\n",
              "  'startdatetime': '2018-02-27T17:00:00.000Z',\n",
              "  'startdatetimetype': 'TAS',\n",
              "  'epsestimate': 1.21,\n",
              "  'epsactual': 1.34,\n",
              "  'epssurprisepct': 10.38,\n",
              "  'timeZoneShortName': 'EST',\n",
              "  'gmtOffsetMilliSeconds': -18000000,\n",
              "  'quoteType': 'EQUITY'},\n",
              " {'ticker': 'ALB',\n",
              "  'companyshortname': 'Albemarle Corporation',\n",
              "  'eventname': None,\n",
              "  'startdatetime': '2017-11-08T17:05:00.000Z',\n",
              "  'startdatetimetype': 'TAS',\n",
              "  'epsestimate': 1.07,\n",
              "  'epsactual': 1.08,\n",
              "  'epssurprisepct': 1.22,\n",
              "  'timeZoneShortName': 'EST',\n",
              "  'gmtOffsetMilliSeconds': -18000000,\n",
              "  'quoteType': 'EQUITY'},\n",
              " {'ticker': 'ALB',\n",
              "  'companyshortname': 'Albemarle Corporation',\n",
              "  'eventname': None,\n",
              "  'startdatetime': '2017-08-07T17:00:00.000Z',\n",
              "  'startdatetimetype': 'TAS',\n",
              "  'epsestimate': 1.11,\n",
              "  'epsactual': 1.13,\n",
              "  'epssurprisepct': 1.99,\n",
              "  'timeZoneShortName': 'EDT',\n",
              "  'gmtOffsetMilliSeconds': -14400000,\n",
              "  'quoteType': 'EQUITY'},\n",
              " {'ticker': 'ALB',\n",
              "  'companyshortname': 'Albemarle Corporation',\n",
              "  'eventname': None,\n",
              "  'startdatetime': '2017-05-03T18:02:00.000Z',\n",
              "  'startdatetimetype': 'TAS',\n",
              "  'epsestimate': 0.97,\n",
              "  'epsactual': 1.05,\n",
              "  'epssurprisepct': 8.7,\n",
              "  'timeZoneShortName': 'EDT',\n",
              "  'gmtOffsetMilliSeconds': -14400000,\n",
              "  'quoteType': 'EQUITY'},\n",
              " {'ticker': 'ALB',\n",
              "  'companyshortname': 'Albemarle Corporation',\n",
              "  'eventname': None,\n",
              "  'startdatetime': '2017-02-27T17:05:00.000Z',\n",
              "  'startdatetimetype': 'TAS',\n",
              "  'epsestimate': 0.73,\n",
              "  'epsactual': 0.78,\n",
              "  'epssurprisepct': 6.27,\n",
              "  'timeZoneShortName': 'EST',\n",
              "  'gmtOffsetMilliSeconds': -18000000,\n",
              "  'quoteType': 'EQUITY'},\n",
              " {'ticker': 'ALB',\n",
              "  'companyshortname': 'Albemarle Corporation',\n",
              "  'eventname': None,\n",
              "  'startdatetime': '2016-11-07T17:00:00.000Z',\n",
              "  'startdatetimetype': 'TAS',\n",
              "  'epsestimate': 0.81,\n",
              "  'epsactual': 0.91,\n",
              "  'epssurprisepct': 11.79,\n",
              "  'timeZoneShortName': 'EST',\n",
              "  'gmtOffsetMilliSeconds': -18000000,\n",
              "  'quoteType': 'EQUITY'},\n",
              " {'ticker': 'ALB',\n",
              "  'companyshortname': 'Albemarle Corporation',\n",
              "  'eventname': None,\n",
              "  'startdatetime': '2016-08-03T17:00:00.000Z',\n",
              "  'startdatetimetype': 'TAS',\n",
              "  'epsestimate': 0.99,\n",
              "  'epsactual': 0.93,\n",
              "  'epssurprisepct': -5.68,\n",
              "  'timeZoneShortName': 'EDT',\n",
              "  'gmtOffsetMilliSeconds': -14400000,\n",
              "  'quoteType': 'EQUITY'},\n",
              " {'ticker': 'ALB',\n",
              "  'companyshortname': 'Albemarle Corporation',\n",
              "  'eventname': None,\n",
              "  'startdatetime': '2016-05-10T17:00:00.000Z',\n",
              "  'startdatetimetype': 'TAS',\n",
              "  'epsestimate': 0.86,\n",
              "  'epsactual': 1.12,\n",
              "  'epssurprisepct': 30.99,\n",
              "  'timeZoneShortName': 'EDT',\n",
              "  'gmtOffsetMilliSeconds': -14400000,\n",
              "  'quoteType': 'EQUITY'},\n",
              " {'ticker': 'ALB',\n",
              "  'companyshortname': 'Albemarle Corporation',\n",
              "  'eventname': None,\n",
              "  'startdatetime': '2016-02-17T17:20:00.000Z',\n",
              "  'startdatetimetype': 'TAS',\n",
              "  'epsestimate': 0.83,\n",
              "  'epsactual': 1.03,\n",
              "  'epssurprisepct': 24.25,\n",
              "  'timeZoneShortName': 'EST',\n",
              "  'gmtOffsetMilliSeconds': -18000000,\n",
              "  'quoteType': 'EQUITY'},\n",
              " {'ticker': 'ALB',\n",
              "  'companyshortname': 'Albemarle Corporation',\n",
              "  'eventname': None,\n",
              "  'startdatetime': '2015-11-04T17:39:00.000Z',\n",
              "  'startdatetimetype': 'TAS',\n",
              "  'epsestimate': 0.89,\n",
              "  'epsactual': 0.9,\n",
              "  'epssurprisepct': 1.58,\n",
              "  'timeZoneShortName': 'EST',\n",
              "  'gmtOffsetMilliSeconds': -18000000,\n",
              "  'quoteType': 'EQUITY'},\n",
              " {'ticker': 'ALB',\n",
              "  'companyshortname': 'Albemarle Corporation',\n",
              "  'eventname': None,\n",
              "  'startdatetime': '2015-08-05T17:16:00.000Z',\n",
              "  'startdatetimetype': 'TAS',\n",
              "  'epsestimate': 0.82,\n",
              "  'epsactual': 0.84,\n",
              "  'epssurprisepct': 2.69,\n",
              "  'timeZoneShortName': 'EDT',\n",
              "  'gmtOffsetMilliSeconds': -14400000,\n",
              "  'quoteType': 'EQUITY'},\n",
              " {'ticker': 'ALB',\n",
              "  'companyshortname': 'Albemarle Corporation',\n",
              "  'eventname': None,\n",
              "  'startdatetime': '2015-05-06T18:09:00.000Z',\n",
              "  'startdatetimetype': 'TAS',\n",
              "  'epsestimate': 0.71,\n",
              "  'epsactual': 1.17,\n",
              "  'epssurprisepct': 63.87,\n",
              "  'timeZoneShortName': 'EDT',\n",
              "  'gmtOffsetMilliSeconds': -14400000,\n",
              "  'quoteType': 'EQUITY'},\n",
              " {'ticker': 'ALB',\n",
              "  'companyshortname': 'Albemarle Corporation',\n",
              "  'eventname': None,\n",
              "  'startdatetime': '2015-01-28T17:12:00.000Z',\n",
              "  'startdatetimetype': 'TAS',\n",
              "  'epsestimate': 1.02,\n",
              "  'epsactual': 0.99,\n",
              "  'epssurprisepct': -3.41,\n",
              "  'timeZoneShortName': 'EST',\n",
              "  'gmtOffsetMilliSeconds': -18000000,\n",
              "  'quoteType': 'EQUITY'},\n",
              " {'ticker': 'ALB',\n",
              "  'companyshortname': 'Albemarle Corporation',\n",
              "  'eventname': None,\n",
              "  'startdatetime': '2014-10-22T17:03:00.000Z',\n",
              "  'startdatetimetype': 'TAS',\n",
              "  'epsestimate': 1.01,\n",
              "  'epsactual': 1.14,\n",
              "  'epssurprisepct': 12.32,\n",
              "  'timeZoneShortName': 'EDT',\n",
              "  'gmtOffsetMilliSeconds': -14400000,\n",
              "  'quoteType': 'EQUITY'},\n",
              " {'ticker': 'ALB',\n",
              "  'companyshortname': 'Albemarle Corporation',\n",
              "  'eventname': None,\n",
              "  'startdatetime': '2014-07-30T04:00:00.000Z',\n",
              "  'startdatetimetype': 'TAS',\n",
              "  'epsestimate': 1.08,\n",
              "  'epsactual': 1.1,\n",
              "  'epssurprisepct': 2.24,\n",
              "  'timeZoneShortName': 'EDT',\n",
              "  'gmtOffsetMilliSeconds': -14400000,\n",
              "  'quoteType': 'EQUITY'},\n",
              " {'ticker': 'ALB',\n",
              "  'companyshortname': 'Albemarle Corporation',\n",
              "  'eventname': None,\n",
              "  'startdatetime': '2014-04-16T04:00:00.000Z',\n",
              "  'startdatetimetype': 'TAS',\n",
              "  'epsestimate': 0.95,\n",
              "  'epsactual': 0.96,\n",
              "  'epssurprisepct': 1.46,\n",
              "  'timeZoneShortName': 'EDT',\n",
              "  'gmtOffsetMilliSeconds': -14400000,\n",
              "  'quoteType': 'EQUITY'},\n",
              " {'ticker': 'ALB',\n",
              "  'companyshortname': 'Albemarle Corporation',\n",
              "  'eventname': None,\n",
              "  'startdatetime': '2014-01-28T05:00:00.000Z',\n",
              "  'startdatetimetype': 'TAS',\n",
              "  'epsestimate': 1.04,\n",
              "  'epsactual': 1.08,\n",
              "  'epssurprisepct': 3.45,\n",
              "  'timeZoneShortName': 'EST',\n",
              "  'gmtOffsetMilliSeconds': -18000000,\n",
              "  'quoteType': 'EQUITY'},\n",
              " {'ticker': 'ALB',\n",
              "  'companyshortname': 'Albemarle Corporation',\n",
              "  'eventname': None,\n",
              "  'startdatetime': '2013-10-16T04:00:00.000Z',\n",
              "  'startdatetimetype': 'TAS',\n",
              "  'epsestimate': 1.06,\n",
              "  'epsactual': 1.09,\n",
              "  'epssurprisepct': 2.59,\n",
              "  'timeZoneShortName': 'EDT',\n",
              "  'gmtOffsetMilliSeconds': -14400000,\n",
              "  'quoteType': 'EQUITY'},\n",
              " {'ticker': 'ALB',\n",
              "  'companyshortname': 'Albemarle Corporation',\n",
              "  'eventname': None,\n",
              "  'startdatetime': '2013-07-17T04:00:00.000Z',\n",
              "  'startdatetimetype': 'TAS',\n",
              "  'epsestimate': 0.99,\n",
              "  'epsactual': 0.97,\n",
              "  'epssurprisepct': -1.98,\n",
              "  'timeZoneShortName': 'EDT',\n",
              "  'gmtOffsetMilliSeconds': -14400000,\n",
              "  'quoteType': 'EQUITY'},\n",
              " {'ticker': 'ALB',\n",
              "  'companyshortname': 'Albemarle Corporation',\n",
              "  'eventname': None,\n",
              "  'startdatetime': '2013-04-17T04:00:00.000Z',\n",
              "  'startdatetimetype': 'TAS',\n",
              "  'epsestimate': 1,\n",
              "  'epsactual': 0.93,\n",
              "  'epssurprisepct': -6.88,\n",
              "  'timeZoneShortName': 'EDT',\n",
              "  'gmtOffsetMilliSeconds': -14400000,\n",
              "  'quoteType': 'EQUITY'},\n",
              " {'ticker': 'ALB',\n",
              "  'companyshortname': 'Albemarle Corporation',\n",
              "  'eventname': None,\n",
              "  'startdatetime': '2013-01-22T05:00:00.000Z',\n",
              "  'startdatetimetype': 'TAS',\n",
              "  'epsestimate': 0.99,\n",
              "  'epsactual': 1.17,\n",
              "  'epssurprisepct': 18.21,\n",
              "  'timeZoneShortName': 'EST',\n",
              "  'gmtOffsetMilliSeconds': -18000000,\n",
              "  'quoteType': 'EQUITY'},\n",
              " {'ticker': 'ALB',\n",
              "  'companyshortname': 'Albemarle Corporation',\n",
              "  'eventname': None,\n",
              "  'startdatetime': '2012-10-17T04:00:00.000Z',\n",
              "  'startdatetimetype': 'TAS',\n",
              "  'epsestimate': 1.08,\n",
              "  'epsactual': 1.1,\n",
              "  'epssurprisepct': 1.72,\n",
              "  'timeZoneShortName': 'EDT',\n",
              "  'gmtOffsetMilliSeconds': -14400000,\n",
              "  'quoteType': 'EQUITY'},\n",
              " {'ticker': 'ALB',\n",
              "  'companyshortname': 'Albemarle Corporation',\n",
              "  'eventname': None,\n",
              "  'startdatetime': '2012-07-17T04:00:00.000Z',\n",
              "  'startdatetimetype': 'TAS',\n",
              "  'epsestimate': 1.23,\n",
              "  'epsactual': 1.24,\n",
              "  'epssurprisepct': 1.13,\n",
              "  'timeZoneShortName': 'EDT',\n",
              "  'gmtOffsetMilliSeconds': -14400000,\n",
              "  'quoteType': 'EQUITY'},\n",
              " {'ticker': 'ALB',\n",
              "  'companyshortname': 'Albemarle Corporation',\n",
              "  'eventname': None,\n",
              "  'startdatetime': '2012-04-18T04:00:00.000Z',\n",
              "  'startdatetimetype': 'TAS',\n",
              "  'epsestimate': 1.16,\n",
              "  'epsactual': 1.2,\n",
              "  'epssurprisepct': 3.75,\n",
              "  'timeZoneShortName': 'EDT',\n",
              "  'gmtOffsetMilliSeconds': -14400000,\n",
              "  'quoteType': 'EQUITY'},\n",
              " {'ticker': 'ALB',\n",
              "  'companyshortname': 'Albemarle Corporation',\n",
              "  'eventname': None,\n",
              "  'startdatetime': '2012-01-23T05:00:00.000Z',\n",
              "  'startdatetimetype': 'TAS',\n",
              "  'epsestimate': 1.09,\n",
              "  'epsactual': 1.11,\n",
              "  'epssurprisepct': 2.09,\n",
              "  'timeZoneShortName': 'EST',\n",
              "  'gmtOffsetMilliSeconds': -18000000,\n",
              "  'quoteType': 'EQUITY'},\n",
              " {'ticker': 'ALB',\n",
              "  'companyshortname': 'Albemarle Corporation',\n",
              "  'eventname': None,\n",
              "  'startdatetime': '2011-10-24T04:00:00.000Z',\n",
              "  'startdatetimetype': 'TAS',\n",
              "  'epsestimate': 1.19,\n",
              "  'epsactual': 1.28,\n",
              "  'epssurprisepct': 7.89,\n",
              "  'timeZoneShortName': 'EDT',\n",
              "  'gmtOffsetMilliSeconds': -14400000,\n",
              "  'quoteType': 'EQUITY'},\n",
              " {'ticker': 'ALB',\n",
              "  'companyshortname': 'Albemarle Corporation',\n",
              "  'eventname': None,\n",
              "  'startdatetime': '2011-07-21T04:00:00.000Z',\n",
              "  'startdatetimetype': 'TAS',\n",
              "  'epsestimate': 1.12,\n",
              "  'epsactual': 1.23,\n",
              "  'epssurprisepct': 9.55,\n",
              "  'timeZoneShortName': 'EDT',\n",
              "  'gmtOffsetMilliSeconds': -14400000,\n",
              "  'quoteType': 'EQUITY'},\n",
              " {'ticker': 'ALB',\n",
              "  'companyshortname': 'Albemarle Corporation',\n",
              "  'eventname': None,\n",
              "  'startdatetime': '2011-04-19T04:00:00.000Z',\n",
              "  'startdatetimetype': 'TAS',\n",
              "  'epsestimate': 0.96,\n",
              "  'epsactual': 1.15,\n",
              "  'epssurprisepct': 19.68,\n",
              "  'timeZoneShortName': 'EDT',\n",
              "  'gmtOffsetMilliSeconds': -14400000,\n",
              "  'quoteType': 'EQUITY'},\n",
              " {'ticker': 'ALB',\n",
              "  'companyshortname': 'Albemarle Corporation',\n",
              "  'eventname': None,\n",
              "  'startdatetime': '2011-01-24T05:00:00.000Z',\n",
              "  'startdatetimetype': 'TAS',\n",
              "  'epsestimate': 0.87,\n",
              "  'epsactual': 0.92,\n",
              "  'epssurprisepct': 5.2,\n",
              "  'timeZoneShortName': 'EST',\n",
              "  'gmtOffsetMilliSeconds': -18000000,\n",
              "  'quoteType': 'EQUITY'},\n",
              " {'ticker': 'ALB',\n",
              "  'companyshortname': 'Albemarle Corporation',\n",
              "  'eventname': None,\n",
              "  'startdatetime': '2010-10-21T04:00:00.000Z',\n",
              "  'startdatetimetype': 'TAS',\n",
              "  'epsestimate': 0.85,\n",
              "  'epsactual': 1.02,\n",
              "  'epssurprisepct': 20.39,\n",
              "  'timeZoneShortName': 'EDT',\n",
              "  'gmtOffsetMilliSeconds': -14400000,\n",
              "  'quoteType': 'EQUITY'},\n",
              " {'ticker': 'ALB',\n",
              "  'companyshortname': 'Albemarle Corporation',\n",
              "  'eventname': None,\n",
              "  'startdatetime': '2010-07-26T04:00:00.000Z',\n",
              "  'startdatetimetype': 'TAS',\n",
              "  'epsestimate': 0.76,\n",
              "  'epsactual': 0.89,\n",
              "  'epssurprisepct': 16.97,\n",
              "  'timeZoneShortName': 'EDT',\n",
              "  'gmtOffsetMilliSeconds': -14400000,\n",
              "  'quoteType': 'EQUITY'},\n",
              " {'ticker': 'ALB',\n",
              "  'companyshortname': 'Albemarle Corporation',\n",
              "  'eventname': None,\n",
              "  'startdatetime': '2010-04-26T04:00:00.000Z',\n",
              "  'startdatetimetype': 'TAS',\n",
              "  'epsestimate': 0.63,\n",
              "  'epsactual': 0.74,\n",
              "  'epssurprisepct': 16.95,\n",
              "  'timeZoneShortName': 'EDT',\n",
              "  'gmtOffsetMilliSeconds': -14400000,\n",
              "  'quoteType': 'EQUITY'},\n",
              " {'ticker': 'ALB',\n",
              "  'companyshortname': 'Albemarle Corporation',\n",
              "  'eventname': None,\n",
              "  'startdatetime': '2010-01-25T05:00:00.000Z',\n",
              "  'startdatetimetype': 'TAS',\n",
              "  'epsestimate': 0.58,\n",
              "  'epsactual': 0.64,\n",
              "  'epssurprisepct': 10.98,\n",
              "  'timeZoneShortName': 'EST',\n",
              "  'gmtOffsetMilliSeconds': -18000000,\n",
              "  'quoteType': 'EQUITY'},\n",
              " {'ticker': 'ALB',\n",
              "  'companyshortname': 'Albemarle Corporation',\n",
              "  'eventname': None,\n",
              "  'startdatetime': '2009-10-26T04:00:00.000Z',\n",
              "  'startdatetimetype': 'TAS',\n",
              "  'epsestimate': 0.55,\n",
              "  'epsactual': 0.57,\n",
              "  'epssurprisepct': 3.35,\n",
              "  'timeZoneShortName': 'EDT',\n",
              "  'gmtOffsetMilliSeconds': -14400000,\n",
              "  'quoteType': 'EQUITY'},\n",
              " {'ticker': 'ALB',\n",
              "  'companyshortname': 'Albemarle Corporation',\n",
              "  'eventname': None,\n",
              "  'startdatetime': '2009-07-22T04:00:00.000Z',\n",
              "  'startdatetimetype': 'TAS',\n",
              "  'epsestimate': 0.33,\n",
              "  'epsactual': 0.41,\n",
              "  'epssurprisepct': 24.24,\n",
              "  'timeZoneShortName': 'EDT',\n",
              "  'gmtOffsetMilliSeconds': -14400000,\n",
              "  'quoteType': 'EQUITY'},\n",
              " {'ticker': 'ALB',\n",
              "  'companyshortname': 'Albemarle Corporation',\n",
              "  'eventname': None,\n",
              "  'startdatetime': '2009-04-27T04:00:00.000Z',\n",
              "  'startdatetimetype': 'TAS',\n",
              "  'epsestimate': 0.28,\n",
              "  'epsactual': 0.28,\n",
              "  'epssurprisepct': 0,\n",
              "  'timeZoneShortName': 'EDT',\n",
              "  'gmtOffsetMilliSeconds': -14400000,\n",
              "  'quoteType': 'EQUITY'},\n",
              " {'ticker': 'ALB',\n",
              "  'companyshortname': 'Albemarle Corporation',\n",
              "  'eventname': None,\n",
              "  'startdatetime': '2009-01-26T05:00:00.000Z',\n",
              "  'startdatetimetype': 'TAS',\n",
              "  'epsestimate': 0.48,\n",
              "  'epsactual': 0.42,\n",
              "  'epssurprisepct': -12.36,\n",
              "  'timeZoneShortName': 'EST',\n",
              "  'gmtOffsetMilliSeconds': -18000000,\n",
              "  'quoteType': 'EQUITY'},\n",
              " {'ticker': 'ALB',\n",
              "  'companyshortname': 'Albemarle Corporation',\n",
              "  'eventname': None,\n",
              "  'startdatetime': '2008-10-27T04:00:00.000Z',\n",
              "  'startdatetimetype': 'TAS',\n",
              "  'epsestimate': 0.65,\n",
              "  'epsactual': 0.61,\n",
              "  'epssurprisepct': -5.71,\n",
              "  'timeZoneShortName': 'EDT',\n",
              "  'gmtOffsetMilliSeconds': -14400000,\n",
              "  'quoteType': 'EQUITY'},\n",
              " {'ticker': 'ALB',\n",
              "  'companyshortname': 'Albemarle Corporation',\n",
              "  'eventname': None,\n",
              "  'startdatetime': '2008-07-21T04:00:00.000Z',\n",
              "  'startdatetimetype': 'TAS',\n",
              "  'epsestimate': 0.65,\n",
              "  'epsactual': 0.67,\n",
              "  'epssurprisepct': 2.59,\n",
              "  'timeZoneShortName': 'EDT',\n",
              "  'gmtOffsetMilliSeconds': -14400000,\n",
              "  'quoteType': 'EQUITY'},\n",
              " {'ticker': 'ALB',\n",
              "  'companyshortname': 'Albemarle Corporation',\n",
              "  'eventname': None,\n",
              "  'startdatetime': '2008-04-21T04:00:00.000Z',\n",
              "  'startdatetimetype': 'TAS',\n",
              "  'epsestimate': 0.66,\n",
              "  'epsactual': 0.7,\n",
              "  'epssurprisepct': 5.69,\n",
              "  'timeZoneShortName': 'EDT',\n",
              "  'gmtOffsetMilliSeconds': -14400000,\n",
              "  'quoteType': 'EQUITY'},\n",
              " {'ticker': 'ALB',\n",
              "  'companyshortname': 'Albemarle Corporation',\n",
              "  'eventname': None,\n",
              "  'startdatetime': '2008-01-28T05:00:00.000Z',\n",
              "  'startdatetimetype': 'TAS',\n",
              "  'epsestimate': 0.59,\n",
              "  'epsactual': 0.6,\n",
              "  'epssurprisepct': 1.69,\n",
              "  'timeZoneShortName': 'EST',\n",
              "  'gmtOffsetMilliSeconds': -18000000,\n",
              "  'quoteType': 'EQUITY'},\n",
              " {'ticker': 'ALB',\n",
              "  'companyshortname': 'Albemarle Corporation',\n",
              "  'eventname': None,\n",
              "  'startdatetime': '2007-10-22T04:00:00.000Z',\n",
              "  'startdatetimetype': 'TAS',\n",
              "  'epsestimate': 0.61,\n",
              "  'epsactual': 0.61,\n",
              "  'epssurprisepct': -0.41,\n",
              "  'timeZoneShortName': 'EDT',\n",
              "  'gmtOffsetMilliSeconds': -14400000,\n",
              "  'quoteType': 'EQUITY'},\n",
              " {'ticker': 'ALB',\n",
              "  'companyshortname': 'Albemarle Corporation',\n",
              "  'eventname': None,\n",
              "  'startdatetime': '2007-07-24T04:00:00.000Z',\n",
              "  'startdatetimetype': 'TAS',\n",
              "  'epsestimate': 0.54,\n",
              "  'epsactual': 0.59,\n",
              "  'epssurprisepct': 8.84,\n",
              "  'timeZoneShortName': 'EDT',\n",
              "  'gmtOffsetMilliSeconds': -14400000,\n",
              "  'quoteType': 'EQUITY'},\n",
              " {'ticker': 'ALB',\n",
              "  'companyshortname': 'Albemarle Corporation',\n",
              "  'eventname': None,\n",
              "  'startdatetime': '2007-04-23T04:00:00.000Z',\n",
              "  'startdatetimetype': 'TAS',\n",
              "  'epsestimate': 0.55,\n",
              "  'epsactual': 0.6,\n",
              "  'epssurprisepct': 8.93,\n",
              "  'timeZoneShortName': 'EDT',\n",
              "  'gmtOffsetMilliSeconds': -14400000,\n",
              "  'quoteType': 'EQUITY'},\n",
              " {'ticker': 'ALB',\n",
              "  'companyshortname': 'Albemarle Corporation',\n",
              "  'eventname': None,\n",
              "  'startdatetime': '2007-01-23T05:00:00.000Z',\n",
              "  'startdatetimetype': 'TAS',\n",
              "  'epsestimate': 0.47,\n",
              "  'epsactual': 0.59,\n",
              "  'epssurprisepct': 26.43,\n",
              "  'timeZoneShortName': 'EST',\n",
              "  'gmtOffsetMilliSeconds': -18000000,\n",
              "  'quoteType': 'EQUITY'},\n",
              " {'ticker': 'ALB',\n",
              "  'companyshortname': 'Albemarle Corporation',\n",
              "  'eventname': None,\n",
              "  'startdatetime': '2006-10-18T04:00:00.000Z',\n",
              "  'startdatetimetype': 'TAS',\n",
              "  'epsestimate': 0.44,\n",
              "  'epsactual': 0.63,\n",
              "  'epssurprisepct': 42.86,\n",
              "  'timeZoneShortName': 'EDT',\n",
              "  'gmtOffsetMilliSeconds': -14400000,\n",
              "  'quoteType': 'EQUITY'},\n",
              " {'ticker': 'ALB',\n",
              "  'companyshortname': 'Albemarle Corporation',\n",
              "  'eventname': None,\n",
              "  'startdatetime': '2006-07-24T04:00:00.000Z',\n",
              "  'startdatetimetype': 'TAS',\n",
              "  'epsestimate': 0.35,\n",
              "  'epsactual': 0.45,\n",
              "  'epssurprisepct': 25.88,\n",
              "  'timeZoneShortName': 'EDT',\n",
              "  'gmtOffsetMilliSeconds': -14400000,\n",
              "  'quoteType': 'EQUITY'},\n",
              " {'ticker': 'ALB',\n",
              "  'companyshortname': 'Albemarle Corporation',\n",
              "  'eventname': None,\n",
              "  'startdatetime': '2006-04-25T04:00:00.000Z',\n",
              "  'startdatetimetype': 'TAS',\n",
              "  'epsestimate': 0.31,\n",
              "  'epsactual': 0.36,\n",
              "  'epssurprisepct': 12.9,\n",
              "  'timeZoneShortName': 'EDT',\n",
              "  'gmtOffsetMilliSeconds': -14400000,\n",
              "  'quoteType': 'EQUITY'},\n",
              " {'ticker': 'ALB',\n",
              "  'companyshortname': 'Albemarle Corporation',\n",
              "  'eventname': None,\n",
              "  'startdatetime': '2006-01-25T05:00:00.000Z',\n",
              "  'startdatetimetype': 'TAS',\n",
              "  'epsestimate': 0.28,\n",
              "  'epsactual': 0.36,\n",
              "  'epssurprisepct': 28.21,\n",
              "  'timeZoneShortName': 'EST',\n",
              "  'gmtOffsetMilliSeconds': -18000000,\n",
              "  'quoteType': 'EQUITY'},\n",
              " {'ticker': 'ALB',\n",
              "  'companyshortname': 'Albemarle Corporation',\n",
              "  'eventname': None,\n",
              "  'startdatetime': '2005-10-25T04:00:00.000Z',\n",
              "  'startdatetimetype': 'TAS',\n",
              "  'epsestimate': 0.29,\n",
              "  'epsactual': 0.23,\n",
              "  'epssurprisepct': -22.49,\n",
              "  'timeZoneShortName': 'EDT',\n",
              "  'gmtOffsetMilliSeconds': -14400000,\n",
              "  'quoteType': 'EQUITY'},\n",
              " {'ticker': 'ALB',\n",
              "  'companyshortname': 'Albemarle Corporation',\n",
              "  'eventname': None,\n",
              "  'startdatetime': '2005-07-20T04:00:00.000Z',\n",
              "  'startdatetimetype': 'TAS',\n",
              "  'epsestimate': 0.29,\n",
              "  'epsactual': 0.3,\n",
              "  'epssurprisepct': 1.94,\n",
              "  'timeZoneShortName': 'EDT',\n",
              "  'gmtOffsetMilliSeconds': -14400000,\n",
              "  'quoteType': 'EQUITY'},\n",
              " {'ticker': 'ALB',\n",
              "  'companyshortname': 'Albemarle Corporation',\n",
              "  'eventname': None,\n",
              "  'startdatetime': '2005-04-26T04:00:00.000Z',\n",
              "  'startdatetimetype': 'TAS',\n",
              "  'epsestimate': 0.23,\n",
              "  'epsactual': 0.27,\n",
              "  'epssurprisepct': 19.24,\n",
              "  'timeZoneShortName': 'EDT',\n",
              "  'gmtOffsetMilliSeconds': -14400000,\n",
              "  'quoteType': 'EQUITY'},\n",
              " {'ticker': 'ALB',\n",
              "  'companyshortname': 'Albemarle Corporation',\n",
              "  'eventname': None,\n",
              "  'startdatetime': '2005-02-03T05:00:00.000Z',\n",
              "  'startdatetimetype': 'TAS',\n",
              "  'epsestimate': 0.22,\n",
              "  'epsactual': 0.23,\n",
              "  'epssurprisepct': 2.99,\n",
              "  'timeZoneShortName': 'EST',\n",
              "  'gmtOffsetMilliSeconds': -18000000,\n",
              "  'quoteType': 'EQUITY'},\n",
              " {'ticker': 'ALB',\n",
              "  'companyshortname': 'Albemarle Corporation',\n",
              "  'eventname': None,\n",
              "  'startdatetime': '2004-10-28T04:00:00.000Z',\n",
              "  'startdatetimetype': 'TAS',\n",
              "  'epsestimate': 0.2,\n",
              "  'epsactual': 0.24,\n",
              "  'epssurprisepct': 22.63,\n",
              "  'timeZoneShortName': 'EDT',\n",
              "  'gmtOffsetMilliSeconds': -14400000,\n",
              "  'quoteType': 'EQUITY'},\n",
              " {'ticker': 'ALB',\n",
              "  'companyshortname': 'Albemarle Corporation',\n",
              "  'eventname': None,\n",
              "  'startdatetime': '2004-07-22T04:00:00.000Z',\n",
              "  'startdatetimetype': 'TAS',\n",
              "  'epsestimate': 0.21,\n",
              "  'epsactual': 0.23,\n",
              "  'epssurprisepct': 9.52,\n",
              "  'timeZoneShortName': 'EDT',\n",
              "  'gmtOffsetMilliSeconds': -14400000,\n",
              "  'quoteType': 'EQUITY'},\n",
              " {'ticker': 'ALB',\n",
              "  'companyshortname': 'Albemarle Corporation',\n",
              "  'eventname': None,\n",
              "  'startdatetime': '2004-04-21T04:00:00.000Z',\n",
              "  'startdatetimetype': 'TAS',\n",
              "  'epsestimate': 0.2,\n",
              "  'epsactual': 0.2,\n",
              "  'epssurprisepct': -3.47,\n",
              "  'timeZoneShortName': 'EDT',\n",
              "  'gmtOffsetMilliSeconds': -14400000,\n",
              "  'quoteType': 'EQUITY'},\n",
              " {'ticker': 'ALB',\n",
              "  'companyshortname': 'Albemarle Corporation',\n",
              "  'eventname': None,\n",
              "  'startdatetime': '2004-01-29T05:00:00.000Z',\n",
              "  'startdatetimetype': 'TAS',\n",
              "  'epsestimate': 0.19,\n",
              "  'epsactual': 0.22,\n",
              "  'epssurprisepct': 15.29,\n",
              "  'timeZoneShortName': 'EST',\n",
              "  'gmtOffsetMilliSeconds': -18000000,\n",
              "  'quoteType': 'EQUITY'},\n",
              " {'ticker': 'ALB',\n",
              "  'companyshortname': 'Albemarle Corporation',\n",
              "  'eventname': None,\n",
              "  'startdatetime': '2003-10-21T04:00:00.000Z',\n",
              "  'startdatetimetype': 'TAS',\n",
              "  'epsestimate': 0.2,\n",
              "  'epsactual': 0.18,\n",
              "  'epssurprisepct': -12.94,\n",
              "  'timeZoneShortName': 'EDT',\n",
              "  'gmtOffsetMilliSeconds': -14400000,\n",
              "  'quoteType': 'EQUITY'},\n",
              " {'ticker': 'ALB',\n",
              "  'companyshortname': 'Albemarle Corporation',\n",
              "  'eventname': None,\n",
              "  'startdatetime': '2003-07-23T04:00:00.000Z',\n",
              "  'startdatetimetype': 'TAS',\n",
              "  'epsestimate': 0.21,\n",
              "  'epsactual': 0.19,\n",
              "  'epssurprisepct': -8.65,\n",
              "  'timeZoneShortName': 'EDT',\n",
              "  'gmtOffsetMilliSeconds': -14400000,\n",
              "  'quoteType': 'EQUITY'},\n",
              " {'ticker': 'ALB',\n",
              "  'companyshortname': 'Albemarle Corporation',\n",
              "  'eventname': None,\n",
              "  'startdatetime': '2003-04-23T04:00:00.000Z',\n",
              "  'startdatetimetype': 'TAS',\n",
              "  'epsestimate': 0.2,\n",
              "  'epsactual': 0.19,\n",
              "  'epssurprisepct': -3.55,\n",
              "  'timeZoneShortName': 'EDT',\n",
              "  'gmtOffsetMilliSeconds': -14400000,\n",
              "  'quoteType': 'EQUITY'},\n",
              " {'ticker': 'ALB',\n",
              "  'companyshortname': 'Albemarle Corporation',\n",
              "  'eventname': None,\n",
              "  'startdatetime': '2003-01-23T05:00:00.000Z',\n",
              "  'startdatetimetype': 'TAS',\n",
              "  'epsestimate': 0.21,\n",
              "  'epsactual': 0.21,\n",
              "  'epssurprisepct': -3.9,\n",
              "  'timeZoneShortName': 'EST',\n",
              "  'gmtOffsetMilliSeconds': -18000000,\n",
              "  'quoteType': 'EQUITY'},\n",
              " {'ticker': 'ALB',\n",
              "  'companyshortname': 'Albemarle Corporation',\n",
              "  'eventname': None,\n",
              "  'startdatetime': '2002-10-23T04:00:00.000Z',\n",
              "  'startdatetimetype': 'TAS',\n",
              "  'epsestimate': 0.21,\n",
              "  'epsactual': 0.24,\n",
              "  'epssurprisepct': 13.38,\n",
              "  'timeZoneShortName': 'EDT',\n",
              "  'gmtOffsetMilliSeconds': -14400000,\n",
              "  'quoteType': 'EQUITY'},\n",
              " {'ticker': 'ALB',\n",
              "  'companyshortname': 'Albemarle Corporation',\n",
              "  'eventname': None,\n",
              "  'startdatetime': '2002-07-25T04:00:00.000Z',\n",
              "  'startdatetimetype': 'TAS',\n",
              "  'epsestimate': 0.19,\n",
              "  'epsactual': 0.2,\n",
              "  'epssurprisepct': 5.96,\n",
              "  'timeZoneShortName': 'EDT',\n",
              "  'gmtOffsetMilliSeconds': -14400000,\n",
              "  'quoteType': 'EQUITY'},\n",
              " {'ticker': 'ALB',\n",
              "  'companyshortname': 'Albemarle Corporation',\n",
              "  'eventname': None,\n",
              "  'startdatetime': '2002-04-19T04:00:00.000Z',\n",
              "  'startdatetimetype': 'TAS',\n",
              "  'epsestimate': 0.18,\n",
              "  'epsactual': 0.19,\n",
              "  'epssurprisepct': 3.64,\n",
              "  'timeZoneShortName': 'EDT',\n",
              "  'gmtOffsetMilliSeconds': -14400000,\n",
              "  'quoteType': 'EQUITY'},\n",
              " {'ticker': 'ALB',\n",
              "  'companyshortname': 'Albemarle Corporation',\n",
              "  'eventname': None,\n",
              "  'startdatetime': '2002-01-23T05:00:00.000Z',\n",
              "  'startdatetimetype': 'TAS',\n",
              "  'epsestimate': 0.15,\n",
              "  'epsactual': 0.17,\n",
              "  'epssurprisepct': 7.14,\n",
              "  'timeZoneShortName': 'EST',\n",
              "  'gmtOffsetMilliSeconds': -18000000,\n",
              "  'quoteType': 'EQUITY'},\n",
              " {'ticker': 'ALB',\n",
              "  'companyshortname': 'Albemarle Corporation',\n",
              "  'eventname': None,\n",
              "  'startdatetime': '2001-10-19T04:00:00.000Z',\n",
              "  'startdatetimetype': 'TAS',\n",
              "  'epsestimate': 0.18,\n",
              "  'epsactual': 0.18,\n",
              "  'epssurprisepct': 2.86,\n",
              "  'timeZoneShortName': 'EDT',\n",
              "  'gmtOffsetMilliSeconds': -14400000,\n",
              "  'quoteType': 'EQUITY'},\n",
              " {'ticker': 'ALB',\n",
              "  'companyshortname': 'Albemarle Corporation',\n",
              "  'eventname': None,\n",
              "  'startdatetime': '2001-07-23T04:00:00.000Z',\n",
              "  'startdatetimetype': 'TAS',\n",
              "  'epsestimate': 0.18,\n",
              "  'epsactual': 0.16,\n",
              "  'epssurprisepct': -9.22,\n",
              "  'timeZoneShortName': 'EDT',\n",
              "  'gmtOffsetMilliSeconds': -14400000,\n",
              "  'quoteType': 'EQUITY'},\n",
              " {'ticker': 'ALB',\n",
              "  'companyshortname': 'Albemarle Corporation',\n",
              "  'eventname': None,\n",
              "  'startdatetime': '2001-04-20T04:00:00.000Z',\n",
              "  'startdatetimetype': 'TAS',\n",
              "  'epsestimate': 0.23,\n",
              "  'epsactual': 0.24,\n",
              "  'epssurprisepct': 5.11,\n",
              "  'timeZoneShortName': 'EDT',\n",
              "  'gmtOffsetMilliSeconds': -14400000,\n",
              "  'quoteType': 'EQUITY'},\n",
              " {'ticker': 'ALB',\n",
              "  'companyshortname': 'Albemarle Corporation',\n",
              "  'eventname': None,\n",
              "  'startdatetime': '2001-01-19T05:00:00.000Z',\n",
              "  'startdatetimetype': 'TAS',\n",
              "  'epsestimate': 0.19,\n",
              "  'epsactual': 0.22,\n",
              "  'epssurprisepct': 15.44,\n",
              "  'timeZoneShortName': 'EST',\n",
              "  'gmtOffsetMilliSeconds': -18000000,\n",
              "  'quoteType': 'EQUITY'},\n",
              " {'ticker': 'ALB',\n",
              "  'companyshortname': 'Albemarle Corporation',\n",
              "  'eventname': None,\n",
              "  'startdatetime': '2000-10-17T04:00:00.000Z',\n",
              "  'startdatetimetype': 'TAS',\n",
              "  'epsestimate': 0.21,\n",
              "  'epsactual': 0.26,\n",
              "  'epssurprisepct': 21.43,\n",
              "  'timeZoneShortName': 'EDT',\n",
              "  'gmtOffsetMilliSeconds': -14400000,\n",
              "  'quoteType': 'EQUITY'},\n",
              " {'ticker': 'ALB',\n",
              "  'companyshortname': 'Albemarle Corporation',\n",
              "  'eventname': None,\n",
              "  'startdatetime': '2000-07-18T04:00:00.000Z',\n",
              "  'startdatetimetype': 'TAS',\n",
              "  'epsestimate': 0.22,\n",
              "  'epsactual': 0.26,\n",
              "  'epssurprisepct': 18.6,\n",
              "  'timeZoneShortName': 'EDT',\n",
              "  'gmtOffsetMilliSeconds': -14400000,\n",
              "  'quoteType': 'EQUITY'},\n",
              " {'ticker': 'ALB',\n",
              "  'companyshortname': 'Albemarle Corporation',\n",
              "  'eventname': None,\n",
              "  'startdatetime': '2000-04-17T04:00:00.000Z',\n",
              "  'startdatetimetype': 'TAS',\n",
              "  'epsestimate': 0.25,\n",
              "  'epsactual': 0.31,\n",
              "  'epssurprisepct': 22.82,\n",
              "  'timeZoneShortName': 'EDT',\n",
              "  'gmtOffsetMilliSeconds': -14400000,\n",
              "  'quoteType': 'EQUITY'},\n",
              " {'ticker': 'ALB',\n",
              "  'companyshortname': 'Albemarle Corporation',\n",
              "  'eventname': None,\n",
              "  'startdatetime': '2000-01-20T05:00:00.000Z',\n",
              "  'startdatetimetype': 'TAS',\n",
              "  'epsestimate': 0.21,\n",
              "  'epsactual': 0.26,\n",
              "  'epssurprisepct': 21.43,\n",
              "  'timeZoneShortName': 'EST',\n",
              "  'gmtOffsetMilliSeconds': -18000000,\n",
              "  'quoteType': 'EQUITY'},\n",
              " {'ticker': 'ALB',\n",
              "  'companyshortname': 'Albemarle Corporation',\n",
              "  'eventname': None,\n",
              "  'startdatetime': '1999-10-15T04:00:00.000Z',\n",
              "  'startdatetimetype': 'TAS',\n",
              "  'epsestimate': 0.16,\n",
              "  'epsactual': 0.18,\n",
              "  'epssurprisepct': 16.13,\n",
              "  'timeZoneShortName': 'EDT',\n",
              "  'gmtOffsetMilliSeconds': -14400000,\n",
              "  'quoteType': 'EQUITY'},\n",
              " {'ticker': 'ALB',\n",
              "  'companyshortname': 'Albemarle Corporation',\n",
              "  'eventname': None,\n",
              "  'startdatetime': '1999-07-16T04:00:00.000Z',\n",
              "  'startdatetimetype': 'TAS',\n",
              "  'epsestimate': 0.21,\n",
              "  'epsactual': 0.14,\n",
              "  'epssurprisepct': -31.36,\n",
              "  'timeZoneShortName': 'EDT',\n",
              "  'gmtOffsetMilliSeconds': -14400000,\n",
              "  'quoteType': 'EQUITY'}]"
            ]
          },
          "metadata": {},
          "execution_count": 15
        }
      ]
    },
    {
      "cell_type": "markdown",
      "source": [
        "**To extract the company's IPO date, it will write earnings histories to DataFrame**"
      ],
      "metadata": {
        "id": "3ZvWMMI_Qv0J"
      }
    },
    {
      "cell_type": "code",
      "source": [
        "df_history_earnings = pd.DataFrame.from_dict(history_earnings) "
      ],
      "metadata": {
        "id": "ZSPCOjFb_2Sx"
      },
      "execution_count": 16,
      "outputs": []
    },
    {
      "cell_type": "code",
      "source": [
        "df_history_earnings.set_index('startdatetime') "
      ],
      "metadata": {
        "id": "_sZeMYvFZiQO",
        "colab": {
          "base_uri": "https://localhost:8080/",
          "height": 780
        },
        "outputId": "dc01a9a1-3418-4e7f-bb38-b5db6d2958e1"
      },
      "execution_count": 17,
      "outputs": [
        {
          "output_type": "execute_result",
          "data": {
            "text/plain": [
              "                         ticker       companyshortname  \\\n",
              "startdatetime                                            \n",
              "2023-10-31T10:59:00.000Z    ALB         Albemarle Corp   \n",
              "2023-08-01T10:59:00.000Z    ALB         Albemarle Corp   \n",
              "2023-05-02T10:59:00.000Z    ALB         Albemarle Corp   \n",
              "2023-02-14T10:59:00.000Z    ALB         Albemarle Corp   \n",
              "2022-11-03T13:00:00.000Z    ALB         Albemarle Corp   \n",
              "...                         ...                    ...   \n",
              "2000-07-18T04:00:00.000Z    ALB  Albemarle Corporation   \n",
              "2000-04-17T04:00:00.000Z    ALB  Albemarle Corporation   \n",
              "2000-01-20T05:00:00.000Z    ALB  Albemarle Corporation   \n",
              "1999-10-15T04:00:00.000Z    ALB  Albemarle Corporation   \n",
              "1999-07-16T04:00:00.000Z    ALB  Albemarle Corporation   \n",
              "\n",
              "                                          eventname startdatetimetype  \\\n",
              "startdatetime                                                           \n",
              "2023-10-31T10:59:00.000Z  Q3 2023  Earnings Release               TNS   \n",
              "2023-08-01T10:59:00.000Z  Q2 2023  Earnings Release               TNS   \n",
              "2023-05-02T10:59:00.000Z  Q1 2023  Earnings Release               TNS   \n",
              "2023-02-14T10:59:00.000Z  Q4 2022  Earnings Release               TNS   \n",
              "2022-11-03T13:00:00.000Z     Q3 2022  Earnings Call               TAS   \n",
              "...                                             ...               ...   \n",
              "2000-07-18T04:00:00.000Z                       None               TAS   \n",
              "2000-04-17T04:00:00.000Z                       None               TAS   \n",
              "2000-01-20T05:00:00.000Z                       None               TAS   \n",
              "1999-10-15T04:00:00.000Z                       None               TAS   \n",
              "1999-07-16T04:00:00.000Z                       None               TAS   \n",
              "\n",
              "                          epsestimate  epsactual  epssurprisepct  \\\n",
              "startdatetime                                                      \n",
              "2023-10-31T10:59:00.000Z          NaN        NaN             NaN   \n",
              "2023-08-01T10:59:00.000Z          NaN        NaN             NaN   \n",
              "2023-05-02T10:59:00.000Z          NaN        NaN             NaN   \n",
              "2023-02-14T10:59:00.000Z         7.79        NaN             NaN   \n",
              "2022-11-03T13:00:00.000Z         6.99       7.50            7.30   \n",
              "...                               ...        ...             ...   \n",
              "2000-07-18T04:00:00.000Z         0.22       0.26           18.60   \n",
              "2000-04-17T04:00:00.000Z         0.25       0.31           22.82   \n",
              "2000-01-20T05:00:00.000Z         0.21       0.26           21.43   \n",
              "1999-10-15T04:00:00.000Z         0.16       0.18           16.13   \n",
              "1999-07-16T04:00:00.000Z         0.21       0.14          -31.36   \n",
              "\n",
              "                         timeZoneShortName  gmtOffsetMilliSeconds quoteType  \n",
              "startdatetime                                                                \n",
              "2023-10-31T10:59:00.000Z               EDT              -14400000    EQUITY  \n",
              "2023-08-01T10:59:00.000Z               EDT              -14400000    EQUITY  \n",
              "2023-05-02T10:59:00.000Z               EDT              -14400000    EQUITY  \n",
              "2023-02-14T10:59:00.000Z               EST              -18000000    EQUITY  \n",
              "2022-11-03T13:00:00.000Z               EDT              -14400000    EQUITY  \n",
              "...                                    ...                    ...       ...  \n",
              "2000-07-18T04:00:00.000Z               EDT              -14400000    EQUITY  \n",
              "2000-04-17T04:00:00.000Z               EDT              -14400000    EQUITY  \n",
              "2000-01-20T05:00:00.000Z               EST              -18000000    EQUITY  \n",
              "1999-10-15T04:00:00.000Z               EDT              -14400000    EQUITY  \n",
              "1999-07-16T04:00:00.000Z               EDT              -14400000    EQUITY  \n",
              "\n",
              "[100 rows x 10 columns]"
            ],
            "text/html": [
              "\n",
              "  <div id=\"df-64912538-5041-45c0-8bc8-3cc4a6493a51\">\n",
              "    <div class=\"colab-df-container\">\n",
              "      <div>\n",
              "<style scoped>\n",
              "    .dataframe tbody tr th:only-of-type {\n",
              "        vertical-align: middle;\n",
              "    }\n",
              "\n",
              "    .dataframe tbody tr th {\n",
              "        vertical-align: top;\n",
              "    }\n",
              "\n",
              "    .dataframe thead th {\n",
              "        text-align: right;\n",
              "    }\n",
              "</style>\n",
              "<table border=\"1\" class=\"dataframe\">\n",
              "  <thead>\n",
              "    <tr style=\"text-align: right;\">\n",
              "      <th></th>\n",
              "      <th>ticker</th>\n",
              "      <th>companyshortname</th>\n",
              "      <th>eventname</th>\n",
              "      <th>startdatetimetype</th>\n",
              "      <th>epsestimate</th>\n",
              "      <th>epsactual</th>\n",
              "      <th>epssurprisepct</th>\n",
              "      <th>timeZoneShortName</th>\n",
              "      <th>gmtOffsetMilliSeconds</th>\n",
              "      <th>quoteType</th>\n",
              "    </tr>\n",
              "    <tr>\n",
              "      <th>startdatetime</th>\n",
              "      <th></th>\n",
              "      <th></th>\n",
              "      <th></th>\n",
              "      <th></th>\n",
              "      <th></th>\n",
              "      <th></th>\n",
              "      <th></th>\n",
              "      <th></th>\n",
              "      <th></th>\n",
              "      <th></th>\n",
              "    </tr>\n",
              "  </thead>\n",
              "  <tbody>\n",
              "    <tr>\n",
              "      <th>2023-10-31T10:59:00.000Z</th>\n",
              "      <td>ALB</td>\n",
              "      <td>Albemarle Corp</td>\n",
              "      <td>Q3 2023  Earnings Release</td>\n",
              "      <td>TNS</td>\n",
              "      <td>NaN</td>\n",
              "      <td>NaN</td>\n",
              "      <td>NaN</td>\n",
              "      <td>EDT</td>\n",
              "      <td>-14400000</td>\n",
              "      <td>EQUITY</td>\n",
              "    </tr>\n",
              "    <tr>\n",
              "      <th>2023-08-01T10:59:00.000Z</th>\n",
              "      <td>ALB</td>\n",
              "      <td>Albemarle Corp</td>\n",
              "      <td>Q2 2023  Earnings Release</td>\n",
              "      <td>TNS</td>\n",
              "      <td>NaN</td>\n",
              "      <td>NaN</td>\n",
              "      <td>NaN</td>\n",
              "      <td>EDT</td>\n",
              "      <td>-14400000</td>\n",
              "      <td>EQUITY</td>\n",
              "    </tr>\n",
              "    <tr>\n",
              "      <th>2023-05-02T10:59:00.000Z</th>\n",
              "      <td>ALB</td>\n",
              "      <td>Albemarle Corp</td>\n",
              "      <td>Q1 2023  Earnings Release</td>\n",
              "      <td>TNS</td>\n",
              "      <td>NaN</td>\n",
              "      <td>NaN</td>\n",
              "      <td>NaN</td>\n",
              "      <td>EDT</td>\n",
              "      <td>-14400000</td>\n",
              "      <td>EQUITY</td>\n",
              "    </tr>\n",
              "    <tr>\n",
              "      <th>2023-02-14T10:59:00.000Z</th>\n",
              "      <td>ALB</td>\n",
              "      <td>Albemarle Corp</td>\n",
              "      <td>Q4 2022  Earnings Release</td>\n",
              "      <td>TNS</td>\n",
              "      <td>7.79</td>\n",
              "      <td>NaN</td>\n",
              "      <td>NaN</td>\n",
              "      <td>EST</td>\n",
              "      <td>-18000000</td>\n",
              "      <td>EQUITY</td>\n",
              "    </tr>\n",
              "    <tr>\n",
              "      <th>2022-11-03T13:00:00.000Z</th>\n",
              "      <td>ALB</td>\n",
              "      <td>Albemarle Corp</td>\n",
              "      <td>Q3 2022  Earnings Call</td>\n",
              "      <td>TAS</td>\n",
              "      <td>6.99</td>\n",
              "      <td>7.50</td>\n",
              "      <td>7.30</td>\n",
              "      <td>EDT</td>\n",
              "      <td>-14400000</td>\n",
              "      <td>EQUITY</td>\n",
              "    </tr>\n",
              "    <tr>\n",
              "      <th>...</th>\n",
              "      <td>...</td>\n",
              "      <td>...</td>\n",
              "      <td>...</td>\n",
              "      <td>...</td>\n",
              "      <td>...</td>\n",
              "      <td>...</td>\n",
              "      <td>...</td>\n",
              "      <td>...</td>\n",
              "      <td>...</td>\n",
              "      <td>...</td>\n",
              "    </tr>\n",
              "    <tr>\n",
              "      <th>2000-07-18T04:00:00.000Z</th>\n",
              "      <td>ALB</td>\n",
              "      <td>Albemarle Corporation</td>\n",
              "      <td>None</td>\n",
              "      <td>TAS</td>\n",
              "      <td>0.22</td>\n",
              "      <td>0.26</td>\n",
              "      <td>18.60</td>\n",
              "      <td>EDT</td>\n",
              "      <td>-14400000</td>\n",
              "      <td>EQUITY</td>\n",
              "    </tr>\n",
              "    <tr>\n",
              "      <th>2000-04-17T04:00:00.000Z</th>\n",
              "      <td>ALB</td>\n",
              "      <td>Albemarle Corporation</td>\n",
              "      <td>None</td>\n",
              "      <td>TAS</td>\n",
              "      <td>0.25</td>\n",
              "      <td>0.31</td>\n",
              "      <td>22.82</td>\n",
              "      <td>EDT</td>\n",
              "      <td>-14400000</td>\n",
              "      <td>EQUITY</td>\n",
              "    </tr>\n",
              "    <tr>\n",
              "      <th>2000-01-20T05:00:00.000Z</th>\n",
              "      <td>ALB</td>\n",
              "      <td>Albemarle Corporation</td>\n",
              "      <td>None</td>\n",
              "      <td>TAS</td>\n",
              "      <td>0.21</td>\n",
              "      <td>0.26</td>\n",
              "      <td>21.43</td>\n",
              "      <td>EST</td>\n",
              "      <td>-18000000</td>\n",
              "      <td>EQUITY</td>\n",
              "    </tr>\n",
              "    <tr>\n",
              "      <th>1999-10-15T04:00:00.000Z</th>\n",
              "      <td>ALB</td>\n",
              "      <td>Albemarle Corporation</td>\n",
              "      <td>None</td>\n",
              "      <td>TAS</td>\n",
              "      <td>0.16</td>\n",
              "      <td>0.18</td>\n",
              "      <td>16.13</td>\n",
              "      <td>EDT</td>\n",
              "      <td>-14400000</td>\n",
              "      <td>EQUITY</td>\n",
              "    </tr>\n",
              "    <tr>\n",
              "      <th>1999-07-16T04:00:00.000Z</th>\n",
              "      <td>ALB</td>\n",
              "      <td>Albemarle Corporation</td>\n",
              "      <td>None</td>\n",
              "      <td>TAS</td>\n",
              "      <td>0.21</td>\n",
              "      <td>0.14</td>\n",
              "      <td>-31.36</td>\n",
              "      <td>EDT</td>\n",
              "      <td>-14400000</td>\n",
              "      <td>EQUITY</td>\n",
              "    </tr>\n",
              "  </tbody>\n",
              "</table>\n",
              "<p>100 rows × 10 columns</p>\n",
              "</div>\n",
              "      <button class=\"colab-df-convert\" onclick=\"convertToInteractive('df-64912538-5041-45c0-8bc8-3cc4a6493a51')\"\n",
              "              title=\"Convert this dataframe to an interactive table.\"\n",
              "              style=\"display:none;\">\n",
              "        \n",
              "  <svg xmlns=\"http://www.w3.org/2000/svg\" height=\"24px\"viewBox=\"0 0 24 24\"\n",
              "       width=\"24px\">\n",
              "    <path d=\"M0 0h24v24H0V0z\" fill=\"none\"/>\n",
              "    <path d=\"M18.56 5.44l.94 2.06.94-2.06 2.06-.94-2.06-.94-.94-2.06-.94 2.06-2.06.94zm-11 1L8.5 8.5l.94-2.06 2.06-.94-2.06-.94L8.5 2.5l-.94 2.06-2.06.94zm10 10l.94 2.06.94-2.06 2.06-.94-2.06-.94-.94-2.06-.94 2.06-2.06.94z\"/><path d=\"M17.41 7.96l-1.37-1.37c-.4-.4-.92-.59-1.43-.59-.52 0-1.04.2-1.43.59L10.3 9.45l-7.72 7.72c-.78.78-.78 2.05 0 2.83L4 21.41c.39.39.9.59 1.41.59.51 0 1.02-.2 1.41-.59l7.78-7.78 2.81-2.81c.8-.78.8-2.07 0-2.86zM5.41 20L4 18.59l7.72-7.72 1.47 1.35L5.41 20z\"/>\n",
              "  </svg>\n",
              "      </button>\n",
              "      \n",
              "  <style>\n",
              "    .colab-df-container {\n",
              "      display:flex;\n",
              "      flex-wrap:wrap;\n",
              "      gap: 12px;\n",
              "    }\n",
              "\n",
              "    .colab-df-convert {\n",
              "      background-color: #E8F0FE;\n",
              "      border: none;\n",
              "      border-radius: 50%;\n",
              "      cursor: pointer;\n",
              "      display: none;\n",
              "      fill: #1967D2;\n",
              "      height: 32px;\n",
              "      padding: 0 0 0 0;\n",
              "      width: 32px;\n",
              "    }\n",
              "\n",
              "    .colab-df-convert:hover {\n",
              "      background-color: #E2EBFA;\n",
              "      box-shadow: 0px 1px 2px rgba(60, 64, 67, 0.3), 0px 1px 3px 1px rgba(60, 64, 67, 0.15);\n",
              "      fill: #174EA6;\n",
              "    }\n",
              "\n",
              "    [theme=dark] .colab-df-convert {\n",
              "      background-color: #3B4455;\n",
              "      fill: #D2E3FC;\n",
              "    }\n",
              "\n",
              "    [theme=dark] .colab-df-convert:hover {\n",
              "      background-color: #434B5C;\n",
              "      box-shadow: 0px 1px 3px 1px rgba(0, 0, 0, 0.15);\n",
              "      filter: drop-shadow(0px 1px 2px rgba(0, 0, 0, 0.3));\n",
              "      fill: #FFFFFF;\n",
              "    }\n",
              "  </style>\n",
              "\n",
              "      <script>\n",
              "        const buttonEl =\n",
              "          document.querySelector('#df-64912538-5041-45c0-8bc8-3cc4a6493a51 button.colab-df-convert');\n",
              "        buttonEl.style.display =\n",
              "          google.colab.kernel.accessAllowed ? 'block' : 'none';\n",
              "\n",
              "        async function convertToInteractive(key) {\n",
              "          const element = document.querySelector('#df-64912538-5041-45c0-8bc8-3cc4a6493a51');\n",
              "          const dataTable =\n",
              "            await google.colab.kernel.invokeFunction('convertToInteractive',\n",
              "                                                     [key], {});\n",
              "          if (!dataTable) return;\n",
              "\n",
              "          const docLinkHtml = 'Like what you see? Visit the ' +\n",
              "            '<a target=\"_blank\" href=https://colab.research.google.com/notebooks/data_table.ipynb>data table notebook</a>'\n",
              "            + ' to learn more about interactive tables.';\n",
              "          element.innerHTML = '';\n",
              "          dataTable['output_type'] = 'display_data';\n",
              "          await google.colab.output.renderOutput(dataTable, element);\n",
              "          const docLink = document.createElement('div');\n",
              "          docLink.innerHTML = docLinkHtml;\n",
              "          element.appendChild(docLink);\n",
              "        }\n",
              "      </script>\n",
              "    </div>\n",
              "  </div>\n",
              "  "
            ]
          },
          "metadata": {},
          "execution_count": 17
        }
      ]
    },
    {
      "cell_type": "markdown",
      "source": [
        "**The first stock exchange listing of the company**"
      ],
      "metadata": {
        "id": "YIBVn_QxT0qj"
      }
    },
    {
      "cell_type": "code",
      "source": [
        "start_day = df_history_earnings['startdatetime'].min()\n",
        "start_day"
      ],
      "metadata": {
        "colab": {
          "base_uri": "https://localhost:8080/",
          "height": 36
        },
        "id": "fT21NNc6W-uU",
        "outputId": "1ca8f277-dcc6-41a0-f1b1-6a0fe3de01a1"
      },
      "execution_count": 18,
      "outputs": [
        {
          "output_type": "execute_result",
          "data": {
            "text/plain": [
              "'1999-07-16T04:00:00.000Z'"
            ],
            "application/vnd.google.colaboratory.intrinsic+json": {
              "type": "string"
            }
          },
          "metadata": {},
          "execution_count": 18
        }
      ]
    },
    {
      "cell_type": "markdown",
      "source": [
        "#HISTORY OF THE COMPANY'S EARNINGS TO THIS DAY"
      ],
      "metadata": {
        "id": "ED8VjjJFSG8B"
      }
    },
    {
      "cell_type": "code",
      "source": [
        "today = date.today()\n",
        "end_date = today.isoformat()\n",
        "end_date"
      ],
      "metadata": {
        "colab": {
          "base_uri": "https://localhost:8080/",
          "height": 36
        },
        "id": "yvKBaSLJO5UE",
        "outputId": "a5b0b1e4-def8-4726-8047-2c82143543d3"
      },
      "execution_count": 19,
      "outputs": [
        {
          "output_type": "execute_result",
          "data": {
            "text/plain": [
              "'2022-11-08'"
            ],
            "application/vnd.google.colaboratory.intrinsic+json": {
              "type": "string"
            }
          },
          "metadata": {},
          "execution_count": 19
        }
      ]
    },
    {
      "cell_type": "code",
      "source": [
        "earnings_history_to_date = yh.get_data(name_max_day, start_day , end_date, index_as_date = True) \n",
        "\n",
        "df=pd.DataFrame(earnings_history_to_date)\n",
        "df"
      ],
      "metadata": {
        "colab": {
          "base_uri": "https://localhost:8080/",
          "height": 424
        },
        "id": "TtZhL_EaeutH",
        "outputId": "705e4352-4be7-4a67-e7bc-851869853964"
      },
      "execution_count": 20,
      "outputs": [
        {
          "output_type": "execute_result",
          "data": {
            "text/plain": [
              "                  open        high         low       close    adjclose  \\\n",
              "1999-07-16    9.656250   10.000000    9.500000   10.000000    6.873358   \n",
              "1999-07-19    9.937500   10.000000    9.531250    9.843750    6.765959   \n",
              "1999-07-20    9.781250    9.781250    9.468750    9.531250    6.551167   \n",
              "1999-07-21    9.562500    9.562500    9.250000    9.375000    6.443769   \n",
              "1999-07-22    9.312500    9.468750    8.875000    9.468750    6.508207   \n",
              "...                ...         ...         ...         ...         ...   \n",
              "2022-11-01  285.660004  287.880005  278.890015  279.000000  279.000000   \n",
              "2022-11-02  276.179993  279.500000  265.500000  266.519989  266.519989   \n",
              "2022-11-03  253.000000  278.500000  250.500000  274.559998  274.559998   \n",
              "2022-11-04  283.890015  286.739990  275.440002  284.989990  284.989990   \n",
              "2022-11-07  286.820007  288.279999  281.679993  286.489990  286.489990   \n",
              "\n",
              "             volume ticker  \n",
              "1999-07-16   183400    ALB  \n",
              "1999-07-19   180000    ALB  \n",
              "1999-07-20    78400    ALB  \n",
              "1999-07-21   376200    ALB  \n",
              "1999-07-22   299600    ALB  \n",
              "...             ...    ...  \n",
              "2022-11-01  1276200    ALB  \n",
              "2022-11-02  1594800    ALB  \n",
              "2022-11-03  2240900    ALB  \n",
              "2022-11-04  1480500    ALB  \n",
              "2022-11-07   870700    ALB  \n",
              "\n",
              "[5868 rows x 7 columns]"
            ],
            "text/html": [
              "\n",
              "  <div id=\"df-3b07520d-144b-44fb-b81f-427bf4ffbfac\">\n",
              "    <div class=\"colab-df-container\">\n",
              "      <div>\n",
              "<style scoped>\n",
              "    .dataframe tbody tr th:only-of-type {\n",
              "        vertical-align: middle;\n",
              "    }\n",
              "\n",
              "    .dataframe tbody tr th {\n",
              "        vertical-align: top;\n",
              "    }\n",
              "\n",
              "    .dataframe thead th {\n",
              "        text-align: right;\n",
              "    }\n",
              "</style>\n",
              "<table border=\"1\" class=\"dataframe\">\n",
              "  <thead>\n",
              "    <tr style=\"text-align: right;\">\n",
              "      <th></th>\n",
              "      <th>open</th>\n",
              "      <th>high</th>\n",
              "      <th>low</th>\n",
              "      <th>close</th>\n",
              "      <th>adjclose</th>\n",
              "      <th>volume</th>\n",
              "      <th>ticker</th>\n",
              "    </tr>\n",
              "  </thead>\n",
              "  <tbody>\n",
              "    <tr>\n",
              "      <th>1999-07-16</th>\n",
              "      <td>9.656250</td>\n",
              "      <td>10.000000</td>\n",
              "      <td>9.500000</td>\n",
              "      <td>10.000000</td>\n",
              "      <td>6.873358</td>\n",
              "      <td>183400</td>\n",
              "      <td>ALB</td>\n",
              "    </tr>\n",
              "    <tr>\n",
              "      <th>1999-07-19</th>\n",
              "      <td>9.937500</td>\n",
              "      <td>10.000000</td>\n",
              "      <td>9.531250</td>\n",
              "      <td>9.843750</td>\n",
              "      <td>6.765959</td>\n",
              "      <td>180000</td>\n",
              "      <td>ALB</td>\n",
              "    </tr>\n",
              "    <tr>\n",
              "      <th>1999-07-20</th>\n",
              "      <td>9.781250</td>\n",
              "      <td>9.781250</td>\n",
              "      <td>9.468750</td>\n",
              "      <td>9.531250</td>\n",
              "      <td>6.551167</td>\n",
              "      <td>78400</td>\n",
              "      <td>ALB</td>\n",
              "    </tr>\n",
              "    <tr>\n",
              "      <th>1999-07-21</th>\n",
              "      <td>9.562500</td>\n",
              "      <td>9.562500</td>\n",
              "      <td>9.250000</td>\n",
              "      <td>9.375000</td>\n",
              "      <td>6.443769</td>\n",
              "      <td>376200</td>\n",
              "      <td>ALB</td>\n",
              "    </tr>\n",
              "    <tr>\n",
              "      <th>1999-07-22</th>\n",
              "      <td>9.312500</td>\n",
              "      <td>9.468750</td>\n",
              "      <td>8.875000</td>\n",
              "      <td>9.468750</td>\n",
              "      <td>6.508207</td>\n",
              "      <td>299600</td>\n",
              "      <td>ALB</td>\n",
              "    </tr>\n",
              "    <tr>\n",
              "      <th>...</th>\n",
              "      <td>...</td>\n",
              "      <td>...</td>\n",
              "      <td>...</td>\n",
              "      <td>...</td>\n",
              "      <td>...</td>\n",
              "      <td>...</td>\n",
              "      <td>...</td>\n",
              "    </tr>\n",
              "    <tr>\n",
              "      <th>2022-11-01</th>\n",
              "      <td>285.660004</td>\n",
              "      <td>287.880005</td>\n",
              "      <td>278.890015</td>\n",
              "      <td>279.000000</td>\n",
              "      <td>279.000000</td>\n",
              "      <td>1276200</td>\n",
              "      <td>ALB</td>\n",
              "    </tr>\n",
              "    <tr>\n",
              "      <th>2022-11-02</th>\n",
              "      <td>276.179993</td>\n",
              "      <td>279.500000</td>\n",
              "      <td>265.500000</td>\n",
              "      <td>266.519989</td>\n",
              "      <td>266.519989</td>\n",
              "      <td>1594800</td>\n",
              "      <td>ALB</td>\n",
              "    </tr>\n",
              "    <tr>\n",
              "      <th>2022-11-03</th>\n",
              "      <td>253.000000</td>\n",
              "      <td>278.500000</td>\n",
              "      <td>250.500000</td>\n",
              "      <td>274.559998</td>\n",
              "      <td>274.559998</td>\n",
              "      <td>2240900</td>\n",
              "      <td>ALB</td>\n",
              "    </tr>\n",
              "    <tr>\n",
              "      <th>2022-11-04</th>\n",
              "      <td>283.890015</td>\n",
              "      <td>286.739990</td>\n",
              "      <td>275.440002</td>\n",
              "      <td>284.989990</td>\n",
              "      <td>284.989990</td>\n",
              "      <td>1480500</td>\n",
              "      <td>ALB</td>\n",
              "    </tr>\n",
              "    <tr>\n",
              "      <th>2022-11-07</th>\n",
              "      <td>286.820007</td>\n",
              "      <td>288.279999</td>\n",
              "      <td>281.679993</td>\n",
              "      <td>286.489990</td>\n",
              "      <td>286.489990</td>\n",
              "      <td>870700</td>\n",
              "      <td>ALB</td>\n",
              "    </tr>\n",
              "  </tbody>\n",
              "</table>\n",
              "<p>5868 rows × 7 columns</p>\n",
              "</div>\n",
              "      <button class=\"colab-df-convert\" onclick=\"convertToInteractive('df-3b07520d-144b-44fb-b81f-427bf4ffbfac')\"\n",
              "              title=\"Convert this dataframe to an interactive table.\"\n",
              "              style=\"display:none;\">\n",
              "        \n",
              "  <svg xmlns=\"http://www.w3.org/2000/svg\" height=\"24px\"viewBox=\"0 0 24 24\"\n",
              "       width=\"24px\">\n",
              "    <path d=\"M0 0h24v24H0V0z\" fill=\"none\"/>\n",
              "    <path d=\"M18.56 5.44l.94 2.06.94-2.06 2.06-.94-2.06-.94-.94-2.06-.94 2.06-2.06.94zm-11 1L8.5 8.5l.94-2.06 2.06-.94-2.06-.94L8.5 2.5l-.94 2.06-2.06.94zm10 10l.94 2.06.94-2.06 2.06-.94-2.06-.94-.94-2.06-.94 2.06-2.06.94z\"/><path d=\"M17.41 7.96l-1.37-1.37c-.4-.4-.92-.59-1.43-.59-.52 0-1.04.2-1.43.59L10.3 9.45l-7.72 7.72c-.78.78-.78 2.05 0 2.83L4 21.41c.39.39.9.59 1.41.59.51 0 1.02-.2 1.41-.59l7.78-7.78 2.81-2.81c.8-.78.8-2.07 0-2.86zM5.41 20L4 18.59l7.72-7.72 1.47 1.35L5.41 20z\"/>\n",
              "  </svg>\n",
              "      </button>\n",
              "      \n",
              "  <style>\n",
              "    .colab-df-container {\n",
              "      display:flex;\n",
              "      flex-wrap:wrap;\n",
              "      gap: 12px;\n",
              "    }\n",
              "\n",
              "    .colab-df-convert {\n",
              "      background-color: #E8F0FE;\n",
              "      border: none;\n",
              "      border-radius: 50%;\n",
              "      cursor: pointer;\n",
              "      display: none;\n",
              "      fill: #1967D2;\n",
              "      height: 32px;\n",
              "      padding: 0 0 0 0;\n",
              "      width: 32px;\n",
              "    }\n",
              "\n",
              "    .colab-df-convert:hover {\n",
              "      background-color: #E2EBFA;\n",
              "      box-shadow: 0px 1px 2px rgba(60, 64, 67, 0.3), 0px 1px 3px 1px rgba(60, 64, 67, 0.15);\n",
              "      fill: #174EA6;\n",
              "    }\n",
              "\n",
              "    [theme=dark] .colab-df-convert {\n",
              "      background-color: #3B4455;\n",
              "      fill: #D2E3FC;\n",
              "    }\n",
              "\n",
              "    [theme=dark] .colab-df-convert:hover {\n",
              "      background-color: #434B5C;\n",
              "      box-shadow: 0px 1px 3px 1px rgba(0, 0, 0, 0.15);\n",
              "      filter: drop-shadow(0px 1px 2px rgba(0, 0, 0, 0.3));\n",
              "      fill: #FFFFFF;\n",
              "    }\n",
              "  </style>\n",
              "\n",
              "      <script>\n",
              "        const buttonEl =\n",
              "          document.querySelector('#df-3b07520d-144b-44fb-b81f-427bf4ffbfac button.colab-df-convert');\n",
              "        buttonEl.style.display =\n",
              "          google.colab.kernel.accessAllowed ? 'block' : 'none';\n",
              "\n",
              "        async function convertToInteractive(key) {\n",
              "          const element = document.querySelector('#df-3b07520d-144b-44fb-b81f-427bf4ffbfac');\n",
              "          const dataTable =\n",
              "            await google.colab.kernel.invokeFunction('convertToInteractive',\n",
              "                                                     [key], {});\n",
              "          if (!dataTable) return;\n",
              "\n",
              "          const docLinkHtml = 'Like what you see? Visit the ' +\n",
              "            '<a target=\"_blank\" href=https://colab.research.google.com/notebooks/data_table.ipynb>data table notebook</a>'\n",
              "            + ' to learn more about interactive tables.';\n",
              "          element.innerHTML = '';\n",
              "          dataTable['output_type'] = 'display_data';\n",
              "          await google.colab.output.renderOutput(dataTable, element);\n",
              "          const docLink = document.createElement('div');\n",
              "          docLink.innerHTML = docLinkHtml;\n",
              "          element.appendChild(docLink);\n",
              "        }\n",
              "      </script>\n",
              "    </div>\n",
              "  </div>\n",
              "  "
            ]
          },
          "metadata": {},
          "execution_count": 20
        }
      ]
    },
    {
      "cell_type": "code",
      "source": [
        "df.tail(5)"
      ],
      "metadata": {
        "colab": {
          "base_uri": "https://localhost:8080/",
          "height": 206
        },
        "id": "ysE7M1oTLCGn",
        "outputId": "c9832004-9cff-40ae-eb04-799c6f2cc799"
      },
      "execution_count": 21,
      "outputs": [
        {
          "output_type": "execute_result",
          "data": {
            "text/plain": [
              "                  open        high         low       close    adjclose  \\\n",
              "2022-11-01  285.660004  287.880005  278.890015  279.000000  279.000000   \n",
              "2022-11-02  276.179993  279.500000  265.500000  266.519989  266.519989   \n",
              "2022-11-03  253.000000  278.500000  250.500000  274.559998  274.559998   \n",
              "2022-11-04  283.890015  286.739990  275.440002  284.989990  284.989990   \n",
              "2022-11-07  286.820007  288.279999  281.679993  286.489990  286.489990   \n",
              "\n",
              "             volume ticker  \n",
              "2022-11-01  1276200    ALB  \n",
              "2022-11-02  1594800    ALB  \n",
              "2022-11-03  2240900    ALB  \n",
              "2022-11-04  1480500    ALB  \n",
              "2022-11-07   870700    ALB  "
            ],
            "text/html": [
              "\n",
              "  <div id=\"df-464ab9dc-8690-44ee-afaf-30cec50dada5\">\n",
              "    <div class=\"colab-df-container\">\n",
              "      <div>\n",
              "<style scoped>\n",
              "    .dataframe tbody tr th:only-of-type {\n",
              "        vertical-align: middle;\n",
              "    }\n",
              "\n",
              "    .dataframe tbody tr th {\n",
              "        vertical-align: top;\n",
              "    }\n",
              "\n",
              "    .dataframe thead th {\n",
              "        text-align: right;\n",
              "    }\n",
              "</style>\n",
              "<table border=\"1\" class=\"dataframe\">\n",
              "  <thead>\n",
              "    <tr style=\"text-align: right;\">\n",
              "      <th></th>\n",
              "      <th>open</th>\n",
              "      <th>high</th>\n",
              "      <th>low</th>\n",
              "      <th>close</th>\n",
              "      <th>adjclose</th>\n",
              "      <th>volume</th>\n",
              "      <th>ticker</th>\n",
              "    </tr>\n",
              "  </thead>\n",
              "  <tbody>\n",
              "    <tr>\n",
              "      <th>2022-11-01</th>\n",
              "      <td>285.660004</td>\n",
              "      <td>287.880005</td>\n",
              "      <td>278.890015</td>\n",
              "      <td>279.000000</td>\n",
              "      <td>279.000000</td>\n",
              "      <td>1276200</td>\n",
              "      <td>ALB</td>\n",
              "    </tr>\n",
              "    <tr>\n",
              "      <th>2022-11-02</th>\n",
              "      <td>276.179993</td>\n",
              "      <td>279.500000</td>\n",
              "      <td>265.500000</td>\n",
              "      <td>266.519989</td>\n",
              "      <td>266.519989</td>\n",
              "      <td>1594800</td>\n",
              "      <td>ALB</td>\n",
              "    </tr>\n",
              "    <tr>\n",
              "      <th>2022-11-03</th>\n",
              "      <td>253.000000</td>\n",
              "      <td>278.500000</td>\n",
              "      <td>250.500000</td>\n",
              "      <td>274.559998</td>\n",
              "      <td>274.559998</td>\n",
              "      <td>2240900</td>\n",
              "      <td>ALB</td>\n",
              "    </tr>\n",
              "    <tr>\n",
              "      <th>2022-11-04</th>\n",
              "      <td>283.890015</td>\n",
              "      <td>286.739990</td>\n",
              "      <td>275.440002</td>\n",
              "      <td>284.989990</td>\n",
              "      <td>284.989990</td>\n",
              "      <td>1480500</td>\n",
              "      <td>ALB</td>\n",
              "    </tr>\n",
              "    <tr>\n",
              "      <th>2022-11-07</th>\n",
              "      <td>286.820007</td>\n",
              "      <td>288.279999</td>\n",
              "      <td>281.679993</td>\n",
              "      <td>286.489990</td>\n",
              "      <td>286.489990</td>\n",
              "      <td>870700</td>\n",
              "      <td>ALB</td>\n",
              "    </tr>\n",
              "  </tbody>\n",
              "</table>\n",
              "</div>\n",
              "      <button class=\"colab-df-convert\" onclick=\"convertToInteractive('df-464ab9dc-8690-44ee-afaf-30cec50dada5')\"\n",
              "              title=\"Convert this dataframe to an interactive table.\"\n",
              "              style=\"display:none;\">\n",
              "        \n",
              "  <svg xmlns=\"http://www.w3.org/2000/svg\" height=\"24px\"viewBox=\"0 0 24 24\"\n",
              "       width=\"24px\">\n",
              "    <path d=\"M0 0h24v24H0V0z\" fill=\"none\"/>\n",
              "    <path d=\"M18.56 5.44l.94 2.06.94-2.06 2.06-.94-2.06-.94-.94-2.06-.94 2.06-2.06.94zm-11 1L8.5 8.5l.94-2.06 2.06-.94-2.06-.94L8.5 2.5l-.94 2.06-2.06.94zm10 10l.94 2.06.94-2.06 2.06-.94-2.06-.94-.94-2.06-.94 2.06-2.06.94z\"/><path d=\"M17.41 7.96l-1.37-1.37c-.4-.4-.92-.59-1.43-.59-.52 0-1.04.2-1.43.59L10.3 9.45l-7.72 7.72c-.78.78-.78 2.05 0 2.83L4 21.41c.39.39.9.59 1.41.59.51 0 1.02-.2 1.41-.59l7.78-7.78 2.81-2.81c.8-.78.8-2.07 0-2.86zM5.41 20L4 18.59l7.72-7.72 1.47 1.35L5.41 20z\"/>\n",
              "  </svg>\n",
              "      </button>\n",
              "      \n",
              "  <style>\n",
              "    .colab-df-container {\n",
              "      display:flex;\n",
              "      flex-wrap:wrap;\n",
              "      gap: 12px;\n",
              "    }\n",
              "\n",
              "    .colab-df-convert {\n",
              "      background-color: #E8F0FE;\n",
              "      border: none;\n",
              "      border-radius: 50%;\n",
              "      cursor: pointer;\n",
              "      display: none;\n",
              "      fill: #1967D2;\n",
              "      height: 32px;\n",
              "      padding: 0 0 0 0;\n",
              "      width: 32px;\n",
              "    }\n",
              "\n",
              "    .colab-df-convert:hover {\n",
              "      background-color: #E2EBFA;\n",
              "      box-shadow: 0px 1px 2px rgba(60, 64, 67, 0.3), 0px 1px 3px 1px rgba(60, 64, 67, 0.15);\n",
              "      fill: #174EA6;\n",
              "    }\n",
              "\n",
              "    [theme=dark] .colab-df-convert {\n",
              "      background-color: #3B4455;\n",
              "      fill: #D2E3FC;\n",
              "    }\n",
              "\n",
              "    [theme=dark] .colab-df-convert:hover {\n",
              "      background-color: #434B5C;\n",
              "      box-shadow: 0px 1px 3px 1px rgba(0, 0, 0, 0.15);\n",
              "      filter: drop-shadow(0px 1px 2px rgba(0, 0, 0, 0.3));\n",
              "      fill: #FFFFFF;\n",
              "    }\n",
              "  </style>\n",
              "\n",
              "      <script>\n",
              "        const buttonEl =\n",
              "          document.querySelector('#df-464ab9dc-8690-44ee-afaf-30cec50dada5 button.colab-df-convert');\n",
              "        buttonEl.style.display =\n",
              "          google.colab.kernel.accessAllowed ? 'block' : 'none';\n",
              "\n",
              "        async function convertToInteractive(key) {\n",
              "          const element = document.querySelector('#df-464ab9dc-8690-44ee-afaf-30cec50dada5');\n",
              "          const dataTable =\n",
              "            await google.colab.kernel.invokeFunction('convertToInteractive',\n",
              "                                                     [key], {});\n",
              "          if (!dataTable) return;\n",
              "\n",
              "          const docLinkHtml = 'Like what you see? Visit the ' +\n",
              "            '<a target=\"_blank\" href=https://colab.research.google.com/notebooks/data_table.ipynb>data table notebook</a>'\n",
              "            + ' to learn more about interactive tables.';\n",
              "          element.innerHTML = '';\n",
              "          dataTable['output_type'] = 'display_data';\n",
              "          await google.colab.output.renderOutput(dataTable, element);\n",
              "          const docLink = document.createElement('div');\n",
              "          docLink.innerHTML = docLinkHtml;\n",
              "          element.appendChild(docLink);\n",
              "        }\n",
              "      </script>\n",
              "    </div>\n",
              "  </div>\n",
              "  "
            ]
          },
          "metadata": {},
          "execution_count": 21
        }
      ]
    },
    {
      "cell_type": "markdown",
      "source": [
        "**The volume (turnover) represents the activity of investors within a specific time frame. Each volume unit reflects the behavior of buyers and sellers.**"
      ],
      "metadata": {
        "id": "Q2mfc22ZcFKe"
      }
    },
    {
      "cell_type": "code",
      "source": [
        "fig, ax=plt.subplots(figsize=(20,6))\n",
        "\n",
        "ax.bar(df.index, df['volume'], color='b')\n",
        "ax.set_xlabel('Date')\n",
        "ax.set_ylabel('volume')\n",
        "ax.set_title('Smart money', fontsize=14)\n",
        "ax.xaxis.set_tick_params(rotation=90)\n",
        "plt.show()"
      ],
      "metadata": {
        "colab": {
          "base_uri": "https://localhost:8080/",
          "height": 420
        },
        "id": "GfxuZfIecK_F",
        "outputId": "81bf293a-1099-45a2-9379-56c9aa38fa75"
      },
      "execution_count": 22,
      "outputs": [
        {
          "output_type": "display_data",
          "data": {
            "text/plain": [
              "<Figure size 1440x432 with 1 Axes>"
            ],
            "image/png": "[encoded data removed]"
          },
          "metadata": {
            "needs_background": "light"
          }
        }
      ]
    },
    {
      "cell_type": "markdown",
      "source": [
        "The height of the bar reflects the volume, i.e. the higher the bar, the higher the turnover. The volume analysis allows you to understand the source of the price change and find places where large capital is involved in the game. The sharp increase in volume confirms that there is a lot of capital in the game, which does not intend to sell shares at the first better correction."
      ],
      "metadata": {
        "id": "931AXmMUcTHh"
      }
    },
    {
      "cell_type": "markdown",
      "source": [
        "**To make the chart more readable, I will illustrate the volume from the last 3 months.**"
      ],
      "metadata": {
        "id": "9C3EUO26d9LR"
      }
    },
    {
      "cell_type": "code",
      "source": [
        "three_months_ago = today - timedelta(days=90)\n",
        "three_months_ago = three_months_ago.isoformat()\n",
        "three_months_ago"
      ],
      "metadata": {
        "colab": {
          "base_uri": "https://localhost:8080/",
          "height": 36
        },
        "id": "wGmk0cGdex01",
        "outputId": "f1994122-4bfd-4a85-d014-d353244ed486"
      },
      "execution_count": 23,
      "outputs": [
        {
          "output_type": "execute_result",
          "data": {
            "text/plain": [
              "'2022-08-10'"
            ],
            "application/vnd.google.colaboratory.intrinsic+json": {
              "type": "string"
            }
          },
          "metadata": {},
          "execution_count": 23
        }
      ]
    },
    {
      "cell_type": "code",
      "source": [
        "earnings_history_three_months = yh.get_data(name_max_day, three_months_ago , end_date, index_as_date = True)"
      ],
      "metadata": {
        "id": "SF1ZOUxVehHO"
      },
      "execution_count": 24,
      "outputs": []
    },
    {
      "cell_type": "code",
      "source": [
        "fig, ax=plt.subplots(figsize=(20,6))\n",
        "\n",
        "ax.bar(earnings_history_three_months.index, earnings_history_three_months['volume'], color='b')\n",
        "ax.set_xlabel('Date')\n",
        "ax.set_ylabel('volume')\n",
        "ax.set_title('Smart money', fontsize=16)\n",
        "ax.xaxis.set_tick_params(rotation=90)\n",
        "plt.show()"
      ],
      "metadata": {
        "colab": {
          "base_uri": "https://localhost:8080/",
          "height": 454
        },
        "id": "UU7ofsrHd77z",
        "outputId": "e3894e7a-32e0-4cef-c126-b487eab99d1b"
      },
      "execution_count": 25,
      "outputs": [
        {
          "output_type": "display_data",
          "data": {
            "text/plain": [
              "<Figure size 1440x432 with 1 Axes>"
            ],
            "image/png": "[encoded data removed]"
          },
          "metadata": {
            "needs_background": "light"
          }
        }
      ]
    },
    {
      "cell_type": "markdown",
      "source": [
        "#QUARTERLY REPORT"
      ],
      "metadata": {
        "id": "_DWl9QYnN9RM"
      }
    },
    {
      "cell_type": "markdown",
      "source": [
        "AVERAGE VALUE OF THE COMPANY AFTER THE END OF THREE MONTH"
      ],
      "metadata": {
        "id": "3ka1iA8yaLYf"
      }
    },
    {
      "cell_type": "code",
      "source": [
        "price_three_months_ago = earnings_history_three_months.open[0]\n",
        "price_three_months_ago"
      ],
      "metadata": {
        "colab": {
          "base_uri": "https://localhost:8080/"
        },
        "id": "bDiGOKNTPxOJ",
        "outputId": "fea429c9-10d5-40a8-8bec-40e355114b04"
      },
      "execution_count": 26,
      "outputs": [
        {
          "output_type": "execute_result",
          "data": {
            "text/plain": [
              "249.99000549316406"
            ]
          },
          "metadata": {},
          "execution_count": 26
        }
      ]
    },
    {
      "cell_type": "code",
      "source": [
        "price_yesterday = earnings_history_three_months.open[-1] \n",
        "price_yesterday"
      ],
      "metadata": {
        "colab": {
          "base_uri": "https://localhost:8080/"
        },
        "id": "amrIiEexT7xM",
        "outputId": "43acc1e6-3def-4eaa-e149-ac230221a7f3"
      },
      "execution_count": 27,
      "outputs": [
        {
          "output_type": "execute_result",
          "data": {
            "text/plain": [
              "286.82000732421875"
            ]
          },
          "metadata": {},
          "execution_count": 27
        }
      ]
    },
    {
      "cell_type": "code",
      "source": [
        "print(f\"Average opening value: {earnings_history_three_months.open.mean():.2f}\")  \n",
        "print(f\"Average daily value: {earnings_history_three_months.high.mean():.2f}\") \n",
        "print(f\"Average daily lowest value {earnings_history_three_months.low.mean():.2f}\")\n",
        "print(f\"Average closing value: {earnings_history_three_months.close.mean():.2f}\")\n",
        "print(f\"Percentage increase in the company's shares: {(price_yesterday-price_three_months_ago)/price_three_months_ago*100:.2f}\" \"%\" )"
      ],
      "metadata": {
        "colab": {
          "base_uri": "https://localhost:8080/"
        },
        "id": "MnwbINAOWxSZ",
        "outputId": "55959961-d0ab-414f-a575-428f2b01e841"
      },
      "execution_count": 28,
      "outputs": [
        {
          "output_type": "stream",
          "name": "stdout",
          "text": [
            "Average opening value: 274.70\n",
            "Average daily value: 280.90\n",
            "Average daily lowest value 268.80\n",
            "Average closing value: 275.72\n",
            "Percentage increase in the company's shares: 14.73%\n"
          ]
        }
      ]
    },
    {
      "cell_type": "code",
      "source": [
        "fig, ax=plt.subplots(figsize=(8,6))\n",
        "\n",
        "ax.bar('open', earnings_history_three_months.open.mean(), color='m')   \n",
        "ax.bar('high', earnings_history_three_months.high.mean(), color='y')  \n",
        "ax.bar('low',  earnings_history_three_months.low.mean(), color='b')   \n",
        "ax.bar('close', earnings_history_three_months.low.mean(), color='g')  \n",
        "\n",
        "ax.set_ylabel('Average value[$]')\n",
        "ax.set_ylim() \n",
        "ax.set_title(\"Average company's value in the last three months\", fontsize=16)\n",
        "plt.show()"
      ],
      "metadata": {
        "colab": {
          "base_uri": "https://localhost:8080/",
          "height": 392
        },
        "id": "ysLu3hetYB52",
        "outputId": "b78bc28b-2593-43bd-a12e-1873f5baf69e"
      },
      "execution_count": 29,
      "outputs": [
        {
          "output_type": "display_data",
          "data": {
            "text/plain": [
              "<Figure size 576x432 with 1 Axes>"
            ],
            "image/png": "[encoded data removed]"
          },
          "metadata": {
            "needs_background": "light"
          }
        }
      ]
    },
    {
      "cell_type": "markdown",
      "source": [
        "**WE WILL SEE MORE WHAT THE PRICE IS SHAPING - AN IMAGE OF THE COMPANY'S PRICE DURING ONE MONTH**"
      ],
      "metadata": {
        "id": "Pf-qmkfuj7J8"
      }
    },
    {
      "cell_type": "code",
      "source": [
        "one_month_ago = today - timedelta(days=30)\n",
        "one_month_ago = one_month_ago.isoformat()"
      ],
      "metadata": {
        "id": "HWhXSkarlVdu"
      },
      "execution_count": 30,
      "outputs": []
    },
    {
      "cell_type": "code",
      "source": [
        "earnings_history_one_month = yh.get_data(name_max_day, one_month_ago , end_date, index_as_date = True)"
      ],
      "metadata": {
        "id": "40sFx6XpO2jT"
      },
      "execution_count": 31,
      "outputs": []
    },
    {
      "cell_type": "code",
      "source": [
        "fig, ax=plt.subplots(2,1,sharey=False, figsize=(18,6))\n",
        "\n",
        "ax[0].plot(earnings_history_one_month.index, earnings_history_one_month['high'], color='b', linestyle='--')\n",
        "ax[0].plot(earnings_history_one_month.index, earnings_history_one_month['open'], color='r')\n",
        "\n",
        "ax[1].plot(earnings_history_one_month.index, earnings_history_one_month['open'], color='r')\n",
        "ax[1].plot(earnings_history_one_month.index, earnings_history_one_month['close'], color='g', linestyle='-')\n",
        "\n",
        "ax[1].set_xlabel('Date',fontsize=12)\n",
        "\n",
        "ax[0].set_ylabel('Price [$]',fontsize=14)\n",
        "ax[1].set_ylabel('Price [$]',fontsize=14)\n",
        "\n",
        "ax[0].set_title('Company behavior during one month', fontsize=16)\n",
        "\n",
        "ax[0].set_xticklabels([])\n",
        "ax[1].xaxis.set_tick_params(rotation=0)\n",
        "\n",
        "ax[0].legend([\"Price highest\", \"Price opening\"], loc =\"upper left\")\n",
        "ax[1].legend([\"Price opening\", \"Price closing\"], loc =\"upper left\")\n",
        "plt.show()\n",
        "\n"
      ],
      "metadata": {
        "colab": {
          "base_uri": "https://localhost:8080/",
          "height": 409
        },
        "id": "glnakf56mFzD",
        "outputId": "d31a54b6-35a9-44a1-d037-6c8b296efd0a"
      },
      "execution_count": 32,
      "outputs": [
        {
          "output_type": "display_data",
          "data": {
            "text/plain": [
              "<Figure size 1296x432 with 2 Axes>"
            ],
            "image/png": "[encoded data removed]"
          },
          "metadata": {
            "needs_background": "light"
          }
        }
      ]
    },
    {
      "cell_type": "markdown",
      "source": [
        "**AVERAGE VALUE OF THE COMPANY AFTER THE END OF THE MONTH**"
      ],
      "metadata": {
        "id": "0gW4BltznMnq"
      }
    },
    {
      "cell_type": "code",
      "source": [
        "price_month_ego = earnings_history_one_month.open[0] \n",
        "price_month_ego"
      ],
      "metadata": {
        "id": "fkMgU82m2bNa",
        "colab": {
          "base_uri": "https://localhost:8080/"
        },
        "outputId": "650935c2-6314-48b5-d852-bec25ad03181"
      },
      "execution_count": 33,
      "outputs": [
        {
          "output_type": "execute_result",
          "data": {
            "text/plain": [
              "273.5400085449219"
            ]
          },
          "metadata": {},
          "execution_count": 33
        }
      ]
    },
    {
      "cell_type": "code",
      "source": [
        "price_yesterday = earnings_history_one_month.open[-1] \n",
        "price_yesterday"
      ],
      "metadata": {
        "colab": {
          "base_uri": "https://localhost:8080/"
        },
        "id": "7lQJJh7ziKVz",
        "outputId": "96eeb5d2-3b65-4883-bae7-e92d7904aa75"
      },
      "execution_count": 34,
      "outputs": [
        {
          "output_type": "execute_result",
          "data": {
            "text/plain": [
              "286.82000732421875"
            ]
          },
          "metadata": {},
          "execution_count": 34
        }
      ]
    },
    {
      "cell_type": "code",
      "source": [
        "print(f\"Average opening value: {earnings_history_one_month.open.mean():.2f}\")  \n",
        "print(f\"Average daily value: {earnings_history_one_month.high.mean():.2f}\") \n",
        "print(f\"Average daily lowest value {earnings_history_one_month.low.mean():.2f}\")\n",
        "print(f\"Average closing value: {earnings_history_one_month.close.mean():.2f}\")\n",
        "print(f\"Percentage increase in the company's shares: {(price_yesterday-price_month_ego)/price_month_ego*100:.2f}\" \"%\" )"
      ],
      "metadata": {
        "colab": {
          "base_uri": "https://localhost:8080/"
        },
        "id": "r_0KUMlmiT4i",
        "outputId": "ed0e7040-8b81-4d63-f339-c1f7787cff7b"
      },
      "execution_count": 35,
      "outputs": [
        {
          "output_type": "stream",
          "name": "stdout",
          "text": [
            "Average opening value: 268.19\n",
            "Average daily value: 274.18\n",
            "Average daily lowest value 261.09\n",
            "Average closing value: 268.83\n",
            "Percentage increase in the company's shares: 4.85%\n"
          ]
        }
      ]
    },
    {
      "cell_type": "markdown",
      "source": [
        "# Exploratory Data Analysis"
      ],
      "metadata": {
        "id": "LdgN0gzVV9zx"
      }
    },
    {
      "cell_type": "markdown",
      "source": [
        "**Data Cleaning**\n",
        "\n",
        "I will bring up a dataset"
      ],
      "metadata": {
        "id": "HWQ2owNdVwry"
      }
    },
    {
      "cell_type": "code",
      "source": [
        "earnings_history_to_date = yh.get_data(name_max_day, start_day , end_date, index_as_date = False) \n",
        "df=pd.DataFrame(earnings_history_to_date)\n",
        "df"
      ],
      "metadata": {
        "colab": {
          "base_uri": "https://localhost:8080/",
          "height": 424
        },
        "id": "s7DhbHilkHw3",
        "outputId": "4608b4cf-7f56-490f-b467-3061bba96d35"
      },
      "execution_count": 36,
      "outputs": [
        {
          "output_type": "execute_result",
          "data": {
            "text/plain": [
              "           date        open        high         low       close    adjclose  \\\n",
              "0    1999-07-16    9.656250   10.000000    9.500000   10.000000    6.873361   \n",
              "1    1999-07-19    9.937500   10.000000    9.531250    9.843750    6.765958   \n",
              "2    1999-07-20    9.781250    9.781250    9.468750    9.531250    6.551165   \n",
              "3    1999-07-21    9.562500    9.562500    9.250000    9.375000    6.443772   \n",
              "4    1999-07-22    9.312500    9.468750    8.875000    9.468750    6.508206   \n",
              "...         ...         ...         ...         ...         ...         ...   \n",
              "5863 2022-11-01  285.660004  287.880005  278.890015  279.000000  279.000000   \n",
              "5864 2022-11-02  276.179993  279.500000  265.500000  266.519989  266.519989   \n",
              "5865 2022-11-03  253.000000  278.500000  250.500000  274.559998  274.559998   \n",
              "5866 2022-11-04  283.890015  286.739990  275.440002  284.989990  284.989990   \n",
              "5867 2022-11-07  286.820007  288.279999  281.679993  286.489990  286.489990   \n",
              "\n",
              "       volume ticker  \n",
              "0      183400    ALB  \n",
              "1      180000    ALB  \n",
              "2       78400    ALB  \n",
              "3      376200    ALB  \n",
              "4      299600    ALB  \n",
              "...       ...    ...  \n",
              "5863  1276200    ALB  \n",
              "5864  1594800    ALB  \n",
              "5865  2240900    ALB  \n",
              "5866  1480500    ALB  \n",
              "5867   870700    ALB  \n",
              "\n",
              "[5868 rows x 8 columns]"
            ],
            "text/html": [
              "\n",
              "  <div id=\"df-a1048f13-37b3-4ec5-82b3-871fd21a2079\">\n",
              "    <div class=\"colab-df-container\">\n",
              "      <div>\n",
              "<style scoped>\n",
              "    .dataframe tbody tr th:only-of-type {\n",
              "        vertical-align: middle;\n",
              "    }\n",
              "\n",
              "    .dataframe tbody tr th {\n",
              "        vertical-align: top;\n",
              "    }\n",
              "\n",
              "    .dataframe thead th {\n",
              "        text-align: right;\n",
              "    }\n",
              "</style>\n",
              "<table border=\"1\" class=\"dataframe\">\n",
              "  <thead>\n",
              "    <tr style=\"text-align: right;\">\n",
              "      <th></th>\n",
              "      <th>date</th>\n",
              "      <th>open</th>\n",
              "      <th>high</th>\n",
              "      <th>low</th>\n",
              "      <th>close</th>\n",
              "      <th>adjclose</th>\n",
              "      <th>volume</th>\n",
              "      <th>ticker</th>\n",
              "    </tr>\n",
              "  </thead>\n",
              "  <tbody>\n",
              "    <tr>\n",
              "      <th>0</th>\n",
              "      <td>1999-07-16</td>\n",
              "      <td>9.656250</td>\n",
              "      <td>10.000000</td>\n",
              "      <td>9.500000</td>\n",
              "      <td>10.000000</td>\n",
              "      <td>6.873361</td>\n",
              "      <td>183400</td>\n",
              "      <td>ALB</td>\n",
              "    </tr>\n",
              "    <tr>\n",
              "      <th>1</th>\n",
              "      <td>1999-07-19</td>\n",
              "      <td>9.937500</td>\n",
              "      <td>10.000000</td>\n",
              "      <td>9.531250</td>\n",
              "      <td>9.843750</td>\n",
              "      <td>6.765958</td>\n",
              "      <td>180000</td>\n",
              "      <td>ALB</td>\n",
              "    </tr>\n",
              "    <tr>\n",
              "      <th>2</th>\n",
              "      <td>1999-07-20</td>\n",
              "      <td>9.781250</td>\n",
              "      <td>9.781250</td>\n",
              "      <td>9.468750</td>\n",
              "      <td>9.531250</td>\n",
              "      <td>6.551165</td>\n",
              "      <td>78400</td>\n",
              "      <td>ALB</td>\n",
              "    </tr>\n",
              "    <tr>\n",
              "      <th>3</th>\n",
              "      <td>1999-07-21</td>\n",
              "      <td>9.562500</td>\n",
              "      <td>9.562500</td>\n",
              "      <td>9.250000</td>\n",
              "      <td>9.375000</td>\n",
              "      <td>6.443772</td>\n",
              "      <td>376200</td>\n",
              "      <td>ALB</td>\n",
              "    </tr>\n",
              "    <tr>\n",
              "      <th>4</th>\n",
              "      <td>1999-07-22</td>\n",
              "      <td>9.312500</td>\n",
              "      <td>9.468750</td>\n",
              "      <td>8.875000</td>\n",
              "      <td>9.468750</td>\n",
              "      <td>6.508206</td>\n",
              "      <td>299600</td>\n",
              "      <td>ALB</td>\n",
              "    </tr>\n",
              "    <tr>\n",
              "      <th>...</th>\n",
              "      <td>...</td>\n",
              "      <td>...</td>\n",
              "      <td>...</td>\n",
              "      <td>...</td>\n",
              "      <td>...</td>\n",
              "      <td>...</td>\n",
              "      <td>...</td>\n",
              "      <td>...</td>\n",
              "    </tr>\n",
              "    <tr>\n",
              "      <th>5863</th>\n",
              "      <td>2022-11-01</td>\n",
              "      <td>285.660004</td>\n",
              "      <td>287.880005</td>\n",
              "      <td>278.890015</td>\n",
              "      <td>279.000000</td>\n",
              "      <td>279.000000</td>\n",
              "      <td>1276200</td>\n",
              "      <td>ALB</td>\n",
              "    </tr>\n",
              "    <tr>\n",
              "      <th>5864</th>\n",
              "      <td>2022-11-02</td>\n",
              "      <td>276.179993</td>\n",
              "      <td>279.500000</td>\n",
              "      <td>265.500000</td>\n",
              "      <td>266.519989</td>\n",
              "      <td>266.519989</td>\n",
              "      <td>1594800</td>\n",
              "      <td>ALB</td>\n",
              "    </tr>\n",
              "    <tr>\n",
              "      <th>5865</th>\n",
              "      <td>2022-11-03</td>\n",
              "      <td>253.000000</td>\n",
              "      <td>278.500000</td>\n",
              "      <td>250.500000</td>\n",
              "      <td>274.559998</td>\n",
              "      <td>274.559998</td>\n",
              "      <td>2240900</td>\n",
              "      <td>ALB</td>\n",
              "    </tr>\n",
              "    <tr>\n",
              "      <th>5866</th>\n",
              "      <td>2022-11-04</td>\n",
              "      <td>283.890015</td>\n",
              "      <td>286.739990</td>\n",
              "      <td>275.440002</td>\n",
              "      <td>284.989990</td>\n",
              "      <td>284.989990</td>\n",
              "      <td>1480500</td>\n",
              "      <td>ALB</td>\n",
              "    </tr>\n",
              "    <tr>\n",
              "      <th>5867</th>\n",
              "      <td>2022-11-07</td>\n",
              "      <td>286.820007</td>\n",
              "      <td>288.279999</td>\n",
              "      <td>281.679993</td>\n",
              "      <td>286.489990</td>\n",
              "      <td>286.489990</td>\n",
              "      <td>870700</td>\n",
              "      <td>ALB</td>\n",
              "    </tr>\n",
              "  </tbody>\n",
              "</table>\n",
              "<p>5868 rows × 8 columns</p>\n",
              "</div>\n",
              "      <button class=\"colab-df-convert\" onclick=\"convertToInteractive('df-a1048f13-37b3-4ec5-82b3-871fd21a2079')\"\n",
              "              title=\"Convert this dataframe to an interactive table.\"\n",
              "              style=\"display:none;\">\n",
              "        \n",
              "  <svg xmlns=\"http://www.w3.org/2000/svg\" height=\"24px\"viewBox=\"0 0 24 24\"\n",
              "       width=\"24px\">\n",
              "    <path d=\"M0 0h24v24H0V0z\" fill=\"none\"/>\n",
              "    <path d=\"M18.56 5.44l.94 2.06.94-2.06 2.06-.94-2.06-.94-.94-2.06-.94 2.06-2.06.94zm-11 1L8.5 8.5l.94-2.06 2.06-.94-2.06-.94L8.5 2.5l-.94 2.06-2.06.94zm10 10l.94 2.06.94-2.06 2.06-.94-2.06-.94-.94-2.06-.94 2.06-2.06.94z\"/><path d=\"M17.41 7.96l-1.37-1.37c-.4-.4-.92-.59-1.43-.59-.52 0-1.04.2-1.43.59L10.3 9.45l-7.72 7.72c-.78.78-.78 2.05 0 2.83L4 21.41c.39.39.9.59 1.41.59.51 0 1.02-.2 1.41-.59l7.78-7.78 2.81-2.81c.8-.78.8-2.07 0-2.86zM5.41 20L4 18.59l7.72-7.72 1.47 1.35L5.41 20z\"/>\n",
              "  </svg>\n",
              "      </button>\n",
              "      \n",
              "  <style>\n",
              "    .colab-df-container {\n",
              "      display:flex;\n",
              "      flex-wrap:wrap;\n",
              "      gap: 12px;\n",
              "    }\n",
              "\n",
              "    .colab-df-convert {\n",
              "      background-color: #E8F0FE;\n",
              "      border: none;\n",
              "      border-radius: 50%;\n",
              "      cursor: pointer;\n",
              "      display: none;\n",
              "      fill: #1967D2;\n",
              "      height: 32px;\n",
              "      padding: 0 0 0 0;\n",
              "      width: 32px;\n",
              "    }\n",
              "\n",
              "    .colab-df-convert:hover {\n",
              "      background-color: #E2EBFA;\n",
              "      box-shadow: 0px 1px 2px rgba(60, 64, 67, 0.3), 0px 1px 3px 1px rgba(60, 64, 67, 0.15);\n",
              "      fill: #174EA6;\n",
              "    }\n",
              "\n",
              "    [theme=dark] .colab-df-convert {\n",
              "      background-color: #3B4455;\n",
              "      fill: #D2E3FC;\n",
              "    }\n",
              "\n",
              "    [theme=dark] .colab-df-convert:hover {\n",
              "      background-color: #434B5C;\n",
              "      box-shadow: 0px 1px 3px 1px rgba(0, 0, 0, 0.15);\n",
              "      filter: drop-shadow(0px 1px 2px rgba(0, 0, 0, 0.3));\n",
              "      fill: #FFFFFF;\n",
              "    }\n",
              "  </style>\n",
              "\n",
              "      <script>\n",
              "        const buttonEl =\n",
              "          document.querySelector('#df-a1048f13-37b3-4ec5-82b3-871fd21a2079 button.colab-df-convert');\n",
              "        buttonEl.style.display =\n",
              "          google.colab.kernel.accessAllowed ? 'block' : 'none';\n",
              "\n",
              "        async function convertToInteractive(key) {\n",
              "          const element = document.querySelector('#df-a1048f13-37b3-4ec5-82b3-871fd21a2079');\n",
              "          const dataTable =\n",
              "            await google.colab.kernel.invokeFunction('convertToInteractive',\n",
              "                                                     [key], {});\n",
              "          if (!dataTable) return;\n",
              "\n",
              "          const docLinkHtml = 'Like what you see? Visit the ' +\n",
              "            '<a target=\"_blank\" href=https://colab.research.google.com/notebooks/data_table.ipynb>data table notebook</a>'\n",
              "            + ' to learn more about interactive tables.';\n",
              "          element.innerHTML = '';\n",
              "          dataTable['output_type'] = 'display_data';\n",
              "          await google.colab.output.renderOutput(dataTable, element);\n",
              "          const docLink = document.createElement('div');\n",
              "          docLink.innerHTML = docLinkHtml;\n",
              "          element.appendChild(docLink);\n",
              "        }\n",
              "      </script>\n",
              "    </div>\n",
              "  </div>\n",
              "  "
            ]
          },
          "metadata": {},
          "execution_count": 36
        }
      ]
    },
    {
      "cell_type": "markdown",
      "source": [
        "I'll do open, high, low, close, adjclose prices - to two decimal places"
      ],
      "metadata": {
        "id": "fryzLLkZgrRC"
      }
    },
    {
      "cell_type": "code",
      "source": [
        "df = df.round({'open': 2, 'high': 2, 'low': 2, 'close': 2, 'adjclose': 2})\n",
        "df"
      ],
      "metadata": {
        "colab": {
          "base_uri": "https://localhost:8080/",
          "height": 424
        },
        "id": "zkMkUSs9gtsW",
        "outputId": "298c23f9-f8b9-434a-c944-f9a26bc42812"
      },
      "execution_count": 37,
      "outputs": [
        {
          "output_type": "execute_result",
          "data": {
            "text/plain": [
              "           date    open    high     low   close  adjclose   volume ticker\n",
              "0    1999-07-16    9.66   10.00    9.50   10.00      6.87   183400    ALB\n",
              "1    1999-07-19    9.94   10.00    9.53    9.84      6.77   180000    ALB\n",
              "2    1999-07-20    9.78    9.78    9.47    9.53      6.55    78400    ALB\n",
              "3    1999-07-21    9.56    9.56    9.25    9.38      6.44   376200    ALB\n",
              "4    1999-07-22    9.31    9.47    8.88    9.47      6.51   299600    ALB\n",
              "...         ...     ...     ...     ...     ...       ...      ...    ...\n",
              "5863 2022-11-01  285.66  287.88  278.89  279.00    279.00  1276200    ALB\n",
              "5864 2022-11-02  276.18  279.50  265.50  266.52    266.52  1594800    ALB\n",
              "5865 2022-11-03  253.00  278.50  250.50  274.56    274.56  2240900    ALB\n",
              "5866 2022-11-04  283.89  286.74  275.44  284.99    284.99  1480500    ALB\n",
              "5867 2022-11-07  286.82  288.28  281.68  286.49    286.49   870700    ALB\n",
              "\n",
              "[5868 rows x 8 columns]"
            ],
            "text/html": [
              "\n",
              "  <div id=\"df-d975fe15-4263-4719-b255-fb56c11e6ea2\">\n",
              "    <div class=\"colab-df-container\">\n",
              "      <div>\n",
              "<style scoped>\n",
              "    .dataframe tbody tr th:only-of-type {\n",
              "        vertical-align: middle;\n",
              "    }\n",
              "\n",
              "    .dataframe tbody tr th {\n",
              "        vertical-align: top;\n",
              "    }\n",
              "\n",
              "    .dataframe thead th {\n",
              "        text-align: right;\n",
              "    }\n",
              "</style>\n",
              "<table border=\"1\" class=\"dataframe\">\n",
              "  <thead>\n",
              "    <tr style=\"text-align: right;\">\n",
              "      <th></th>\n",
              "      <th>date</th>\n",
              "      <th>open</th>\n",
              "      <th>high</th>\n",
              "      <th>low</th>\n",
              "      <th>close</th>\n",
              "      <th>adjclose</th>\n",
              "      <th>volume</th>\n",
              "      <th>ticker</th>\n",
              "    </tr>\n",
              "  </thead>\n",
              "  <tbody>\n",
              "    <tr>\n",
              "      <th>0</th>\n",
              "      <td>1999-07-16</td>\n",
              "      <td>9.66</td>\n",
              "      <td>10.00</td>\n",
              "      <td>9.50</td>\n",
              "      <td>10.00</td>\n",
              "      <td>6.87</td>\n",
              "      <td>183400</td>\n",
              "      <td>ALB</td>\n",
              "    </tr>\n",
              "    <tr>\n",
              "      <th>1</th>\n",
              "      <td>1999-07-19</td>\n",
              "      <td>9.94</td>\n",
              "      <td>10.00</td>\n",
              "      <td>9.53</td>\n",
              "      <td>9.84</td>\n",
              "      <td>6.77</td>\n",
              "      <td>180000</td>\n",
              "      <td>ALB</td>\n",
              "    </tr>\n",
              "    <tr>\n",
              "      <th>2</th>\n",
              "      <td>1999-07-20</td>\n",
              "      <td>9.78</td>\n",
              "      <td>9.78</td>\n",
              "      <td>9.47</td>\n",
              "      <td>9.53</td>\n",
              "      <td>6.55</td>\n",
              "      <td>78400</td>\n",
              "      <td>ALB</td>\n",
              "    </tr>\n",
              "    <tr>\n",
              "      <th>3</th>\n",
              "      <td>1999-07-21</td>\n",
              "      <td>9.56</td>\n",
              "      <td>9.56</td>\n",
              "      <td>9.25</td>\n",
              "      <td>9.38</td>\n",
              "      <td>6.44</td>\n",
              "      <td>376200</td>\n",
              "      <td>ALB</td>\n",
              "    </tr>\n",
              "    <tr>\n",
              "      <th>4</th>\n",
              "      <td>1999-07-22</td>\n",
              "      <td>9.31</td>\n",
              "      <td>9.47</td>\n",
              "      <td>8.88</td>\n",
              "      <td>9.47</td>\n",
              "      <td>6.51</td>\n",
              "      <td>299600</td>\n",
              "      <td>ALB</td>\n",
              "    </tr>\n",
              "    <tr>\n",
              "      <th>...</th>\n",
              "      <td>...</td>\n",
              "      <td>...</td>\n",
              "      <td>...</td>\n",
              "      <td>...</td>\n",
              "      <td>...</td>\n",
              "      <td>...</td>\n",
              "      <td>...</td>\n",
              "      <td>...</td>\n",
              "    </tr>\n",
              "    <tr>\n",
              "      <th>5863</th>\n",
              "      <td>2022-11-01</td>\n",
              "      <td>285.66</td>\n",
              "      <td>287.88</td>\n",
              "      <td>278.89</td>\n",
              "      <td>279.00</td>\n",
              "      <td>279.00</td>\n",
              "      <td>1276200</td>\n",
              "      <td>ALB</td>\n",
              "    </tr>\n",
              "    <tr>\n",
              "      <th>5864</th>\n",
              "      <td>2022-11-02</td>\n",
              "      <td>276.18</td>\n",
              "      <td>279.50</td>\n",
              "      <td>265.50</td>\n",
              "      <td>266.52</td>\n",
              "      <td>266.52</td>\n",
              "      <td>1594800</td>\n",
              "      <td>ALB</td>\n",
              "    </tr>\n",
              "    <tr>\n",
              "      <th>5865</th>\n",
              "      <td>2022-11-03</td>\n",
              "      <td>253.00</td>\n",
              "      <td>278.50</td>\n",
              "      <td>250.50</td>\n",
              "      <td>274.56</td>\n",
              "      <td>274.56</td>\n",
              "      <td>2240900</td>\n",
              "      <td>ALB</td>\n",
              "    </tr>\n",
              "    <tr>\n",
              "      <th>5866</th>\n",
              "      <td>2022-11-04</td>\n",
              "      <td>283.89</td>\n",
              "      <td>286.74</td>\n",
              "      <td>275.44</td>\n",
              "      <td>284.99</td>\n",
              "      <td>284.99</td>\n",
              "      <td>1480500</td>\n",
              "      <td>ALB</td>\n",
              "    </tr>\n",
              "    <tr>\n",
              "      <th>5867</th>\n",
              "      <td>2022-11-07</td>\n",
              "      <td>286.82</td>\n",
              "      <td>288.28</td>\n",
              "      <td>281.68</td>\n",
              "      <td>286.49</td>\n",
              "      <td>286.49</td>\n",
              "      <td>870700</td>\n",
              "      <td>ALB</td>\n",
              "    </tr>\n",
              "  </tbody>\n",
              "</table>\n",
              "<p>5868 rows × 8 columns</p>\n",
              "</div>\n",
              "      <button class=\"colab-df-convert\" onclick=\"convertToInteractive('df-d975fe15-4263-4719-b255-fb56c11e6ea2')\"\n",
              "              title=\"Convert this dataframe to an interactive table.\"\n",
              "              style=\"display:none;\">\n",
              "        \n",
              "  <svg xmlns=\"http://www.w3.org/2000/svg\" height=\"24px\"viewBox=\"0 0 24 24\"\n",
              "       width=\"24px\">\n",
              "    <path d=\"M0 0h24v24H0V0z\" fill=\"none\"/>\n",
              "    <path d=\"M18.56 5.44l.94 2.06.94-2.06 2.06-.94-2.06-.94-.94-2.06-.94 2.06-2.06.94zm-11 1L8.5 8.5l.94-2.06 2.06-.94-2.06-.94L8.5 2.5l-.94 2.06-2.06.94zm10 10l.94 2.06.94-2.06 2.06-.94-2.06-.94-.94-2.06-.94 2.06-2.06.94z\"/><path d=\"M17.41 7.96l-1.37-1.37c-.4-.4-.92-.59-1.43-.59-.52 0-1.04.2-1.43.59L10.3 9.45l-7.72 7.72c-.78.78-.78 2.05 0 2.83L4 21.41c.39.39.9.59 1.41.59.51 0 1.02-.2 1.41-.59l7.78-7.78 2.81-2.81c.8-.78.8-2.07 0-2.86zM5.41 20L4 18.59l7.72-7.72 1.47 1.35L5.41 20z\"/>\n",
              "  </svg>\n",
              "      </button>\n",
              "      \n",
              "  <style>\n",
              "    .colab-df-container {\n",
              "      display:flex;\n",
              "      flex-wrap:wrap;\n",
              "      gap: 12px;\n",
              "    }\n",
              "\n",
              "    .colab-df-convert {\n",
              "      background-color: #E8F0FE;\n",
              "      border: none;\n",
              "      border-radius: 50%;\n",
              "      cursor: pointer;\n",
              "      display: none;\n",
              "      fill: #1967D2;\n",
              "      height: 32px;\n",
              "      padding: 0 0 0 0;\n",
              "      width: 32px;\n",
              "    }\n",
              "\n",
              "    .colab-df-convert:hover {\n",
              "      background-color: #E2EBFA;\n",
              "      box-shadow: 0px 1px 2px rgba(60, 64, 67, 0.3), 0px 1px 3px 1px rgba(60, 64, 67, 0.15);\n",
              "      fill: #174EA6;\n",
              "    }\n",
              "\n",
              "    [theme=dark] .colab-df-convert {\n",
              "      background-color: #3B4455;\n",
              "      fill: #D2E3FC;\n",
              "    }\n",
              "\n",
              "    [theme=dark] .colab-df-convert:hover {\n",
              "      background-color: #434B5C;\n",
              "      box-shadow: 0px 1px 3px 1px rgba(0, 0, 0, 0.15);\n",
              "      filter: drop-shadow(0px 1px 2px rgba(0, 0, 0, 0.3));\n",
              "      fill: #FFFFFF;\n",
              "    }\n",
              "  </style>\n",
              "\n",
              "      <script>\n",
              "        const buttonEl =\n",
              "          document.querySelector('#df-d975fe15-4263-4719-b255-fb56c11e6ea2 button.colab-df-convert');\n",
              "        buttonEl.style.display =\n",
              "          google.colab.kernel.accessAllowed ? 'block' : 'none';\n",
              "\n",
              "        async function convertToInteractive(key) {\n",
              "          const element = document.querySelector('#df-d975fe15-4263-4719-b255-fb56c11e6ea2');\n",
              "          const dataTable =\n",
              "            await google.colab.kernel.invokeFunction('convertToInteractive',\n",
              "                                                     [key], {});\n",
              "          if (!dataTable) return;\n",
              "\n",
              "          const docLinkHtml = 'Like what you see? Visit the ' +\n",
              "            '<a target=\"_blank\" href=https://colab.research.google.com/notebooks/data_table.ipynb>data table notebook</a>'\n",
              "            + ' to learn more about interactive tables.';\n",
              "          element.innerHTML = '';\n",
              "          dataTable['output_type'] = 'display_data';\n",
              "          await google.colab.output.renderOutput(dataTable, element);\n",
              "          const docLink = document.createElement('div');\n",
              "          docLink.innerHTML = docLinkHtml;\n",
              "          element.appendChild(docLink);\n",
              "        }\n",
              "      </script>\n",
              "    </div>\n",
              "  </div>\n",
              "  "
            ]
          },
          "metadata": {},
          "execution_count": 37
        }
      ]
    },
    {
      "cell_type": "code",
      "source": [
        "df.info()"
      ],
      "metadata": {
        "colab": {
          "base_uri": "https://localhost:8080/"
        },
        "id": "5QlqbXVkXEkL",
        "outputId": "3651b3c5-99d2-43f2-b8f2-0202865ab27e"
      },
      "execution_count": 38,
      "outputs": [
        {
          "output_type": "stream",
          "name": "stdout",
          "text": [
            "<class 'pandas.core.frame.DataFrame'>\n",
            "RangeIndex: 5868 entries, 0 to 5867\n",
            "Data columns (total 8 columns):\n",
            " #   Column    Non-Null Count  Dtype         \n",
            "---  ------    --------------  -----         \n",
            " 0   date      5868 non-null   datetime64[ns]\n",
            " 1   open      5868 non-null   float64       \n",
            " 2   high      5868 non-null   float64       \n",
            " 3   low       5868 non-null   float64       \n",
            " 4   close     5868 non-null   float64       \n",
            " 5   adjclose  5868 non-null   float64       \n",
            " 6   volume    5868 non-null   int64         \n",
            " 7   ticker    5868 non-null   object        \n",
            "dtypes: datetime64[ns](1), float64(5), int64(1), object(1)\n",
            "memory usage: 366.9+ KB\n"
          ]
        }
      ]
    },
    {
      "cell_type": "code",
      "source": [
        "df.isnull().sum()"
      ],
      "metadata": {
        "colab": {
          "base_uri": "https://localhost:8080/"
        },
        "id": "49HOnJ2tYAW2",
        "outputId": "f1e1a06a-96b6-4120-ac60-60e83a9c696e"
      },
      "execution_count": 39,
      "outputs": [
        {
          "output_type": "execute_result",
          "data": {
            "text/plain": [
              "date        0\n",
              "open        0\n",
              "high        0\n",
              "low         0\n",
              "close       0\n",
              "adjclose    0\n",
              "volume      0\n",
              "ticker      0\n",
              "dtype: int64"
            ]
          },
          "metadata": {},
          "execution_count": 39
        }
      ]
    },
    {
      "cell_type": "markdown",
      "source": [
        "The dataset is doesn't have any null values.\n",
        "\n",
        "Now, let's see if it contains any duplicated values or not."
      ],
      "metadata": {
        "id": "hjCgkX5MYNeh"
      }
    },
    {
      "cell_type": "code",
      "source": [
        "print('Number of duplicate values are:')\n",
        "df.duplicated().sum()"
      ],
      "metadata": {
        "colab": {
          "base_uri": "https://localhost:8080/"
        },
        "id": "Hxhw8qfUYKo6",
        "outputId": "2950f729-edde-4f11-8ba8-52f09983fcb4"
      },
      "execution_count": 40,
      "outputs": [
        {
          "output_type": "stream",
          "name": "stdout",
          "text": [
            "Number of duplicate values are:\n"
          ]
        },
        {
          "output_type": "execute_result",
          "data": {
            "text/plain": [
              "0"
            ]
          },
          "metadata": {},
          "execution_count": 40
        }
      ]
    },
    {
      "cell_type": "markdown",
      "source": [
        "There are no duplicated values and neither null values. It means that the dataset is already cleaned."
      ],
      "metadata": {
        "id": "T1_SmyKOZR8o"
      }
    },
    {
      "cell_type": "code",
      "source": [
        "df.describe()"
      ],
      "metadata": {
        "colab": {
          "base_uri": "https://localhost:8080/",
          "height": 300
        },
        "id": "Pb8swLjuZxad",
        "outputId": "2ec6a535-6779-4500-f7d5-532830965dbb"
      },
      "execution_count": 41,
      "outputs": [
        {
          "output_type": "execute_result",
          "data": {
            "text/plain": [
              "              open         high          low        close     adjclose  \\\n",
              "count  5868.000000  5868.000000  5868.000000  5868.000000  5868.000000   \n",
              "mean     60.250358    61.147186    59.318073    60.270983    55.138809   \n",
              "std      55.425600    56.474587    54.304198    55.467699    56.017854   \n",
              "min       7.280000     7.500000     7.280000     7.280000     5.060000   \n",
              "25%      18.227500    18.397500    17.977500    18.217500    14.177500   \n",
              "50%      48.905000    49.940000    48.075000    48.930000    42.775000   \n",
              "75%      71.212500    71.865000    70.290000    71.225000    67.002500   \n",
              "max     302.150000   308.240000   295.100000   307.050000   306.650000   \n",
              "\n",
              "             volume  \n",
              "count  5.868000e+03  \n",
              "mean   8.739517e+05  \n",
              "std    8.189423e+05  \n",
              "min    1.860000e+04  \n",
              "25%    3.581750e+05  \n",
              "50%    7.183000e+05  \n",
              "75%    1.172100e+06  \n",
              "max    2.489550e+07  "
            ],
            "text/html": [
              "\n",
              "  <div id=\"df-7beca10e-6a55-48d8-9ed8-72c956bda375\">\n",
              "    <div class=\"colab-df-container\">\n",
              "      <div>\n",
              "<style scoped>\n",
              "    .dataframe tbody tr th:only-of-type {\n",
              "        vertical-align: middle;\n",
              "    }\n",
              "\n",
              "    .dataframe tbody tr th {\n",
              "        vertical-align: top;\n",
              "    }\n",
              "\n",
              "    .dataframe thead th {\n",
              "        text-align: right;\n",
              "    }\n",
              "</style>\n",
              "<table border=\"1\" class=\"dataframe\">\n",
              "  <thead>\n",
              "    <tr style=\"text-align: right;\">\n",
              "      <th></th>\n",
              "      <th>open</th>\n",
              "      <th>high</th>\n",
              "      <th>low</th>\n",
              "      <th>close</th>\n",
              "      <th>adjclose</th>\n",
              "      <th>volume</th>\n",
              "    </tr>\n",
              "  </thead>\n",
              "  <tbody>\n",
              "    <tr>\n",
              "      <th>count</th>\n",
              "      <td>5868.000000</td>\n",
              "      <td>5868.000000</td>\n",
              "      <td>5868.000000</td>\n",
              "      <td>5868.000000</td>\n",
              "      <td>5868.000000</td>\n",
              "      <td>5.868000e+03</td>\n",
              "    </tr>\n",
              "    <tr>\n",
              "      <th>mean</th>\n",
              "      <td>60.250358</td>\n",
              "      <td>61.147186</td>\n",
              "      <td>59.318073</td>\n",
              "      <td>60.270983</td>\n",
              "      <td>55.138809</td>\n",
              "      <td>8.739517e+05</td>\n",
              "    </tr>\n",
              "    <tr>\n",
              "      <th>std</th>\n",
              "      <td>55.425600</td>\n",
              "      <td>56.474587</td>\n",
              "      <td>54.304198</td>\n",
              "      <td>55.467699</td>\n",
              "      <td>56.017854</td>\n",
              "      <td>8.189423e+05</td>\n",
              "    </tr>\n",
              "    <tr>\n",
              "      <th>min</th>\n",
              "      <td>7.280000</td>\n",
              "      <td>7.500000</td>\n",
              "      <td>7.280000</td>\n",
              "      <td>7.280000</td>\n",
              "      <td>5.060000</td>\n",
              "      <td>1.860000e+04</td>\n",
              "    </tr>\n",
              "    <tr>\n",
              "      <th>25%</th>\n",
              "      <td>18.227500</td>\n",
              "      <td>18.397500</td>\n",
              "      <td>17.977500</td>\n",
              "      <td>18.217500</td>\n",
              "      <td>14.177500</td>\n",
              "      <td>3.581750e+05</td>\n",
              "    </tr>\n",
              "    <tr>\n",
              "      <th>50%</th>\n",
              "      <td>48.905000</td>\n",
              "      <td>49.940000</td>\n",
              "      <td>48.075000</td>\n",
              "      <td>48.930000</td>\n",
              "      <td>42.775000</td>\n",
              "      <td>7.183000e+05</td>\n",
              "    </tr>\n",
              "    <tr>\n",
              "      <th>75%</th>\n",
              "      <td>71.212500</td>\n",
              "      <td>71.865000</td>\n",
              "      <td>70.290000</td>\n",
              "      <td>71.225000</td>\n",
              "      <td>67.002500</td>\n",
              "      <td>1.172100e+06</td>\n",
              "    </tr>\n",
              "    <tr>\n",
              "      <th>max</th>\n",
              "      <td>302.150000</td>\n",
              "      <td>308.240000</td>\n",
              "      <td>295.100000</td>\n",
              "      <td>307.050000</td>\n",
              "      <td>306.650000</td>\n",
              "      <td>2.489550e+07</td>\n",
              "    </tr>\n",
              "  </tbody>\n",
              "</table>\n",
              "</div>\n",
              "      <button class=\"colab-df-convert\" onclick=\"convertToInteractive('df-7beca10e-6a55-48d8-9ed8-72c956bda375')\"\n",
              "              title=\"Convert this dataframe to an interactive table.\"\n",
              "              style=\"display:none;\">\n",
              "        \n",
              "  <svg xmlns=\"http://www.w3.org/2000/svg\" height=\"24px\"viewBox=\"0 0 24 24\"\n",
              "       width=\"24px\">\n",
              "    <path d=\"M0 0h24v24H0V0z\" fill=\"none\"/>\n",
              "    <path d=\"M18.56 5.44l.94 2.06.94-2.06 2.06-.94-2.06-.94-.94-2.06-.94 2.06-2.06.94zm-11 1L8.5 8.5l.94-2.06 2.06-.94-2.06-.94L8.5 2.5l-.94 2.06-2.06.94zm10 10l.94 2.06.94-2.06 2.06-.94-2.06-.94-.94-2.06-.94 2.06-2.06.94z\"/><path d=\"M17.41 7.96l-1.37-1.37c-.4-.4-.92-.59-1.43-.59-.52 0-1.04.2-1.43.59L10.3 9.45l-7.72 7.72c-.78.78-.78 2.05 0 2.83L4 21.41c.39.39.9.59 1.41.59.51 0 1.02-.2 1.41-.59l7.78-7.78 2.81-2.81c.8-.78.8-2.07 0-2.86zM5.41 20L4 18.59l7.72-7.72 1.47 1.35L5.41 20z\"/>\n",
              "  </svg>\n",
              "      </button>\n",
              "      \n",
              "  <style>\n",
              "    .colab-df-container {\n",
              "      display:flex;\n",
              "      flex-wrap:wrap;\n",
              "      gap: 12px;\n",
              "    }\n",
              "\n",
              "    .colab-df-convert {\n",
              "      background-color: #E8F0FE;\n",
              "      border: none;\n",
              "      border-radius: 50%;\n",
              "      cursor: pointer;\n",
              "      display: none;\n",
              "      fill: #1967D2;\n",
              "      height: 32px;\n",
              "      padding: 0 0 0 0;\n",
              "      width: 32px;\n",
              "    }\n",
              "\n",
              "    .colab-df-convert:hover {\n",
              "      background-color: #E2EBFA;\n",
              "      box-shadow: 0px 1px 2px rgba(60, 64, 67, 0.3), 0px 1px 3px 1px rgba(60, 64, 67, 0.15);\n",
              "      fill: #174EA6;\n",
              "    }\n",
              "\n",
              "    [theme=dark] .colab-df-convert {\n",
              "      background-color: #3B4455;\n",
              "      fill: #D2E3FC;\n",
              "    }\n",
              "\n",
              "    [theme=dark] .colab-df-convert:hover {\n",
              "      background-color: #434B5C;\n",
              "      box-shadow: 0px 1px 3px 1px rgba(0, 0, 0, 0.15);\n",
              "      filter: drop-shadow(0px 1px 2px rgba(0, 0, 0, 0.3));\n",
              "      fill: #FFFFFF;\n",
              "    }\n",
              "  </style>\n",
              "\n",
              "      <script>\n",
              "        const buttonEl =\n",
              "          document.querySelector('#df-7beca10e-6a55-48d8-9ed8-72c956bda375 button.colab-df-convert');\n",
              "        buttonEl.style.display =\n",
              "          google.colab.kernel.accessAllowed ? 'block' : 'none';\n",
              "\n",
              "        async function convertToInteractive(key) {\n",
              "          const element = document.querySelector('#df-7beca10e-6a55-48d8-9ed8-72c956bda375');\n",
              "          const dataTable =\n",
              "            await google.colab.kernel.invokeFunction('convertToInteractive',\n",
              "                                                     [key], {});\n",
              "          if (!dataTable) return;\n",
              "\n",
              "          const docLinkHtml = 'Like what you see? Visit the ' +\n",
              "            '<a target=\"_blank\" href=https://colab.research.google.com/notebooks/data_table.ipynb>data table notebook</a>'\n",
              "            + ' to learn more about interactive tables.';\n",
              "          element.innerHTML = '';\n",
              "          dataTable['output_type'] = 'display_data';\n",
              "          await google.colab.output.renderOutput(dataTable, element);\n",
              "          const docLink = document.createElement('div');\n",
              "          docLink.innerHTML = docLinkHtml;\n",
              "          element.appendChild(docLink);\n",
              "        }\n",
              "      </script>\n",
              "    </div>\n",
              "  </div>\n",
              "  "
            ]
          },
          "metadata": {},
          "execution_count": 41
        }
      ]
    },
    {
      "cell_type": "markdown",
      "source": [
        "I WILL GO NOW TO CREATE A MODEL THAT PROVIDES US THE PRICE OF THE COMPANY, WE WILL ANSWER THE QUESTION, IS IT WORTH INVESTING IN THIS COMPANY?"
      ],
      "metadata": {
        "id": "2mrBF4bV68yn"
      }
    },
    {
      "cell_type": "markdown",
      "source": [
        "I will use **AutoRegressive Integrated Moving Average** to create the model."
      ],
      "metadata": {
        "id": "M5p5QznktHcC"
      }
    },
    {
      "cell_type": "markdown",
      "source": [
        "# Model Selection for Time Series Prediction"
      ],
      "metadata": {
        "id": "NTyzDEb97jSq"
      }
    },
    {
      "cell_type": "markdown",
      "source": [
        "**Data splitting**\n",
        "\n",
        "\n",
        "Time series models intrinsically introduce endogenous temporality, meaning that the values at any given point yt in our time series likely have some effect on some future value, yt+n. Therefore, we cannot simply split our data randomly; we must make a clean split in our time series (and exogenous variables, if present)."
      ],
      "metadata": {
        "id": "083dXc1lTi4E"
      }
    },
    {
      "cell_type": "code",
      "source": [
        "selected_day = df['date'].index[-1]\n",
        "selected_day"
      ],
      "metadata": {
        "colab": {
          "base_uri": "https://localhost:8080/"
        },
        "id": "EUHte6Fgv4bB",
        "outputId": "5e7f2b97-11f6-4913-fb0b-50c4c52509a6"
      },
      "execution_count": 42,
      "outputs": [
        {
          "output_type": "execute_result",
          "data": {
            "text/plain": [
              "5867"
            ]
          },
          "metadata": {},
          "execution_count": 42
        }
      ]
    },
    {
      "cell_type": "code",
      "source": [
        "df['date'][selected_day]"
      ],
      "metadata": {
        "colab": {
          "base_uri": "https://localhost:8080/"
        },
        "id": "yqw2r2dvF3xQ",
        "outputId": "6eff3663-ddc3-4f72-ec87-41f89d816448"
      },
      "execution_count": 43,
      "outputs": [
        {
          "output_type": "execute_result",
          "data": {
            "text/plain": [
              "Timestamp('2022-11-07 00:00:00')"
            ]
          },
          "metadata": {},
          "execution_count": 43
        }
      ]
    },
    {
      "cell_type": "markdown",
      "source": [
        "#Train and Test split"
      ],
      "metadata": {
        "id": "T5caIdl6G2gZ"
      }
    },
    {
      "cell_type": "code",
      "source": [
        "train = df['close'][0:int(len(df)*0.8)]\n",
        "test = df['close'][int(len(df)*0.8):]\n",
        "\n",
        "train_ar = train.values\n",
        "test_ar = test.values"
      ],
      "metadata": {
        "id": "dISIYJA7F2ql"
      },
      "execution_count": 63,
      "outputs": []
    },
    {
      "cell_type": "code",
      "source": [
        "len(train)"
      ],
      "metadata": {
        "colab": {
          "base_uri": "https://localhost:8080/"
        },
        "id": "ewXZdqiWJMYB",
        "outputId": "e45680d0-ca7e-421f-cd46-ff758bab0410"
      },
      "execution_count": 64,
      "outputs": [
        {
          "output_type": "execute_result",
          "data": {
            "text/plain": [
              "4694"
            ]
          },
          "metadata": {},
          "execution_count": 64
        }
      ]
    },
    {
      "cell_type": "code",
      "source": [
        "len(test)"
      ],
      "metadata": {
        "colab": {
          "base_uri": "https://localhost:8080/"
        },
        "id": "dxSyy6USI1UZ",
        "outputId": "1a585112-0ad6-47af-d803-2489bfc81113"
      },
      "execution_count": 46,
      "outputs": [
        {
          "output_type": "execute_result",
          "data": {
            "text/plain": [
              "1174"
            ]
          },
          "metadata": {},
          "execution_count": 46
        }
      ]
    },
    {
      "cell_type": "code",
      "source": [
        "plt.figure(figsize=(18,6))\n",
        "plt.title('Company closing price', fontsize=16)\n",
        "plt.xlabel('Date', fontsize=12)\n",
        "plt.ylabel('Price', fontsize=12)\n",
        "plt.plot(train, 'blue', label='Training Data')\n",
        "plt.plot(test, 'orange', label='Testing Data')\n",
        "\n",
        "plt.xticks(np.arange(0,5867, 900), df['date'][0:5867:900])\n",
        "plt.legend()\n",
        "plt.show()"
      ],
      "metadata": {
        "colab": {
          "base_uri": "https://localhost:8080/",
          "height": 409
        },
        "id": "8-pKhcpqHxX3",
        "outputId": "0655e048-c2ba-4d59-e08f-e2ff4aed0fa6"
      },
      "execution_count": 65,
      "outputs": [
        {
          "output_type": "display_data",
          "data": {
            "text/plain": [
              "<Figure size 1296x432 with 1 Axes>"
            ],
            "image/png": "[encoded data removed]"
          },
          "metadata": {
            "needs_background": "light"
          }
        }
      ]
    },
    {
      "cell_type": "markdown",
      "source": [
        "#Pre-modeling analysis"
      ],
      "metadata": {
        "id": "6jnOXmzG04X9"
      }
    },
    {
      "cell_type": "markdown",
      "source": [
        "**Autocorrelation with lag plots**"
      ],
      "metadata": {
        "id": "GiEyofWcw2fm"
      }
    },
    {
      "cell_type": "code",
      "source": [
        "fig, axes = plt.subplots(3, 2, figsize=(12, 16))\n",
        "\n",
        "plt.title('Autocorrelation plot', fontsize=16)\n",
        "# The axis coordinates for the plots\n",
        "ax_idcs = [\n",
        "    (0, 0),\n",
        "    (0, 1),\n",
        "    (1, 0),\n",
        "    (1, 1),\n",
        "    (2, 0),\n",
        "    (2, 1)\n",
        "]\n",
        "\n",
        "for lag, ax_coords in enumerate(ax_idcs, 1):\n",
        "    ax_row, ax_col = ax_coords\n",
        "    axis = axes[ax_row][ax_col]\n",
        "    lag_plot(df['close'], lag=lag, ax=axis)\n",
        "    axis.set_title(f\"Lag={lag}\")\n",
        "\n",
        "plt.show()"
      ],
      "metadata": {
        "colab": {
          "base_uri": "https://localhost:8080/",
          "height": 948
        },
        "id": "PUkg3bzNwejL",
        "outputId": "cdf51a87-b599-40a5-a106-927adf8cb5d5"
      },
      "execution_count": 57,
      "outputs": [
        {
          "output_type": "display_data",
          "data": {
            "text/plain": [
              "<Figure size 864x1152 with 6 Axes>"
            ],
            "image/png": "[encoded data removed]"
          },
          "metadata": {
            "needs_background": "light"
          }
        }
      ]
    },
    {
      "cell_type": "markdown",
      "source": [
        "As you can see, all the lags look fairly linear, so it’s a good indicator that an auto-regressive model is a good choice.\n",
        "\n",
        "But since I don’t want to allow simple visual bias to impact my decision here, I will allow the auto_arima to select the proper lag term.\n",
        "\n",
        "I can estimate the best lag term with several statistical tests:"
      ],
      "metadata": {
        "id": "A7tLi_oyxeRB"
      }
    },
    {
      "cell_type": "markdown",
      "source": [
        "#Testing for stationarity"
      ],
      "metadata": {
        "id": "4EHK9EX1yhqf"
      }
    },
    {
      "cell_type": "markdown",
      "source": [
        "With pmdarima, I can run several time series differentiation tests to select the best number of differences so that the time series are stationary."
      ],
      "metadata": {
        "id": "kgXGFagY-hil"
      }
    },
    {
      "cell_type": "code",
      "source": [
        "kpss_diffs = ndiffs(train_ar, alpha=0.05, test='kpss', max_d=6)\n",
        "adf_diffs = ndiffs(train_ar, alpha=0.05, test='adf', max_d=6)\n",
        "\n",
        "n_diffs = max(adf_diffs, kpss_diffs)\n",
        "\n",
        "print(f\"Estimated differencing term: {n_diffs}\")"
      ],
      "metadata": {
        "colab": {
          "base_uri": "https://localhost:8080/"
        },
        "id": "TG2XxyuyyypS",
        "outputId": "b5ea0c0b-a6ec-4c24-ac31-a8dc57176278"
      },
      "execution_count": 60,
      "outputs": [
        {
          "output_type": "stream",
          "name": "stdout",
          "text": [
            "Estimated differencing term: 1\n"
          ]
        }
      ]
    },
    {
      "cell_type": "markdown",
      "source": [
        "I will use d = n_diffs"
      ],
      "metadata": {
        "id": "T_YVrIaZBIaQ"
      }
    },
    {
      "cell_type": "markdown",
      "source": [
        "#MODEL ARIMA (AutoRegressive Integrated Moving Average)"
      ],
      "metadata": {
        "id": "K-dg8AMDmABF"
      }
    },
    {
      "cell_type": "markdown",
      "source": [
        "**Fitting model**"
      ],
      "metadata": {
        "id": "ZaXRtDJgEU7U"
      }
    },
    {
      "cell_type": "code",
      "source": [
        "auto = pm.auto_arima(train_ar, d=n_diffs, seasonal=False, stepwise=True,\n",
        "                     suppress_warnings=True, error_action=\"ignore\", max_p=6,\n",
        "                     max_order=None, trace=True)"
      ],
      "metadata": {
        "colab": {
          "base_uri": "https://localhost:8080/"
        },
        "id": "YlNc5Al2BBpY",
        "outputId": "7297a9d7-9a6e-40e4-e527-e363a55f5ac9"
      },
      "execution_count": 66,
      "outputs": [
        {
          "output_type": "stream",
          "name": "stdout",
          "text": [
            "Performing stepwise search to minimize aic\n",
            " ARIMA(2,1,2)(0,0,0)[0] intercept   : AIC=13013.672, Time=5.18 sec\n",
            " ARIMA(0,1,0)(0,0,0)[0] intercept   : AIC=13024.993, Time=0.42 sec\n",
            " ARIMA(1,1,0)(0,0,0)[0] intercept   : AIC=13025.930, Time=0.36 sec\n",
            " ARIMA(0,1,1)(0,0,0)[0] intercept   : AIC=13025.996, Time=0.61 sec\n",
            " ARIMA(0,1,0)(0,0,0)[0]             : AIC=13024.956, Time=0.12 sec\n",
            " ARIMA(1,1,2)(0,0,0)[0] intercept   : AIC=13023.450, Time=6.54 sec\n",
            " ARIMA(2,1,1)(0,0,0)[0] intercept   : AIC=13029.885, Time=1.54 sec\n",
            " ARIMA(3,1,2)(0,0,0)[0] intercept   : AIC=13015.671, Time=4.01 sec\n",
            " ARIMA(2,1,3)(0,0,0)[0] intercept   : AIC=13015.670, Time=8.08 sec\n",
            " ARIMA(1,1,1)(0,0,0)[0] intercept   : AIC=13026.877, Time=2.38 sec\n",
            " ARIMA(1,1,3)(0,0,0)[0] intercept   : AIC=13021.909, Time=3.99 sec\n",
            " ARIMA(3,1,1)(0,0,0)[0] intercept   : AIC=13022.913, Time=6.15 sec\n",
            " ARIMA(3,1,3)(0,0,0)[0] intercept   : AIC=13017.664, Time=6.67 sec\n",
            " ARIMA(2,1,2)(0,0,0)[0]             : AIC=13013.552, Time=1.80 sec\n",
            " ARIMA(1,1,2)(0,0,0)[0]             : AIC=13023.299, Time=0.92 sec\n",
            " ARIMA(2,1,1)(0,0,0)[0]             : AIC=13029.905, Time=0.51 sec\n",
            " ARIMA(3,1,2)(0,0,0)[0]             : AIC=13015.548, Time=1.73 sec\n",
            " ARIMA(2,1,3)(0,0,0)[0]             : AIC=13015.549, Time=2.95 sec\n",
            " ARIMA(1,1,1)(0,0,0)[0]             : AIC=13026.895, Time=0.70 sec\n",
            " ARIMA(1,1,3)(0,0,0)[0]             : AIC=13021.706, Time=1.36 sec\n",
            " ARIMA(3,1,1)(0,0,0)[0]             : AIC=13022.729, Time=2.23 sec\n",
            " ARIMA(3,1,3)(0,0,0)[0]             : AIC=13017.550, Time=3.51 sec\n",
            "\n",
            "Best model:  ARIMA(2,1,2)(0,0,0)[0]          \n",
            "Total fit time: 61.796 seconds\n"
          ]
        }
      ]
    },
    {
      "cell_type": "markdown",
      "source": [
        "Now that I have selected the model hyperparameters, I can update the model simulating the days passed with the test set. For each new observation, I will allow the model to evolve over several consecutive iterations, allowing MLE to update the parameters discovered and shift the last observed value. Then I will measure the error in the forecasts:"
      ],
      "metadata": {
        "id": "hiQMLqktaz7-"
      }
    },
    {
      "cell_type": "markdown",
      "source": [
        "#Updating the model and Forecasting on the test data"
      ],
      "metadata": {
        "id": "yAoc-BH8zeb0"
      }
    },
    {
      "cell_type": "code",
      "source": [
        "model = auto  \n",
        "\n",
        "def forecast_one_step():\n",
        "    fc, conf_int = model.predict(n_periods=1, return_conf_int=True)\n",
        "    return (\n",
        "        fc.tolist()[0],\n",
        "        np.asarray(conf_int).tolist()[0])\n",
        "\n",
        "forecasts = []\n",
        "confidence_intervals = []\n",
        "\n",
        "for new_ob in test_ar:\n",
        "    fc, conf = forecast_one_step()\n",
        "    forecasts.append(fc)\n",
        "    confidence_intervals.append(conf)\n",
        "\n",
        "    # Updates the existing model with a small number of MLE steps\n",
        "    model.update(new_ob)\n",
        "\n",
        "print(f\"Mean squared error: {mean_squared_error(test_ar, forecasts):.2f}\")\n",
        "print(f\"SMAPE: {smape(test_ar, forecasts):.2f}\")"
      ],
      "metadata": {
        "colab": {
          "base_uri": "https://localhost:8080/"
        },
        "id": "hLyOSS8VGhJs",
        "outputId": "e4be9ab4-1750-4334-8473-8b9169069ab7"
      },
      "execution_count": 70,
      "outputs": [
        {
          "output_type": "stream",
          "name": "stdout",
          "text": [
            "Mean squared error: 22.03\n",
            "SMAPE: 2.13\n"
          ]
        }
      ]
    },
    {
      "cell_type": "code",
      "source": [
        "model.summary()"
      ],
      "metadata": {
        "colab": {
          "base_uri": "https://localhost:8080/",
          "height": 458
        },
        "id": "PHq9YGK_SE50",
        "outputId": "b9ffa78f-ce61-40fe-da14-ed7e9990fa39"
      },
      "execution_count": 72,
      "outputs": [
        {
          "output_type": "execute_result",
          "data": {
            "text/plain": [
              "<class 'statsmodels.iolib.summary.Summary'>\n",
              "\"\"\"\n",
              "                               SARIMAX Results                                \n",
              "==============================================================================\n",
              "Dep. Variable:                      y   No. Observations:                 5868\n",
              "Model:               SARIMAX(2, 1, 2)   Log Likelihood              -13105.851\n",
              "Date:                Tue, 08 Nov 2022   AIC                          26221.702\n",
              "Time:                        17:55:41   BIC                          26255.087\n",
              "Sample:                             0   HQIC                         26233.309\n",
              "                               - 5868                                         \n",
              "Covariance Type:                  opg                                         \n",
              "==============================================================================\n",
              "                 coef    std err          z      P>|z|      [0.025      0.975]\n",
              "------------------------------------------------------------------------------\n",
              "ar.L1         -0.7246      0.040    -17.907      0.000      -0.804      -0.645\n",
              "ar.L2         -0.8958      0.035    -25.583      0.000      -0.964      -0.827\n",
              "ma.L1          0.7359      0.039     18.721      0.000       0.659       0.813\n",
              "ma.L2          0.9026      0.034     26.337      0.000       0.835       0.970\n",
              "sigma2         5.1030      0.018    276.108      0.000       5.067       5.139\n",
              "===================================================================================\n",
              "Ljung-Box (L1) (Q):                   3.07   Jarque-Bera (JB):            747601.01\n",
              "Prob(Q):                              0.08   Prob(JB):                         0.00\n",
              "Heteroskedasticity (H):             139.02   Skew:                            -1.81\n",
              "Prob(H) (two-sided):                  0.00   Kurtosis:                        58.18\n",
              "===================================================================================\n",
              "\n",
              "Warnings:\n",
              "[1] Covariance matrix calculated using the outer product of gradients (complex-step).\n",
              "\"\"\""
            ],
            "text/html": [
              "<table class=\"simpletable\">\n",
              "<caption>SARIMAX Results</caption>\n",
              "<tr>\n",
              "  <th>Dep. Variable:</th>           <td>y</td>        <th>  No. Observations:  </th>    <td>5868</td>   \n",
              "</tr>\n",
              "<tr>\n",
              "  <th>Model:</th>           <td>SARIMAX(2, 1, 2)</td> <th>  Log Likelihood     </th> <td>-13105.851</td>\n",
              "</tr>\n",
              "<tr>\n",
              "  <th>Date:</th>            <td>Tue, 08 Nov 2022</td> <th>  AIC                </th>  <td>26221.702</td>\n",
              "</tr>\n",
              "<tr>\n",
              "  <th>Time:</th>                <td>17:55:41</td>     <th>  BIC                </th>  <td>26255.087</td>\n",
              "</tr>\n",
              "<tr>\n",
              "  <th>Sample:</th>                  <td>0</td>        <th>  HQIC               </th>  <td>26233.309</td>\n",
              "</tr>\n",
              "<tr>\n",
              "  <th></th>                      <td> - 5868</td>     <th>                     </th>      <td> </td>    \n",
              "</tr>\n",
              "<tr>\n",
              "  <th>Covariance Type:</th>        <td>opg</td>       <th>                     </th>      <td> </td>    \n",
              "</tr>\n",
              "</table>\n",
              "<table class=\"simpletable\">\n",
              "<tr>\n",
              "     <td></td>       <th>coef</th>     <th>std err</th>      <th>z</th>      <th>P>|z|</th>  <th>[0.025</th>    <th>0.975]</th>  \n",
              "</tr>\n",
              "<tr>\n",
              "  <th>ar.L1</th>  <td>   -0.7246</td> <td>    0.040</td> <td>  -17.907</td> <td> 0.000</td> <td>   -0.804</td> <td>   -0.645</td>\n",
              "</tr>\n",
              "<tr>\n",
              "  <th>ar.L2</th>  <td>   -0.8958</td> <td>    0.035</td> <td>  -25.583</td> <td> 0.000</td> <td>   -0.964</td> <td>   -0.827</td>\n",
              "</tr>\n",
              "<tr>\n",
              "  <th>ma.L1</th>  <td>    0.7359</td> <td>    0.039</td> <td>   18.721</td> <td> 0.000</td> <td>    0.659</td> <td>    0.813</td>\n",
              "</tr>\n",
              "<tr>\n",
              "  <th>ma.L2</th>  <td>    0.9026</td> <td>    0.034</td> <td>   26.337</td> <td> 0.000</td> <td>    0.835</td> <td>    0.970</td>\n",
              "</tr>\n",
              "<tr>\n",
              "  <th>sigma2</th> <td>    5.1030</td> <td>    0.018</td> <td>  276.108</td> <td> 0.000</td> <td>    5.067</td> <td>    5.139</td>\n",
              "</tr>\n",
              "</table>\n",
              "<table class=\"simpletable\">\n",
              "<tr>\n",
              "  <th>Ljung-Box (L1) (Q):</th>      <td>3.07</td>  <th>  Jarque-Bera (JB):  </th> <td>747601.01</td>\n",
              "</tr>\n",
              "<tr>\n",
              "  <th>Prob(Q):</th>                 <td>0.08</td>  <th>  Prob(JB):          </th>   <td>0.00</td>   \n",
              "</tr>\n",
              "<tr>\n",
              "  <th>Heteroskedasticity (H):</th> <td>139.02</td> <th>  Skew:              </th>   <td>-1.81</td>  \n",
              "</tr>\n",
              "<tr>\n",
              "  <th>Prob(H) (two-sided):</th>     <td>0.00</td>  <th>  Kurtosis:          </th>   <td>58.18</td>  \n",
              "</tr>\n",
              "</table><br/><br/>Warnings:<br/>[1] Covariance matrix calculated using the outer product of gradients (complex-step)."
            ]
          },
          "metadata": {},
          "execution_count": 72
        }
      ]
    },
    {
      "cell_type": "markdown",
      "source": [
        "#Viewing forecasts"
      ],
      "metadata": {
        "id": "8cnmaMxZ9gaN"
      }
    },
    {
      "cell_type": "markdown",
      "source": [
        "Let’s take a look at the forecasts our model produces overlaid on the actuals (in the first plot), and the confidence intervals of the forecasts (in the second plot):"
      ],
      "metadata": {
        "id": "FpQ5W-t89uor"
      }
    },
    {
      "cell_type": "code",
      "source": [
        "plt.figure(figsize=(18,6))\n",
        "\n",
        "plt.title('Company Prices Prediction', fontsize=16)\n",
        "\n",
        "plt.plot(train, color='blue', label='Training Data')\n",
        "plt.plot(test.index, forecasts, color='green', marker='o', linestyle='dashed', \n",
        "         label='Predicted Price')\n",
        "plt.plot(test.index, test, color='orange', label='Actual Price')\n",
        "\n",
        "plt.xlabel('Date', fontsize=14)\n",
        "plt.ylabel('Price', fontsize=14)\n",
        "plt.xticks(np.arange(0,5867, 900).tolist(), df['date'][0:5867:900].tolist())\n",
        "plt.legend()\n",
        "plt.show()"
      ],
      "metadata": {
        "colab": {
          "base_uri": "https://localhost:8080/",
          "height": 410
        },
        "id": "7RdNWEpT9t21",
        "outputId": "dc322332-a1b7-4569-e6bb-ecd4a40353ad"
      },
      "execution_count": 74,
      "outputs": [
        {
          "output_type": "display_data",
          "data": {
            "text/plain": [
              "<Figure size 1296x432 with 1 Axes>"
            ],
            "image/png": "[encoded data removed]"
          },
          "metadata": {
            "needs_background": "light"
          }
        }
      ]
    },
    {
      "cell_type": "code",
      "source": [
        "plt.figure(figsize=(18,6))\n",
        "\n",
        "plt.title('Prices Predictions & Confidence Intervals', fontsize=16)\n",
        "\n",
        "plt.plot(train, 'green', color='blue', label='Training Data')\n",
        "plt.plot(test.index, forecasts, color='green', marker='o', label='Predicted Price')\n",
        "\n",
        "plt.xlabel('Date', fontsize=14)\n",
        "plt.ylabel('Price', fontsize=14)\n",
        "\n",
        "conf_int = np.asarray(confidence_intervals)\n",
        "plt.fill_between(test.index,\n",
        "                     conf_int[:, 0], conf_int[:, 1],\n",
        "                     alpha=0.9, color='red',\n",
        "                     label=\"Confidence Intervals\")\n",
        "\n",
        "plt.xticks(np.arange(0,5867, 900).tolist(), df['date'][0:5867:900].tolist())\n",
        "plt.legend()\n",
        "plt.show()"
      ],
      "metadata": {
        "colab": {
          "base_uri": "https://localhost:8080/",
          "height": 410
        },
        "id": "h9e1MbFtgupJ",
        "outputId": "a1269fa6-8d6f-4fc8-a693-62e12c7cc96e"
      },
      "execution_count": 79,
      "outputs": [
        {
          "output_type": "display_data",
          "data": {
            "text/plain": [
              "<Figure size 1296x432 with 1 Axes>"
            ],
            "image/png": "[encoded data removed]"
          },
          "metadata": {
            "needs_background": "light"
          }
        }
      ]
    },
    {
      "cell_type": "markdown",
      "source": [
        "Enlarged version of the graph \"Company Prices Prediction\". From this can be noticed how the two curves closely follow each other. However, the predicted price seems to look like a “noisy” version of the actual price."
      ],
      "metadata": {
        "id": "L1sU4Vc3uM2b"
      }
    },
    {
      "cell_type": "code",
      "source": [
        "plt.figure(figsize=(18,6))\n",
        "\n",
        "plt.plot(test.index, forecasts, color='green', marker='o', linestyle='dashed', label='Predicted Price')\n",
        "plt.plot(test.index, test, color='orange', label='Actual Price')\n",
        "\n",
        "plt.title('Company Prices Prediction', fontsize=16)\n",
        "plt.xlabel('Date', fontsize=14)\n",
        "plt.ylabel('Price', fontsize=14)\n",
        "plt.xticks(np.arange(4694,5867, 300), df['date'][4694:5867:300])\n",
        "plt.legend()\n",
        "plt.show()"
      ],
      "metadata": {
        "colab": {
          "base_uri": "https://localhost:8080/",
          "height": 410
        },
        "id": "F2QC47N5z4FX",
        "outputId": "b03e502a-3127-4f6c-db8d-49ad10dc97fa"
      },
      "execution_count": 81,
      "outputs": [
        {
          "output_type": "display_data",
          "data": {
            "text/plain": [
              "<Figure size 1296x432 with 1 Axes>"
            ],
            "image/png": "[encoded data removed]"
          },
          "metadata": {
            "needs_background": "light"
          }
        }
      ]
    },
    {
      "cell_type": "markdown",
      "source": [
        "**Conclusion:**\n",
        "\n",
        "This model demonstrated in fact to offer good prediction accuracy."
      ],
      "metadata": {
        "id": "aLjwXwn46pnt"
      }
    },
    {
      "cell_type": "markdown",
      "source": [
        "**Conclusion:**\n",
        "\n",
        "\n",
        "**Would you invest in the above company - remember - the investment risk is associated with the inability to predict 100% what will happen with your investment in the future.**\n",
        "\n",
        "**You will never invest without risk. A proven method of its reduction is the diversification of the portfolio held, which allows you to secure some of your funds. It is also worth acting in accordance with a well-thought-out investment strategy, the implementation of which will bring you closer to the overarching goal - profit.**\n",
        "\n",
        "\n"
      ],
      "metadata": {
        "id": "TRdkI4KdRq_m"
      }
    }
  ]
}